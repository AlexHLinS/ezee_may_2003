{
 "cells": [
  {
   "cell_type": "markdown",
   "id": "fe2f64e0",
   "metadata": {},
   "source": [
    "# Для тренировки модели нужно установить turicreate\n",
    "Linux or mac\n",
    "python 3.6 - 3.8\n",
    "\n",
    "`pip install turicreate`\n",
    "\n",
    "### На вход:\n",
    "- _attend_features.csv (с нашими фичами)\n",
    "- _groups.csv\n",
    "\n",
    "### Выход:\n",
    "- predicts/predict_v01.csv\n"
   ]
  },
  {
   "cell_type": "code",
   "execution_count": 1,
   "id": "28b6c87a",
   "metadata": {},
   "outputs": [],
   "source": [
    "import turicreate as tc\n",
    "import pandas as pd"
   ]
  },
  {
   "cell_type": "code",
   "execution_count": 2,
   "id": "5bf9231d",
   "metadata": {},
   "outputs": [
    {
     "data": {
      "text/html": [
       "<pre>Finished parsing file /media/vasiliev/SSD_Data/_dev/ezee_may_2003/ds/_attend_features.csv</pre>"
      ],
      "text/plain": [
       "Finished parsing file /media/vasiliev/SSD_Data/_dev/ezee_may_2003/ds/_attend_features.csv"
      ]
     },
     "metadata": {},
     "output_type": "display_data"
    },
    {
     "data": {
      "text/html": [
       "<pre>Parsing completed. Parsed 100 lines in 0.215888 secs.</pre>"
      ],
      "text/plain": [
       "Parsing completed. Parsed 100 lines in 0.215888 secs."
      ]
     },
     "metadata": {},
     "output_type": "display_data"
    },
    {
     "name": "stdout",
     "output_type": "stream",
     "text": [
      "------------------------------------------------------\n",
      "Inferred types from first 100 line(s) of file as \n",
      "column_type_hints=[int,int,int,float,str,str,str,float,str,str,str,str,float,float,str,int,str,float,float]\n",
      "If parsing fails due to incorrect types, you can correct\n",
      "the inferred type list above and pass it to read_csv in\n",
      "the column_type_hints argument\n",
      "------------------------------------------------------\n"
     ]
    },
    {
     "data": {
      "text/html": [
       "<pre>Read 173459 lines. Lines per second: 617162</pre>"
      ],
      "text/plain": [
       "Read 173459 lines. Lines per second: 617162"
      ]
     },
     "metadata": {},
     "output_type": "display_data"
    },
    {
     "data": {
      "text/html": [
       "<pre>Finished parsing file /media/vasiliev/SSD_Data/_dev/ezee_may_2003/ds/_attend_features.csv</pre>"
      ],
      "text/plain": [
       "Finished parsing file /media/vasiliev/SSD_Data/_dev/ezee_may_2003/ds/_attend_features.csv"
      ]
     },
     "metadata": {},
     "output_type": "display_data"
    },
    {
     "data": {
      "text/html": [
       "<pre>Parsing completed. Parsed 600390 lines in 0.905295 secs.</pre>"
      ],
      "text/plain": [
       "Parsing completed. Parsed 600390 lines in 0.905295 secs."
      ]
     },
     "metadata": {},
     "output_type": "display_data"
    }
   ],
   "source": [
    "actions = tc.SFrame.read_csv('_attend_features.csv')"
   ]
  },
  {
   "cell_type": "markdown",
   "id": "f0478c65",
   "metadata": {},
   "source": [
    "### Делим общую таблицу на фичи для attend, users, groups"
   ]
  },
  {
   "cell_type": "code",
   "execution_count": 3,
   "id": "1e1ab7db",
   "metadata": {},
   "outputs": [
    {
     "name": "stdout",
     "output_type": "stream",
     "text": [
      "<bound method SFrame.head of Columns:\n",
      "\tX1\tint\n",
      "\tgroup_id\tint\n",
      "\tuser_id\tint\n",
      "\tlog_visits\tfloat\n",
      "\tнаправление 3\tstr\n",
      "\tis_online\tstr\n",
      "\tweekend\tstr\n",
      "\tlesson_length\tfloat\n",
      "\tsession\tstr\n",
      "\tнаправление 1\tstr\n",
      "\tнаправление 2\tstr\n",
      "\tgroup_address\tstr\n",
      "\tlat\tfloat\n",
      "\tlong\tfloat\n",
      "\tsex\tstr\n",
      "\tage\tint\n",
      "\tuser_address\tstr\n",
      "\tuser_lat\tfloat\n",
      "\tuser_long\tfloat\n",
      "\n",
      "Rows: 600390\n",
      "\n",
      "Data:\n",
      "+----+-----------+-----------+--------------------+---------------+-----------+\n",
      "| X1 |  group_id |  user_id  |     log_visits     | направление 3 | is_online |\n",
      "+----+-----------+-----------+--------------------+---------------+-----------+\n",
      "| 0  | 801346549 | 101370217 | 2.0794415416798357 |  Здорово жить |  offline  |\n",
      "| 1  | 801346549 | 101375025 | 3.044522437723423  |  Здорово жить |  offline  |\n",
      "| 2  | 801346549 | 101392971 |        0.0         |  Здорово жить |  offline  |\n",
      "| 3  | 801346550 | 101352023 | 4.1588830833596715 |  ОНЛАЙН Цигун |   online  |\n",
      "| 4  | 801346550 | 101354499 | 4.1588830833596715 |  ОНЛАЙН Цигун |   online  |\n",
      "| 5  | 801346550 | 101355172 | 2.9444389791664403 |  ОНЛАЙН Цигун |   online  |\n",
      "| 6  | 801346550 | 101359608 |        0.0         |  ОНЛАЙН Цигун |   online  |\n",
      "| 7  | 801346550 | 101361013 |  2.70805020110221  |  ОНЛАЙН Цигун |   online  |\n",
      "| 8  | 801346550 | 101362120 | 1.0986122886681098 |  ОНЛАЙН Цигун |   online  |\n",
      "| 9  | 801346550 | 101382046 | 3.9318256327243257 |  ОНЛАЙН Цигун |   online  |\n",
      "+----+-----------+-----------+--------------------+---------------+-----------+\n",
      "+---------+---------------+---------+-----------------------+-------------------+\n",
      "| weekend | lesson_length | session |     направление 1     |   направление 2   |\n",
      "+---------+---------------+---------+-----------------------+-------------------+\n",
      "|  False  |      1.0      |  mornig |      Образование      |    Здорово жить   |\n",
      "|  False  |      1.0      |  mornig |      Образование      |    Здорово жить   |\n",
      "|  False  |      1.0      |  mornig |      Образование      |    Здорово жить   |\n",
      "|  False  |      1.0      |  mornig | Физическая активность | ОНЛАЙН Гимнастика |\n",
      "|  False  |      1.0      |  mornig | Физическая активность | ОНЛАЙН Гимнастика |\n",
      "|  False  |      1.0      |  mornig | Физическая активность | ОНЛАЙН Гимнастика |\n",
      "|  False  |      1.0      |  mornig | Физическая активность | ОНЛАЙН Гимнастика |\n",
      "|  False  |      1.0      |  mornig | Физическая активность | ОНЛАЙН Гимнастика |\n",
      "|  False  |      1.0      |  mornig | Физическая активность | ОНЛАЙН Гимнастика |\n",
      "|  False  |      1.0      |  mornig | Физическая активность | ОНЛАЙН Гимнастика |\n",
      "+---------+---------------+---------+-----------------------+-------------------+\n",
      "+-------------------------------+------------+------------+--------+-----+\n",
      "|         group_address         |    lat     |    long    |  sex   | age |\n",
      "+-------------------------------+------------+------------+--------+-----+\n",
      "| бульвар маршала рокоссовского | 55.8112851 | 37.7253991 | Female |  65 |\n",
      "| бульвар маршала рокоссовского | 55.8112851 | 37.7253991 | Female |  73 |\n",
      "| бульвар маршала рокоссовского | 55.8112851 | 37.7253991 | Female |  60 |\n",
      "|       алтуфьевское шоссе      | 55.8557091 | 37.5844378 | Female |  64 |\n",
      "|       алтуфьевское шоссе      | 55.8557091 | 37.5844378 | Female |  69 |\n",
      "|       алтуфьевское шоссе      | 55.8557091 | 37.5844378 | Female |  71 |\n",
      "|       алтуфьевское шоссе      | 55.8557091 | 37.5844378 | Female |  86 |\n",
      "|       алтуфьевское шоссе      | 55.8557091 | 37.5844378 | Female |  68 |\n",
      "|       алтуфьевское шоссе      | 55.8557091 | 37.5844378 | Female |  78 |\n",
      "|       алтуфьевское шоссе      | 55.8557091 | 37.5844378 | Female |  64 |\n",
      "+-------------------------------+------------+------------+--------+-----+\n",
      "+---------------------------+-------------+-------------------+\n",
      "|        user_address       |   user_lat  |     user_long     |\n",
      "+---------------------------+-------------+-------------------+\n",
      "|        ивантеевская       | 55.97205305 | 37.91502370534818 |\n",
      "| б-р маршала рокоссовского |   55.7498   |      37.5371      |\n",
      "|      алымов переулок      |  55.8077803 |     37.713685     |\n",
      "|    кутузовский проспект   |  55.7398858 |     37.5334665    |\n",
      "|       площадь победы      | 55.73660445 | 37.51870308614706 |\n",
      "|        милашенкова        |  55.8218816 |     37.5912237    |\n",
      "|       литовский б-р       |   55.7498   |      37.5371      |\n",
      "|          киевская         |  55.7436128 |     37.5651566    |\n",
      "|      дениса давыдова      |  55.7387464 |     37.5165787    |\n",
      "|          озёрная          |  55.6639333 |     37.4383909    |\n",
      "+---------------------------+-------------+-------------------+\n",
      "[600390 rows x 19 columns]\n",
      "Note: Only the head of the SFrame is printed.\n",
      "You can use print_rows(num_rows=m, num_columns=n) to print more rows and columns.>\n"
     ]
    }
   ],
   "source": [
    "print(actions.head)\n",
    "actions1 = actions[['group_id',\n",
    "                    'user_id',\n",
    "                    'log_visits',\n",
    "                    #'user_lat',\n",
    "                    #'user_long',\n",
    "                    'направление 1',\n",
    "                    'направление 2',\n",
    "                    #'направление 3',\n",
    "                    'weekend']]\n",
    "\n",
    "users_1 = actions[['user_id',\n",
    "                   'sex','age',\n",
    "                   'user_address',\n",
    "                   'user_lat',\n",
    "                   'user_long']]\n",
    "\n",
    "groups_1 = actions[['group_id',\n",
    "                    'lat',\n",
    "                    'long',\n",
    "                    'направление 1',\n",
    "                    'направление 2',\n",
    "                    'направление 3',\n",
    "                    'is_online',\n",
    "                    'weekend',\n",
    "                    'lesson_length',\n",
    "                    'session']]"
   ]
  },
  {
   "cell_type": "markdown",
   "id": "5aa7aa33",
   "metadata": {},
   "source": [
    "There are a variety of machine learning techniques that can be used to build a recommender model. Turi Create provides a method turicreate.recommender.create that will automatically choose an appropriate model for your data set. More details on choosing a model: https://apple.github.io/turicreate/docs/userguide/recommender/choosing-a-model.html\n",
    "\n",
    "First we create a random split of the data to produce a validation set that can be used to evaluate the model."
   ]
  },
  {
   "cell_type": "markdown",
   "id": "907461ad",
   "metadata": {},
   "source": [
    "### Чему учим модель\n",
    "\n",
    "Мы учим модель предсказывать логарифм от количества посещений юзером курса (логарифм потому что разброс посещений курса пользователем высокий - от 1 до 64)"
   ]
  },
  {
   "cell_type": "markdown",
   "id": "c092ec26",
   "metadata": {},
   "source": [
    "### Создание и обучение дефолтной модели"
   ]
  },
  {
   "cell_type": "code",
   "execution_count": 4,
   "id": "7462b831",
   "metadata": {
    "scrolled": true
   },
   "outputs": [
    {
     "data": {
      "text/html": [
       "<pre>Preparing data set.</pre>"
      ],
      "text/plain": [
       "Preparing data set."
      ]
     },
     "metadata": {},
     "output_type": "display_data"
    },
    {
     "data": {
      "text/html": [
       "<pre>    Data has 600249 observations with 50906 users and 24535 items.</pre>"
      ],
      "text/plain": [
       "    Data has 600249 observations with 50906 users and 24535 items."
      ]
     },
     "metadata": {},
     "output_type": "display_data"
    },
    {
     "data": {
      "text/html": [
       "<pre>    Data prepared in: 0.719134s</pre>"
      ],
      "text/plain": [
       "    Data prepared in: 0.719134s"
      ]
     },
     "metadata": {},
     "output_type": "display_data"
    },
    {
     "data": {
      "text/html": [
       "<pre>Training ranking_factorization_recommender for recommendations.</pre>"
      ],
      "text/plain": [
       "Training ranking_factorization_recommender for recommendations."
      ]
     },
     "metadata": {},
     "output_type": "display_data"
    },
    {
     "data": {
      "text/html": [
       "<pre>+--------------------------------+--------------------------------------------------+----------+</pre>"
      ],
      "text/plain": [
       "+--------------------------------+--------------------------------------------------+----------+"
      ]
     },
     "metadata": {},
     "output_type": "display_data"
    },
    {
     "data": {
      "text/html": [
       "<pre>| Parameter                      | Description                                      | Value    |</pre>"
      ],
      "text/plain": [
       "| Parameter                      | Description                                      | Value    |"
      ]
     },
     "metadata": {},
     "output_type": "display_data"
    },
    {
     "data": {
      "text/html": [
       "<pre>+--------------------------------+--------------------------------------------------+----------+</pre>"
      ],
      "text/plain": [
       "+--------------------------------+--------------------------------------------------+----------+"
      ]
     },
     "metadata": {},
     "output_type": "display_data"
    },
    {
     "data": {
      "text/html": [
       "<pre>| num_factors                    | Factor Dimension                                 | 32       |</pre>"
      ],
      "text/plain": [
       "| num_factors                    | Factor Dimension                                 | 32       |"
      ]
     },
     "metadata": {},
     "output_type": "display_data"
    },
    {
     "data": {
      "text/html": [
       "<pre>| regularization                 | L2 Regularization on Factors                     | 1e-09    |</pre>"
      ],
      "text/plain": [
       "| regularization                 | L2 Regularization on Factors                     | 1e-09    |"
      ]
     },
     "metadata": {},
     "output_type": "display_data"
    },
    {
     "data": {
      "text/html": [
       "<pre>| solver                         | Solver used for training                         | adagrad  |</pre>"
      ],
      "text/plain": [
       "| solver                         | Solver used for training                         | adagrad  |"
      ]
     },
     "metadata": {},
     "output_type": "display_data"
    },
    {
     "data": {
      "text/html": [
       "<pre>| linear_regularization          | L2 Regularization on Linear Coefficients         | 1e-09    |</pre>"
      ],
      "text/plain": [
       "| linear_regularization          | L2 Regularization on Linear Coefficients         | 1e-09    |"
      ]
     },
     "metadata": {},
     "output_type": "display_data"
    },
    {
     "data": {
      "text/html": [
       "<pre>| ranking_regularization         | Rank-based Regularization Weight                 | 0.25     |</pre>"
      ],
      "text/plain": [
       "| ranking_regularization         | Rank-based Regularization Weight                 | 0.25     |"
      ]
     },
     "metadata": {},
     "output_type": "display_data"
    },
    {
     "data": {
      "text/html": [
       "<pre>| side_data_factorization        | Assign Factors for Side Data                     | True     |</pre>"
      ],
      "text/plain": [
       "| side_data_factorization        | Assign Factors for Side Data                     | True     |"
      ]
     },
     "metadata": {},
     "output_type": "display_data"
    },
    {
     "data": {
      "text/html": [
       "<pre>| max_iterations                 | Maximum Number of Iterations                     | 25       |</pre>"
      ],
      "text/plain": [
       "| max_iterations                 | Maximum Number of Iterations                     | 25       |"
      ]
     },
     "metadata": {},
     "output_type": "display_data"
    },
    {
     "data": {
      "text/html": [
       "<pre>+--------------------------------+--------------------------------------------------+----------+</pre>"
      ],
      "text/plain": [
       "+--------------------------------+--------------------------------------------------+----------+"
      ]
     },
     "metadata": {},
     "output_type": "display_data"
    },
    {
     "data": {
      "text/html": [
       "<pre>  Optimizing model using SGD; tuning step size.</pre>"
      ],
      "text/plain": [
       "  Optimizing model using SGD; tuning step size."
      ]
     },
     "metadata": {},
     "output_type": "display_data"
    },
    {
     "data": {
      "text/html": [
       "<pre>  Using 75031 / 600249 points for tuning the step size.</pre>"
      ],
      "text/plain": [
       "  Using 75031 / 600249 points for tuning the step size."
      ]
     },
     "metadata": {},
     "output_type": "display_data"
    },
    {
     "data": {
      "text/html": [
       "<pre>+---------+-------------------+------------------------------------------+</pre>"
      ],
      "text/plain": [
       "+---------+-------------------+------------------------------------------+"
      ]
     },
     "metadata": {},
     "output_type": "display_data"
    },
    {
     "data": {
      "text/html": [
       "<pre>| Attempt | Initial Step Size | Estimated Objective Value                |</pre>"
      ],
      "text/plain": [
       "| Attempt | Initial Step Size | Estimated Objective Value                |"
      ]
     },
     "metadata": {},
     "output_type": "display_data"
    },
    {
     "data": {
      "text/html": [
       "<pre>+---------+-------------------+------------------------------------------+</pre>"
      ],
      "text/plain": [
       "+---------+-------------------+------------------------------------------+"
      ]
     },
     "metadata": {},
     "output_type": "display_data"
    },
    {
     "data": {
      "text/html": [
       "<pre>| 0       | 2.63158           | Not Viable                               |</pre>"
      ],
      "text/plain": [
       "| 0       | 2.63158           | Not Viable                               |"
      ]
     },
     "metadata": {},
     "output_type": "display_data"
    },
    {
     "data": {
      "text/html": [
       "<pre>| 1       | 0.657895          | Not Viable                               |</pre>"
      ],
      "text/plain": [
       "| 1       | 0.657895          | Not Viable                               |"
      ]
     },
     "metadata": {},
     "output_type": "display_data"
    },
    {
     "data": {
      "text/html": [
       "<pre>| 2       | 0.164474          | Not Viable                               |</pre>"
      ],
      "text/plain": [
       "| 2       | 0.164474          | Not Viable                               |"
      ]
     },
     "metadata": {},
     "output_type": "display_data"
    },
    {
     "data": {
      "text/html": [
       "<pre>| 3       | 0.0411184         | 0.30167                                  |</pre>"
      ],
      "text/plain": [
       "| 3       | 0.0411184         | 0.30167                                  |"
      ]
     },
     "metadata": {},
     "output_type": "display_data"
    },
    {
     "data": {
      "text/html": [
       "<pre>| 4       | 0.0205592         | 0.401023                                 |</pre>"
      ],
      "text/plain": [
       "| 4       | 0.0205592         | 0.401023                                 |"
      ]
     },
     "metadata": {},
     "output_type": "display_data"
    },
    {
     "data": {
      "text/html": [
       "<pre>| 5       | 0.0102796         | 0.713983                                 |</pre>"
      ],
      "text/plain": [
       "| 5       | 0.0102796         | 0.713983                                 |"
      ]
     },
     "metadata": {},
     "output_type": "display_data"
    },
    {
     "data": {
      "text/html": [
       "<pre>+---------+-------------------+------------------------------------------+</pre>"
      ],
      "text/plain": [
       "+---------+-------------------+------------------------------------------+"
      ]
     },
     "metadata": {},
     "output_type": "display_data"
    },
    {
     "data": {
      "text/html": [
       "<pre>| Final   | 0.0411184         | 0.30167                                  |</pre>"
      ],
      "text/plain": [
       "| Final   | 0.0411184         | 0.30167                                  |"
      ]
     },
     "metadata": {},
     "output_type": "display_data"
    },
    {
     "data": {
      "text/html": [
       "<pre>+---------+-------------------+------------------------------------------+</pre>"
      ],
      "text/plain": [
       "+---------+-------------------+------------------------------------------+"
      ]
     },
     "metadata": {},
     "output_type": "display_data"
    },
    {
     "data": {
      "text/html": [
       "<pre>Starting Optimization.</pre>"
      ],
      "text/plain": [
       "Starting Optimization."
      ]
     },
     "metadata": {},
     "output_type": "display_data"
    },
    {
     "data": {
      "text/html": [
       "<pre>+---------+--------------+-------------------+-----------------------+-------------+</pre>"
      ],
      "text/plain": [
       "+---------+--------------+-------------------+-----------------------+-------------+"
      ]
     },
     "metadata": {},
     "output_type": "display_data"
    },
    {
     "data": {
      "text/html": [
       "<pre>| Iter.   | Elapsed Time | Approx. Objective | Approx. Training RMSE | Step Size   |</pre>"
      ],
      "text/plain": [
       "| Iter.   | Elapsed Time | Approx. Objective | Approx. Training RMSE | Step Size   |"
      ]
     },
     "metadata": {},
     "output_type": "display_data"
    },
    {
     "data": {
      "text/html": [
       "<pre>+---------+--------------+-------------------+-----------------------+-------------+</pre>"
      ],
      "text/plain": [
       "+---------+--------------+-------------------+-----------------------+-------------+"
      ]
     },
     "metadata": {},
     "output_type": "display_data"
    },
    {
     "data": {
      "text/html": [
       "<pre>| Initial | 63us         | 2.77714           | 1.19031               |             |</pre>"
      ],
      "text/plain": [
       "| Initial | 63us         | 2.77714           | 1.19031               |             |"
      ]
     },
     "metadata": {},
     "output_type": "display_data"
    },
    {
     "data": {
      "text/html": [
       "<pre>+---------+--------------+-------------------+-----------------------+-------------+</pre>"
      ],
      "text/plain": [
       "+---------+--------------+-------------------+-----------------------+-------------+"
      ]
     },
     "metadata": {},
     "output_type": "display_data"
    },
    {
     "data": {
      "text/html": [
       "<pre>| 1       | 674.018ms    | 1.36666           | 1.05557               | 0.0411184   |</pre>"
      ],
      "text/plain": [
       "| 1       | 674.018ms    | 1.36666           | 1.05557               | 0.0411184   |"
      ]
     },
     "metadata": {},
     "output_type": "display_data"
    },
    {
     "data": {
      "text/html": [
       "<pre>| 2       | 1.24s        | 0.865109          | 0.830994              | 0.0411184   |</pre>"
      ],
      "text/plain": [
       "| 2       | 1.24s        | 0.865109          | 0.830994              | 0.0411184   |"
      ]
     },
     "metadata": {},
     "output_type": "display_data"
    },
    {
     "data": {
      "text/html": [
       "<pre>| 3       | 1.77s        | 0.756861          | 0.769095              | 0.0411184   |</pre>"
      ],
      "text/plain": [
       "| 3       | 1.77s        | 0.756861          | 0.769095              | 0.0411184   |"
      ]
     },
     "metadata": {},
     "output_type": "display_data"
    },
    {
     "data": {
      "text/html": [
       "<pre>| 4       | 2.27s        | 0.704674          | 0.73634               | 0.0411184   |</pre>"
      ],
      "text/plain": [
       "| 4       | 2.27s        | 0.704674          | 0.73634               | 0.0411184   |"
      ]
     },
     "metadata": {},
     "output_type": "display_data"
    },
    {
     "data": {
      "text/html": [
       "<pre>| 5       | 2.79s        | 0.672893          | 0.715647              | 0.0411184   |</pre>"
      ],
      "text/plain": [
       "| 5       | 2.79s        | 0.672893          | 0.715647              | 0.0411184   |"
      ]
     },
     "metadata": {},
     "output_type": "display_data"
    },
    {
     "data": {
      "text/html": [
       "<pre>| 10      | 5.33s        | 0.596647          | 0.662385              | 0.0411184   |</pre>"
      ],
      "text/plain": [
       "| 10      | 5.33s        | 0.596647          | 0.662385              | 0.0411184   |"
      ]
     },
     "metadata": {},
     "output_type": "display_data"
    },
    {
     "data": {
      "text/html": [
       "<pre>| 20      | 10.36s       | 0.530557          | 0.614437              | 0.0411184   |</pre>"
      ],
      "text/plain": [
       "| 20      | 10.36s       | 0.530557          | 0.614437              | 0.0411184   |"
      ]
     },
     "metadata": {},
     "output_type": "display_data"
    },
    {
     "data": {
      "text/html": [
       "<pre>| 25      | 12.87s       | 0.508622          | 0.597776              | 0.0411184   |</pre>"
      ],
      "text/plain": [
       "| 25      | 12.87s       | 0.508622          | 0.597776              | 0.0411184   |"
      ]
     },
     "metadata": {},
     "output_type": "display_data"
    },
    {
     "data": {
      "text/html": [
       "<pre>+---------+--------------+-------------------+-----------------------+-------------+</pre>"
      ],
      "text/plain": [
       "+---------+--------------+-------------------+-----------------------+-------------+"
      ]
     },
     "metadata": {},
     "output_type": "display_data"
    },
    {
     "data": {
      "text/html": [
       "<pre>Optimization Complete: Maximum number of passes through the data reached.</pre>"
      ],
      "text/plain": [
       "Optimization Complete: Maximum number of passes through the data reached."
      ]
     },
     "metadata": {},
     "output_type": "display_data"
    },
    {
     "data": {
      "text/html": [
       "<pre>Computing final objective value and training RMSE.</pre>"
      ],
      "text/plain": [
       "Computing final objective value and training RMSE."
      ]
     },
     "metadata": {},
     "output_type": "display_data"
    },
    {
     "data": {
      "text/html": [
       "<pre>       Final objective value: 0.48189</pre>"
      ],
      "text/plain": [
       "       Final objective value: 0.48189"
      ]
     },
     "metadata": {},
     "output_type": "display_data"
    },
    {
     "data": {
      "text/html": [
       "<pre>       Final training RMSE: 0.577227</pre>"
      ],
      "text/plain": [
       "       Final training RMSE: 0.577227"
      ]
     },
     "metadata": {},
     "output_type": "display_data"
    }
   ],
   "source": [
    "training_data, validation_data = tc.recommender.util.random_split_by_user(actions1, 'user_id', 'group_id', item_test_proportion = 0.01)\n",
    "\n",
    "model = tc.recommender.create(training_data,\n",
    "                              'user_id',\n",
    "                              'group_id',\n",
    "                              target = 'log_visits',\n",
    "                              user_data = users_1,\n",
    "                              item_data = groups_1\n",
    "                             )\n"
   ]
  },
  {
   "cell_type": "code",
   "execution_count": 5,
   "id": "23dbc605",
   "metadata": {
    "scrolled": true
   },
   "outputs": [
    {
     "data": {
      "text/plain": [
       "Class                            : RankingFactorizationRecommender\n",
       "\n",
       "Schema\n",
       "------\n",
       "User ID                          : user_id\n",
       "Item ID                          : group_id\n",
       "Target                           : log_visits\n",
       "Additional observation features  : 3\n",
       "User side features               : ['user_id', 'sex', 'age', 'user_address', 'user_lat', 'user_long']\n",
       "Item side features               : ['group_id', 'lat', 'long', 'направление 1', 'направление 2', 'направление 3', 'is_online', 'weekend', 'lesson_length', 'session']\n",
       "\n",
       "Statistics\n",
       "----------\n",
       "Number of observations           : 600249\n",
       "Number of users                  : 50906\n",
       "Number of items                  : 24535\n",
       "\n",
       "Training summary\n",
       "----------------\n",
       "Training time                    : 16.3295\n",
       "\n",
       "Model Parameters\n",
       "----------------\n",
       "Model class                      : RankingFactorizationRecommender\n",
       "num_factors                      : 32\n",
       "binary_target                    : 0\n",
       "side_data_factorization          : 1\n",
       "solver                           : auto\n",
       "nmf                              : 0\n",
       "max_iterations                   : 25\n",
       "\n",
       "Regularization Settings\n",
       "-----------------------\n",
       "regularization                   : 0.0\n",
       "regularization_type              : normal\n",
       "linear_regularization            : 0.0\n",
       "ranking_regularization           : 0.25\n",
       "unobserved_rating_value          : -1.7976931348623157e+308\n",
       "num_sampled_negative_examples    : 4\n",
       "ials_confidence_scaling_type     : auto\n",
       "ials_confidence_scaling_factor   : 1\n",
       "\n",
       "Optimization Settings\n",
       "---------------------\n",
       "init_random_sigma                : 0.01\n",
       "sgd_convergence_interval         : 4\n",
       "sgd_convergence_threshold        : 0.0\n",
       "sgd_max_trial_iterations         : 5\n",
       "sgd_sampling_block_size          : 131072\n",
       "sgd_step_adjustment_interval     : 4\n",
       "sgd_step_size                    : 0.0\n",
       "sgd_trial_sample_minimum_size    : 10000\n",
       "sgd_trial_sample_proportion      : 0.125\n",
       "step_size_decrease_rate          : 0.75\n",
       "additional_iterations_if_unhealthy : 5\n",
       "adagrad_momentum_weighting       : 0.9\n",
       "num_tempering_iterations         : 4\n",
       "tempering_regularization_start_value : 0.0\n",
       "track_exact_loss                 : 0"
      ]
     },
     "execution_count": 5,
     "metadata": {},
     "output_type": "execute_result"
    }
   ],
   "source": [
    "# параметры модели\n",
    "model"
   ]
  },
  {
   "cell_type": "markdown",
   "id": "859c2837",
   "metadata": {},
   "source": [
    "### Получение предсказаний от дефолтной модели"
   ]
  },
  {
   "cell_type": "code",
   "execution_count": 6,
   "id": "99708424",
   "metadata": {
    "scrolled": true
   },
   "outputs": [
    {
     "data": {
      "text/html": [
       "<pre>recommendations finished on 1000/50906 queries. users per second: 846.034</pre>"
      ],
      "text/plain": [
       "recommendations finished on 1000/50906 queries. users per second: 846.034"
      ]
     },
     "metadata": {},
     "output_type": "display_data"
    },
    {
     "data": {
      "text/html": [
       "<pre>recommendations finished on 2000/50906 queries. users per second: 848.58</pre>"
      ],
      "text/plain": [
       "recommendations finished on 2000/50906 queries. users per second: 848.58"
      ]
     },
     "metadata": {},
     "output_type": "display_data"
    },
    {
     "data": {
      "text/html": [
       "<pre>recommendations finished on 3000/50906 queries. users per second: 851.569</pre>"
      ],
      "text/plain": [
       "recommendations finished on 3000/50906 queries. users per second: 851.569"
      ]
     },
     "metadata": {},
     "output_type": "display_data"
    },
    {
     "data": {
      "text/html": [
       "<pre>recommendations finished on 4000/50906 queries. users per second: 852.843</pre>"
      ],
      "text/plain": [
       "recommendations finished on 4000/50906 queries. users per second: 852.843"
      ]
     },
     "metadata": {},
     "output_type": "display_data"
    },
    {
     "data": {
      "text/html": [
       "<pre>recommendations finished on 5000/50906 queries. users per second: 853.684</pre>"
      ],
      "text/plain": [
       "recommendations finished on 5000/50906 queries. users per second: 853.684"
      ]
     },
     "metadata": {},
     "output_type": "display_data"
    },
    {
     "data": {
      "text/html": [
       "<pre>recommendations finished on 6000/50906 queries. users per second: 854.359</pre>"
      ],
      "text/plain": [
       "recommendations finished on 6000/50906 queries. users per second: 854.359"
      ]
     },
     "metadata": {},
     "output_type": "display_data"
    },
    {
     "data": {
      "text/html": [
       "<pre>recommendations finished on 7000/50906 queries. users per second: 854.626</pre>"
      ],
      "text/plain": [
       "recommendations finished on 7000/50906 queries. users per second: 854.626"
      ]
     },
     "metadata": {},
     "output_type": "display_data"
    },
    {
     "data": {
      "text/html": [
       "<pre>recommendations finished on 8000/50906 queries. users per second: 854.492</pre>"
      ],
      "text/plain": [
       "recommendations finished on 8000/50906 queries. users per second: 854.492"
      ]
     },
     "metadata": {},
     "output_type": "display_data"
    },
    {
     "data": {
      "text/html": [
       "<pre>recommendations finished on 9000/50906 queries. users per second: 854.897</pre>"
      ],
      "text/plain": [
       "recommendations finished on 9000/50906 queries. users per second: 854.897"
      ]
     },
     "metadata": {},
     "output_type": "display_data"
    },
    {
     "data": {
      "text/html": [
       "<pre>recommendations finished on 10000/50906 queries. users per second: 854.943</pre>"
      ],
      "text/plain": [
       "recommendations finished on 10000/50906 queries. users per second: 854.943"
      ]
     },
     "metadata": {},
     "output_type": "display_data"
    },
    {
     "data": {
      "text/html": [
       "<pre>recommendations finished on 11000/50906 queries. users per second: 855.071</pre>"
      ],
      "text/plain": [
       "recommendations finished on 11000/50906 queries. users per second: 855.071"
      ]
     },
     "metadata": {},
     "output_type": "display_data"
    },
    {
     "data": {
      "text/html": [
       "<pre>recommendations finished on 12000/50906 queries. users per second: 854.997</pre>"
      ],
      "text/plain": [
       "recommendations finished on 12000/50906 queries. users per second: 854.997"
      ]
     },
     "metadata": {},
     "output_type": "display_data"
    },
    {
     "data": {
      "text/html": [
       "<pre>recommendations finished on 13000/50906 queries. users per second: 854.39</pre>"
      ],
      "text/plain": [
       "recommendations finished on 13000/50906 queries. users per second: 854.39"
      ]
     },
     "metadata": {},
     "output_type": "display_data"
    },
    {
     "data": {
      "text/html": [
       "<pre>recommendations finished on 14000/50906 queries. users per second: 854.811</pre>"
      ],
      "text/plain": [
       "recommendations finished on 14000/50906 queries. users per second: 854.811"
      ]
     },
     "metadata": {},
     "output_type": "display_data"
    },
    {
     "data": {
      "text/html": [
       "<pre>recommendations finished on 15000/50906 queries. users per second: 854.615</pre>"
      ],
      "text/plain": [
       "recommendations finished on 15000/50906 queries. users per second: 854.615"
      ]
     },
     "metadata": {},
     "output_type": "display_data"
    },
    {
     "data": {
      "text/html": [
       "<pre>recommendations finished on 16000/50906 queries. users per second: 854.443</pre>"
      ],
      "text/plain": [
       "recommendations finished on 16000/50906 queries. users per second: 854.443"
      ]
     },
     "metadata": {},
     "output_type": "display_data"
    },
    {
     "data": {
      "text/html": [
       "<pre>recommendations finished on 17000/50906 queries. users per second: 854.462</pre>"
      ],
      "text/plain": [
       "recommendations finished on 17000/50906 queries. users per second: 854.462"
      ]
     },
     "metadata": {},
     "output_type": "display_data"
    },
    {
     "data": {
      "text/html": [
       "<pre>recommendations finished on 18000/50906 queries. users per second: 854.537</pre>"
      ],
      "text/plain": [
       "recommendations finished on 18000/50906 queries. users per second: 854.537"
      ]
     },
     "metadata": {},
     "output_type": "display_data"
    },
    {
     "data": {
      "text/html": [
       "<pre>recommendations finished on 19000/50906 queries. users per second: 854.585</pre>"
      ],
      "text/plain": [
       "recommendations finished on 19000/50906 queries. users per second: 854.585"
      ]
     },
     "metadata": {},
     "output_type": "display_data"
    },
    {
     "data": {
      "text/html": [
       "<pre>recommendations finished on 20000/50906 queries. users per second: 854.691</pre>"
      ],
      "text/plain": [
       "recommendations finished on 20000/50906 queries. users per second: 854.691"
      ]
     },
     "metadata": {},
     "output_type": "display_data"
    },
    {
     "data": {
      "text/html": [
       "<pre>recommendations finished on 21000/50906 queries. users per second: 854.93</pre>"
      ],
      "text/plain": [
       "recommendations finished on 21000/50906 queries. users per second: 854.93"
      ]
     },
     "metadata": {},
     "output_type": "display_data"
    },
    {
     "data": {
      "text/html": [
       "<pre>recommendations finished on 22000/50906 queries. users per second: 855.113</pre>"
      ],
      "text/plain": [
       "recommendations finished on 22000/50906 queries. users per second: 855.113"
      ]
     },
     "metadata": {},
     "output_type": "display_data"
    },
    {
     "data": {
      "text/html": [
       "<pre>recommendations finished on 23000/50906 queries. users per second: 855.314</pre>"
      ],
      "text/plain": [
       "recommendations finished on 23000/50906 queries. users per second: 855.314"
      ]
     },
     "metadata": {},
     "output_type": "display_data"
    },
    {
     "data": {
      "text/html": [
       "<pre>recommendations finished on 24000/50906 queries. users per second: 855.454</pre>"
      ],
      "text/plain": [
       "recommendations finished on 24000/50906 queries. users per second: 855.454"
      ]
     },
     "metadata": {},
     "output_type": "display_data"
    },
    {
     "data": {
      "text/html": [
       "<pre>recommendations finished on 25000/50906 queries. users per second: 855.534</pre>"
      ],
      "text/plain": [
       "recommendations finished on 25000/50906 queries. users per second: 855.534"
      ]
     },
     "metadata": {},
     "output_type": "display_data"
    },
    {
     "data": {
      "text/html": [
       "<pre>recommendations finished on 26000/50906 queries. users per second: 855.649</pre>"
      ],
      "text/plain": [
       "recommendations finished on 26000/50906 queries. users per second: 855.649"
      ]
     },
     "metadata": {},
     "output_type": "display_data"
    },
    {
     "data": {
      "text/html": [
       "<pre>recommendations finished on 27000/50906 queries. users per second: 855.876</pre>"
      ],
      "text/plain": [
       "recommendations finished on 27000/50906 queries. users per second: 855.876"
      ]
     },
     "metadata": {},
     "output_type": "display_data"
    },
    {
     "data": {
      "text/html": [
       "<pre>recommendations finished on 28000/50906 queries. users per second: 856.048</pre>"
      ],
      "text/plain": [
       "recommendations finished on 28000/50906 queries. users per second: 856.048"
      ]
     },
     "metadata": {},
     "output_type": "display_data"
    },
    {
     "data": {
      "text/html": [
       "<pre>recommendations finished on 29000/50906 queries. users per second: 856.359</pre>"
      ],
      "text/plain": [
       "recommendations finished on 29000/50906 queries. users per second: 856.359"
      ]
     },
     "metadata": {},
     "output_type": "display_data"
    },
    {
     "data": {
      "text/html": [
       "<pre>recommendations finished on 30000/50906 queries. users per second: 856.476</pre>"
      ],
      "text/plain": [
       "recommendations finished on 30000/50906 queries. users per second: 856.476"
      ]
     },
     "metadata": {},
     "output_type": "display_data"
    },
    {
     "data": {
      "text/html": [
       "<pre>recommendations finished on 31000/50906 queries. users per second: 856.439</pre>"
      ],
      "text/plain": [
       "recommendations finished on 31000/50906 queries. users per second: 856.439"
      ]
     },
     "metadata": {},
     "output_type": "display_data"
    },
    {
     "data": {
      "text/html": [
       "<pre>recommendations finished on 32000/50906 queries. users per second: 856.563</pre>"
      ],
      "text/plain": [
       "recommendations finished on 32000/50906 queries. users per second: 856.563"
      ]
     },
     "metadata": {},
     "output_type": "display_data"
    },
    {
     "data": {
      "text/html": [
       "<pre>recommendations finished on 33000/50906 queries. users per second: 856.601</pre>"
      ],
      "text/plain": [
       "recommendations finished on 33000/50906 queries. users per second: 856.601"
      ]
     },
     "metadata": {},
     "output_type": "display_data"
    },
    {
     "data": {
      "text/html": [
       "<pre>recommendations finished on 34000/50906 queries. users per second: 856.663</pre>"
      ],
      "text/plain": [
       "recommendations finished on 34000/50906 queries. users per second: 856.663"
      ]
     },
     "metadata": {},
     "output_type": "display_data"
    },
    {
     "data": {
      "text/html": [
       "<pre>recommendations finished on 35000/50906 queries. users per second: 856.68</pre>"
      ],
      "text/plain": [
       "recommendations finished on 35000/50906 queries. users per second: 856.68"
      ]
     },
     "metadata": {},
     "output_type": "display_data"
    },
    {
     "data": {
      "text/html": [
       "<pre>recommendations finished on 36000/50906 queries. users per second: 856.855</pre>"
      ],
      "text/plain": [
       "recommendations finished on 36000/50906 queries. users per second: 856.855"
      ]
     },
     "metadata": {},
     "output_type": "display_data"
    },
    {
     "data": {
      "text/html": [
       "<pre>recommendations finished on 37000/50906 queries. users per second: 856.953</pre>"
      ],
      "text/plain": [
       "recommendations finished on 37000/50906 queries. users per second: 856.953"
      ]
     },
     "metadata": {},
     "output_type": "display_data"
    },
    {
     "data": {
      "text/html": [
       "<pre>recommendations finished on 38000/50906 queries. users per second: 857.087</pre>"
      ],
      "text/plain": [
       "recommendations finished on 38000/50906 queries. users per second: 857.087"
      ]
     },
     "metadata": {},
     "output_type": "display_data"
    },
    {
     "data": {
      "text/html": [
       "<pre>recommendations finished on 39000/50906 queries. users per second: 857.046</pre>"
      ],
      "text/plain": [
       "recommendations finished on 39000/50906 queries. users per second: 857.046"
      ]
     },
     "metadata": {},
     "output_type": "display_data"
    },
    {
     "data": {
      "text/html": [
       "<pre>recommendations finished on 40000/50906 queries. users per second: 857.058</pre>"
      ],
      "text/plain": [
       "recommendations finished on 40000/50906 queries. users per second: 857.058"
      ]
     },
     "metadata": {},
     "output_type": "display_data"
    },
    {
     "data": {
      "text/html": [
       "<pre>recommendations finished on 41000/50906 queries. users per second: 857.105</pre>"
      ],
      "text/plain": [
       "recommendations finished on 41000/50906 queries. users per second: 857.105"
      ]
     },
     "metadata": {},
     "output_type": "display_data"
    },
    {
     "data": {
      "text/html": [
       "<pre>recommendations finished on 42000/50906 queries. users per second: 857.072</pre>"
      ],
      "text/plain": [
       "recommendations finished on 42000/50906 queries. users per second: 857.072"
      ]
     },
     "metadata": {},
     "output_type": "display_data"
    },
    {
     "data": {
      "text/html": [
       "<pre>recommendations finished on 43000/50906 queries. users per second: 857.144</pre>"
      ],
      "text/plain": [
       "recommendations finished on 43000/50906 queries. users per second: 857.144"
      ]
     },
     "metadata": {},
     "output_type": "display_data"
    },
    {
     "data": {
      "text/html": [
       "<pre>recommendations finished on 44000/50906 queries. users per second: 857.185</pre>"
      ],
      "text/plain": [
       "recommendations finished on 44000/50906 queries. users per second: 857.185"
      ]
     },
     "metadata": {},
     "output_type": "display_data"
    },
    {
     "data": {
      "text/html": [
       "<pre>recommendations finished on 45000/50906 queries. users per second: 856.118</pre>"
      ],
      "text/plain": [
       "recommendations finished on 45000/50906 queries. users per second: 856.118"
      ]
     },
     "metadata": {},
     "output_type": "display_data"
    },
    {
     "data": {
      "text/html": [
       "<pre>recommendations finished on 46000/50906 queries. users per second: 853.077</pre>"
      ],
      "text/plain": [
       "recommendations finished on 46000/50906 queries. users per second: 853.077"
      ]
     },
     "metadata": {},
     "output_type": "display_data"
    },
    {
     "data": {
      "text/html": [
       "<pre>recommendations finished on 47000/50906 queries. users per second: 834.637</pre>"
      ],
      "text/plain": [
       "recommendations finished on 47000/50906 queries. users per second: 834.637"
      ]
     },
     "metadata": {},
     "output_type": "display_data"
    },
    {
     "data": {
      "text/html": [
       "<pre>recommendations finished on 48000/50906 queries. users per second: 813.178</pre>"
      ],
      "text/plain": [
       "recommendations finished on 48000/50906 queries. users per second: 813.178"
      ]
     },
     "metadata": {},
     "output_type": "display_data"
    },
    {
     "data": {
      "text/html": [
       "<pre>recommendations finished on 49000/50906 queries. users per second: 793.124</pre>"
      ],
      "text/plain": [
       "recommendations finished on 49000/50906 queries. users per second: 793.124"
      ]
     },
     "metadata": {},
     "output_type": "display_data"
    },
    {
     "data": {
      "text/html": [
       "<pre>recommendations finished on 50000/50906 queries. users per second: 774.359</pre>"
      ],
      "text/plain": [
       "recommendations finished on 50000/50906 queries. users per second: 774.359"
      ]
     },
     "metadata": {},
     "output_type": "display_data"
    }
   ],
   "source": [
    "default_recommendations = model.recommend()"
   ]
  },
  {
   "cell_type": "markdown",
   "id": "51b33560",
   "metadata": {},
   "source": [
    "### Посмотрим рекоммендации для отдельных юзеров"
   ]
  },
  {
   "cell_type": "code",
   "execution_count": 7,
   "id": "9e76e779",
   "metadata": {},
   "outputs": [],
   "source": [
    "df_groups = pd.read_csv('groups.csv')\n",
    "\n",
    "def display_history_and_predictions_for_user(user_id, train_dataset, predictions):\n",
    "    print('----------------------------------------------------------------------------')\n",
    "    print('User', user_id, 'history:')\n",
    "    display(train_dataset[train_dataset['user_id'] == user_id][\n",
    "        'group_id','is_online','session','направление 1','направление 2'])\n",
    "    predictions = predictions[predictions['user_id'] == user_id].to_dataframe()\n",
    "    print('User recommendations:')\n",
    "    predicted_groups = predictions['group_id'].to_list()\n",
    "    display(df_groups[df_groups['уникальный номер'].isin(predicted_groups)].drop(columns=[\n",
    "        'адрес площадки','расписание в активных периодах','расписание в закрытых периодах','расписание в плановом периоде']))"
   ]
  },
  {
   "cell_type": "code",
   "execution_count": 8,
   "id": "c0a7d06f",
   "metadata": {
    "scrolled": true
   },
   "outputs": [
    {
     "name": "stdout",
     "output_type": "stream",
     "text": [
      "----------------------------------------------------------------------------\n",
      "User 101352882 history:\n"
     ]
    },
    {
     "data": {
      "text/html": [
       "<div style=\"max-height:1000px;max-width:1500px;overflow:auto;\"><table frame=\"box\" rules=\"cols\">\n",
       "    <tr>\n",
       "        <th style=\"padding-left: 1em; padding-right: 1em; text-align: center\">group_id</th>\n",
       "        <th style=\"padding-left: 1em; padding-right: 1em; text-align: center\">is_online</th>\n",
       "        <th style=\"padding-left: 1em; padding-right: 1em; text-align: center\">session</th>\n",
       "        <th style=\"padding-left: 1em; padding-right: 1em; text-align: center\">направление 1</th>\n",
       "        <th style=\"padding-left: 1em; padding-right: 1em; text-align: center\">направление 2</th>\n",
       "    </tr>\n",
       "    <tr>\n",
       "        <td style=\"padding-left: 1em; padding-right: 1em; text-align: center; vertical-align: top\">801348234</td>\n",
       "        <td style=\"padding-left: 1em; padding-right: 1em; text-align: center; vertical-align: top\">online</td>\n",
       "        <td style=\"padding-left: 1em; padding-right: 1em; text-align: center; vertical-align: top\">mornig</td>\n",
       "        <td style=\"padding-left: 1em; padding-right: 1em; text-align: center; vertical-align: top\">Физическая активность</td>\n",
       "        <td style=\"padding-left: 1em; padding-right: 1em; text-align: center; vertical-align: top\">ОНЛАЙН Гимнастика</td>\n",
       "    </tr>\n",
       "    <tr>\n",
       "        <td style=\"padding-left: 1em; padding-right: 1em; text-align: center; vertical-align: top\">801348838</td>\n",
       "        <td style=\"padding-left: 1em; padding-right: 1em; text-align: center; vertical-align: top\">offline</td>\n",
       "        <td style=\"padding-left: 1em; padding-right: 1em; text-align: center; vertical-align: top\">mornig</td>\n",
       "        <td style=\"padding-left: 1em; padding-right: 1em; text-align: center; vertical-align: top\">Физическая активность</td>\n",
       "        <td style=\"padding-left: 1em; padding-right: 1em; text-align: center; vertical-align: top\">Гимнастика</td>\n",
       "    </tr>\n",
       "    <tr>\n",
       "        <td style=\"padding-left: 1em; padding-right: 1em; text-align: center; vertical-align: top\">801348944</td>\n",
       "        <td style=\"padding-left: 1em; padding-right: 1em; text-align: center; vertical-align: top\">offline</td>\n",
       "        <td style=\"padding-left: 1em; padding-right: 1em; text-align: center; vertical-align: top\">mornig</td>\n",
       "        <td style=\"padding-left: 1em; padding-right: 1em; text-align: center; vertical-align: top\">Танцы</td>\n",
       "        <td style=\"padding-left: 1em; padding-right: 1em; text-align: center; vertical-align: top\">Танцы</td>\n",
       "    </tr>\n",
       "    <tr>\n",
       "        <td style=\"padding-left: 1em; padding-right: 1em; text-align: center; vertical-align: top\">801349048</td>\n",
       "        <td style=\"padding-left: 1em; padding-right: 1em; text-align: center; vertical-align: top\">offline</td>\n",
       "        <td style=\"padding-left: 1em; padding-right: 1em; text-align: center; vertical-align: top\">mornig</td>\n",
       "        <td style=\"padding-left: 1em; padding-right: 1em; text-align: center; vertical-align: top\">Физическая активность</td>\n",
       "        <td style=\"padding-left: 1em; padding-right: 1em; text-align: center; vertical-align: top\">ОФП</td>\n",
       "    </tr>\n",
       "    <tr>\n",
       "        <td style=\"padding-left: 1em; padding-right: 1em; text-align: center; vertical-align: top\">801350227</td>\n",
       "        <td style=\"padding-left: 1em; padding-right: 1em; text-align: center; vertical-align: top\">online</td>\n",
       "        <td style=\"padding-left: 1em; padding-right: 1em; text-align: center; vertical-align: top\">mornig</td>\n",
       "        <td style=\"padding-left: 1em; padding-right: 1em; text-align: center; vertical-align: top\">Творчество</td>\n",
       "        <td style=\"padding-left: 1em; padding-right: 1em; text-align: center; vertical-align: top\">ОНЛАЙН Художественно-<br>прикладное творчество ...</td>\n",
       "    </tr>\n",
       "    <tr>\n",
       "        <td style=\"padding-left: 1em; padding-right: 1em; text-align: center; vertical-align: top\">801350380</td>\n",
       "        <td style=\"padding-left: 1em; padding-right: 1em; text-align: center; vertical-align: top\">online</td>\n",
       "        <td style=\"padding-left: 1em; padding-right: 1em; text-align: center; vertical-align: top\">mornig</td>\n",
       "        <td style=\"padding-left: 1em; padding-right: 1em; text-align: center; vertical-align: top\">Танцы</td>\n",
       "        <td style=\"padding-left: 1em; padding-right: 1em; text-align: center; vertical-align: top\">ОНЛАЙН Танцы</td>\n",
       "    </tr>\n",
       "    <tr>\n",
       "        <td style=\"padding-left: 1em; padding-right: 1em; text-align: center; vertical-align: top\">801351413</td>\n",
       "        <td style=\"padding-left: 1em; padding-right: 1em; text-align: center; vertical-align: top\">online</td>\n",
       "        <td style=\"padding-left: 1em; padding-right: 1em; text-align: center; vertical-align: top\">mornig</td>\n",
       "        <td style=\"padding-left: 1em; padding-right: 1em; text-align: center; vertical-align: top\">Рисование</td>\n",
       "        <td style=\"padding-left: 1em; padding-right: 1em; text-align: center; vertical-align: top\">ОНЛАЙН Рисование</td>\n",
       "    </tr>\n",
       "    <tr>\n",
       "        <td style=\"padding-left: 1em; padding-right: 1em; text-align: center; vertical-align: top\">801358464</td>\n",
       "        <td style=\"padding-left: 1em; padding-right: 1em; text-align: center; vertical-align: top\">online</td>\n",
       "        <td style=\"padding-left: 1em; padding-right: 1em; text-align: center; vertical-align: top\">mornig</td>\n",
       "        <td style=\"padding-left: 1em; padding-right: 1em; text-align: center; vertical-align: top\">Физическая активность</td>\n",
       "        <td style=\"padding-left: 1em; padding-right: 1em; text-align: center; vertical-align: top\">ОНЛАЙН Гимнастика</td>\n",
       "    </tr>\n",
       "    <tr>\n",
       "        <td style=\"padding-left: 1em; padding-right: 1em; text-align: center; vertical-align: top\">801358465</td>\n",
       "        <td style=\"padding-left: 1em; padding-right: 1em; text-align: center; vertical-align: top\">online</td>\n",
       "        <td style=\"padding-left: 1em; padding-right: 1em; text-align: center; vertical-align: top\">mornig</td>\n",
       "        <td style=\"padding-left: 1em; padding-right: 1em; text-align: center; vertical-align: top\">Танцы</td>\n",
       "        <td style=\"padding-left: 1em; padding-right: 1em; text-align: center; vertical-align: top\">ОНЛАЙН Танцы</td>\n",
       "    </tr>\n",
       "    <tr>\n",
       "        <td style=\"padding-left: 1em; padding-right: 1em; text-align: center; vertical-align: top\">801358466</td>\n",
       "        <td style=\"padding-left: 1em; padding-right: 1em; text-align: center; vertical-align: top\">online</td>\n",
       "        <td style=\"padding-left: 1em; padding-right: 1em; text-align: center; vertical-align: top\">mornig</td>\n",
       "        <td style=\"padding-left: 1em; padding-right: 1em; text-align: center; vertical-align: top\">Физическая активность</td>\n",
       "        <td style=\"padding-left: 1em; padding-right: 1em; text-align: center; vertical-align: top\">ОНЛАЙН Гимнастика</td>\n",
       "    </tr>\n",
       "</table>\n",
       "[? rows x 5 columns]<br/>Note: Only the head of the SFrame is printed. This SFrame is lazily evaluated.<br/>You can use sf.materialize() to force materialization.\n",
       "</div>"
      ],
      "text/plain": [
       "Columns:\n",
       "\tgroup_id\tint\n",
       "\tis_online\tstr\n",
       "\tsession\tstr\n",
       "\tнаправление 1\tstr\n",
       "\tнаправление 2\tstr\n",
       "\n",
       "Rows: Unknown\n",
       "\n",
       "Data:\n",
       "+-----------+-----------+---------+-----------------------+\n",
       "|  group_id | is_online | session |     направление 1     |\n",
       "+-----------+-----------+---------+-----------------------+\n",
       "| 801348234 |   online  |  mornig | Физическая активность |\n",
       "| 801348838 |  offline  |  mornig | Физическая активность |\n",
       "| 801348944 |  offline  |  mornig |         Танцы         |\n",
       "| 801349048 |  offline  |  mornig | Физическая активность |\n",
       "| 801350227 |   online  |  mornig |       Творчество      |\n",
       "| 801350380 |   online  |  mornig |         Танцы         |\n",
       "| 801351413 |   online  |  mornig |       Рисование       |\n",
       "| 801358464 |   online  |  mornig | Физическая активность |\n",
       "| 801358465 |   online  |  mornig |         Танцы         |\n",
       "| 801358466 |   online  |  mornig | Физическая активность |\n",
       "+-----------+-----------+---------+-----------------------+\n",
       "+-------------------------------+\n",
       "|         направление 2         |\n",
       "+-------------------------------+\n",
       "|       ОНЛАЙН Гимнастика       |\n",
       "|           Гимнастика          |\n",
       "|             Танцы             |\n",
       "|              ОФП              |\n",
       "| ОНЛАЙН Художественно-прикл... |\n",
       "|          ОНЛАЙН Танцы         |\n",
       "|        ОНЛАЙН Рисование       |\n",
       "|       ОНЛАЙН Гимнастика       |\n",
       "|          ОНЛАЙН Танцы         |\n",
       "|       ОНЛАЙН Гимнастика       |\n",
       "+-------------------------------+\n",
       "[? rows x 5 columns]\n",
       "Note: Only the head of the SFrame is printed. This SFrame is lazily evaluated.\n",
       "You can use sf.materialize() to force materialization."
      ]
     },
     "metadata": {},
     "output_type": "display_data"
    },
    {
     "name": "stdout",
     "output_type": "stream",
     "text": [
      "User recommendations:\n"
     ]
    },
    {
     "data": {
      "text/html": [
       "<div>\n",
       "<style scoped>\n",
       "    .dataframe tbody tr th:only-of-type {\n",
       "        vertical-align: middle;\n",
       "    }\n",
       "\n",
       "    .dataframe tbody tr th {\n",
       "        vertical-align: top;\n",
       "    }\n",
       "\n",
       "    .dataframe thead th {\n",
       "        text-align: right;\n",
       "    }\n",
       "</style>\n",
       "<table border=\"1\" class=\"dataframe\">\n",
       "  <thead>\n",
       "    <tr style=\"text-align: right;\">\n",
       "      <th></th>\n",
       "      <th>уникальный номер</th>\n",
       "      <th>направление 1</th>\n",
       "      <th>направление 2</th>\n",
       "      <th>направление 3</th>\n",
       "      <th>округ площадки</th>\n",
       "      <th>район площадки</th>\n",
       "    </tr>\n",
       "  </thead>\n",
       "  <tbody>\n",
       "    <tr>\n",
       "      <th>1008</th>\n",
       "      <td>801354484</td>\n",
       "      <td>Рисование</td>\n",
       "      <td>ОНЛАЙН Рисование</td>\n",
       "      <td>ОНЛАЙН ИЗО</td>\n",
       "      <td>Юго-Восточный административный округ</td>\n",
       "      <td>муниципальный округ Люблино</td>\n",
       "    </tr>\n",
       "    <tr>\n",
       "      <th>1093</th>\n",
       "      <td>801346701</td>\n",
       "      <td>Рисование</td>\n",
       "      <td>ОНЛАЙН Рисование</td>\n",
       "      <td>ОНЛАЙН Масляная живопись</td>\n",
       "      <td>Восточный административный округ</td>\n",
       "      <td>муниципальный округ Северное Измайлово</td>\n",
       "    </tr>\n",
       "    <tr>\n",
       "      <th>1840</th>\n",
       "      <td>801352851</td>\n",
       "      <td>Рисование</td>\n",
       "      <td>ОНЛАЙН Рисование</td>\n",
       "      <td>ОНЛАЙН Китайская живопись У-Син</td>\n",
       "      <td>Восточный административный округ</td>\n",
       "      <td>муниципальный округ Косино-Ухтомский</td>\n",
       "    </tr>\n",
       "    <tr>\n",
       "      <th>1841</th>\n",
       "      <td>801348029</td>\n",
       "      <td>Рисование</td>\n",
       "      <td>ОНЛАЙН Рисование</td>\n",
       "      <td>ОНЛАЙН Китайская живопись У-Син</td>\n",
       "      <td>Юго-Восточный административный округ</td>\n",
       "      <td>муниципальный округ Некрасовка</td>\n",
       "    </tr>\n",
       "    <tr>\n",
       "      <th>2920</th>\n",
       "      <td>801350775</td>\n",
       "      <td>Рисование</td>\n",
       "      <td>ОНЛАЙН Рисование</td>\n",
       "      <td>ОНЛАЙН Китайская живопись У-Син</td>\n",
       "      <td>NaN</td>\n",
       "      <td>NaN</td>\n",
       "    </tr>\n",
       "    <tr>\n",
       "      <th>2924</th>\n",
       "      <td>801352907</td>\n",
       "      <td>Рисование</td>\n",
       "      <td>ОНЛАЙН Рисование</td>\n",
       "      <td>ОНЛАЙН Китайская живопись У-Син</td>\n",
       "      <td>NaN</td>\n",
       "      <td>NaN</td>\n",
       "    </tr>\n",
       "    <tr>\n",
       "      <th>2927</th>\n",
       "      <td>801352685</td>\n",
       "      <td>Рисование</td>\n",
       "      <td>ОНЛАЙН Рисование</td>\n",
       "      <td>ОНЛАЙН Различные техники рисования</td>\n",
       "      <td>NaN</td>\n",
       "      <td>NaN</td>\n",
       "    </tr>\n",
       "    <tr>\n",
       "      <th>3752</th>\n",
       "      <td>801347074</td>\n",
       "      <td>Физическая активность</td>\n",
       "      <td>ОНЛАЙН Гимнастика</td>\n",
       "      <td>ОНЛАЙН Корригирующая гимнастика для глаз</td>\n",
       "      <td>NaN</td>\n",
       "      <td>NaN</td>\n",
       "    </tr>\n",
       "    <tr>\n",
       "      <th>3915</th>\n",
       "      <td>801348042</td>\n",
       "      <td>Рисование</td>\n",
       "      <td>ОНЛАЙН Рисование</td>\n",
       "      <td>ОНЛАЙН Масляная живопись</td>\n",
       "      <td>Зеленоградский административный округ</td>\n",
       "      <td>муниципальный округ Крюково</td>\n",
       "    </tr>\n",
       "    <tr>\n",
       "      <th>3971</th>\n",
       "      <td>801350767</td>\n",
       "      <td>Рисование</td>\n",
       "      <td>ОНЛАЙН Рисование</td>\n",
       "      <td>ОНЛАЙН Различные техники рисования</td>\n",
       "      <td>NaN</td>\n",
       "      <td>NaN</td>\n",
       "    </tr>\n",
       "  </tbody>\n",
       "</table>\n",
       "</div>"
      ],
      "text/plain": [
       "      уникальный номер          направление 1      направление 2   \n",
       "1008         801354484              Рисование   ОНЛАЙН Рисование  \\\n",
       "1093         801346701              Рисование   ОНЛАЙН Рисование   \n",
       "1840         801352851              Рисование   ОНЛАЙН Рисование   \n",
       "1841         801348029              Рисование   ОНЛАЙН Рисование   \n",
       "2920         801350775              Рисование   ОНЛАЙН Рисование   \n",
       "2924         801352907              Рисование   ОНЛАЙН Рисование   \n",
       "2927         801352685              Рисование   ОНЛАЙН Рисование   \n",
       "3752         801347074  Физическая активность  ОНЛАЙН Гимнастика   \n",
       "3915         801348042              Рисование   ОНЛАЙН Рисование   \n",
       "3971         801350767              Рисование   ОНЛАЙН Рисование   \n",
       "\n",
       "                                 направление 3   \n",
       "1008                                ОНЛАЙН ИЗО  \\\n",
       "1093                  ОНЛАЙН Масляная живопись   \n",
       "1840           ОНЛАЙН Китайская живопись У-Син   \n",
       "1841           ОНЛАЙН Китайская живопись У-Син   \n",
       "2920           ОНЛАЙН Китайская живопись У-Син   \n",
       "2924           ОНЛАЙН Китайская живопись У-Син   \n",
       "2927        ОНЛАЙН Различные техники рисования   \n",
       "3752  ОНЛАЙН Корригирующая гимнастика для глаз   \n",
       "3915                  ОНЛАЙН Масляная живопись   \n",
       "3971        ОНЛАЙН Различные техники рисования   \n",
       "\n",
       "                             округ площадки   \n",
       "1008   Юго-Восточный административный округ  \\\n",
       "1093       Восточный административный округ   \n",
       "1840       Восточный административный округ   \n",
       "1841   Юго-Восточный административный округ   \n",
       "2920                                    NaN   \n",
       "2924                                    NaN   \n",
       "2927                                    NaN   \n",
       "3752                                    NaN   \n",
       "3915  Зеленоградский административный округ   \n",
       "3971                                    NaN   \n",
       "\n",
       "                              район площадки  \n",
       "1008             муниципальный округ Люблино  \n",
       "1093  муниципальный округ Северное Измайлово  \n",
       "1840    муниципальный округ Косино-Ухтомский  \n",
       "1841          муниципальный округ Некрасовка  \n",
       "2920                                     NaN  \n",
       "2924                                     NaN  \n",
       "2927                                     NaN  \n",
       "3752                                     NaN  \n",
       "3915             муниципальный округ Крюково  \n",
       "3971                                     NaN  "
      ]
     },
     "metadata": {},
     "output_type": "display_data"
    }
   ],
   "source": [
    "user_id = 101352882\n",
    "\n",
    "display_history_and_predictions_for_user(user_id, actions, default_recommendations)"
   ]
  },
  {
   "cell_type": "code",
   "execution_count": 9,
   "id": "f47eed5b",
   "metadata": {
    "scrolled": true
   },
   "outputs": [
    {
     "name": "stdout",
     "output_type": "stream",
     "text": [
      "----------------------------------------------------------------------------\n",
      "User 101354253 history:\n"
     ]
    },
    {
     "data": {
      "text/html": [
       "<div style=\"max-height:1000px;max-width:1500px;overflow:auto;\"><table frame=\"box\" rules=\"cols\">\n",
       "    <tr>\n",
       "        <th style=\"padding-left: 1em; padding-right: 1em; text-align: center\">group_id</th>\n",
       "        <th style=\"padding-left: 1em; padding-right: 1em; text-align: center\">is_online</th>\n",
       "        <th style=\"padding-left: 1em; padding-right: 1em; text-align: center\">session</th>\n",
       "        <th style=\"padding-left: 1em; padding-right: 1em; text-align: center\">направление 1</th>\n",
       "        <th style=\"padding-left: 1em; padding-right: 1em; text-align: center\">направление 2</th>\n",
       "    </tr>\n",
       "    <tr>\n",
       "        <td style=\"padding-left: 1em; padding-right: 1em; text-align: center; vertical-align: top\">801347802</td>\n",
       "        <td style=\"padding-left: 1em; padding-right: 1em; text-align: center; vertical-align: top\">online</td>\n",
       "        <td style=\"padding-left: 1em; padding-right: 1em; text-align: center; vertical-align: top\">mornig</td>\n",
       "        <td style=\"padding-left: 1em; padding-right: 1em; text-align: center; vertical-align: top\">Физическая активность</td>\n",
       "        <td style=\"padding-left: 1em; padding-right: 1em; text-align: center; vertical-align: top\">ОНЛАЙН ОФП</td>\n",
       "    </tr>\n",
       "    <tr>\n",
       "        <td style=\"padding-left: 1em; padding-right: 1em; text-align: center; vertical-align: top\">801348667</td>\n",
       "        <td style=\"padding-left: 1em; padding-right: 1em; text-align: center; vertical-align: top\">online</td>\n",
       "        <td style=\"padding-left: 1em; padding-right: 1em; text-align: center; vertical-align: top\">evening</td>\n",
       "        <td style=\"padding-left: 1em; padding-right: 1em; text-align: center; vertical-align: top\">Физическая активность</td>\n",
       "        <td style=\"padding-left: 1em; padding-right: 1em; text-align: center; vertical-align: top\">ОНЛАЙН Гимнастика</td>\n",
       "    </tr>\n",
       "    <tr>\n",
       "        <td style=\"padding-left: 1em; padding-right: 1em; text-align: center; vertical-align: top\">801348794</td>\n",
       "        <td style=\"padding-left: 1em; padding-right: 1em; text-align: center; vertical-align: top\">online</td>\n",
       "        <td style=\"padding-left: 1em; padding-right: 1em; text-align: center; vertical-align: top\">mornig</td>\n",
       "        <td style=\"padding-left: 1em; padding-right: 1em; text-align: center; vertical-align: top\">Физическая активность</td>\n",
       "        <td style=\"padding-left: 1em; padding-right: 1em; text-align: center; vertical-align: top\">ОНЛАЙН Гимнастика</td>\n",
       "    </tr>\n",
       "    <tr>\n",
       "        <td style=\"padding-left: 1em; padding-right: 1em; text-align: center; vertical-align: top\">801349796</td>\n",
       "        <td style=\"padding-left: 1em; padding-right: 1em; text-align: center; vertical-align: top\">offline</td>\n",
       "        <td style=\"padding-left: 1em; padding-right: 1em; text-align: center; vertical-align: top\">mornig</td>\n",
       "        <td style=\"padding-left: 1em; padding-right: 1em; text-align: center; vertical-align: top\">Физическая активность</td>\n",
       "        <td style=\"padding-left: 1em; padding-right: 1em; text-align: center; vertical-align: top\">Гимнастика</td>\n",
       "    </tr>\n",
       "    <tr>\n",
       "        <td style=\"padding-left: 1em; padding-right: 1em; text-align: center; vertical-align: top\">801349875</td>\n",
       "        <td style=\"padding-left: 1em; padding-right: 1em; text-align: center; vertical-align: top\">offline</td>\n",
       "        <td style=\"padding-left: 1em; padding-right: 1em; text-align: center; vertical-align: top\">aftennoon</td>\n",
       "        <td style=\"padding-left: 1em; padding-right: 1em; text-align: center; vertical-align: top\">Физическая активность</td>\n",
       "        <td style=\"padding-left: 1em; padding-right: 1em; text-align: center; vertical-align: top\">Гимнастика</td>\n",
       "    </tr>\n",
       "    <tr>\n",
       "        <td style=\"padding-left: 1em; padding-right: 1em; text-align: center; vertical-align: top\">801350556</td>\n",
       "        <td style=\"padding-left: 1em; padding-right: 1em; text-align: center; vertical-align: top\">online</td>\n",
       "        <td style=\"padding-left: 1em; padding-right: 1em; text-align: center; vertical-align: top\">mornig</td>\n",
       "        <td style=\"padding-left: 1em; padding-right: 1em; text-align: center; vertical-align: top\">Физическая активность</td>\n",
       "        <td style=\"padding-left: 1em; padding-right: 1em; text-align: center; vertical-align: top\">ОНЛАЙН ОФП</td>\n",
       "    </tr>\n",
       "    <tr>\n",
       "        <td style=\"padding-left: 1em; padding-right: 1em; text-align: center; vertical-align: top\">801350568</td>\n",
       "        <td style=\"padding-left: 1em; padding-right: 1em; text-align: center; vertical-align: top\">online</td>\n",
       "        <td style=\"padding-left: 1em; padding-right: 1em; text-align: center; vertical-align: top\">mornig</td>\n",
       "        <td style=\"padding-left: 1em; padding-right: 1em; text-align: center; vertical-align: top\">Физическая активность</td>\n",
       "        <td style=\"padding-left: 1em; padding-right: 1em; text-align: center; vertical-align: top\">ОНЛАЙН ОФП</td>\n",
       "    </tr>\n",
       "    <tr>\n",
       "        <td style=\"padding-left: 1em; padding-right: 1em; text-align: center; vertical-align: top\">801361065</td>\n",
       "        <td style=\"padding-left: 1em; padding-right: 1em; text-align: center; vertical-align: top\">offline</td>\n",
       "        <td style=\"padding-left: 1em; padding-right: 1em; text-align: center; vertical-align: top\">mornig</td>\n",
       "        <td style=\"padding-left: 1em; padding-right: 1em; text-align: center; vertical-align: top\">Рисование</td>\n",
       "        <td style=\"padding-left: 1em; padding-right: 1em; text-align: center; vertical-align: top\">Рисование</td>\n",
       "    </tr>\n",
       "</table>\n",
       "[? rows x 5 columns]<br/>Note: Only the head of the SFrame is printed. This SFrame is lazily evaluated.<br/>You can use sf.materialize() to force materialization.\n",
       "</div>"
      ],
      "text/plain": [
       "Columns:\n",
       "\tgroup_id\tint\n",
       "\tis_online\tstr\n",
       "\tsession\tstr\n",
       "\tнаправление 1\tstr\n",
       "\tнаправление 2\tstr\n",
       "\n",
       "Rows: Unknown\n",
       "\n",
       "Data:\n",
       "+-----------+-----------+-----------+-----------------------+-------------------+\n",
       "|  group_id | is_online |  session  |     направление 1     |   направление 2   |\n",
       "+-----------+-----------+-----------+-----------------------+-------------------+\n",
       "| 801347802 |   online  |   mornig  | Физическая активность |     ОНЛАЙН ОФП    |\n",
       "| 801348667 |   online  |  evening  | Физическая активность | ОНЛАЙН Гимнастика |\n",
       "| 801348794 |   online  |   mornig  | Физическая активность | ОНЛАЙН Гимнастика |\n",
       "| 801349796 |  offline  |   mornig  | Физическая активность |     Гимнастика    |\n",
       "| 801349875 |  offline  | aftennoon | Физическая активность |     Гимнастика    |\n",
       "| 801350556 |   online  |   mornig  | Физическая активность |     ОНЛАЙН ОФП    |\n",
       "| 801350568 |   online  |   mornig  | Физическая активность |     ОНЛАЙН ОФП    |\n",
       "| 801361065 |  offline  |   mornig  |       Рисование       |     Рисование     |\n",
       "+-----------+-----------+-----------+-----------------------+-------------------+\n",
       "[? rows x 5 columns]\n",
       "Note: Only the head of the SFrame is printed. This SFrame is lazily evaluated.\n",
       "You can use sf.materialize() to force materialization."
      ]
     },
     "metadata": {},
     "output_type": "display_data"
    },
    {
     "name": "stdout",
     "output_type": "stream",
     "text": [
      "User recommendations:\n"
     ]
    },
    {
     "data": {
      "text/html": [
       "<div>\n",
       "<style scoped>\n",
       "    .dataframe tbody tr th:only-of-type {\n",
       "        vertical-align: middle;\n",
       "    }\n",
       "\n",
       "    .dataframe tbody tr th {\n",
       "        vertical-align: top;\n",
       "    }\n",
       "\n",
       "    .dataframe thead th {\n",
       "        text-align: right;\n",
       "    }\n",
       "</style>\n",
       "<table border=\"1\" class=\"dataframe\">\n",
       "  <thead>\n",
       "    <tr style=\"text-align: right;\">\n",
       "      <th></th>\n",
       "      <th>уникальный номер</th>\n",
       "      <th>направление 1</th>\n",
       "      <th>направление 2</th>\n",
       "      <th>направление 3</th>\n",
       "      <th>округ площадки</th>\n",
       "      <th>район площадки</th>\n",
       "    </tr>\n",
       "  </thead>\n",
       "  <tbody>\n",
       "    <tr>\n",
       "      <th>1076</th>\n",
       "      <td>801349915</td>\n",
       "      <td>Физическая активность</td>\n",
       "      <td>ОНЛАЙН ОФП</td>\n",
       "      <td>ОНЛАЙН ОФП</td>\n",
       "      <td>Северо-Восточный административный округ, Север...</td>\n",
       "      <td>муниципальный округ Марьина Роща, муниципальны...</td>\n",
       "    </tr>\n",
       "    <tr>\n",
       "      <th>1613</th>\n",
       "      <td>801348774</td>\n",
       "      <td>Физическая активность</td>\n",
       "      <td>ОНЛАЙН Гимнастика</td>\n",
       "      <td>ОНЛАЙН Цигун</td>\n",
       "      <td>Юго-Западный административный округ, Юго-Восто...</td>\n",
       "      <td>муниципальный округ Южное Бутово, муниципальны...</td>\n",
       "    </tr>\n",
       "    <tr>\n",
       "      <th>1784</th>\n",
       "      <td>801348369</td>\n",
       "      <td>Физическая активность</td>\n",
       "      <td>ОНЛАЙН Гимнастика</td>\n",
       "      <td>ОНЛАЙН Гимнастика</td>\n",
       "      <td>Восточный административный округ</td>\n",
       "      <td>муниципальный округ Северное Измайлово</td>\n",
       "    </tr>\n",
       "    <tr>\n",
       "      <th>2897</th>\n",
       "      <td>801346717</td>\n",
       "      <td>Физическая активность</td>\n",
       "      <td>ОНЛАЙН Гимнастика</td>\n",
       "      <td>ОНЛАЙН Дыхательная гимнастика</td>\n",
       "      <td>NaN</td>\n",
       "      <td>NaN</td>\n",
       "    </tr>\n",
       "    <tr>\n",
       "      <th>2899</th>\n",
       "      <td>801346566</td>\n",
       "      <td>Физическая активность</td>\n",
       "      <td>ОНЛАЙН Гимнастика</td>\n",
       "      <td>ОНЛАЙН Дыхательная гимнастика</td>\n",
       "      <td>NaN</td>\n",
       "      <td>NaN</td>\n",
       "    </tr>\n",
       "    <tr>\n",
       "      <th>2909</th>\n",
       "      <td>801347778</td>\n",
       "      <td>Физическая активность</td>\n",
       "      <td>ОНЛАЙН Гимнастика</td>\n",
       "      <td>ОНЛАЙН Дыхательная гимнастика</td>\n",
       "      <td>NaN</td>\n",
       "      <td>NaN</td>\n",
       "    </tr>\n",
       "    <tr>\n",
       "      <th>2911</th>\n",
       "      <td>801348554</td>\n",
       "      <td>Физическая активность</td>\n",
       "      <td>ОНЛАЙН Гимнастика</td>\n",
       "      <td>ОНЛАЙН Дыхательная гимнастика</td>\n",
       "      <td>NaN</td>\n",
       "      <td>NaN</td>\n",
       "    </tr>\n",
       "    <tr>\n",
       "      <th>3730</th>\n",
       "      <td>801346573</td>\n",
       "      <td>Физическая активность</td>\n",
       "      <td>ОНЛАЙН ОФП</td>\n",
       "      <td>ОНЛАЙН ОФП</td>\n",
       "      <td>Северный административный округ, Северный адми...</td>\n",
       "      <td>муниципальный округ Дмитровский, муниципальный...</td>\n",
       "    </tr>\n",
       "    <tr>\n",
       "      <th>11484</th>\n",
       "      <td>801352857</td>\n",
       "      <td>Физическая активность</td>\n",
       "      <td>Гимнастика</td>\n",
       "      <td>Дыхательная гимнастика по системе Стрельниковой</td>\n",
       "      <td>Северо-Восточный административный округ</td>\n",
       "      <td>муниципальный округ Ростокино</td>\n",
       "    </tr>\n",
       "    <tr>\n",
       "      <th>23659</th>\n",
       "      <td>801373704</td>\n",
       "      <td>Центры московского долголетия</td>\n",
       "      <td>Свободное посещение</td>\n",
       "      <td>Свободное посещение</td>\n",
       "      <td>Восточный административный округ</td>\n",
       "      <td>муниципальный округ Сокольники</td>\n",
       "    </tr>\n",
       "  </tbody>\n",
       "</table>\n",
       "</div>"
      ],
      "text/plain": [
       "       уникальный номер                  направление 1        направление 2   \n",
       "1076          801349915          Физическая активность           ОНЛАЙН ОФП  \\\n",
       "1613          801348774          Физическая активность    ОНЛАЙН Гимнастика   \n",
       "1784          801348369          Физическая активность    ОНЛАЙН Гимнастика   \n",
       "2897          801346717          Физическая активность    ОНЛАЙН Гимнастика   \n",
       "2899          801346566          Физическая активность    ОНЛАЙН Гимнастика   \n",
       "2909          801347778          Физическая активность    ОНЛАЙН Гимнастика   \n",
       "2911          801348554          Физическая активность    ОНЛАЙН Гимнастика   \n",
       "3730          801346573          Физическая активность           ОНЛАЙН ОФП   \n",
       "11484         801352857          Физическая активность           Гимнастика   \n",
       "23659         801373704  Центры московского долголетия  Свободное посещение   \n",
       "\n",
       "                                         направление 3   \n",
       "1076                                        ОНЛАЙН ОФП  \\\n",
       "1613                                      ОНЛАЙН Цигун   \n",
       "1784                                 ОНЛАЙН Гимнастика   \n",
       "2897                     ОНЛАЙН Дыхательная гимнастика   \n",
       "2899                     ОНЛАЙН Дыхательная гимнастика   \n",
       "2909                     ОНЛАЙН Дыхательная гимнастика   \n",
       "2911                     ОНЛАЙН Дыхательная гимнастика   \n",
       "3730                                        ОНЛАЙН ОФП   \n",
       "11484  Дыхательная гимнастика по системе Стрельниковой   \n",
       "23659                              Свободное посещение   \n",
       "\n",
       "                                          округ площадки   \n",
       "1076   Северо-Восточный административный округ, Север...  \\\n",
       "1613   Юго-Западный административный округ, Юго-Восто...   \n",
       "1784                    Восточный административный округ   \n",
       "2897                                                 NaN   \n",
       "2899                                                 NaN   \n",
       "2909                                                 NaN   \n",
       "2911                                                 NaN   \n",
       "3730   Северный административный округ, Северный адми...   \n",
       "11484            Северо-Восточный административный округ   \n",
       "23659                   Восточный административный округ   \n",
       "\n",
       "                                          район площадки  \n",
       "1076   муниципальный округ Марьина Роща, муниципальны...  \n",
       "1613   муниципальный округ Южное Бутово, муниципальны...  \n",
       "1784              муниципальный округ Северное Измайлово  \n",
       "2897                                                 NaN  \n",
       "2899                                                 NaN  \n",
       "2909                                                 NaN  \n",
       "2911                                                 NaN  \n",
       "3730   муниципальный округ Дмитровский, муниципальный...  \n",
       "11484                      муниципальный округ Ростокино  \n",
       "23659                     муниципальный округ Сокольники  "
      ]
     },
     "metadata": {},
     "output_type": "display_data"
    }
   ],
   "source": [
    "user_id = 101354253\n",
    "\n",
    "display_history_and_predictions_for_user(user_id, actions, default_recommendations)"
   ]
  },
  {
   "cell_type": "code",
   "execution_count": 10,
   "id": "36544caf",
   "metadata": {
    "scrolled": true
   },
   "outputs": [
    {
     "name": "stdout",
     "output_type": "stream",
     "text": [
      "----------------------------------------------------------------------------\n",
      "User 101385865 history:\n"
     ]
    },
    {
     "data": {
      "text/html": [
       "<div style=\"max-height:1000px;max-width:1500px;overflow:auto;\"><table frame=\"box\" rules=\"cols\">\n",
       "    <tr>\n",
       "        <th style=\"padding-left: 1em; padding-right: 1em; text-align: center\">group_id</th>\n",
       "        <th style=\"padding-left: 1em; padding-right: 1em; text-align: center\">is_online</th>\n",
       "        <th style=\"padding-left: 1em; padding-right: 1em; text-align: center\">session</th>\n",
       "        <th style=\"padding-left: 1em; padding-right: 1em; text-align: center\">направление 1</th>\n",
       "        <th style=\"padding-left: 1em; padding-right: 1em; text-align: center\">направление 2</th>\n",
       "    </tr>\n",
       "    <tr>\n",
       "        <td style=\"padding-left: 1em; padding-right: 1em; text-align: center; vertical-align: top\">801346923</td>\n",
       "        <td style=\"padding-left: 1em; padding-right: 1em; text-align: center; vertical-align: top\">online</td>\n",
       "        <td style=\"padding-left: 1em; padding-right: 1em; text-align: center; vertical-align: top\">mornig</td>\n",
       "        <td style=\"padding-left: 1em; padding-right: 1em; text-align: center; vertical-align: top\">Танцы</td>\n",
       "        <td style=\"padding-left: 1em; padding-right: 1em; text-align: center; vertical-align: top\">ОНЛАЙН Танцы</td>\n",
       "    </tr>\n",
       "    <tr>\n",
       "        <td style=\"padding-left: 1em; padding-right: 1em; text-align: center; vertical-align: top\">801348309</td>\n",
       "        <td style=\"padding-left: 1em; padding-right: 1em; text-align: center; vertical-align: top\">online</td>\n",
       "        <td style=\"padding-left: 1em; padding-right: 1em; text-align: center; vertical-align: top\">mornig</td>\n",
       "        <td style=\"padding-left: 1em; padding-right: 1em; text-align: center; vertical-align: top\">Творчество</td>\n",
       "        <td style=\"padding-left: 1em; padding-right: 1em; text-align: center; vertical-align: top\">ОНЛАЙН Красота и стиль</td>\n",
       "    </tr>\n",
       "    <tr>\n",
       "        <td style=\"padding-left: 1em; padding-right: 1em; text-align: center; vertical-align: top\">801348946</td>\n",
       "        <td style=\"padding-left: 1em; padding-right: 1em; text-align: center; vertical-align: top\">online</td>\n",
       "        <td style=\"padding-left: 1em; padding-right: 1em; text-align: center; vertical-align: top\">mornig</td>\n",
       "        <td style=\"padding-left: 1em; padding-right: 1em; text-align: center; vertical-align: top\">Физическая активность</td>\n",
       "        <td style=\"padding-left: 1em; padding-right: 1em; text-align: center; vertical-align: top\">ОНЛАЙН Гимнастика</td>\n",
       "    </tr>\n",
       "    <tr>\n",
       "        <td style=\"padding-left: 1em; padding-right: 1em; text-align: center; vertical-align: top\">801349093</td>\n",
       "        <td style=\"padding-left: 1em; padding-right: 1em; text-align: center; vertical-align: top\">online</td>\n",
       "        <td style=\"padding-left: 1em; padding-right: 1em; text-align: center; vertical-align: top\">mornig</td>\n",
       "        <td style=\"padding-left: 1em; padding-right: 1em; text-align: center; vertical-align: top\">Образование</td>\n",
       "        <td style=\"padding-left: 1em; padding-right: 1em; text-align: center; vertical-align: top\">ОНЛАЙН Иностранные языки</td>\n",
       "    </tr>\n",
       "    <tr>\n",
       "        <td style=\"padding-left: 1em; padding-right: 1em; text-align: center; vertical-align: top\">801350488</td>\n",
       "        <td style=\"padding-left: 1em; padding-right: 1em; text-align: center; vertical-align: top\">offline</td>\n",
       "        <td style=\"padding-left: 1em; padding-right: 1em; text-align: center; vertical-align: top\">aftennoon</td>\n",
       "        <td style=\"padding-left: 1em; padding-right: 1em; text-align: center; vertical-align: top\">Физическая активность</td>\n",
       "        <td style=\"padding-left: 1em; padding-right: 1em; text-align: center; vertical-align: top\">Фитнес, тренажеры</td>\n",
       "    </tr>\n",
       "    <tr>\n",
       "        <td style=\"padding-left: 1em; padding-right: 1em; text-align: center; vertical-align: top\">801350739</td>\n",
       "        <td style=\"padding-left: 1em; padding-right: 1em; text-align: center; vertical-align: top\">offline</td>\n",
       "        <td style=\"padding-left: 1em; padding-right: 1em; text-align: center; vertical-align: top\">mornig</td>\n",
       "        <td style=\"padding-left: 1em; padding-right: 1em; text-align: center; vertical-align: top\">Танцы</td>\n",
       "        <td style=\"padding-left: 1em; padding-right: 1em; text-align: center; vertical-align: top\">Танцы</td>\n",
       "    </tr>\n",
       "    <tr>\n",
       "        <td style=\"padding-left: 1em; padding-right: 1em; text-align: center; vertical-align: top\">801350759</td>\n",
       "        <td style=\"padding-left: 1em; padding-right: 1em; text-align: center; vertical-align: top\">offline</td>\n",
       "        <td style=\"padding-left: 1em; padding-right: 1em; text-align: center; vertical-align: top\">mornig</td>\n",
       "        <td style=\"padding-left: 1em; padding-right: 1em; text-align: center; vertical-align: top\">Танцы</td>\n",
       "        <td style=\"padding-left: 1em; padding-right: 1em; text-align: center; vertical-align: top\">Танцы</td>\n",
       "    </tr>\n",
       "    <tr>\n",
       "        <td style=\"padding-left: 1em; padding-right: 1em; text-align: center; vertical-align: top\">801351106</td>\n",
       "        <td style=\"padding-left: 1em; padding-right: 1em; text-align: center; vertical-align: top\">online</td>\n",
       "        <td style=\"padding-left: 1em; padding-right: 1em; text-align: center; vertical-align: top\">mornig</td>\n",
       "        <td style=\"padding-left: 1em; padding-right: 1em; text-align: center; vertical-align: top\">Творчество</td>\n",
       "        <td style=\"padding-left: 1em; padding-right: 1em; text-align: center; vertical-align: top\">ОНЛАЙН Красота и стиль</td>\n",
       "    </tr>\n",
       "    <tr>\n",
       "        <td style=\"padding-left: 1em; padding-right: 1em; text-align: center; vertical-align: top\">801351519</td>\n",
       "        <td style=\"padding-left: 1em; padding-right: 1em; text-align: center; vertical-align: top\">offline</td>\n",
       "        <td style=\"padding-left: 1em; padding-right: 1em; text-align: center; vertical-align: top\">mornig</td>\n",
       "        <td style=\"padding-left: 1em; padding-right: 1em; text-align: center; vertical-align: top\">Танцы</td>\n",
       "        <td style=\"padding-left: 1em; padding-right: 1em; text-align: center; vertical-align: top\">Танцы</td>\n",
       "    </tr>\n",
       "    <tr>\n",
       "        <td style=\"padding-left: 1em; padding-right: 1em; text-align: center; vertical-align: top\">801351888</td>\n",
       "        <td style=\"padding-left: 1em; padding-right: 1em; text-align: center; vertical-align: top\">offline</td>\n",
       "        <td style=\"padding-left: 1em; padding-right: 1em; text-align: center; vertical-align: top\">mornig</td>\n",
       "        <td style=\"padding-left: 1em; padding-right: 1em; text-align: center; vertical-align: top\">Танцы</td>\n",
       "        <td style=\"padding-left: 1em; padding-right: 1em; text-align: center; vertical-align: top\">Танцы</td>\n",
       "    </tr>\n",
       "</table>\n",
       "[? rows x 5 columns]<br/>Note: Only the head of the SFrame is printed. This SFrame is lazily evaluated.<br/>You can use sf.materialize() to force materialization.\n",
       "</div>"
      ],
      "text/plain": [
       "Columns:\n",
       "\tgroup_id\tint\n",
       "\tis_online\tstr\n",
       "\tsession\tstr\n",
       "\tнаправление 1\tstr\n",
       "\tнаправление 2\tstr\n",
       "\n",
       "Rows: Unknown\n",
       "\n",
       "Data:\n",
       "+-----------+-----------+-----------+-----------------------+\n",
       "|  group_id | is_online |  session  |     направление 1     |\n",
       "+-----------+-----------+-----------+-----------------------+\n",
       "| 801346923 |   online  |   mornig  |         Танцы         |\n",
       "| 801348309 |   online  |   mornig  |       Творчество      |\n",
       "| 801348946 |   online  |   mornig  | Физическая активность |\n",
       "| 801349093 |   online  |   mornig  |      Образование      |\n",
       "| 801350488 |  offline  | aftennoon | Физическая активность |\n",
       "| 801350739 |  offline  |   mornig  |         Танцы         |\n",
       "| 801350759 |  offline  |   mornig  |         Танцы         |\n",
       "| 801351106 |   online  |   mornig  |       Творчество      |\n",
       "| 801351519 |  offline  |   mornig  |         Танцы         |\n",
       "| 801351888 |  offline  |   mornig  |         Танцы         |\n",
       "+-----------+-----------+-----------+-----------------------+\n",
       "+--------------------------+\n",
       "|      направление 2       |\n",
       "+--------------------------+\n",
       "|       ОНЛАЙН Танцы       |\n",
       "|  ОНЛАЙН Красота и стиль  |\n",
       "|    ОНЛАЙН Гимнастика     |\n",
       "| ОНЛАЙН Иностранные языки |\n",
       "|    Фитнес, тренажеры     |\n",
       "|          Танцы           |\n",
       "|          Танцы           |\n",
       "|  ОНЛАЙН Красота и стиль  |\n",
       "|          Танцы           |\n",
       "|          Танцы           |\n",
       "+--------------------------+\n",
       "[? rows x 5 columns]\n",
       "Note: Only the head of the SFrame is printed. This SFrame is lazily evaluated.\n",
       "You can use sf.materialize() to force materialization."
      ]
     },
     "metadata": {},
     "output_type": "display_data"
    },
    {
     "name": "stdout",
     "output_type": "stream",
     "text": [
      "User recommendations:\n"
     ]
    },
    {
     "data": {
      "text/html": [
       "<div>\n",
       "<style scoped>\n",
       "    .dataframe tbody tr th:only-of-type {\n",
       "        vertical-align: middle;\n",
       "    }\n",
       "\n",
       "    .dataframe tbody tr th {\n",
       "        vertical-align: top;\n",
       "    }\n",
       "\n",
       "    .dataframe thead th {\n",
       "        text-align: right;\n",
       "    }\n",
       "</style>\n",
       "<table border=\"1\" class=\"dataframe\">\n",
       "  <thead>\n",
       "    <tr style=\"text-align: right;\">\n",
       "      <th></th>\n",
       "      <th>уникальный номер</th>\n",
       "      <th>направление 1</th>\n",
       "      <th>направление 2</th>\n",
       "      <th>направление 3</th>\n",
       "      <th>округ площадки</th>\n",
       "      <th>район площадки</th>\n",
       "    </tr>\n",
       "  </thead>\n",
       "  <tbody>\n",
       "    <tr>\n",
       "      <th>1307</th>\n",
       "      <td>801347350</td>\n",
       "      <td>Физическая активность</td>\n",
       "      <td>ОНЛАЙН Гимнастика</td>\n",
       "      <td>ОНЛАЙН Корригирующая гимнастика для глаз</td>\n",
       "      <td>Восточный административный округ</td>\n",
       "      <td>муниципальный округ Северное Измайлово</td>\n",
       "    </tr>\n",
       "    <tr>\n",
       "      <th>1744</th>\n",
       "      <td>801350068</td>\n",
       "      <td>Творчество</td>\n",
       "      <td>ОНЛАЙН Красота и стиль</td>\n",
       "      <td>ОНЛАЙН Мастер-класс по уходу за кожей в зрелом...</td>\n",
       "      <td>Юго-Западный административный округ,</td>\n",
       "      <td>муниципальный округ Ясенево,</td>\n",
       "    </tr>\n",
       "    <tr>\n",
       "      <th>2144</th>\n",
       "      <td>801346784</td>\n",
       "      <td>Образование</td>\n",
       "      <td>ОНЛАЙН История, искусство, краеведение</td>\n",
       "      <td>ОНЛАЙН История, культура России</td>\n",
       "      <td>NaN</td>\n",
       "      <td>NaN</td>\n",
       "    </tr>\n",
       "    <tr>\n",
       "      <th>2527</th>\n",
       "      <td>801352390</td>\n",
       "      <td>Физическая активность</td>\n",
       "      <td>ОНЛАЙН Гимнастика</td>\n",
       "      <td>ОНЛАЙН Корригирующая гимнастика для глаз</td>\n",
       "      <td>NaN</td>\n",
       "      <td>NaN</td>\n",
       "    </tr>\n",
       "    <tr>\n",
       "      <th>3557</th>\n",
       "      <td>801346557</td>\n",
       "      <td>Образование</td>\n",
       "      <td>ОНЛАЙН Психология и коммуникации</td>\n",
       "      <td>ОНЛАЙН Психологические тренинги</td>\n",
       "      <td>NaN</td>\n",
       "      <td>NaN</td>\n",
       "    </tr>\n",
       "    <tr>\n",
       "      <th>3752</th>\n",
       "      <td>801347074</td>\n",
       "      <td>Физическая активность</td>\n",
       "      <td>ОНЛАЙН Гимнастика</td>\n",
       "      <td>ОНЛАЙН Корригирующая гимнастика для глаз</td>\n",
       "      <td>NaN</td>\n",
       "      <td>NaN</td>\n",
       "    </tr>\n",
       "    <tr>\n",
       "      <th>3788</th>\n",
       "      <td>801347329</td>\n",
       "      <td>Физическая активность</td>\n",
       "      <td>ОНЛАЙН Гимнастика</td>\n",
       "      <td>ОНЛАЙН Корригирующая гимнастика для глаз</td>\n",
       "      <td>Восточный административный округ</td>\n",
       "      <td>муниципальный округ Северное Измайлово</td>\n",
       "    </tr>\n",
       "    <tr>\n",
       "      <th>9810</th>\n",
       "      <td>801351000</td>\n",
       "      <td>Физическая активность</td>\n",
       "      <td>ОНЛАЙН Гимнастика</td>\n",
       "      <td>ОНЛАЙН Корригирующая гимнастика для глаз</td>\n",
       "      <td>NaN</td>\n",
       "      <td>NaN</td>\n",
       "    </tr>\n",
       "    <tr>\n",
       "      <th>9812</th>\n",
       "      <td>801348614</td>\n",
       "      <td>Физическая активность</td>\n",
       "      <td>ОНЛАЙН Гимнастика</td>\n",
       "      <td>ОНЛАЙН Корригирующая гимнастика для глаз</td>\n",
       "      <td>NaN</td>\n",
       "      <td>NaN</td>\n",
       "    </tr>\n",
       "    <tr>\n",
       "      <th>11156</th>\n",
       "      <td>801349550</td>\n",
       "      <td>Физическая активность</td>\n",
       "      <td>ОНЛАЙН Гимнастика</td>\n",
       "      <td>ОНЛАЙН Корригирующая гимнастика для глаз</td>\n",
       "      <td>NaN</td>\n",
       "      <td>NaN</td>\n",
       "    </tr>\n",
       "  </tbody>\n",
       "</table>\n",
       "</div>"
      ],
      "text/plain": [
       "       уникальный номер          направление 1   \n",
       "1307          801347350  Физическая активность  \\\n",
       "1744          801350068             Творчество   \n",
       "2144          801346784            Образование   \n",
       "2527          801352390  Физическая активность   \n",
       "3557          801346557            Образование   \n",
       "3752          801347074  Физическая активность   \n",
       "3788          801347329  Физическая активность   \n",
       "9810          801351000  Физическая активность   \n",
       "9812          801348614  Физическая активность   \n",
       "11156         801349550  Физическая активность   \n",
       "\n",
       "                                направление 2   \n",
       "1307                        ОНЛАЙН Гимнастика  \\\n",
       "1744                   ОНЛАЙН Красота и стиль   \n",
       "2144   ОНЛАЙН История, искусство, краеведение   \n",
       "2527                        ОНЛАЙН Гимнастика   \n",
       "3557         ОНЛАЙН Психология и коммуникации   \n",
       "3752                        ОНЛАЙН Гимнастика   \n",
       "3788                        ОНЛАЙН Гимнастика   \n",
       "9810                        ОНЛАЙН Гимнастика   \n",
       "9812                        ОНЛАЙН Гимнастика   \n",
       "11156                       ОНЛАЙН Гимнастика   \n",
       "\n",
       "                                           направление 3   \n",
       "1307            ОНЛАЙН Корригирующая гимнастика для глаз  \\\n",
       "1744   ОНЛАЙН Мастер-класс по уходу за кожей в зрелом...   \n",
       "2144                     ОНЛАЙН История, культура России   \n",
       "2527            ОНЛАЙН Корригирующая гимнастика для глаз   \n",
       "3557                     ОНЛАЙН Психологические тренинги   \n",
       "3752            ОНЛАЙН Корригирующая гимнастика для глаз   \n",
       "3788            ОНЛАЙН Корригирующая гимнастика для глаз   \n",
       "9810            ОНЛАЙН Корригирующая гимнастика для глаз   \n",
       "9812            ОНЛАЙН Корригирующая гимнастика для глаз   \n",
       "11156           ОНЛАЙН Корригирующая гимнастика для глаз   \n",
       "\n",
       "                              округ площадки   \n",
       "1307        Восточный административный округ  \\\n",
       "1744   Юго-Западный административный округ,    \n",
       "2144                                     NaN   \n",
       "2527                                     NaN   \n",
       "3557                                     NaN   \n",
       "3752                                     NaN   \n",
       "3788        Восточный административный округ   \n",
       "9810                                     NaN   \n",
       "9812                                     NaN   \n",
       "11156                                    NaN   \n",
       "\n",
       "                               район площадки  \n",
       "1307   муниципальный округ Северное Измайлово  \n",
       "1744            муниципальный округ Ясенево,   \n",
       "2144                                      NaN  \n",
       "2527                                      NaN  \n",
       "3557                                      NaN  \n",
       "3752                                      NaN  \n",
       "3788   муниципальный округ Северное Измайлово  \n",
       "9810                                      NaN  \n",
       "9812                                      NaN  \n",
       "11156                                     NaN  "
      ]
     },
     "metadata": {},
     "output_type": "display_data"
    }
   ],
   "source": [
    "user_id = 101385865\n",
    "\n",
    "display_history_and_predictions_for_user(user_id, actions, default_recommendations)"
   ]
  },
  {
   "cell_type": "markdown",
   "id": "f6b39035",
   "metadata": {},
   "source": [
    "### Делаем сравнение различных моделей\n",
    "\n",
    "Описание всех моделей, заложенных в turicreate, доступно по ссылке:\n",
    "\n",
    "https://apple.github.io/turicreate/docs/api/turicreate.toolkits.recommender.html"
   ]
  },
  {
   "cell_type": "code",
   "execution_count": 11,
   "id": "1ba32149",
   "metadata": {
    "scrolled": true
   },
   "outputs": [
    {
     "name": "stdout",
     "output_type": "stream",
     "text": [
      "⬛⬛⬛⬛⬛⬛⬛---------------\n",
      "Train default model\n"
     ]
    },
    {
     "data": {
      "text/html": [
       "<pre>Preparing data set.</pre>"
      ],
      "text/plain": [
       "Preparing data set."
      ]
     },
     "metadata": {},
     "output_type": "display_data"
    },
    {
     "data": {
      "text/html": [
       "<pre>    Data has 600249 observations with 50906 users and 24535 items.</pre>"
      ],
      "text/plain": [
       "    Data has 600249 observations with 50906 users and 24535 items."
      ]
     },
     "metadata": {},
     "output_type": "display_data"
    },
    {
     "data": {
      "text/html": [
       "<pre>    Data prepared in: 0.74489s</pre>"
      ],
      "text/plain": [
       "    Data prepared in: 0.74489s"
      ]
     },
     "metadata": {},
     "output_type": "display_data"
    },
    {
     "data": {
      "text/html": [
       "<pre>Training ranking_factorization_recommender for recommendations.</pre>"
      ],
      "text/plain": [
       "Training ranking_factorization_recommender for recommendations."
      ]
     },
     "metadata": {},
     "output_type": "display_data"
    },
    {
     "data": {
      "text/html": [
       "<pre>+--------------------------------+--------------------------------------------------+----------+</pre>"
      ],
      "text/plain": [
       "+--------------------------------+--------------------------------------------------+----------+"
      ]
     },
     "metadata": {},
     "output_type": "display_data"
    },
    {
     "data": {
      "text/html": [
       "<pre>| Parameter                      | Description                                      | Value    |</pre>"
      ],
      "text/plain": [
       "| Parameter                      | Description                                      | Value    |"
      ]
     },
     "metadata": {},
     "output_type": "display_data"
    },
    {
     "data": {
      "text/html": [
       "<pre>+--------------------------------+--------------------------------------------------+----------+</pre>"
      ],
      "text/plain": [
       "+--------------------------------+--------------------------------------------------+----------+"
      ]
     },
     "metadata": {},
     "output_type": "display_data"
    },
    {
     "data": {
      "text/html": [
       "<pre>| num_factors                    | Factor Dimension                                 | 32       |</pre>"
      ],
      "text/plain": [
       "| num_factors                    | Factor Dimension                                 | 32       |"
      ]
     },
     "metadata": {},
     "output_type": "display_data"
    },
    {
     "data": {
      "text/html": [
       "<pre>| regularization                 | L2 Regularization on Factors                     | 1e-09    |</pre>"
      ],
      "text/plain": [
       "| regularization                 | L2 Regularization on Factors                     | 1e-09    |"
      ]
     },
     "metadata": {},
     "output_type": "display_data"
    },
    {
     "data": {
      "text/html": [
       "<pre>| solver                         | Solver used for training                         | adagrad  |</pre>"
      ],
      "text/plain": [
       "| solver                         | Solver used for training                         | adagrad  |"
      ]
     },
     "metadata": {},
     "output_type": "display_data"
    },
    {
     "data": {
      "text/html": [
       "<pre>| linear_regularization          | L2 Regularization on Linear Coefficients         | 1e-09    |</pre>"
      ],
      "text/plain": [
       "| linear_regularization          | L2 Regularization on Linear Coefficients         | 1e-09    |"
      ]
     },
     "metadata": {},
     "output_type": "display_data"
    },
    {
     "data": {
      "text/html": [
       "<pre>| ranking_regularization         | Rank-based Regularization Weight                 | 0.25     |</pre>"
      ],
      "text/plain": [
       "| ranking_regularization         | Rank-based Regularization Weight                 | 0.25     |"
      ]
     },
     "metadata": {},
     "output_type": "display_data"
    },
    {
     "data": {
      "text/html": [
       "<pre>| side_data_factorization        | Assign Factors for Side Data                     | True     |</pre>"
      ],
      "text/plain": [
       "| side_data_factorization        | Assign Factors for Side Data                     | True     |"
      ]
     },
     "metadata": {},
     "output_type": "display_data"
    },
    {
     "data": {
      "text/html": [
       "<pre>| max_iterations                 | Maximum Number of Iterations                     | 25       |</pre>"
      ],
      "text/plain": [
       "| max_iterations                 | Maximum Number of Iterations                     | 25       |"
      ]
     },
     "metadata": {},
     "output_type": "display_data"
    },
    {
     "data": {
      "text/html": [
       "<pre>+--------------------------------+--------------------------------------------------+----------+</pre>"
      ],
      "text/plain": [
       "+--------------------------------+--------------------------------------------------+----------+"
      ]
     },
     "metadata": {},
     "output_type": "display_data"
    },
    {
     "data": {
      "text/html": [
       "<pre>  Optimizing model using SGD; tuning step size.</pre>"
      ],
      "text/plain": [
       "  Optimizing model using SGD; tuning step size."
      ]
     },
     "metadata": {},
     "output_type": "display_data"
    },
    {
     "data": {
      "text/html": [
       "<pre>  Using 75031 / 600249 points for tuning the step size.</pre>"
      ],
      "text/plain": [
       "  Using 75031 / 600249 points for tuning the step size."
      ]
     },
     "metadata": {},
     "output_type": "display_data"
    },
    {
     "data": {
      "text/html": [
       "<pre>+---------+-------------------+------------------------------------------+</pre>"
      ],
      "text/plain": [
       "+---------+-------------------+------------------------------------------+"
      ]
     },
     "metadata": {},
     "output_type": "display_data"
    },
    {
     "data": {
      "text/html": [
       "<pre>| Attempt | Initial Step Size | Estimated Objective Value                |</pre>"
      ],
      "text/plain": [
       "| Attempt | Initial Step Size | Estimated Objective Value                |"
      ]
     },
     "metadata": {},
     "output_type": "display_data"
    },
    {
     "data": {
      "text/html": [
       "<pre>+---------+-------------------+------------------------------------------+</pre>"
      ],
      "text/plain": [
       "+---------+-------------------+------------------------------------------+"
      ]
     },
     "metadata": {},
     "output_type": "display_data"
    },
    {
     "data": {
      "text/html": [
       "<pre>| 0       | 2.63158           | Not Viable                               |</pre>"
      ],
      "text/plain": [
       "| 0       | 2.63158           | Not Viable                               |"
      ]
     },
     "metadata": {},
     "output_type": "display_data"
    },
    {
     "data": {
      "text/html": [
       "<pre>| 1       | 0.657895          | Not Viable                               |</pre>"
      ],
      "text/plain": [
       "| 1       | 0.657895          | Not Viable                               |"
      ]
     },
     "metadata": {},
     "output_type": "display_data"
    },
    {
     "data": {
      "text/html": [
       "<pre>| 2       | 0.164474          | Not Viable                               |</pre>"
      ],
      "text/plain": [
       "| 2       | 0.164474          | Not Viable                               |"
      ]
     },
     "metadata": {},
     "output_type": "display_data"
    },
    {
     "data": {
      "text/html": [
       "<pre>| 3       | 0.0411184         | 0.306334                                 |</pre>"
      ],
      "text/plain": [
       "| 3       | 0.0411184         | 0.306334                                 |"
      ]
     },
     "metadata": {},
     "output_type": "display_data"
    },
    {
     "data": {
      "text/html": [
       "<pre>| 4       | 0.0205592         | 0.421181                                 |</pre>"
      ],
      "text/plain": [
       "| 4       | 0.0205592         | 0.421181                                 |"
      ]
     },
     "metadata": {},
     "output_type": "display_data"
    },
    {
     "data": {
      "text/html": [
       "<pre>| 5       | 0.0102796         | 0.740924                                 |</pre>"
      ],
      "text/plain": [
       "| 5       | 0.0102796         | 0.740924                                 |"
      ]
     },
     "metadata": {},
     "output_type": "display_data"
    },
    {
     "data": {
      "text/html": [
       "<pre>+---------+-------------------+------------------------------------------+</pre>"
      ],
      "text/plain": [
       "+---------+-------------------+------------------------------------------+"
      ]
     },
     "metadata": {},
     "output_type": "display_data"
    },
    {
     "data": {
      "text/html": [
       "<pre>| Final   | 0.0411184         | 0.306334                                 |</pre>"
      ],
      "text/plain": [
       "| Final   | 0.0411184         | 0.306334                                 |"
      ]
     },
     "metadata": {},
     "output_type": "display_data"
    },
    {
     "data": {
      "text/html": [
       "<pre>+---------+-------------------+------------------------------------------+</pre>"
      ],
      "text/plain": [
       "+---------+-------------------+------------------------------------------+"
      ]
     },
     "metadata": {},
     "output_type": "display_data"
    },
    {
     "data": {
      "text/html": [
       "<pre>Starting Optimization.</pre>"
      ],
      "text/plain": [
       "Starting Optimization."
      ]
     },
     "metadata": {},
     "output_type": "display_data"
    },
    {
     "data": {
      "text/html": [
       "<pre>+---------+--------------+-------------------+-----------------------+-------------+</pre>"
      ],
      "text/plain": [
       "+---------+--------------+-------------------+-----------------------+-------------+"
      ]
     },
     "metadata": {},
     "output_type": "display_data"
    },
    {
     "data": {
      "text/html": [
       "<pre>| Iter.   | Elapsed Time | Approx. Objective | Approx. Training RMSE | Step Size   |</pre>"
      ],
      "text/plain": [
       "| Iter.   | Elapsed Time | Approx. Objective | Approx. Training RMSE | Step Size   |"
      ]
     },
     "metadata": {},
     "output_type": "display_data"
    },
    {
     "data": {
      "text/html": [
       "<pre>+---------+--------------+-------------------+-----------------------+-------------+</pre>"
      ],
      "text/plain": [
       "+---------+--------------+-------------------+-----------------------+-------------+"
      ]
     },
     "metadata": {},
     "output_type": "display_data"
    },
    {
     "data": {
      "text/html": [
       "<pre>| Initial | 82us         | 2.77711           | 1.1903                |             |</pre>"
      ],
      "text/plain": [
       "| Initial | 82us         | 2.77711           | 1.1903                |             |"
      ]
     },
     "metadata": {},
     "output_type": "display_data"
    },
    {
     "data": {
      "text/html": [
       "<pre>+---------+--------------+-------------------+-----------------------+-------------+</pre>"
      ],
      "text/plain": [
       "+---------+--------------+-------------------+-----------------------+-------------+"
      ]
     },
     "metadata": {},
     "output_type": "display_data"
    },
    {
     "data": {
      "text/html": [
       "<pre>| 1       | 680.229ms    | 1.35443           | 1.05173               | 0.0411184   |</pre>"
      ],
      "text/plain": [
       "| 1       | 680.229ms    | 1.35443           | 1.05173               | 0.0411184   |"
      ]
     },
     "metadata": {},
     "output_type": "display_data"
    },
    {
     "data": {
      "text/html": [
       "<pre>| 2       | 1.24s        | 0.865796          | 0.831567              | 0.0411184   |</pre>"
      ],
      "text/plain": [
       "| 2       | 1.24s        | 0.865796          | 0.831567              | 0.0411184   |"
      ]
     },
     "metadata": {},
     "output_type": "display_data"
    },
    {
     "data": {
      "text/html": [
       "<pre>| 3       | 1.80s        | 0.759438          | 0.769795              | 0.0411184   |</pre>"
      ],
      "text/plain": [
       "| 3       | 1.80s        | 0.759438          | 0.769795              | 0.0411184   |"
      ]
     },
     "metadata": {},
     "output_type": "display_data"
    },
    {
     "data": {
      "text/html": [
       "<pre>| 4       | 2.34s        | 0.706076          | 0.737191              | 0.0411184   |</pre>"
      ],
      "text/plain": [
       "| 4       | 2.34s        | 0.706076          | 0.737191              | 0.0411184   |"
      ]
     },
     "metadata": {},
     "output_type": "display_data"
    },
    {
     "data": {
      "text/html": [
       "<pre>| 5       | 2.89s        | 0.673749          | 0.715786              | 0.0411184   |</pre>"
      ],
      "text/plain": [
       "| 5       | 2.89s        | 0.673749          | 0.715786              | 0.0411184   |"
      ]
     },
     "metadata": {},
     "output_type": "display_data"
    },
    {
     "data": {
      "text/html": [
       "<pre>| 10      | 5.49s        | 0.594523          | 0.661343              | 0.0411184   |</pre>"
      ],
      "text/plain": [
       "| 10      | 5.49s        | 0.594523          | 0.661343              | 0.0411184   |"
      ]
     },
     "metadata": {},
     "output_type": "display_data"
    },
    {
     "data": {
      "text/html": [
       "<pre>| 20      | 10.46s       | 0.527829          | 0.61232               | 0.0411184   |</pre>"
      ],
      "text/plain": [
       "| 20      | 10.46s       | 0.527829          | 0.61232               | 0.0411184   |"
      ]
     },
     "metadata": {},
     "output_type": "display_data"
    },
    {
     "data": {
      "text/html": [
       "<pre>| 25      | 12.95s       | 0.504069          | 0.595855              | 0.0411184   |</pre>"
      ],
      "text/plain": [
       "| 25      | 12.95s       | 0.504069          | 0.595855              | 0.0411184   |"
      ]
     },
     "metadata": {},
     "output_type": "display_data"
    },
    {
     "data": {
      "text/html": [
       "<pre>+---------+--------------+-------------------+-----------------------+-------------+</pre>"
      ],
      "text/plain": [
       "+---------+--------------+-------------------+-----------------------+-------------+"
      ]
     },
     "metadata": {},
     "output_type": "display_data"
    },
    {
     "data": {
      "text/html": [
       "<pre>Optimization Complete: Maximum number of passes through the data reached.</pre>"
      ],
      "text/plain": [
       "Optimization Complete: Maximum number of passes through the data reached."
      ]
     },
     "metadata": {},
     "output_type": "display_data"
    },
    {
     "data": {
      "text/html": [
       "<pre>Computing final objective value and training RMSE.</pre>"
      ],
      "text/plain": [
       "Computing final objective value and training RMSE."
      ]
     },
     "metadata": {},
     "output_type": "display_data"
    },
    {
     "data": {
      "text/html": [
       "<pre>       Final objective value: 0.480797</pre>"
      ],
      "text/plain": [
       "       Final objective value: 0.480797"
      ]
     },
     "metadata": {},
     "output_type": "display_data"
    },
    {
     "data": {
      "text/html": [
       "<pre>       Final training RMSE: 0.573993</pre>"
      ],
      "text/plain": [
       "       Final training RMSE: 0.573993"
      ]
     },
     "metadata": {},
     "output_type": "display_data"
    },
    {
     "name": "stdout",
     "output_type": "stream",
     "text": [
      "⬛⬛⬛⬛⬛⬛⬛---------------\n",
      "Train item_similarity model 1\n"
     ]
    },
    {
     "data": {
      "text/html": [
       "<pre>Warning: Ignoring columns направление 1, направление 2, weekend;</pre>"
      ],
      "text/plain": [
       "Warning: Ignoring columns направление 1, направление 2, weekend;"
      ]
     },
     "metadata": {},
     "output_type": "display_data"
    },
    {
     "data": {
      "text/html": [
       "<pre>    To use these columns in scoring predictions, use a model that allows the use of additional features.</pre>"
      ],
      "text/plain": [
       "    To use these columns in scoring predictions, use a model that allows the use of additional features."
      ]
     },
     "metadata": {},
     "output_type": "display_data"
    },
    {
     "data": {
      "text/html": [
       "<pre>Preparing data set.</pre>"
      ],
      "text/plain": [
       "Preparing data set."
      ]
     },
     "metadata": {},
     "output_type": "display_data"
    },
    {
     "data": {
      "text/html": [
       "<pre>    Data has 600249 observations with 50906 users and 24535 items.</pre>"
      ],
      "text/plain": [
       "    Data has 600249 observations with 50906 users and 24535 items."
      ]
     },
     "metadata": {},
     "output_type": "display_data"
    },
    {
     "data": {
      "text/html": [
       "<pre>    Data prepared in: 0.525575s</pre>"
      ],
      "text/plain": [
       "    Data prepared in: 0.525575s"
      ]
     },
     "metadata": {},
     "output_type": "display_data"
    },
    {
     "data": {
      "text/html": [
       "<pre>Training model from provided data.</pre>"
      ],
      "text/plain": [
       "Training model from provided data."
      ]
     },
     "metadata": {},
     "output_type": "display_data"
    },
    {
     "data": {
      "text/html": [
       "<pre>Gathering per-item and per-user statistics.</pre>"
      ],
      "text/plain": [
       "Gathering per-item and per-user statistics."
      ]
     },
     "metadata": {},
     "output_type": "display_data"
    },
    {
     "data": {
      "text/html": [
       "<pre>+--------------------------------+------------+</pre>"
      ],
      "text/plain": [
       "+--------------------------------+------------+"
      ]
     },
     "metadata": {},
     "output_type": "display_data"
    },
    {
     "data": {
      "text/html": [
       "<pre>| Elapsed Time (Item Statistics) | % Complete |</pre>"
      ],
      "text/plain": [
       "| Elapsed Time (Item Statistics) | % Complete |"
      ]
     },
     "metadata": {},
     "output_type": "display_data"
    },
    {
     "data": {
      "text/html": [
       "<pre>+--------------------------------+------------+</pre>"
      ],
      "text/plain": [
       "+--------------------------------+------------+"
      ]
     },
     "metadata": {},
     "output_type": "display_data"
    },
    {
     "data": {
      "text/html": [
       "<pre>| 806us                          | 1.75       |</pre>"
      ],
      "text/plain": [
       "| 806us                          | 1.75       |"
      ]
     },
     "metadata": {},
     "output_type": "display_data"
    },
    {
     "data": {
      "text/html": [
       "<pre>| 3.399ms                        | 100        |</pre>"
      ],
      "text/plain": [
       "| 3.399ms                        | 100        |"
      ]
     },
     "metadata": {},
     "output_type": "display_data"
    },
    {
     "data": {
      "text/html": [
       "<pre>+--------------------------------+------------+</pre>"
      ],
      "text/plain": [
       "+--------------------------------+------------+"
      ]
     },
     "metadata": {},
     "output_type": "display_data"
    },
    {
     "data": {
      "text/html": [
       "<pre>Setting up lookup tables.</pre>"
      ],
      "text/plain": [
       "Setting up lookup tables."
      ]
     },
     "metadata": {},
     "output_type": "display_data"
    },
    {
     "data": {
      "text/html": [
       "<pre>Processing data in one pass using dense lookup tables.</pre>"
      ],
      "text/plain": [
       "Processing data in one pass using dense lookup tables."
      ]
     },
     "metadata": {},
     "output_type": "display_data"
    },
    {
     "data": {
      "text/html": [
       "<pre>+-------------------------------------+------------------+-----------------+</pre>"
      ],
      "text/plain": [
       "+-------------------------------------+------------------+-----------------+"
      ]
     },
     "metadata": {},
     "output_type": "display_data"
    },
    {
     "data": {
      "text/html": [
       "<pre>| Elapsed Time (Constructing Lookups) | Total % Complete | Items Processed |</pre>"
      ],
      "text/plain": [
       "| Elapsed Time (Constructing Lookups) | Total % Complete | Items Processed |"
      ]
     },
     "metadata": {},
     "output_type": "display_data"
    },
    {
     "data": {
      "text/html": [
       "<pre>+-------------------------------------+------------------+-----------------+</pre>"
      ],
      "text/plain": [
       "+-------------------------------------+------------------+-----------------+"
      ]
     },
     "metadata": {},
     "output_type": "display_data"
    },
    {
     "data": {
      "text/html": [
       "<pre>| 402.332ms                           | 0                | 0               |</pre>"
      ],
      "text/plain": [
       "| 402.332ms                           | 0                | 0               |"
      ]
     },
     "metadata": {},
     "output_type": "display_data"
    },
    {
     "data": {
      "text/html": [
       "<pre>| 863.487ms                           | 100              | 24535           |</pre>"
      ],
      "text/plain": [
       "| 863.487ms                           | 100              | 24535           |"
      ]
     },
     "metadata": {},
     "output_type": "display_data"
    },
    {
     "data": {
      "text/html": [
       "<pre>+-------------------------------------+------------------+-----------------+</pre>"
      ],
      "text/plain": [
       "+-------------------------------------+------------------+-----------------+"
      ]
     },
     "metadata": {},
     "output_type": "display_data"
    },
    {
     "data": {
      "text/html": [
       "<pre>Finalizing lookup tables.</pre>"
      ],
      "text/plain": [
       "Finalizing lookup tables."
      ]
     },
     "metadata": {},
     "output_type": "display_data"
    },
    {
     "data": {
      "text/html": [
       "<pre>Generating candidate set for working with new users.</pre>"
      ],
      "text/plain": [
       "Generating candidate set for working with new users."
      ]
     },
     "metadata": {},
     "output_type": "display_data"
    },
    {
     "name": "stdout",
     "output_type": "stream",
     "text": [
      "⬛⬛⬛⬛⬛⬛⬛---------------\n",
      "Train item_similarity model 2"
     ]
    },
    {
     "data": {
      "text/html": [
       "<pre>Finished training in 0.887295s</pre>"
      ],
      "text/plain": [
       "Finished training in 0.887295s"
      ]
     },
     "metadata": {},
     "output_type": "display_data"
    },
    {
     "name": "stdout",
     "output_type": "stream",
     "text": [
      "\n"
     ]
    },
    {
     "data": {
      "text/html": [
       "<pre>Warning: Ignoring columns log_visits, направление 1, направление 2, weekend;</pre>"
      ],
      "text/plain": [
       "Warning: Ignoring columns log_visits, направление 1, направление 2, weekend;"
      ]
     },
     "metadata": {},
     "output_type": "display_data"
    },
    {
     "data": {
      "text/html": [
       "<pre> To use one of these as a rating column, specify the column name to be used as target</pre>"
      ],
      "text/plain": [
       " To use one of these as a rating column, specify the column name to be used as target"
      ]
     },
     "metadata": {},
     "output_type": "display_data"
    },
    {
     "data": {
      "text/html": [
       "<pre>    and use a method that allows the use of a target.</pre>"
      ],
      "text/plain": [
       "    and use a method that allows the use of a target."
      ]
     },
     "metadata": {},
     "output_type": "display_data"
    },
    {
     "data": {
      "text/html": [
       "<pre>Preparing data set.</pre>"
      ],
      "text/plain": [
       "Preparing data set."
      ]
     },
     "metadata": {},
     "output_type": "display_data"
    },
    {
     "data": {
      "text/html": [
       "<pre>    Data has 600249 observations with 50906 users and 24535 items.</pre>"
      ],
      "text/plain": [
       "    Data has 600249 observations with 50906 users and 24535 items."
      ]
     },
     "metadata": {},
     "output_type": "display_data"
    },
    {
     "data": {
      "text/html": [
       "<pre>    Data prepared in: 0.48523s</pre>"
      ],
      "text/plain": [
       "    Data prepared in: 0.48523s"
      ]
     },
     "metadata": {},
     "output_type": "display_data"
    },
    {
     "data": {
      "text/html": [
       "<pre>Training model from provided data.</pre>"
      ],
      "text/plain": [
       "Training model from provided data."
      ]
     },
     "metadata": {},
     "output_type": "display_data"
    },
    {
     "data": {
      "text/html": [
       "<pre>Gathering per-item and per-user statistics.</pre>"
      ],
      "text/plain": [
       "Gathering per-item and per-user statistics."
      ]
     },
     "metadata": {},
     "output_type": "display_data"
    },
    {
     "data": {
      "text/html": [
       "<pre>+--------------------------------+------------+</pre>"
      ],
      "text/plain": [
       "+--------------------------------+------------+"
      ]
     },
     "metadata": {},
     "output_type": "display_data"
    },
    {
     "data": {
      "text/html": [
       "<pre>| Elapsed Time (Item Statistics) | % Complete |</pre>"
      ],
      "text/plain": [
       "| Elapsed Time (Item Statistics) | % Complete |"
      ]
     },
     "metadata": {},
     "output_type": "display_data"
    },
    {
     "data": {
      "text/html": [
       "<pre>+--------------------------------+------------+</pre>"
      ],
      "text/plain": [
       "+--------------------------------+------------+"
      ]
     },
     "metadata": {},
     "output_type": "display_data"
    },
    {
     "data": {
      "text/html": [
       "<pre>| 672us                          | 1.75       |</pre>"
      ],
      "text/plain": [
       "| 672us                          | 1.75       |"
      ]
     },
     "metadata": {},
     "output_type": "display_data"
    },
    {
     "data": {
      "text/html": [
       "<pre>| 3.976ms                        | 100        |</pre>"
      ],
      "text/plain": [
       "| 3.976ms                        | 100        |"
      ]
     },
     "metadata": {},
     "output_type": "display_data"
    },
    {
     "data": {
      "text/html": [
       "<pre>+--------------------------------+------------+</pre>"
      ],
      "text/plain": [
       "+--------------------------------+------------+"
      ]
     },
     "metadata": {},
     "output_type": "display_data"
    },
    {
     "data": {
      "text/html": [
       "<pre>Setting up lookup tables.</pre>"
      ],
      "text/plain": [
       "Setting up lookup tables."
      ]
     },
     "metadata": {},
     "output_type": "display_data"
    },
    {
     "data": {
      "text/html": [
       "<pre>Processing data in one pass using dense lookup tables.</pre>"
      ],
      "text/plain": [
       "Processing data in one pass using dense lookup tables."
      ]
     },
     "metadata": {},
     "output_type": "display_data"
    },
    {
     "data": {
      "text/html": [
       "<pre>+-------------------------------------+------------------+-----------------+</pre>"
      ],
      "text/plain": [
       "+-------------------------------------+------------------+-----------------+"
      ]
     },
     "metadata": {},
     "output_type": "display_data"
    },
    {
     "data": {
      "text/html": [
       "<pre>| Elapsed Time (Constructing Lookups) | Total % Complete | Items Processed |</pre>"
      ],
      "text/plain": [
       "| Elapsed Time (Constructing Lookups) | Total % Complete | Items Processed |"
      ]
     },
     "metadata": {},
     "output_type": "display_data"
    },
    {
     "data": {
      "text/html": [
       "<pre>+-------------------------------------+------------------+-----------------+</pre>"
      ],
      "text/plain": [
       "+-------------------------------------+------------------+-----------------+"
      ]
     },
     "metadata": {},
     "output_type": "display_data"
    },
    {
     "data": {
      "text/html": [
       "<pre>| 408.93ms                            | 0                | 0               |</pre>"
      ],
      "text/plain": [
       "| 408.93ms                            | 0                | 0               |"
      ]
     },
     "metadata": {},
     "output_type": "display_data"
    },
    {
     "data": {
      "text/html": [
       "<pre>| 923.399ms                           | 100              | 24535           |</pre>"
      ],
      "text/plain": [
       "| 923.399ms                           | 100              | 24535           |"
      ]
     },
     "metadata": {},
     "output_type": "display_data"
    },
    {
     "data": {
      "text/html": [
       "<pre>+-------------------------------------+------------------+-----------------+</pre>"
      ],
      "text/plain": [
       "+-------------------------------------+------------------+-----------------+"
      ]
     },
     "metadata": {},
     "output_type": "display_data"
    },
    {
     "data": {
      "text/html": [
       "<pre>Finalizing lookup tables.</pre>"
      ],
      "text/plain": [
       "Finalizing lookup tables."
      ]
     },
     "metadata": {},
     "output_type": "display_data"
    },
    {
     "data": {
      "text/html": [
       "<pre>Generating candidate set for working with new users.</pre>"
      ],
      "text/plain": [
       "Generating candidate set for working with new users."
      ]
     },
     "metadata": {},
     "output_type": "display_data"
    },
    {
     "name": "stdout",
     "output_type": "stream",
     "text": [
      "⬛⬛⬛⬛⬛⬛⬛---------------\n",
      "Train popularity_recommender model"
     ]
    },
    {
     "data": {
      "text/html": [
       "<pre>Finished training in 0.951201s</pre>"
      ],
      "text/plain": [
       "Finished training in 0.951201s"
      ]
     },
     "metadata": {},
     "output_type": "display_data"
    },
    {
     "name": "stdout",
     "output_type": "stream",
     "text": [
      "\n"
     ]
    },
    {
     "data": {
      "text/html": [
       "<pre>Warning: Ignoring columns направление 1, направление 2, weekend;</pre>"
      ],
      "text/plain": [
       "Warning: Ignoring columns направление 1, направление 2, weekend;"
      ]
     },
     "metadata": {},
     "output_type": "display_data"
    },
    {
     "data": {
      "text/html": [
       "<pre>    To use these columns in scoring predictions, use a model that allows the use of additional features.</pre>"
      ],
      "text/plain": [
       "    To use these columns in scoring predictions, use a model that allows the use of additional features."
      ]
     },
     "metadata": {},
     "output_type": "display_data"
    },
    {
     "data": {
      "text/html": [
       "<pre>Preparing data set.</pre>"
      ],
      "text/plain": [
       "Preparing data set."
      ]
     },
     "metadata": {},
     "output_type": "display_data"
    },
    {
     "data": {
      "text/html": [
       "<pre>    Data has 600249 observations with 50906 users and 24535 items.</pre>"
      ],
      "text/plain": [
       "    Data has 600249 observations with 50906 users and 24535 items."
      ]
     },
     "metadata": {},
     "output_type": "display_data"
    },
    {
     "data": {
      "text/html": [
       "<pre>    Data prepared in: 0.524392s</pre>"
      ],
      "text/plain": [
       "    Data prepared in: 0.524392s"
      ]
     },
     "metadata": {},
     "output_type": "display_data"
    },
    {
     "data": {
      "text/html": [
       "<pre>600249 observations to process; with 24535 unique items.</pre>"
      ],
      "text/plain": [
       "600249 observations to process; with 24535 unique items."
      ]
     },
     "metadata": {},
     "output_type": "display_data"
    },
    {
     "name": "stdout",
     "output_type": "stream",
     "text": [
      "⬛⬛⬛⬛⬛⬛⬛---------------\n",
      "Train factorization_recommender model\n"
     ]
    },
    {
     "data": {
      "text/html": [
       "<pre>Preparing data set.</pre>"
      ],
      "text/plain": [
       "Preparing data set."
      ]
     },
     "metadata": {},
     "output_type": "display_data"
    },
    {
     "data": {
      "text/html": [
       "<pre>    Data has 600249 observations with 50906 users and 24535 items.</pre>"
      ],
      "text/plain": [
       "    Data has 600249 observations with 50906 users and 24535 items."
      ]
     },
     "metadata": {},
     "output_type": "display_data"
    },
    {
     "data": {
      "text/html": [
       "<pre>    Data prepared in: 0.667044s</pre>"
      ],
      "text/plain": [
       "    Data prepared in: 0.667044s"
      ]
     },
     "metadata": {},
     "output_type": "display_data"
    },
    {
     "data": {
      "text/html": [
       "<pre>Training factorization_recommender for recommendations.</pre>"
      ],
      "text/plain": [
       "Training factorization_recommender for recommendations."
      ]
     },
     "metadata": {},
     "output_type": "display_data"
    },
    {
     "data": {
      "text/html": [
       "<pre>+--------------------------------+--------------------------------------------------+----------+</pre>"
      ],
      "text/plain": [
       "+--------------------------------+--------------------------------------------------+----------+"
      ]
     },
     "metadata": {},
     "output_type": "display_data"
    },
    {
     "data": {
      "text/html": [
       "<pre>| Parameter                      | Description                                      | Value    |</pre>"
      ],
      "text/plain": [
       "| Parameter                      | Description                                      | Value    |"
      ]
     },
     "metadata": {},
     "output_type": "display_data"
    },
    {
     "data": {
      "text/html": [
       "<pre>+--------------------------------+--------------------------------------------------+----------+</pre>"
      ],
      "text/plain": [
       "+--------------------------------+--------------------------------------------------+----------+"
      ]
     },
     "metadata": {},
     "output_type": "display_data"
    },
    {
     "data": {
      "text/html": [
       "<pre>| num_factors                    | Factor Dimension                                 | 8        |</pre>"
      ],
      "text/plain": [
       "| num_factors                    | Factor Dimension                                 | 8        |"
      ]
     },
     "metadata": {},
     "output_type": "display_data"
    },
    {
     "data": {
      "text/html": [
       "<pre>| regularization                 | L2 Regularization on Factors                     | 1e-08    |</pre>"
      ],
      "text/plain": [
       "| regularization                 | L2 Regularization on Factors                     | 1e-08    |"
      ]
     },
     "metadata": {},
     "output_type": "display_data"
    },
    {
     "data": {
      "text/html": [
       "<pre>| solver                         | Solver used for training                         | adagrad  |</pre>"
      ],
      "text/plain": [
       "| solver                         | Solver used for training                         | adagrad  |"
      ]
     },
     "metadata": {},
     "output_type": "display_data"
    },
    {
     "data": {
      "text/html": [
       "<pre>| linear_regularization          | L2 Regularization on Linear Coefficients         | 1e-10    |</pre>"
      ],
      "text/plain": [
       "| linear_regularization          | L2 Regularization on Linear Coefficients         | 1e-10    |"
      ]
     },
     "metadata": {},
     "output_type": "display_data"
    },
    {
     "data": {
      "text/html": [
       "<pre>| side_data_factorization        | Assign Factors for Side Data                     | True     |</pre>"
      ],
      "text/plain": [
       "| side_data_factorization        | Assign Factors for Side Data                     | True     |"
      ]
     },
     "metadata": {},
     "output_type": "display_data"
    },
    {
     "data": {
      "text/html": [
       "<pre>| max_iterations                 | Maximum Number of Iterations                     | 50       |</pre>"
      ],
      "text/plain": [
       "| max_iterations                 | Maximum Number of Iterations                     | 50       |"
      ]
     },
     "metadata": {},
     "output_type": "display_data"
    },
    {
     "data": {
      "text/html": [
       "<pre>+--------------------------------+--------------------------------------------------+----------+</pre>"
      ],
      "text/plain": [
       "+--------------------------------+--------------------------------------------------+----------+"
      ]
     },
     "metadata": {},
     "output_type": "display_data"
    },
    {
     "data": {
      "text/html": [
       "<pre>  Optimizing model using SGD; tuning step size.</pre>"
      ],
      "text/plain": [
       "  Optimizing model using SGD; tuning step size."
      ]
     },
     "metadata": {},
     "output_type": "display_data"
    },
    {
     "data": {
      "text/html": [
       "<pre>  Using 75031 / 600249 points for tuning the step size.</pre>"
      ],
      "text/plain": [
       "  Using 75031 / 600249 points for tuning the step size."
      ]
     },
     "metadata": {},
     "output_type": "display_data"
    },
    {
     "data": {
      "text/html": [
       "<pre>+---------+-------------------+------------------------------------------+</pre>"
      ],
      "text/plain": [
       "+---------+-------------------+------------------------------------------+"
      ]
     },
     "metadata": {},
     "output_type": "display_data"
    },
    {
     "data": {
      "text/html": [
       "<pre>| Attempt | Initial Step Size | Estimated Objective Value                |</pre>"
      ],
      "text/plain": [
       "| Attempt | Initial Step Size | Estimated Objective Value                |"
      ]
     },
     "metadata": {},
     "output_type": "display_data"
    },
    {
     "data": {
      "text/html": [
       "<pre>+---------+-------------------+------------------------------------------+</pre>"
      ],
      "text/plain": [
       "+---------+-------------------+------------------------------------------+"
      ]
     },
     "metadata": {},
     "output_type": "display_data"
    },
    {
     "data": {
      "text/html": [
       "<pre>| 0       | 2.63158           | Not Viable                               |</pre>"
      ],
      "text/plain": [
       "| 0       | 2.63158           | Not Viable                               |"
      ]
     },
     "metadata": {},
     "output_type": "display_data"
    },
    {
     "data": {
      "text/html": [
       "<pre>| 1       | 0.657895          | Not Viable                               |</pre>"
      ],
      "text/plain": [
       "| 1       | 0.657895          | Not Viable                               |"
      ]
     },
     "metadata": {},
     "output_type": "display_data"
    },
    {
     "data": {
      "text/html": [
       "<pre>| 2       | 0.164474          | Not Viable                               |</pre>"
      ],
      "text/plain": [
       "| 2       | 0.164474          | Not Viable                               |"
      ]
     },
     "metadata": {},
     "output_type": "display_data"
    },
    {
     "data": {
      "text/html": [
       "<pre>| 3       | 0.0411184         | 0.291593                                 |</pre>"
      ],
      "text/plain": [
       "| 3       | 0.0411184         | 0.291593                                 |"
      ]
     },
     "metadata": {},
     "output_type": "display_data"
    },
    {
     "data": {
      "text/html": [
       "<pre>| 4       | 0.0205592         | 0.555126                                 |</pre>"
      ],
      "text/plain": [
       "| 4       | 0.0205592         | 0.555126                                 |"
      ]
     },
     "metadata": {},
     "output_type": "display_data"
    },
    {
     "data": {
      "text/html": [
       "<pre>| 5       | 0.0102796         | 0.91922                                  |</pre>"
      ],
      "text/plain": [
       "| 5       | 0.0102796         | 0.91922                                  |"
      ]
     },
     "metadata": {},
     "output_type": "display_data"
    },
    {
     "data": {
      "text/html": [
       "<pre>+---------+-------------------+------------------------------------------+</pre>"
      ],
      "text/plain": [
       "+---------+-------------------+------------------------------------------+"
      ]
     },
     "metadata": {},
     "output_type": "display_data"
    },
    {
     "data": {
      "text/html": [
       "<pre>| Final   | 0.0411184         | 0.291593                                 |</pre>"
      ],
      "text/plain": [
       "| Final   | 0.0411184         | 0.291593                                 |"
      ]
     },
     "metadata": {},
     "output_type": "display_data"
    },
    {
     "data": {
      "text/html": [
       "<pre>+---------+-------------------+------------------------------------------+</pre>"
      ],
      "text/plain": [
       "+---------+-------------------+------------------------------------------+"
      ]
     },
     "metadata": {},
     "output_type": "display_data"
    },
    {
     "data": {
      "text/html": [
       "<pre>Starting Optimization.</pre>"
      ],
      "text/plain": [
       "Starting Optimization."
      ]
     },
     "metadata": {},
     "output_type": "display_data"
    },
    {
     "data": {
      "text/html": [
       "<pre>+---------+--------------+-------------------+-----------------------+-------------+</pre>"
      ],
      "text/plain": [
       "+---------+--------------+-------------------+-----------------------+-------------+"
      ]
     },
     "metadata": {},
     "output_type": "display_data"
    },
    {
     "data": {
      "text/html": [
       "<pre>| Iter.   | Elapsed Time | Approx. Objective | Approx. Training RMSE | Step Size   |</pre>"
      ],
      "text/plain": [
       "| Iter.   | Elapsed Time | Approx. Objective | Approx. Training RMSE | Step Size   |"
      ]
     },
     "metadata": {},
     "output_type": "display_data"
    },
    {
     "data": {
      "text/html": [
       "<pre>+---------+--------------+-------------------+-----------------------+-------------+</pre>"
      ],
      "text/plain": [
       "+---------+--------------+-------------------+-----------------------+-------------+"
      ]
     },
     "metadata": {},
     "output_type": "display_data"
    },
    {
     "data": {
      "text/html": [
       "<pre>| Initial | 48us         | 1.4168            | 1.19029               |             |</pre>"
      ],
      "text/plain": [
       "| Initial | 48us         | 1.4168            | 1.19029               |             |"
      ]
     },
     "metadata": {},
     "output_type": "display_data"
    },
    {
     "data": {
      "text/html": [
       "<pre>+---------+--------------+-------------------+-----------------------+-------------+</pre>"
      ],
      "text/plain": [
       "+---------+--------------+-------------------+-----------------------+-------------+"
      ]
     },
     "metadata": {},
     "output_type": "display_data"
    },
    {
     "data": {
      "text/html": [
       "<pre>| 1       | 187.573ms    | 0.978454          | 0.989147              | 0.0411184   |</pre>"
      ],
      "text/plain": [
       "| 1       | 187.573ms    | 0.978454          | 0.989147              | 0.0411184   |"
      ]
     },
     "metadata": {},
     "output_type": "display_data"
    },
    {
     "data": {
      "text/html": [
       "<pre>| 2       | 377.223ms    | 0.759402          | 0.871409              | 0.0411184   |</pre>"
      ],
      "text/plain": [
       "| 2       | 377.223ms    | 0.759402          | 0.871409              | 0.0411184   |"
      ]
     },
     "metadata": {},
     "output_type": "display_data"
    },
    {
     "data": {
      "text/html": [
       "<pre>| 3       | 556.532ms    | 0.695778          | 0.8341                | 0.0411184   |</pre>"
      ],
      "text/plain": [
       "| 3       | 556.532ms    | 0.695778          | 0.8341                | 0.0411184   |"
      ]
     },
     "metadata": {},
     "output_type": "display_data"
    },
    {
     "data": {
      "text/html": [
       "<pre>| 4       | 733.447ms    | 0.660099          | 0.812429              | 0.0411184   |</pre>"
      ],
      "text/plain": [
       "| 4       | 733.447ms    | 0.660099          | 0.812429              | 0.0411184   |"
      ]
     },
     "metadata": {},
     "output_type": "display_data"
    },
    {
     "data": {
      "text/html": [
       "<pre>| 5       | 911.507ms    | 0.634921          | 0.79678               | 0.0411184   |</pre>"
      ],
      "text/plain": [
       "| 5       | 911.507ms    | 0.634921          | 0.79678               | 0.0411184   |"
      ]
     },
     "metadata": {},
     "output_type": "display_data"
    },
    {
     "data": {
      "text/html": [
       "<pre>| 10      | 1.77s        | 0.569631          | 0.75469               | 0.0411184   |</pre>"
      ],
      "text/plain": [
       "| 10      | 1.77s        | 0.569631          | 0.75469               | 0.0411184   |"
      ]
     },
     "metadata": {},
     "output_type": "display_data"
    },
    {
     "data": {
      "text/html": [
       "<pre>| 25      | 4.37s        | 0.50492           | 0.710512              | 0.0411184   |</pre>"
      ],
      "text/plain": [
       "| 25      | 4.37s        | 0.50492           | 0.710512              | 0.0411184   |"
      ]
     },
     "metadata": {},
     "output_type": "display_data"
    },
    {
     "data": {
      "text/html": [
       "<pre>| 50      | 8.68s        | 0.468012          | 0.684036              | 0.0411184   |</pre>"
      ],
      "text/plain": [
       "| 50      | 8.68s        | 0.468012          | 0.684036              | 0.0411184   |"
      ]
     },
     "metadata": {},
     "output_type": "display_data"
    },
    {
     "data": {
      "text/html": [
       "<pre>+---------+--------------+-------------------+-----------------------+-------------+</pre>"
      ],
      "text/plain": [
       "+---------+--------------+-------------------+-----------------------+-------------+"
      ]
     },
     "metadata": {},
     "output_type": "display_data"
    },
    {
     "data": {
      "text/html": [
       "<pre>Optimization Complete: Maximum number of passes through the data reached.</pre>"
      ],
      "text/plain": [
       "Optimization Complete: Maximum number of passes through the data reached."
      ]
     },
     "metadata": {},
     "output_type": "display_data"
    },
    {
     "data": {
      "text/html": [
       "<pre>Computing final objective value and training RMSE.</pre>"
      ],
      "text/plain": [
       "Computing final objective value and training RMSE."
      ]
     },
     "metadata": {},
     "output_type": "display_data"
    },
    {
     "data": {
      "text/html": [
       "<pre>       Final objective value: 0.456077</pre>"
      ],
      "text/plain": [
       "       Final objective value: 0.456077"
      ]
     },
     "metadata": {},
     "output_type": "display_data"
    },
    {
     "data": {
      "text/html": [
       "<pre>       Final training RMSE: 0.675255</pre>"
      ],
      "text/plain": [
       "       Final training RMSE: 0.675255"
      ]
     },
     "metadata": {},
     "output_type": "display_data"
    },
    {
     "name": "stdout",
     "output_type": "stream",
     "text": [
      "⬛⬛⬛⬛⬛⬛⬛---------------\n",
      "Train ranking_factorization_recommender model\n"
     ]
    },
    {
     "data": {
      "text/html": [
       "<pre>Preparing data set.</pre>"
      ],
      "text/plain": [
       "Preparing data set."
      ]
     },
     "metadata": {},
     "output_type": "display_data"
    },
    {
     "data": {
      "text/html": [
       "<pre>    Data has 600249 observations with 50906 users and 24535 items.</pre>"
      ],
      "text/plain": [
       "    Data has 600249 observations with 50906 users and 24535 items."
      ]
     },
     "metadata": {},
     "output_type": "display_data"
    },
    {
     "data": {
      "text/html": [
       "<pre>    Data prepared in: 0.732407s</pre>"
      ],
      "text/plain": [
       "    Data prepared in: 0.732407s"
      ]
     },
     "metadata": {},
     "output_type": "display_data"
    },
    {
     "data": {
      "text/html": [
       "<pre>Training ranking_factorization_recommender for recommendations.</pre>"
      ],
      "text/plain": [
       "Training ranking_factorization_recommender for recommendations."
      ]
     },
     "metadata": {},
     "output_type": "display_data"
    },
    {
     "data": {
      "text/html": [
       "<pre>+--------------------------------+--------------------------------------------------+----------+</pre>"
      ],
      "text/plain": [
       "+--------------------------------+--------------------------------------------------+----------+"
      ]
     },
     "metadata": {},
     "output_type": "display_data"
    },
    {
     "data": {
      "text/html": [
       "<pre>| Parameter                      | Description                                      | Value    |</pre>"
      ],
      "text/plain": [
       "| Parameter                      | Description                                      | Value    |"
      ]
     },
     "metadata": {},
     "output_type": "display_data"
    },
    {
     "data": {
      "text/html": [
       "<pre>+--------------------------------+--------------------------------------------------+----------+</pre>"
      ],
      "text/plain": [
       "+--------------------------------+--------------------------------------------------+----------+"
      ]
     },
     "metadata": {},
     "output_type": "display_data"
    },
    {
     "data": {
      "text/html": [
       "<pre>| num_factors                    | Factor Dimension                                 | 32       |</pre>"
      ],
      "text/plain": [
       "| num_factors                    | Factor Dimension                                 | 32       |"
      ]
     },
     "metadata": {},
     "output_type": "display_data"
    },
    {
     "data": {
      "text/html": [
       "<pre>| regularization                 | L2 Regularization on Factors                     | 1e-09    |</pre>"
      ],
      "text/plain": [
       "| regularization                 | L2 Regularization on Factors                     | 1e-09    |"
      ]
     },
     "metadata": {},
     "output_type": "display_data"
    },
    {
     "data": {
      "text/html": [
       "<pre>| solver                         | Solver used for training                         | adagrad  |</pre>"
      ],
      "text/plain": [
       "| solver                         | Solver used for training                         | adagrad  |"
      ]
     },
     "metadata": {},
     "output_type": "display_data"
    },
    {
     "data": {
      "text/html": [
       "<pre>| linear_regularization          | L2 Regularization on Linear Coefficients         | 1e-09    |</pre>"
      ],
      "text/plain": [
       "| linear_regularization          | L2 Regularization on Linear Coefficients         | 1e-09    |"
      ]
     },
     "metadata": {},
     "output_type": "display_data"
    },
    {
     "data": {
      "text/html": [
       "<pre>| binary_target                  | Assume Binary Targets                            | True     |</pre>"
      ],
      "text/plain": [
       "| binary_target                  | Assume Binary Targets                            | True     |"
      ]
     },
     "metadata": {},
     "output_type": "display_data"
    },
    {
     "data": {
      "text/html": [
       "<pre>| side_data_factorization        | Assign Factors for Side Data                     | True     |</pre>"
      ],
      "text/plain": [
       "| side_data_factorization        | Assign Factors for Side Data                     | True     |"
      ]
     },
     "metadata": {},
     "output_type": "display_data"
    },
    {
     "data": {
      "text/html": [
       "<pre>| max_iterations                 | Maximum Number of Iterations                     | 25       |</pre>"
      ],
      "text/plain": [
       "| max_iterations                 | Maximum Number of Iterations                     | 25       |"
      ]
     },
     "metadata": {},
     "output_type": "display_data"
    },
    {
     "data": {
      "text/html": [
       "<pre>+--------------------------------+--------------------------------------------------+----------+</pre>"
      ],
      "text/plain": [
       "+--------------------------------+--------------------------------------------------+----------+"
      ]
     },
     "metadata": {},
     "output_type": "display_data"
    },
    {
     "data": {
      "text/html": [
       "<pre>  Optimizing model using SGD; tuning step size.</pre>"
      ],
      "text/plain": [
       "  Optimizing model using SGD; tuning step size."
      ]
     },
     "metadata": {},
     "output_type": "display_data"
    },
    {
     "data": {
      "text/html": [
       "<pre>  Using 75031 / 600249 points for tuning the step size.</pre>"
      ],
      "text/plain": [
       "  Using 75031 / 600249 points for tuning the step size."
      ]
     },
     "metadata": {},
     "output_type": "display_data"
    },
    {
     "data": {
      "text/html": [
       "<pre>+---------+-------------------+------------------------------------------+</pre>"
      ],
      "text/plain": [
       "+---------+-------------------+------------------------------------------+"
      ]
     },
     "metadata": {},
     "output_type": "display_data"
    },
    {
     "data": {
      "text/html": [
       "<pre>| Attempt | Initial Step Size | Estimated Objective Value                |</pre>"
      ],
      "text/plain": [
       "| Attempt | Initial Step Size | Estimated Objective Value                |"
      ]
     },
     "metadata": {},
     "output_type": "display_data"
    },
    {
     "data": {
      "text/html": [
       "<pre>+---------+-------------------+------------------------------------------+</pre>"
      ],
      "text/plain": [
       "+---------+-------------------+------------------------------------------+"
      ]
     },
     "metadata": {},
     "output_type": "display_data"
    },
    {
     "data": {
      "text/html": [
       "<pre>| 0       | 2.5               | Not Viable                               |</pre>"
      ],
      "text/plain": [
       "| 0       | 2.5               | Not Viable                               |"
      ]
     },
     "metadata": {},
     "output_type": "display_data"
    },
    {
     "data": {
      "text/html": [
       "<pre>| 1       | 0.625             | No Decrease (1.56868 >= 1.38667)         |</pre>"
      ],
      "text/plain": [
       "| 1       | 0.625             | No Decrease (1.56868 >= 1.38667)         |"
      ]
     },
     "metadata": {},
     "output_type": "display_data"
    },
    {
     "data": {
      "text/html": [
       "<pre>| 2       | 0.15625           | 0.281096                                 |</pre>"
      ],
      "text/plain": [
       "| 2       | 0.15625           | 0.281096                                 |"
      ]
     },
     "metadata": {},
     "output_type": "display_data"
    },
    {
     "data": {
      "text/html": [
       "<pre>| 3       | 0.078125          | 0.298158                                 |</pre>"
      ],
      "text/plain": [
       "| 3       | 0.078125          | 0.298158                                 |"
      ]
     },
     "metadata": {},
     "output_type": "display_data"
    },
    {
     "data": {
      "text/html": [
       "<pre>| 4       | 0.0390625         | 0.313403                                 |</pre>"
      ],
      "text/plain": [
       "| 4       | 0.0390625         | 0.313403                                 |"
      ]
     },
     "metadata": {},
     "output_type": "display_data"
    },
    {
     "data": {
      "text/html": [
       "<pre>| 5       | 0.0195312         | 0.350342                                 |</pre>"
      ],
      "text/plain": [
       "| 5       | 0.0195312         | 0.350342                                 |"
      ]
     },
     "metadata": {},
     "output_type": "display_data"
    },
    {
     "data": {
      "text/html": [
       "<pre>+---------+-------------------+------------------------------------------+</pre>"
      ],
      "text/plain": [
       "+---------+-------------------+------------------------------------------+"
      ]
     },
     "metadata": {},
     "output_type": "display_data"
    },
    {
     "data": {
      "text/html": [
       "<pre>| Final   | 0.15625           | 0.281096                                 |</pre>"
      ],
      "text/plain": [
       "| Final   | 0.15625           | 0.281096                                 |"
      ]
     },
     "metadata": {},
     "output_type": "display_data"
    },
    {
     "data": {
      "text/html": [
       "<pre>+---------+-------------------+------------------------------------------+</pre>"
      ],
      "text/plain": [
       "+---------+-------------------+------------------------------------------+"
      ]
     },
     "metadata": {},
     "output_type": "display_data"
    },
    {
     "data": {
      "text/html": [
       "<pre>Starting Optimization.</pre>"
      ],
      "text/plain": [
       "Starting Optimization."
      ]
     },
     "metadata": {},
     "output_type": "display_data"
    },
    {
     "data": {
      "text/html": [
       "<pre>+---------+--------------+-------------------+-----------------------------------+-------------+</pre>"
      ],
      "text/plain": [
       "+---------+--------------+-------------------+-----------------------------------+-------------+"
      ]
     },
     "metadata": {},
     "output_type": "display_data"
    },
    {
     "data": {
      "text/html": [
       "<pre>| Iter.   | Elapsed Time | Approx. Objective | Approx. Training Predictive Error | Step Size   |</pre>"
      ],
      "text/plain": [
       "| Iter.   | Elapsed Time | Approx. Objective | Approx. Training Predictive Error | Step Size   |"
      ]
     },
     "metadata": {},
     "output_type": "display_data"
    },
    {
     "data": {
      "text/html": [
       "<pre>+---------+--------------+-------------------+-----------------------------------+-------------+</pre>"
      ],
      "text/plain": [
       "+---------+--------------+-------------------+-----------------------------------+-------------+"
      ]
     },
     "metadata": {},
     "output_type": "display_data"
    },
    {
     "data": {
      "text/html": [
       "<pre>| Initial | 48us         | 1.38667           | 0.693789                          |             |</pre>"
      ],
      "text/plain": [
       "| Initial | 48us         | 1.38667           | 0.693789                          |             |"
      ]
     },
     "metadata": {},
     "output_type": "display_data"
    },
    {
     "data": {
      "text/html": [
       "<pre>+---------+--------------+-------------------+-----------------------------------+-------------+</pre>"
      ],
      "text/plain": [
       "+---------+--------------+-------------------+-----------------------------------+-------------+"
      ]
     },
     "metadata": {},
     "output_type": "display_data"
    },
    {
     "data": {
      "text/html": [
       "<pre>| 1       | 832.041ms    | 0.678453          | 0.240271                          | 0.15625     |</pre>"
      ],
      "text/plain": [
       "| 1       | 832.041ms    | 0.678453          | 0.240271                          | 0.15625     |"
      ]
     },
     "metadata": {},
     "output_type": "display_data"
    },
    {
     "data": {
      "text/html": [
       "<pre>| 2       | 1.70s        | 0.404047          | 0.127614                          | 0.15625     |</pre>"
      ],
      "text/plain": [
       "| 2       | 1.70s        | 0.404047          | 0.127614                          | 0.15625     |"
      ]
     },
     "metadata": {},
     "output_type": "display_data"
    },
    {
     "data": {
      "text/html": [
       "<pre>| 3       | 2.58s        | 0.348939          | 0.107094                          | 0.15625     |</pre>"
      ],
      "text/plain": [
       "| 3       | 2.58s        | 0.348939          | 0.107094                          | 0.15625     |"
      ]
     },
     "metadata": {},
     "output_type": "display_data"
    },
    {
     "data": {
      "text/html": [
       "<pre>| 4       | 3.45s        | 0.322663          | 0.0977861                         | 0.15625     |</pre>"
      ],
      "text/plain": [
       "| 4       | 3.45s        | 0.322663          | 0.0977861                         | 0.15625     |"
      ]
     },
     "metadata": {},
     "output_type": "display_data"
    },
    {
     "data": {
      "text/html": [
       "<pre>| 5       | 4.29s        | 0.303611          | 0.091835                          | 0.15625     |</pre>"
      ],
      "text/plain": [
       "| 5       | 4.29s        | 0.303611          | 0.091835                          | 0.15625     |"
      ]
     },
     "metadata": {},
     "output_type": "display_data"
    },
    {
     "data": {
      "text/html": [
       "<pre>| 10      | 8.69s        | 0.260453          | 0.0784377                         | 0.15625     |</pre>"
      ],
      "text/plain": [
       "| 10      | 8.69s        | 0.260453          | 0.0784377                         | 0.15625     |"
      ]
     },
     "metadata": {},
     "output_type": "display_data"
    },
    {
     "data": {
      "text/html": [
       "<pre>| 15      | 12.91s       | 0.236882          | 0.0709593                         | 0.15625     |</pre>"
      ],
      "text/plain": [
       "| 15      | 12.91s       | 0.236882          | 0.0709593                         | 0.15625     |"
      ]
     },
     "metadata": {},
     "output_type": "display_data"
    },
    {
     "data": {
      "text/html": [
       "<pre>| 20      | 17.20s       | 0.222573          | 0.0667345                         | 0.15625     |</pre>"
      ],
      "text/plain": [
       "| 20      | 17.20s       | 0.222573          | 0.0667345                         | 0.15625     |"
      ]
     },
     "metadata": {},
     "output_type": "display_data"
    },
    {
     "data": {
      "text/html": [
       "<pre>| 25      | 21.44s       | 0.209652          | 0.0626152                         | 0.15625     |</pre>"
      ],
      "text/plain": [
       "| 25      | 21.44s       | 0.209652          | 0.0626152                         | 0.15625     |"
      ]
     },
     "metadata": {},
     "output_type": "display_data"
    },
    {
     "data": {
      "text/html": [
       "<pre>+---------+--------------+-------------------+-----------------------------------+-------------+</pre>"
      ],
      "text/plain": [
       "+---------+--------------+-------------------+-----------------------------------+-------------+"
      ]
     },
     "metadata": {},
     "output_type": "display_data"
    },
    {
     "data": {
      "text/html": [
       "<pre>Optimization Complete: Maximum number of passes through the data reached.</pre>"
      ],
      "text/plain": [
       "Optimization Complete: Maximum number of passes through the data reached."
      ]
     },
     "metadata": {},
     "output_type": "display_data"
    },
    {
     "data": {
      "text/html": [
       "<pre>Computing final objective value and training Predictive Error.</pre>"
      ],
      "text/plain": [
       "Computing final objective value and training Predictive Error."
      ]
     },
     "metadata": {},
     "output_type": "display_data"
    },
    {
     "data": {
      "text/html": [
       "<pre>       Final objective value: 0.205477</pre>"
      ],
      "text/plain": [
       "       Final objective value: 0.205477"
      ]
     },
     "metadata": {},
     "output_type": "display_data"
    },
    {
     "data": {
      "text/html": [
       "<pre>       Final training Predictive Error: 0.0607248</pre>"
      ],
      "text/plain": [
       "       Final training Predictive Error: 0.0607248"
      ]
     },
     "metadata": {},
     "output_type": "display_data"
    }
   ],
   "source": [
    "print('⬛⬛⬛⬛⬛⬛⬛---------------\\nTrain default model')\n",
    "model_0 = tc.recommender.create(training_data, 'user_id', 'group_id', target = 'log_visits',\n",
    "                                user_data = users_1, item_data = groups_1)\n",
    "\n",
    "print('⬛⬛⬛⬛⬛⬛⬛---------------\\nTrain item_similarity model 1')\n",
    "model_1 = tc.item_similarity_recommender.create(training_data, 'user_id', 'group_id', target = 'log_visits',\n",
    "                                                user_data = users_1, item_data = groups_1)\n",
    "\n",
    "print('⬛⬛⬛⬛⬛⬛⬛---------------\\nTrain item_similarity model 2')\n",
    "model_1 = tc.item_similarity_recommender.create(training_data, 'user_id', 'group_id',\n",
    "                                                user_data = users_1, item_data = groups_1)\n",
    "\n",
    "\n",
    "print('⬛⬛⬛⬛⬛⬛⬛---------------\\nTrain popularity_recommender model')\n",
    "model_2 = tc.popularity_recommender.create(training_data, 'user_id', 'group_id', target = 'log_visits',\n",
    "                                           user_data = users_1, item_data = groups_1)\n",
    "\n",
    "print('⬛⬛⬛⬛⬛⬛⬛---------------\\nTrain factorization_recommender model')\n",
    "model_3 = tc.factorization_recommender.create(training_data, 'user_id', 'group_id', target = 'log_visits',\n",
    "                                              user_data = users_1, item_data = groups_1)\n",
    "\n",
    "print('⬛⬛⬛⬛⬛⬛⬛---------------\\nTrain ranking_factorization_recommender model')\n",
    "model_4 = tc.ranking_factorization_recommender.create(training_data, 'user_id', 'group_id',\n",
    "                                                      user_data = users_1, item_data = groups_1)"
   ]
  },
  {
   "cell_type": "code",
   "execution_count": 12,
   "id": "e11a3a20",
   "metadata": {},
   "outputs": [
    {
     "name": "stdout",
     "output_type": "stream",
     "text": [
      "PROGRESS: Evaluate model ⬛⬛⬛⬛⬛⬛⬛ Default model\n",
      "\n",
      "Precision and recall summary statistics by cutoff\n",
      "+--------+----------------+-------------+\n",
      "| cutoff | mean_precision | mean_recall |\n",
      "+--------+----------------+-------------+\n",
      "|   1    |      0.0       |     0.0     |\n",
      "|   2    |      0.0       |     0.0     |\n",
      "|   3    |      0.0       |     0.0     |\n",
      "|   4    |      0.0       |     0.0     |\n",
      "|   5    |      0.0       |     0.0     |\n",
      "|   6    |      0.0       |     0.0     |\n",
      "|   7    |      0.0       |     0.0     |\n",
      "|   8    |      0.0       |     0.0     |\n",
      "|   9    |      0.0       |     0.0     |\n",
      "|   10   |      0.0       |     0.0     |\n",
      "+--------+----------------+-------------+\n",
      "[10 rows x 3 columns]\n",
      "\n"
     ]
    },
    {
     "name": "stderr",
     "output_type": "stream",
     "text": [
      "WARNING:root:Model trained without a target. Skipping RMSE computation.\n"
     ]
    },
    {
     "name": "stdout",
     "output_type": "stream",
     "text": [
      "\n",
      "Overall RMSE: 0.9807509470753443\n",
      "\n",
      "Per User RMSE (best)\n",
      "+-----------+---------------------+-------+\n",
      "|  user_id  |         rmse        | count |\n",
      "+-----------+---------------------+-------+\n",
      "| 101410303 | 0.03251218011175805 |   1   |\n",
      "+-----------+---------------------+-------+\n",
      "[1 rows x 3 columns]\n",
      "\n",
      "\n",
      "Per User RMSE (worst)\n",
      "+-----------+-------------------+-------+\n",
      "|  user_id  |        rmse       | count |\n",
      "+-----------+-------------------+-------+\n",
      "| 101386423 | 3.172759626878093 |   1   |\n",
      "+-----------+-------------------+-------+\n",
      "[1 rows x 3 columns]\n",
      "\n",
      "\n",
      "Per Item RMSE (best)\n",
      "+-----------+---------------------+-------+\n",
      "|  group_id |         rmse        | count |\n",
      "+-----------+---------------------+-------+\n",
      "| 801366801 | 0.02801711718737221 |   1   |\n",
      "+-----------+---------------------+-------+\n",
      "[1 rows x 3 columns]\n",
      "\n",
      "\n",
      "Per Item RMSE (worst)\n",
      "+-----------+-------------------+-------+\n",
      "|  group_id |        rmse       | count |\n",
      "+-----------+-------------------+-------+\n",
      "| 801348843 | 3.172759626878093 |   1   |\n",
      "+-----------+-------------------+-------+\n",
      "[1 rows x 3 columns]\n",
      "\n",
      "PROGRESS: Evaluate model ⬛⬛⬛⬛⬛⬛⬛ Item similarity model\n",
      "\n",
      "Precision and recall summary statistics by cutoff\n",
      "+--------+----------------------+---------------------+\n",
      "| cutoff |    mean_precision    |     mean_recall     |\n",
      "+--------+----------------------+---------------------+\n",
      "|   1    |        0.175         | 0.15694444444444447 |\n",
      "|   2    |        0.1375        |  0.2527777777777779 |\n",
      "|   3    | 0.10833333333333334  |  0.2986111111111111 |\n",
      "|   4    | 0.08541666666666668  |  0.3152777777777778 |\n",
      "|   5    | 0.07166666666666668  |  0.3319444444444445 |\n",
      "|   6    | 0.06111111111111113  |  0.3402777777777778 |\n",
      "|   7    | 0.053571428571428596 |  0.3486111111111111 |\n",
      "|   8    | 0.04791666666666667  | 0.35694444444444445 |\n",
      "|   9    | 0.04537037037037035  |  0.3819444444444445 |\n",
      "|   10   | 0.04166666666666667  |  0.3902777777777778 |\n",
      "+--------+----------------------+---------------------+\n",
      "[10 rows x 3 columns]\n",
      "\n",
      "PROGRESS: Evaluate model ⬛⬛⬛⬛⬛⬛⬛ Popularity recommender\n",
      "\n",
      "Precision and recall summary statistics by cutoff\n",
      "+--------+----------------+-------------+\n",
      "| cutoff | mean_precision | mean_recall |\n",
      "+--------+----------------+-------------+\n",
      "|   1    |      0.0       |     0.0     |\n",
      "|   2    |      0.0       |     0.0     |\n",
      "|   3    |      0.0       |     0.0     |\n",
      "|   4    |      0.0       |     0.0     |\n",
      "|   5    |      0.0       |     0.0     |\n",
      "|   6    |      0.0       |     0.0     |\n",
      "|   7    |      0.0       |     0.0     |\n",
      "|   8    |      0.0       |     0.0     |\n",
      "|   9    |      0.0       |     0.0     |\n",
      "|   10   |      0.0       |     0.0     |\n",
      "+--------+----------------+-------------+\n",
      "[10 rows x 3 columns]\n",
      "\n",
      "\n",
      "Overall RMSE: 1.0179863026562204\n",
      "\n",
      "Per User RMSE (best)\n",
      "+-----------+------+-------+\n",
      "|  user_id  | rmse | count |\n",
      "+-----------+------+-------+\n",
      "| 101417172 | 0.0  |   1   |\n",
      "+-----------+------+-------+\n",
      "[1 rows x 3 columns]\n",
      "\n",
      "\n",
      "Per User RMSE (worst)\n",
      "+-----------+-------------------+-------+\n",
      "|  user_id  |        rmse       | count |\n",
      "+-----------+-------------------+-------+\n",
      "| 101386423 | 3.082576904282219 |   1   |\n",
      "+-----------+-------------------+-------+\n",
      "[1 rows x 3 columns]\n",
      "\n",
      "\n",
      "Per Item RMSE (best)\n",
      "+-----------+------+-------+\n",
      "|  group_id | rmse | count |\n",
      "+-----------+------+-------+\n",
      "| 801356116 | 0.0  |   1   |\n",
      "+-----------+------+-------+\n",
      "[1 rows x 3 columns]\n",
      "\n",
      "\n",
      "Per Item RMSE (worst)\n",
      "+-----------+-------------------+-------+\n",
      "|  group_id |        rmse       | count |\n",
      "+-----------+-------------------+-------+\n",
      "| 801348843 | 3.082576904282219 |   1   |\n",
      "+-----------+-------------------+-------+\n",
      "[1 rows x 3 columns]\n",
      "\n",
      "PROGRESS: Evaluate model ⬛⬛⬛⬛⬛⬛⬛ Factorization recommender\n",
      "\n",
      "Precision and recall summary statistics by cutoff\n",
      "+--------+----------------+-------------+\n",
      "| cutoff | mean_precision | mean_recall |\n",
      "+--------+----------------+-------------+\n",
      "|   1    |      0.0       |     0.0     |\n",
      "|   2    |      0.0       |     0.0     |\n",
      "|   3    |      0.0       |     0.0     |\n",
      "|   4    |      0.0       |     0.0     |\n",
      "|   5    |      0.0       |     0.0     |\n",
      "|   6    |      0.0       |     0.0     |\n",
      "|   7    |      0.0       |     0.0     |\n",
      "|   8    |      0.0       |     0.0     |\n",
      "|   9    |      0.0       |     0.0     |\n",
      "|   10   |      0.0       |     0.0     |\n",
      "+--------+----------------+-------------+\n",
      "[10 rows x 3 columns]\n",
      "\n",
      "\n",
      "Overall RMSE: 1.0247889449630565\n",
      "\n",
      "Per User RMSE (best)\n",
      "+-----------+----------------------+-------+\n",
      "|  user_id  |         rmse         | count |\n",
      "+-----------+----------------------+-------+\n",
      "| 101357166 | 0.009222968796669395 |   1   |\n",
      "+-----------+----------------------+-------+\n",
      "[1 rows x 3 columns]\n",
      "\n",
      "\n",
      "Per User RMSE (worst)\n",
      "+-----------+-------------------+-------+\n",
      "|  user_id  |        rmse       | count |\n",
      "+-----------+-------------------+-------+\n",
      "| 101431507 | 3.716052959358322 |   1   |\n",
      "+-----------+-------------------+-------+\n",
      "[1 rows x 3 columns]\n",
      "\n",
      "\n",
      "Per Item RMSE (best)\n",
      "+-----------+----------------------+-------+\n",
      "|  group_id |         rmse         | count |\n",
      "+-----------+----------------------+-------+\n",
      "| 801346882 | 0.009222968796669395 |   1   |\n",
      "+-----------+----------------------+-------+\n",
      "[1 rows x 3 columns]\n",
      "\n",
      "\n",
      "Per Item RMSE (worst)\n",
      "+-----------+-------------------+-------+\n",
      "|  group_id |        rmse       | count |\n",
      "+-----------+-------------------+-------+\n",
      "| 801348134 | 3.716052959358322 |   1   |\n",
      "+-----------+-------------------+-------+\n",
      "[1 rows x 3 columns]\n",
      "\n",
      "PROGRESS: Evaluate model ⬛⬛⬛⬛⬛⬛⬛ Ranking factorization recommender\n"
     ]
    },
    {
     "name": "stderr",
     "output_type": "stream",
     "text": [
      "WARNING:root:Model trained without a target. Skipping RMSE computation.\n"
     ]
    },
    {
     "name": "stdout",
     "output_type": "stream",
     "text": [
      "\n",
      "Precision and recall summary statistics by cutoff\n",
      "+--------+-----------------------+----------------------+\n",
      "| cutoff |     mean_precision    |     mean_recall      |\n",
      "+--------+-----------------------+----------------------+\n",
      "|   1    |          0.0          |         0.0          |\n",
      "|   2    |          0.0          |         0.0          |\n",
      "|   3    |          0.0          |         0.0          |\n",
      "|   4    |          0.0          |         0.0          |\n",
      "|   5    |          0.0          |         0.0          |\n",
      "|   6    |          0.0          |         0.0          |\n",
      "|   7    | 0.0011904761904761904 | 0.008333333333333335 |\n",
      "|   8    | 0.0010416666666666669 | 0.008333333333333335 |\n",
      "|   9    |  0.001851851851851851 | 0.010416666666666668 |\n",
      "|   10   | 0.0016666666666666668 | 0.010416666666666668 |\n",
      "+--------+-----------------------+----------------------+\n",
      "[10 rows x 3 columns]\n",
      "\n"
     ]
    },
    {
     "data": {
      "text/plain": [
       "[{'precision_recall_by_user': Columns:\n",
       "  \tuser_id\tint\n",
       "  \tcutoff\tint\n",
       "  \tprecision\tfloat\n",
       "  \trecall\tfloat\n",
       "  \tcount\tint\n",
       "  \n",
       "  Rows: 2160\n",
       "  \n",
       "  Data:\n",
       "  +-----------+--------+-----------+--------+-------+\n",
       "  |  user_id  | cutoff | precision | recall | count |\n",
       "  +-----------+--------+-----------+--------+-------+\n",
       "  | 101373685 |   1    |    0.0    |  0.0   |   1   |\n",
       "  | 101373685 |   2    |    0.0    |  0.0   |   1   |\n",
       "  | 101373685 |   3    |    0.0    |  0.0   |   1   |\n",
       "  | 101373685 |   4    |    0.0    |  0.0   |   1   |\n",
       "  | 101373685 |   5    |    0.0    |  0.0   |   1   |\n",
       "  | 101373685 |   6    |    0.0    |  0.0   |   1   |\n",
       "  | 101373685 |   7    |    0.0    |  0.0   |   1   |\n",
       "  | 101373685 |   8    |    0.0    |  0.0   |   1   |\n",
       "  | 101373685 |   9    |    0.0    |  0.0   |   1   |\n",
       "  | 101373685 |   10   |    0.0    |  0.0   |   1   |\n",
       "  +-----------+--------+-----------+--------+-------+\n",
       "  [2160 rows x 5 columns]\n",
       "  Note: Only the head of the SFrame is printed.\n",
       "  You can use print_rows(num_rows=m, num_columns=n) to print more rows and columns.,\n",
       "  'precision_recall_overall': Columns:\n",
       "  \tcutoff\tint\n",
       "  \tprecision\tfloat\n",
       "  \trecall\tfloat\n",
       "  \n",
       "  Rows: 18\n",
       "  \n",
       "  Data:\n",
       "  +--------+-----------+--------+\n",
       "  | cutoff | precision | recall |\n",
       "  +--------+-----------+--------+\n",
       "  |   1    |    0.0    |  0.0   |\n",
       "  |   2    |    0.0    |  0.0   |\n",
       "  |   3    |    0.0    |  0.0   |\n",
       "  |   4    |    0.0    |  0.0   |\n",
       "  |   5    |    0.0    |  0.0   |\n",
       "  |   6    |    0.0    |  0.0   |\n",
       "  |   7    |    0.0    |  0.0   |\n",
       "  |   8    |    0.0    |  0.0   |\n",
       "  |   9    |    0.0    |  0.0   |\n",
       "  |   10   |    0.0    |  0.0   |\n",
       "  +--------+-----------+--------+\n",
       "  [18 rows x 3 columns]\n",
       "  Note: Only the head of the SFrame is printed.\n",
       "  You can use print_rows(num_rows=m, num_columns=n) to print more rows and columns.,\n",
       "  'rmse_by_user': Columns:\n",
       "  \tuser_id\tint\n",
       "  \trmse\tfloat\n",
       "  \tcount\tint\n",
       "  \n",
       "  Rows: 120\n",
       "  \n",
       "  Data:\n",
       "  +-----------+---------------------+-------+\n",
       "  |  user_id  |         rmse        | count |\n",
       "  +-----------+---------------------+-------+\n",
       "  | 101372653 |  0.0683627152233095 |   1   |\n",
       "  | 101424507 |  0.8793251408103144 |   1   |\n",
       "  | 101401304 |  1.4565160130743287 |   1   |\n",
       "  | 101404383 |  0.5480460090210952 |   1   |\n",
       "  | 101385374 |  0.1136404280293406 |   1   |\n",
       "  | 101432376 |  0.2835111957877034 |   2   |\n",
       "  | 101387116 | 0.04910323619054724 |   1   |\n",
       "  | 101363028 | 0.10911965698479653 |   1   |\n",
       "  | 101354602 |  0.7637656971373443 |   1   |\n",
       "  | 101412131 |  0.8359530163910485 |   1   |\n",
       "  +-----------+---------------------+-------+\n",
       "  [120 rows x 3 columns]\n",
       "  Note: Only the head of the SFrame is printed.\n",
       "  You can use print_rows(num_rows=m, num_columns=n) to print more rows and columns.,\n",
       "  'rmse_by_item': Columns:\n",
       "  \tgroup_id\tint\n",
       "  \trmse\tfloat\n",
       "  \tcount\tint\n",
       "  \n",
       "  Rows: 138\n",
       "  \n",
       "  Data:\n",
       "  +-----------+---------------------+-------+\n",
       "  |  group_id |         rmse        | count |\n",
       "  +-----------+---------------------+-------+\n",
       "  | 801346867 |  0.5837901564249879 |   1   |\n",
       "  | 801349284 |  0.3530319410650251 |   1   |\n",
       "  | 801359013 |  1.2980166447734875 |   1   |\n",
       "  | 801367971 |  0.8359530163910485 |   1   |\n",
       "  | 801372028 | 0.10911965698479653 |   1   |\n",
       "  | 801353202 |  0.940858126061257  |   1   |\n",
       "  | 801351895 |  1.668091172999422  |   1   |\n",
       "  | 801366388 |  0.2689237778314941 |   1   |\n",
       "  | 801368399 | 0.49415722176549304 |   1   |\n",
       "  | 801368841 | 0.25788673582933974 |   1   |\n",
       "  +-----------+---------------------+-------+\n",
       "  [138 rows x 3 columns]\n",
       "  Note: Only the head of the SFrame is printed.\n",
       "  You can use print_rows(num_rows=m, num_columns=n) to print more rows and columns.,\n",
       "  'rmse_overall': 0.9807509470753443},\n",
       " {'precision_recall_by_user': Columns:\n",
       "  \tuser_id\tint\n",
       "  \tcutoff\tint\n",
       "  \tprecision\tfloat\n",
       "  \trecall\tfloat\n",
       "  \tcount\tint\n",
       "  \n",
       "  Rows: 2160\n",
       "  \n",
       "  Data:\n",
       "  +-----------+--------+-----------+--------+-------+\n",
       "  |  user_id  | cutoff | precision | recall | count |\n",
       "  +-----------+--------+-----------+--------+-------+\n",
       "  | 101432376 |   1    |    0.0    |  0.0   |   2   |\n",
       "  | 101432376 |   2    |    0.0    |  0.0   |   2   |\n",
       "  | 101432376 |   3    |    0.0    |  0.0   |   2   |\n",
       "  | 101432376 |   4    |    0.0    |  0.0   |   2   |\n",
       "  | 101432376 |   5    |    0.0    |  0.0   |   2   |\n",
       "  | 101432376 |   6    |    0.0    |  0.0   |   2   |\n",
       "  | 101432376 |   7    |    0.0    |  0.0   |   2   |\n",
       "  | 101432376 |   8    |    0.0    |  0.0   |   2   |\n",
       "  | 101432376 |   9    |    0.0    |  0.0   |   2   |\n",
       "  | 101432376 |   10   |    0.0    |  0.0   |   2   |\n",
       "  +-----------+--------+-----------+--------+-------+\n",
       "  [2160 rows x 5 columns]\n",
       "  Note: Only the head of the SFrame is printed.\n",
       "  You can use print_rows(num_rows=m, num_columns=n) to print more rows and columns.,\n",
       "  'precision_recall_overall': Columns:\n",
       "  \tcutoff\tint\n",
       "  \tprecision\tfloat\n",
       "  \trecall\tfloat\n",
       "  \n",
       "  Rows: 18\n",
       "  \n",
       "  Data:\n",
       "  +--------+----------------------+---------------------+\n",
       "  | cutoff |      precision       |        recall       |\n",
       "  +--------+----------------------+---------------------+\n",
       "  |   1    |        0.175         | 0.15694444444444447 |\n",
       "  |   2    |        0.1375        |  0.2527777777777778 |\n",
       "  |   3    | 0.10833333333333335  | 0.29861111111111105 |\n",
       "  |   4    | 0.08541666666666667  |  0.3152777777777777 |\n",
       "  |   5    | 0.07166666666666667  | 0.33194444444444454 |\n",
       "  |   6    | 0.061111111111111116 |  0.3402777777777778 |\n",
       "  |   7    | 0.05357142857142858  | 0.34861111111111115 |\n",
       "  |   8    | 0.047916666666666656 |  0.3569444444444444 |\n",
       "  |   9    | 0.04537037037037036  |  0.3819444444444445 |\n",
       "  |   10   | 0.04166666666666667  |  0.3902777777777777 |\n",
       "  +--------+----------------------+---------------------+\n",
       "  [18 rows x 3 columns]\n",
       "  Note: Only the head of the SFrame is printed.\n",
       "  You can use print_rows(num_rows=m, num_columns=n) to print more rows and columns.},\n",
       " {'precision_recall_by_user': Columns:\n",
       "  \tuser_id\tint\n",
       "  \tcutoff\tint\n",
       "  \tprecision\tfloat\n",
       "  \trecall\tfloat\n",
       "  \tcount\tint\n",
       "  \n",
       "  Rows: 2160\n",
       "  \n",
       "  Data:\n",
       "  +-----------+--------+-----------+--------+-------+\n",
       "  |  user_id  | cutoff | precision | recall | count |\n",
       "  +-----------+--------+-----------+--------+-------+\n",
       "  | 101380356 |   1    |    0.0    |  0.0   |   2   |\n",
       "  | 101380356 |   2    |    0.0    |  0.0   |   2   |\n",
       "  | 101380356 |   3    |    0.0    |  0.0   |   2   |\n",
       "  | 101380356 |   4    |    0.0    |  0.0   |   2   |\n",
       "  | 101380356 |   5    |    0.0    |  0.0   |   2   |\n",
       "  | 101380356 |   6    |    0.0    |  0.0   |   2   |\n",
       "  | 101380356 |   7    |    0.0    |  0.0   |   2   |\n",
       "  | 101380356 |   8    |    0.0    |  0.0   |   2   |\n",
       "  | 101380356 |   9    |    0.0    |  0.0   |   2   |\n",
       "  | 101380356 |   10   |    0.0    |  0.0   |   2   |\n",
       "  +-----------+--------+-----------+--------+-------+\n",
       "  [2160 rows x 5 columns]\n",
       "  Note: Only the head of the SFrame is printed.\n",
       "  You can use print_rows(num_rows=m, num_columns=n) to print more rows and columns.,\n",
       "  'precision_recall_overall': Columns:\n",
       "  \tcutoff\tint\n",
       "  \tprecision\tfloat\n",
       "  \trecall\tfloat\n",
       "  \n",
       "  Rows: 18\n",
       "  \n",
       "  Data:\n",
       "  +--------+-----------+--------+\n",
       "  | cutoff | precision | recall |\n",
       "  +--------+-----------+--------+\n",
       "  |   1    |    0.0    |  0.0   |\n",
       "  |   2    |    0.0    |  0.0   |\n",
       "  |   3    |    0.0    |  0.0   |\n",
       "  |   4    |    0.0    |  0.0   |\n",
       "  |   5    |    0.0    |  0.0   |\n",
       "  |   6    |    0.0    |  0.0   |\n",
       "  |   7    |    0.0    |  0.0   |\n",
       "  |   8    |    0.0    |  0.0   |\n",
       "  |   9    |    0.0    |  0.0   |\n",
       "  |   10   |    0.0    |  0.0   |\n",
       "  +--------+-----------+--------+\n",
       "  [18 rows x 3 columns]\n",
       "  Note: Only the head of the SFrame is printed.\n",
       "  You can use print_rows(num_rows=m, num_columns=n) to print more rows and columns.,\n",
       "  'rmse_by_user': Columns:\n",
       "  \tuser_id\tint\n",
       "  \trmse\tfloat\n",
       "  \tcount\tint\n",
       "  \n",
       "  Rows: 120\n",
       "  \n",
       "  Data:\n",
       "  +-----------+---------------------+-------+\n",
       "  |  user_id  |         rmse        | count |\n",
       "  +-----------+---------------------+-------+\n",
       "  | 101372653 | 0.06294283032947323 |   1   |\n",
       "  | 101424507 |  0.8965316308358366 |   1   |\n",
       "  | 101401304 |  1.0824027710470239 |   1   |\n",
       "  | 101404383 | 0.48802689460946724 |   1   |\n",
       "  | 101385374 |  0.5911394156354324 |   1   |\n",
       "  | 101432376 |  1.4514541199498772 |   2   |\n",
       "  | 101387116 |  0.900010726607033  |   1   |\n",
       "  | 101363028 |  0.6514025462903483 |   1   |\n",
       "  | 101354602 | 0.04374534880189396 |   1   |\n",
       "  | 101412131 | 0.22797369212730367 |   1   |\n",
       "  +-----------+---------------------+-------+\n",
       "  [120 rows x 3 columns]\n",
       "  Note: Only the head of the SFrame is printed.\n",
       "  You can use print_rows(num_rows=m, num_columns=n) to print more rows and columns.,\n",
       "  'rmse_by_item': Columns:\n",
       "  \tgroup_id\tint\n",
       "  \trmse\tfloat\n",
       "  \tcount\tint\n",
       "  \n",
       "  Rows: 138\n",
       "  \n",
       "  Data:\n",
       "  +-----------+---------------------+-------+\n",
       "  |  group_id |         rmse        | count |\n",
       "  +-----------+---------------------+-------+\n",
       "  | 801346867 |  1.581390575102075  |   1   |\n",
       "  | 801349284 |  0.4511763021593571 |   1   |\n",
       "  | 801359013 |  1.1015818221480995 |   1   |\n",
       "  | 801367971 | 0.22797369212730367 |   1   |\n",
       "  | 801372028 |  0.6514025462903483 |   1   |\n",
       "  | 801353202 |  1.090467258041035  |   1   |\n",
       "  | 801351895 |  0.7239879825232869 |   1   |\n",
       "  | 801366388 | 0.37199476301592704 |   1   |\n",
       "  | 801368399 |  0.6268481836368183 |   1   |\n",
       "  | 801368841 |  1.448313621782738  |   1   |\n",
       "  +-----------+---------------------+-------+\n",
       "  [138 rows x 3 columns]\n",
       "  Note: Only the head of the SFrame is printed.\n",
       "  You can use print_rows(num_rows=m, num_columns=n) to print more rows and columns.,\n",
       "  'rmse_overall': 1.0179863026562204},\n",
       " {'precision_recall_by_user': Columns:\n",
       "  \tuser_id\tint\n",
       "  \tcutoff\tint\n",
       "  \tprecision\tfloat\n",
       "  \trecall\tfloat\n",
       "  \tcount\tint\n",
       "  \n",
       "  Rows: 2160\n",
       "  \n",
       "  Data:\n",
       "  +-----------+--------+-----------+--------+-------+\n",
       "  |  user_id  | cutoff | precision | recall | count |\n",
       "  +-----------+--------+-----------+--------+-------+\n",
       "  | 101373685 |   1    |    0.0    |  0.0   |   1   |\n",
       "  | 101373685 |   2    |    0.0    |  0.0   |   1   |\n",
       "  | 101373685 |   3    |    0.0    |  0.0   |   1   |\n",
       "  | 101373685 |   4    |    0.0    |  0.0   |   1   |\n",
       "  | 101373685 |   5    |    0.0    |  0.0   |   1   |\n",
       "  | 101373685 |   6    |    0.0    |  0.0   |   1   |\n",
       "  | 101373685 |   7    |    0.0    |  0.0   |   1   |\n",
       "  | 101373685 |   8    |    0.0    |  0.0   |   1   |\n",
       "  | 101373685 |   9    |    0.0    |  0.0   |   1   |\n",
       "  | 101373685 |   10   |    0.0    |  0.0   |   1   |\n",
       "  +-----------+--------+-----------+--------+-------+\n",
       "  [2160 rows x 5 columns]\n",
       "  Note: Only the head of the SFrame is printed.\n",
       "  You can use print_rows(num_rows=m, num_columns=n) to print more rows and columns.,\n",
       "  'precision_recall_overall': Columns:\n",
       "  \tcutoff\tint\n",
       "  \tprecision\tfloat\n",
       "  \trecall\tfloat\n",
       "  \n",
       "  Rows: 18\n",
       "  \n",
       "  Data:\n",
       "  +--------+-----------+--------+\n",
       "  | cutoff | precision | recall |\n",
       "  +--------+-----------+--------+\n",
       "  |   1    |    0.0    |  0.0   |\n",
       "  |   2    |    0.0    |  0.0   |\n",
       "  |   3    |    0.0    |  0.0   |\n",
       "  |   4    |    0.0    |  0.0   |\n",
       "  |   5    |    0.0    |  0.0   |\n",
       "  |   6    |    0.0    |  0.0   |\n",
       "  |   7    |    0.0    |  0.0   |\n",
       "  |   8    |    0.0    |  0.0   |\n",
       "  |   9    |    0.0    |  0.0   |\n",
       "  |   10   |    0.0    |  0.0   |\n",
       "  +--------+-----------+--------+\n",
       "  [18 rows x 3 columns]\n",
       "  Note: Only the head of the SFrame is printed.\n",
       "  You can use print_rows(num_rows=m, num_columns=n) to print more rows and columns.,\n",
       "  'rmse_by_user': Columns:\n",
       "  \tuser_id\tint\n",
       "  \trmse\tfloat\n",
       "  \tcount\tint\n",
       "  \n",
       "  Rows: 120\n",
       "  \n",
       "  Data:\n",
       "  +-----------+----------------------+-------+\n",
       "  |  user_id  |         rmse         | count |\n",
       "  +-----------+----------------------+-------+\n",
       "  | 101372653 | 0.20291273131638343  |   1   |\n",
       "  | 101424507 |  1.893309925255773   |   1   |\n",
       "  | 101401304 |  1.6250230534110386  |   1   |\n",
       "  | 101404383 |  0.6342087984212954  |   1   |\n",
       "  | 101385374 |  0.2579246702756035  |   1   |\n",
       "  | 101432376 |  0.9868015379288541  |   2   |\n",
       "  | 101387116 | 0.012472892034447458 |   1   |\n",
       "  | 101363028 |  0.3315882255686504  |   1   |\n",
       "  | 101354602 |  0.9853798472204154  |   1   |\n",
       "  | 101412131 | 0.11926337803298592  |   1   |\n",
       "  +-----------+----------------------+-------+\n",
       "  [120 rows x 3 columns]\n",
       "  Note: Only the head of the SFrame is printed.\n",
       "  You can use print_rows(num_rows=m, num_columns=n) to print more rows and columns.,\n",
       "  'rmse_by_item': Columns:\n",
       "  \tgroup_id\tint\n",
       "  \trmse\tfloat\n",
       "  \tcount\tint\n",
       "  \n",
       "  Rows: 138\n",
       "  \n",
       "  Data:\n",
       "  +-----------+---------------------+-------+\n",
       "  |  group_id |         rmse        | count |\n",
       "  +-----------+---------------------+-------+\n",
       "  | 801346867 |  1.2504222623257502 |   1   |\n",
       "  | 801349284 | 0.23047426810478822 |   1   |\n",
       "  | 801359013 |  0.7185693103819493 |   1   |\n",
       "  | 801367971 | 0.11926337803298592 |   1   |\n",
       "  | 801372028 |  0.3315882255686504 |   1   |\n",
       "  | 801353202 |  0.8802120573489445 |   1   |\n",
       "  | 801351895 |  1.716618104055815  |   1   |\n",
       "  | 801366388 |  0.6674572498551983 |   1   |\n",
       "  | 801368399 |  0.3279193753754952 |   1   |\n",
       "  | 801368841 |  0.6371759583137195 |   1   |\n",
       "  +-----------+---------------------+-------+\n",
       "  [138 rows x 3 columns]\n",
       "  Note: Only the head of the SFrame is printed.\n",
       "  You can use print_rows(num_rows=m, num_columns=n) to print more rows and columns.,\n",
       "  'rmse_overall': 1.0247889449630565},\n",
       " {'precision_recall_by_user': Columns:\n",
       "  \tuser_id\tint\n",
       "  \tcutoff\tint\n",
       "  \tprecision\tfloat\n",
       "  \trecall\tfloat\n",
       "  \tcount\tint\n",
       "  \n",
       "  Rows: 2160\n",
       "  \n",
       "  Data:\n",
       "  +-----------+--------+-----------+--------+-------+\n",
       "  |  user_id  | cutoff | precision | recall | count |\n",
       "  +-----------+--------+-----------+--------+-------+\n",
       "  | 101373685 |   1    |    0.0    |  0.0   |   1   |\n",
       "  | 101373685 |   2    |    0.0    |  0.0   |   1   |\n",
       "  | 101373685 |   3    |    0.0    |  0.0   |   1   |\n",
       "  | 101373685 |   4    |    0.0    |  0.0   |   1   |\n",
       "  | 101373685 |   5    |    0.0    |  0.0   |   1   |\n",
       "  | 101373685 |   6    |    0.0    |  0.0   |   1   |\n",
       "  | 101373685 |   7    |    0.0    |  0.0   |   1   |\n",
       "  | 101373685 |   8    |    0.0    |  0.0   |   1   |\n",
       "  | 101373685 |   9    |    0.0    |  0.0   |   1   |\n",
       "  | 101373685 |   10   |    0.0    |  0.0   |   1   |\n",
       "  +-----------+--------+-----------+--------+-------+\n",
       "  [2160 rows x 5 columns]\n",
       "  Note: Only the head of the SFrame is printed.\n",
       "  You can use print_rows(num_rows=m, num_columns=n) to print more rows and columns.,\n",
       "  'precision_recall_overall': Columns:\n",
       "  \tcutoff\tint\n",
       "  \tprecision\tfloat\n",
       "  \trecall\tfloat\n",
       "  \n",
       "  Rows: 18\n",
       "  \n",
       "  Data:\n",
       "  +--------+-----------------------+----------------------+\n",
       "  | cutoff |       precision       |        recall        |\n",
       "  +--------+-----------------------+----------------------+\n",
       "  |   1    |          0.0          |         0.0          |\n",
       "  |   2    |          0.0          |         0.0          |\n",
       "  |   3    |          0.0          |         0.0          |\n",
       "  |   4    |          0.0          |         0.0          |\n",
       "  |   5    |          0.0          |         0.0          |\n",
       "  |   6    |          0.0          |         0.0          |\n",
       "  |   7    | 0.0011904761904761904 | 0.008333333333333335 |\n",
       "  |   8    | 0.0010416666666666669 | 0.008333333333333335 |\n",
       "  |   9    | 0.0018518518518518517 | 0.010416666666666668 |\n",
       "  |   10   | 0.0016666666666666668 | 0.010416666666666668 |\n",
       "  +--------+-----------------------+----------------------+\n",
       "  [18 rows x 3 columns]\n",
       "  Note: Only the head of the SFrame is printed.\n",
       "  You can use print_rows(num_rows=m, num_columns=n) to print more rows and columns.}]"
      ]
     },
     "execution_count": 12,
     "metadata": {},
     "output_type": "execute_result"
    }
   ],
   "source": [
    "tc.recommender.util.compare_models(\n",
    "    validation_data, \n",
    "    [model_0, model_1,model_2,model_3,model_4], \n",
    "    model_names=[\"⬛⬛⬛⬛⬛⬛⬛ Default model\",\n",
    "                 \"⬛⬛⬛⬛⬛⬛⬛ Item similarity model\",\n",
    "                 '⬛⬛⬛⬛⬛⬛⬛ Popularity recommender',\n",
    "                 '⬛⬛⬛⬛⬛⬛⬛ Factorization recommender',\n",
    "                 '⬛⬛⬛⬛⬛⬛⬛ Ranking factorization recommender'])"
   ]
  },
  {
   "cell_type": "markdown",
   "id": "183678a8",
   "metadata": {},
   "source": [
    "`Default model:             `Overall RMSE: 1.06 -> 1.01\n",
    "\n",
    "`Item similarity model:     `Overall RMSE: 1.93 -> 1.98\n",
    "\n",
    "`Popularity recommender:    `Overall RMSE: 0.98 -> 0.99\n",
    "\n",
    "`Factorization recommender: `Overall RMSE: 1.00 -> 1.02\n",
    "\n",
    "`Ranking factorization:     `Overall RMSE: 1.16 -> 0.97"
   ]
  },
  {
   "cell_type": "markdown",
   "id": "9793ff08",
   "metadata": {},
   "source": [
    "### Сохраняем результаты Ranking factirozation модели"
   ]
  },
  {
   "cell_type": "code",
   "execution_count": 13,
   "id": "20c64fc1",
   "metadata": {
    "scrolled": true
   },
   "outputs": [
    {
     "data": {
      "text/html": [
       "<pre>recommendations finished on 1000/50906 queries. users per second: 910.811</pre>"
      ],
      "text/plain": [
       "recommendations finished on 1000/50906 queries. users per second: 910.811"
      ]
     },
     "metadata": {},
     "output_type": "display_data"
    },
    {
     "data": {
      "text/html": [
       "<pre>recommendations finished on 2000/50906 queries. users per second: 917.832</pre>"
      ],
      "text/plain": [
       "recommendations finished on 2000/50906 queries. users per second: 917.832"
      ]
     },
     "metadata": {},
     "output_type": "display_data"
    },
    {
     "data": {
      "text/html": [
       "<pre>recommendations finished on 3000/50906 queries. users per second: 917.308</pre>"
      ],
      "text/plain": [
       "recommendations finished on 3000/50906 queries. users per second: 917.308"
      ]
     },
     "metadata": {},
     "output_type": "display_data"
    },
    {
     "data": {
      "text/html": [
       "<pre>recommendations finished on 4000/50906 queries. users per second: 916.97</pre>"
      ],
      "text/plain": [
       "recommendations finished on 4000/50906 queries. users per second: 916.97"
      ]
     },
     "metadata": {},
     "output_type": "display_data"
    },
    {
     "data": {
      "text/html": [
       "<pre>recommendations finished on 5000/50906 queries. users per second: 918.188</pre>"
      ],
      "text/plain": [
       "recommendations finished on 5000/50906 queries. users per second: 918.188"
      ]
     },
     "metadata": {},
     "output_type": "display_data"
    },
    {
     "data": {
      "text/html": [
       "<pre>recommendations finished on 6000/50906 queries. users per second: 917.764</pre>"
      ],
      "text/plain": [
       "recommendations finished on 6000/50906 queries. users per second: 917.764"
      ]
     },
     "metadata": {},
     "output_type": "display_data"
    },
    {
     "data": {
      "text/html": [
       "<pre>recommendations finished on 7000/50906 queries. users per second: 919.392</pre>"
      ],
      "text/plain": [
       "recommendations finished on 7000/50906 queries. users per second: 919.392"
      ]
     },
     "metadata": {},
     "output_type": "display_data"
    },
    {
     "data": {
      "text/html": [
       "<pre>recommendations finished on 8000/50906 queries. users per second: 919.374</pre>"
      ],
      "text/plain": [
       "recommendations finished on 8000/50906 queries. users per second: 919.374"
      ]
     },
     "metadata": {},
     "output_type": "display_data"
    },
    {
     "data": {
      "text/html": [
       "<pre>recommendations finished on 9000/50906 queries. users per second: 918.844</pre>"
      ],
      "text/plain": [
       "recommendations finished on 9000/50906 queries. users per second: 918.844"
      ]
     },
     "metadata": {},
     "output_type": "display_data"
    },
    {
     "data": {
      "text/html": [
       "<pre>recommendations finished on 10000/50906 queries. users per second: 920.274</pre>"
      ],
      "text/plain": [
       "recommendations finished on 10000/50906 queries. users per second: 920.274"
      ]
     },
     "metadata": {},
     "output_type": "display_data"
    },
    {
     "data": {
      "text/html": [
       "<pre>recommendations finished on 11000/50906 queries. users per second: 921.236</pre>"
      ],
      "text/plain": [
       "recommendations finished on 11000/50906 queries. users per second: 921.236"
      ]
     },
     "metadata": {},
     "output_type": "display_data"
    },
    {
     "data": {
      "text/html": [
       "<pre>recommendations finished on 12000/50906 queries. users per second: 921.581</pre>"
      ],
      "text/plain": [
       "recommendations finished on 12000/50906 queries. users per second: 921.581"
      ]
     },
     "metadata": {},
     "output_type": "display_data"
    },
    {
     "data": {
      "text/html": [
       "<pre>recommendations finished on 13000/50906 queries. users per second: 920.791</pre>"
      ],
      "text/plain": [
       "recommendations finished on 13000/50906 queries. users per second: 920.791"
      ]
     },
     "metadata": {},
     "output_type": "display_data"
    },
    {
     "data": {
      "text/html": [
       "<pre>recommendations finished on 14000/50906 queries. users per second: 919.911</pre>"
      ],
      "text/plain": [
       "recommendations finished on 14000/50906 queries. users per second: 919.911"
      ]
     },
     "metadata": {},
     "output_type": "display_data"
    },
    {
     "data": {
      "text/html": [
       "<pre>recommendations finished on 15000/50906 queries. users per second: 920.828</pre>"
      ],
      "text/plain": [
       "recommendations finished on 15000/50906 queries. users per second: 920.828"
      ]
     },
     "metadata": {},
     "output_type": "display_data"
    },
    {
     "data": {
      "text/html": [
       "<pre>recommendations finished on 16000/50906 queries. users per second: 920.365</pre>"
      ],
      "text/plain": [
       "recommendations finished on 16000/50906 queries. users per second: 920.365"
      ]
     },
     "metadata": {},
     "output_type": "display_data"
    },
    {
     "data": {
      "text/html": [
       "<pre>recommendations finished on 17000/50906 queries. users per second: 920.552</pre>"
      ],
      "text/plain": [
       "recommendations finished on 17000/50906 queries. users per second: 920.552"
      ]
     },
     "metadata": {},
     "output_type": "display_data"
    },
    {
     "data": {
      "text/html": [
       "<pre>recommendations finished on 18000/50906 queries. users per second: 919.87</pre>"
      ],
      "text/plain": [
       "recommendations finished on 18000/50906 queries. users per second: 919.87"
      ]
     },
     "metadata": {},
     "output_type": "display_data"
    },
    {
     "data": {
      "text/html": [
       "<pre>recommendations finished on 19000/50906 queries. users per second: 919.671</pre>"
      ],
      "text/plain": [
       "recommendations finished on 19000/50906 queries. users per second: 919.671"
      ]
     },
     "metadata": {},
     "output_type": "display_data"
    },
    {
     "data": {
      "text/html": [
       "<pre>recommendations finished on 20000/50906 queries. users per second: 918.939</pre>"
      ],
      "text/plain": [
       "recommendations finished on 20000/50906 queries. users per second: 918.939"
      ]
     },
     "metadata": {},
     "output_type": "display_data"
    },
    {
     "data": {
      "text/html": [
       "<pre>recommendations finished on 21000/50906 queries. users per second: 918.92</pre>"
      ],
      "text/plain": [
       "recommendations finished on 21000/50906 queries. users per second: 918.92"
      ]
     },
     "metadata": {},
     "output_type": "display_data"
    },
    {
     "data": {
      "text/html": [
       "<pre>recommendations finished on 22000/50906 queries. users per second: 918.659</pre>"
      ],
      "text/plain": [
       "recommendations finished on 22000/50906 queries. users per second: 918.659"
      ]
     },
     "metadata": {},
     "output_type": "display_data"
    },
    {
     "data": {
      "text/html": [
       "<pre>recommendations finished on 23000/50906 queries. users per second: 917.692</pre>"
      ],
      "text/plain": [
       "recommendations finished on 23000/50906 queries. users per second: 917.692"
      ]
     },
     "metadata": {},
     "output_type": "display_data"
    },
    {
     "data": {
      "text/html": [
       "<pre>recommendations finished on 24000/50906 queries. users per second: 916.988</pre>"
      ],
      "text/plain": [
       "recommendations finished on 24000/50906 queries. users per second: 916.988"
      ]
     },
     "metadata": {},
     "output_type": "display_data"
    },
    {
     "data": {
      "text/html": [
       "<pre>recommendations finished on 25000/50906 queries. users per second: 916.708</pre>"
      ],
      "text/plain": [
       "recommendations finished on 25000/50906 queries. users per second: 916.708"
      ]
     },
     "metadata": {},
     "output_type": "display_data"
    },
    {
     "data": {
      "text/html": [
       "<pre>recommendations finished on 26000/50906 queries. users per second: 916.299</pre>"
      ],
      "text/plain": [
       "recommendations finished on 26000/50906 queries. users per second: 916.299"
      ]
     },
     "metadata": {},
     "output_type": "display_data"
    },
    {
     "data": {
      "text/html": [
       "<pre>recommendations finished on 27000/50906 queries. users per second: 916.423</pre>"
      ],
      "text/plain": [
       "recommendations finished on 27000/50906 queries. users per second: 916.423"
      ]
     },
     "metadata": {},
     "output_type": "display_data"
    },
    {
     "data": {
      "text/html": [
       "<pre>recommendations finished on 28000/50906 queries. users per second: 916.433</pre>"
      ],
      "text/plain": [
       "recommendations finished on 28000/50906 queries. users per second: 916.433"
      ]
     },
     "metadata": {},
     "output_type": "display_data"
    },
    {
     "data": {
      "text/html": [
       "<pre>recommendations finished on 29000/50906 queries. users per second: 916.683</pre>"
      ],
      "text/plain": [
       "recommendations finished on 29000/50906 queries. users per second: 916.683"
      ]
     },
     "metadata": {},
     "output_type": "display_data"
    },
    {
     "data": {
      "text/html": [
       "<pre>recommendations finished on 30000/50906 queries. users per second: 916.484</pre>"
      ],
      "text/plain": [
       "recommendations finished on 30000/50906 queries. users per second: 916.484"
      ]
     },
     "metadata": {},
     "output_type": "display_data"
    },
    {
     "data": {
      "text/html": [
       "<pre>recommendations finished on 31000/50906 queries. users per second: 916.364</pre>"
      ],
      "text/plain": [
       "recommendations finished on 31000/50906 queries. users per second: 916.364"
      ]
     },
     "metadata": {},
     "output_type": "display_data"
    },
    {
     "data": {
      "text/html": [
       "<pre>recommendations finished on 32000/50906 queries. users per second: 916.434</pre>"
      ],
      "text/plain": [
       "recommendations finished on 32000/50906 queries. users per second: 916.434"
      ]
     },
     "metadata": {},
     "output_type": "display_data"
    },
    {
     "data": {
      "text/html": [
       "<pre>recommendations finished on 33000/50906 queries. users per second: 916.829</pre>"
      ],
      "text/plain": [
       "recommendations finished on 33000/50906 queries. users per second: 916.829"
      ]
     },
     "metadata": {},
     "output_type": "display_data"
    },
    {
     "data": {
      "text/html": [
       "<pre>recommendations finished on 34000/50906 queries. users per second: 916.782</pre>"
      ],
      "text/plain": [
       "recommendations finished on 34000/50906 queries. users per second: 916.782"
      ]
     },
     "metadata": {},
     "output_type": "display_data"
    },
    {
     "data": {
      "text/html": [
       "<pre>recommendations finished on 35000/50906 queries. users per second: 916.712</pre>"
      ],
      "text/plain": [
       "recommendations finished on 35000/50906 queries. users per second: 916.712"
      ]
     },
     "metadata": {},
     "output_type": "display_data"
    },
    {
     "data": {
      "text/html": [
       "<pre>recommendations finished on 36000/50906 queries. users per second: 916.838</pre>"
      ],
      "text/plain": [
       "recommendations finished on 36000/50906 queries. users per second: 916.838"
      ]
     },
     "metadata": {},
     "output_type": "display_data"
    },
    {
     "data": {
      "text/html": [
       "<pre>recommendations finished on 37000/50906 queries. users per second: 916.896</pre>"
      ],
      "text/plain": [
       "recommendations finished on 37000/50906 queries. users per second: 916.896"
      ]
     },
     "metadata": {},
     "output_type": "display_data"
    },
    {
     "data": {
      "text/html": [
       "<pre>recommendations finished on 38000/50906 queries. users per second: 917.079</pre>"
      ],
      "text/plain": [
       "recommendations finished on 38000/50906 queries. users per second: 917.079"
      ]
     },
     "metadata": {},
     "output_type": "display_data"
    },
    {
     "data": {
      "text/html": [
       "<pre>recommendations finished on 39000/50906 queries. users per second: 917.393</pre>"
      ],
      "text/plain": [
       "recommendations finished on 39000/50906 queries. users per second: 917.393"
      ]
     },
     "metadata": {},
     "output_type": "display_data"
    },
    {
     "data": {
      "text/html": [
       "<pre>recommendations finished on 40000/50906 queries. users per second: 917.505</pre>"
      ],
      "text/plain": [
       "recommendations finished on 40000/50906 queries. users per second: 917.505"
      ]
     },
     "metadata": {},
     "output_type": "display_data"
    },
    {
     "data": {
      "text/html": [
       "<pre>recommendations finished on 41000/50906 queries. users per second: 917.682</pre>"
      ],
      "text/plain": [
       "recommendations finished on 41000/50906 queries. users per second: 917.682"
      ]
     },
     "metadata": {},
     "output_type": "display_data"
    },
    {
     "data": {
      "text/html": [
       "<pre>recommendations finished on 42000/50906 queries. users per second: 918.04</pre>"
      ],
      "text/plain": [
       "recommendations finished on 42000/50906 queries. users per second: 918.04"
      ]
     },
     "metadata": {},
     "output_type": "display_data"
    },
    {
     "data": {
      "text/html": [
       "<pre>recommendations finished on 43000/50906 queries. users per second: 918.244</pre>"
      ],
      "text/plain": [
       "recommendations finished on 43000/50906 queries. users per second: 918.244"
      ]
     },
     "metadata": {},
     "output_type": "display_data"
    },
    {
     "data": {
      "text/html": [
       "<pre>recommendations finished on 44000/50906 queries. users per second: 918.529</pre>"
      ],
      "text/plain": [
       "recommendations finished on 44000/50906 queries. users per second: 918.529"
      ]
     },
     "metadata": {},
     "output_type": "display_data"
    },
    {
     "data": {
      "text/html": [
       "<pre>recommendations finished on 45000/50906 queries. users per second: 918.752</pre>"
      ],
      "text/plain": [
       "recommendations finished on 45000/50906 queries. users per second: 918.752"
      ]
     },
     "metadata": {},
     "output_type": "display_data"
    },
    {
     "data": {
      "text/html": [
       "<pre>recommendations finished on 46000/50906 queries. users per second: 918.886</pre>"
      ],
      "text/plain": [
       "recommendations finished on 46000/50906 queries. users per second: 918.886"
      ]
     },
     "metadata": {},
     "output_type": "display_data"
    },
    {
     "data": {
      "text/html": [
       "<pre>recommendations finished on 47000/50906 queries. users per second: 918.95</pre>"
      ],
      "text/plain": [
       "recommendations finished on 47000/50906 queries. users per second: 918.95"
      ]
     },
     "metadata": {},
     "output_type": "display_data"
    },
    {
     "data": {
      "text/html": [
       "<pre>recommendations finished on 48000/50906 queries. users per second: 919.189</pre>"
      ],
      "text/plain": [
       "recommendations finished on 48000/50906 queries. users per second: 919.189"
      ]
     },
     "metadata": {},
     "output_type": "display_data"
    },
    {
     "data": {
      "text/html": [
       "<pre>recommendations finished on 49000/50906 queries. users per second: 919.395</pre>"
      ],
      "text/plain": [
       "recommendations finished on 49000/50906 queries. users per second: 919.395"
      ]
     },
     "metadata": {},
     "output_type": "display_data"
    },
    {
     "data": {
      "text/html": [
       "<pre>recommendations finished on 50000/50906 queries. users per second: 919.717</pre>"
      ],
      "text/plain": [
       "recommendations finished on 50000/50906 queries. users per second: 919.717"
      ]
     },
     "metadata": {},
     "output_type": "display_data"
    },
    {
     "data": {
      "text/html": [
       "<div style=\"max-height:1000px;max-width:1500px;overflow:auto;\"><table frame=\"box\" rules=\"cols\">\n",
       "    <tr>\n",
       "        <th style=\"padding-left: 1em; padding-right: 1em; text-align: center\">user_id</th>\n",
       "        <th style=\"padding-left: 1em; padding-right: 1em; text-align: center\">group_id</th>\n",
       "        <th style=\"padding-left: 1em; padding-right: 1em; text-align: center\">score</th>\n",
       "        <th style=\"padding-left: 1em; padding-right: 1em; text-align: center\">rank</th>\n",
       "    </tr>\n",
       "    <tr>\n",
       "        <td style=\"padding-left: 1em; padding-right: 1em; text-align: center; vertical-align: top\">101354797</td>\n",
       "        <td style=\"padding-left: 1em; padding-right: 1em; text-align: center; vertical-align: top\">801353793</td>\n",
       "        <td style=\"padding-left: 1em; padding-right: 1em; text-align: center; vertical-align: top\">0.8232877948893121</td>\n",
       "        <td style=\"padding-left: 1em; padding-right: 1em; text-align: center; vertical-align: top\">1</td>\n",
       "    </tr>\n",
       "    <tr>\n",
       "        <td style=\"padding-left: 1em; padding-right: 1em; text-align: center; vertical-align: top\">101354797</td>\n",
       "        <td style=\"padding-left: 1em; padding-right: 1em; text-align: center; vertical-align: top\">801353285</td>\n",
       "        <td style=\"padding-left: 1em; padding-right: 1em; text-align: center; vertical-align: top\">0.8006826386368828</td>\n",
       "        <td style=\"padding-left: 1em; padding-right: 1em; text-align: center; vertical-align: top\">2</td>\n",
       "    </tr>\n",
       "    <tr>\n",
       "        <td style=\"padding-left: 1em; padding-right: 1em; text-align: center; vertical-align: top\">101354797</td>\n",
       "        <td style=\"padding-left: 1em; padding-right: 1em; text-align: center; vertical-align: top\">801355955</td>\n",
       "        <td style=\"padding-left: 1em; padding-right: 1em; text-align: center; vertical-align: top\">0.7825871354328703</td>\n",
       "        <td style=\"padding-left: 1em; padding-right: 1em; text-align: center; vertical-align: top\">3</td>\n",
       "    </tr>\n",
       "    <tr>\n",
       "        <td style=\"padding-left: 1em; padding-right: 1em; text-align: center; vertical-align: top\">101354797</td>\n",
       "        <td style=\"padding-left: 1em; padding-right: 1em; text-align: center; vertical-align: top\">801353290</td>\n",
       "        <td style=\"padding-left: 1em; padding-right: 1em; text-align: center; vertical-align: top\">0.7817690849324592</td>\n",
       "        <td style=\"padding-left: 1em; padding-right: 1em; text-align: center; vertical-align: top\">4</td>\n",
       "    </tr>\n",
       "    <tr>\n",
       "        <td style=\"padding-left: 1em; padding-right: 1em; text-align: center; vertical-align: top\">101354797</td>\n",
       "        <td style=\"padding-left: 1em; padding-right: 1em; text-align: center; vertical-align: top\">801353281</td>\n",
       "        <td style=\"padding-left: 1em; padding-right: 1em; text-align: center; vertical-align: top\">0.7737643818273108</td>\n",
       "        <td style=\"padding-left: 1em; padding-right: 1em; text-align: center; vertical-align: top\">5</td>\n",
       "    </tr>\n",
       "    <tr>\n",
       "        <td style=\"padding-left: 1em; padding-right: 1em; text-align: center; vertical-align: top\">101354797</td>\n",
       "        <td style=\"padding-left: 1em; padding-right: 1em; text-align: center; vertical-align: top\">801349127</td>\n",
       "        <td style=\"padding-left: 1em; padding-right: 1em; text-align: center; vertical-align: top\">0.7666385081690917</td>\n",
       "        <td style=\"padding-left: 1em; padding-right: 1em; text-align: center; vertical-align: top\">6</td>\n",
       "    </tr>\n",
       "    <tr>\n",
       "        <td style=\"padding-left: 1em; padding-right: 1em; text-align: center; vertical-align: top\">101354797</td>\n",
       "        <td style=\"padding-left: 1em; padding-right: 1em; text-align: center; vertical-align: top\">801349305</td>\n",
       "        <td style=\"padding-left: 1em; padding-right: 1em; text-align: center; vertical-align: top\">0.7456999964208675</td>\n",
       "        <td style=\"padding-left: 1em; padding-right: 1em; text-align: center; vertical-align: top\">7</td>\n",
       "    </tr>\n",
       "    <tr>\n",
       "        <td style=\"padding-left: 1em; padding-right: 1em; text-align: center; vertical-align: top\">101354797</td>\n",
       "        <td style=\"padding-left: 1em; padding-right: 1em; text-align: center; vertical-align: top\">801358792</td>\n",
       "        <td style=\"padding-left: 1em; padding-right: 1em; text-align: center; vertical-align: top\">0.7050070735630181</td>\n",
       "        <td style=\"padding-left: 1em; padding-right: 1em; text-align: center; vertical-align: top\">8</td>\n",
       "    </tr>\n",
       "    <tr>\n",
       "        <td style=\"padding-left: 1em; padding-right: 1em; text-align: center; vertical-align: top\">101354797</td>\n",
       "        <td style=\"padding-left: 1em; padding-right: 1em; text-align: center; vertical-align: top\">801348527</td>\n",
       "        <td style=\"padding-left: 1em; padding-right: 1em; text-align: center; vertical-align: top\">0.7040772802803721</td>\n",
       "        <td style=\"padding-left: 1em; padding-right: 1em; text-align: center; vertical-align: top\">9</td>\n",
       "    </tr>\n",
       "    <tr>\n",
       "        <td style=\"padding-left: 1em; padding-right: 1em; text-align: center; vertical-align: top\">101354797</td>\n",
       "        <td style=\"padding-left: 1em; padding-right: 1em; text-align: center; vertical-align: top\">801353708</td>\n",
       "        <td style=\"padding-left: 1em; padding-right: 1em; text-align: center; vertical-align: top\">0.6707442089823471</td>\n",
       "        <td style=\"padding-left: 1em; padding-right: 1em; text-align: center; vertical-align: top\">10</td>\n",
       "    </tr>\n",
       "</table>\n",
       "[509060 rows x 4 columns]<br/>Note: Only the head of the SFrame is printed.<br/>You can use print_rows(num_rows=m, num_columns=n) to print more rows and columns.\n",
       "</div>"
      ],
      "text/plain": [
       "Columns:\n",
       "\tuser_id\tint\n",
       "\tgroup_id\tint\n",
       "\tscore\tfloat\n",
       "\trank\tint\n",
       "\n",
       "Rows: 509060\n",
       "\n",
       "Data:\n",
       "+-----------+-----------+--------------------+------+\n",
       "|  user_id  |  group_id |       score        | rank |\n",
       "+-----------+-----------+--------------------+------+\n",
       "| 101354797 | 801353793 | 0.8232877948893121 |  1   |\n",
       "| 101354797 | 801353285 | 0.8006826386368828 |  2   |\n",
       "| 101354797 | 801355955 | 0.7825871354328703 |  3   |\n",
       "| 101354797 | 801353290 | 0.7817690849324592 |  4   |\n",
       "| 101354797 | 801353281 | 0.7737643818273108 |  5   |\n",
       "| 101354797 | 801349127 | 0.7666385081690917 |  6   |\n",
       "| 101354797 | 801349305 | 0.7456999964208675 |  7   |\n",
       "| 101354797 | 801358792 | 0.7050070735630181 |  8   |\n",
       "| 101354797 | 801348527 | 0.7040772802803721 |  9   |\n",
       "| 101354797 | 801353708 | 0.6707442089823471 |  10  |\n",
       "+-----------+-----------+--------------------+------+\n",
       "[509060 rows x 4 columns]\n",
       "Note: Only the head of the SFrame is printed.\n",
       "You can use print_rows(num_rows=m, num_columns=n) to print more rows and columns."
      ]
     },
     "metadata": {},
     "output_type": "display_data"
    }
   ],
   "source": [
    "preds = model_4.recommend(k=10)\n",
    "display(preds)"
   ]
  },
  {
   "cell_type": "markdown",
   "id": "ccd63262",
   "metadata": {},
   "source": [
    "### Сохраняем результаты для бэка"
   ]
  },
  {
   "cell_type": "code",
   "execution_count": null,
   "id": "28e1476a",
   "metadata": {},
   "outputs": [],
   "source": [
    "preds.to_dataframe().to_csv('predicts/predict_v01.csv', index=False )"
   ]
  },
  {
   "cell_type": "markdown",
   "id": "c7499558",
   "metadata": {},
   "source": [
    "### Делаем предсказание для Test (с выборкой предсказаний на март-апрель 2023)"
   ]
  },
  {
   "cell_type": "code",
   "execution_count": null,
   "id": "93fd5006",
   "metadata": {
    "scrolled": true
   },
   "outputs": [],
   "source": [
    "import json\n",
    "with open('groups2023.json') as json_file:\n",
    "    groups2023 = json.load(json_file)\n",
    "\n",
    "df_test = pd.read_csv('test.csv')\n",
    "df_test.head()\n",
    "df_test['уникальный номер участника'] = df_test['уникальный номер участника'].astype(int)\n",
    "\n",
    "\n",
    "def display_history_and_predictions_for_user2(user_id, train_dataset, predictions):\n",
    "    print('----------------------------------------------------------------------------')\n",
    "    print('User', user_id, 'history:')\n",
    "    #display(train_dataset[train_dataset['user_id'] == user_id]['group_id','is_online','session','направление 1','направление 2'].to_dataframe())\n",
    "    display(train_dataset[train_dataset['user_id'] == user_id].to_dataframe())\n",
    "    predictions = predictions[predictions['user_id'] == user_id]\n",
    "    print('User recommendations:')\n",
    "    predicted_groups = predictions['group_id'].to_list()\n",
    "    display(df_groups[df_groups['уникальный номер'].isin(predicted_groups)].drop(columns=[\n",
    "        'адрес площадки',\n",
    "        'расписание в активных периодах',\n",
    "        'расписание в закрытых периодах',\n",
    "        'расписание в плановом периоде']))"
   ]
  },
  {
   "cell_type": "code",
   "execution_count": null,
   "id": "86dfe76f",
   "metadata": {},
   "outputs": [],
   "source": [
    "results = [] \n",
    "\n",
    "\n",
    "def get_groups_mix(user_id):\n",
    "    # Predictions\n",
    "    x0 = model_0.recommend(users=[user_id], k=1000).to_dataframe()\n",
    "    x0 = x0[x0['group_id'].isin(groups2023)]\n",
    "    x0 = x0.head(10)\n",
    "    \n",
    "    x1 = model_1.recommend(users=[user_id], k=1000).to_dataframe()\n",
    "    x1 = x1[x1['group_id'].isin(groups2023)]\n",
    "    x1 = x1.head(5)\n",
    "    \n",
    "    x2 = model_2.recommend(users=[user_id], k=1000).to_dataframe()\n",
    "    x2 = x2[x2['group_id'].isin(groups2023)]\n",
    "    x2 = x2.head(10)\n",
    "    \n",
    "    x3 = model_3.recommend(users=[user_id], k=1000).to_dataframe()\n",
    "    x3 = x3[x3['group_id'].isin(groups2023)]\n",
    "    x3 = x3.head(1)\n",
    "    \n",
    "    x4 = model_4.recommend(users=[user_id], k=1000).to_dataframe()\n",
    "    x4 = x4[x4['group_id'].isin(groups2023)]\n",
    "    x4 = x4.head(2)\n",
    "    \n",
    "    # Отбираем 10 штук, чтобы 1 была от 3 алгоритма и 2 от 4 алгоритма\n",
    "    x = pd.concat([x1, x4, x0])\n",
    "    x = x.drop_duplicates(subset='group_id').head(10) \n",
    "    \n",
    "    return x\n",
    "    \n",
    "       \n",
    "\n",
    "for index, row in df_test.iterrows():\n",
    "    # Получаем юзера\n",
    "    user_id = row['уникальный номер участника']\n",
    "    \n",
    "    x = get_groups_mix(user_id)\n",
    "    \n",
    "    display_history_and_predictions_for_user2(user_id, training_data, x)\n",
    "\n",
    "    groups_list = x['group_id'].to_list()\n",
    "    groups_list = [str(x) for x in groups_list]    \n",
    "    groups_str = ','.join(groups_list)\n",
    "    results.append(groups_str)\n",
    " "
   ]
  },
  {
   "cell_type": "code",
   "execution_count": null,
   "id": "a8490261",
   "metadata": {},
   "outputs": [],
   "source": [
    "df_test['уникальный номер группы'] = results\n",
    "df_test.to_csv('test.csv', index=False)"
   ]
  },
  {
   "cell_type": "code",
   "execution_count": null,
   "id": "3a007615",
   "metadata": {},
   "outputs": [],
   "source": [
    "display(df_test)"
   ]
  },
  {
   "cell_type": "code",
   "execution_count": null,
   "id": "13b183ba",
   "metadata": {},
   "outputs": [],
   "source": []
  }
 ],
 "metadata": {
  "kernelspec": {
   "display_name": "Python 3 (ipykernel)",
   "language": "python",
   "name": "python3"
  },
  "language_info": {
   "codemirror_mode": {
    "name": "ipython",
    "version": 3
   },
   "file_extension": ".py",
   "mimetype": "text/x-python",
   "name": "python",
   "nbconvert_exporter": "python",
   "pygments_lexer": "ipython3",
   "version": "3.8.16"
  }
 },
 "nbformat": 4,
 "nbformat_minor": 5
}
