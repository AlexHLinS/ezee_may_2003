{
 "cells": [
  {
   "cell_type": "markdown",
   "id": "dd302543",
   "metadata": {},
   "source": [
    "# Для тренировки модели нужно установить turicreate\n",
    "Linux or mac\n",
    "python 3.6 - 3.8\n",
    "\n",
    "`pip install turicreate`\n",
    "\n",
    "### На вход:\n",
    "- _attend_features.csv (с нашими фичами)\n",
    "- _user_features.csv (с нашими фичами)\n",
    "- _groups.csv\n",
    "\n",
    "### Выход:\n",
    "- predicts/predict_v01.csv\n"
   ]
  },
  {
   "cell_type": "code",
   "execution_count": 2,
   "id": "28b6c87a",
   "metadata": {},
   "outputs": [],
   "source": [
    "import turicreate as tc\n",
    "import pandas as pd"
   ]
  },
  {
   "cell_type": "code",
   "execution_count": 3,
   "id": "5bf9231d",
   "metadata": {},
   "outputs": [
    {
     "data": {
      "text/html": [
       "<pre>Finished parsing file /media/vasiliev/SSD_Data/_dev/ezee_may_2003/ds/_attend_features.csv</pre>"
      ],
      "text/plain": [
       "Finished parsing file /media/vasiliev/SSD_Data/_dev/ezee_may_2003/ds/_attend_features.csv"
      ]
     },
     "metadata": {},
     "output_type": "display_data"
    },
    {
     "data": {
      "text/html": [
       "<pre>Parsing completed. Parsed 100 lines in 0.302705 secs.</pre>"
      ],
      "text/plain": [
       "Parsing completed. Parsed 100 lines in 0.302705 secs."
      ]
     },
     "metadata": {},
     "output_type": "display_data"
    },
    {
     "name": "stdout",
     "output_type": "stream",
     "text": [
      "------------------------------------------------------\n",
      "Inferred types from first 100 line(s) of file as \n",
      "column_type_hints=[int,int,int,float,str,str,float,str,str,str,str,float,float]\n",
      "If parsing fails due to incorrect types, you can correct\n",
      "the inferred type list above and pass it to read_csv in\n",
      "the column_type_hints argument\n",
      "------------------------------------------------------\n"
     ]
    },
    {
     "data": {
      "text/html": [
       "<pre>Read 219940 lines. Lines per second: 651134</pre>"
      ],
      "text/plain": [
       "Read 219940 lines. Lines per second: 651134"
      ]
     },
     "metadata": {},
     "output_type": "display_data"
    },
    {
     "data": {
      "text/html": [
       "<pre>Finished parsing file /media/vasiliev/SSD_Data/_dev/ezee_may_2003/ds/_attend_features.csv</pre>"
      ],
      "text/plain": [
       "Finished parsing file /media/vasiliev/SSD_Data/_dev/ezee_may_2003/ds/_attend_features.csv"
      ]
     },
     "metadata": {},
     "output_type": "display_data"
    },
    {
     "data": {
      "text/html": [
       "<pre>Parsing completed. Parsed 600390 lines in 0.59433 secs.</pre>"
      ],
      "text/plain": [
       "Parsing completed. Parsed 600390 lines in 0.59433 secs."
      ]
     },
     "metadata": {},
     "output_type": "display_data"
    }
   ],
   "source": [
    "actions = tc.SFrame.read_csv('_attend_features.csv')"
   ]
  },
  {
   "cell_type": "code",
   "execution_count": 4,
   "id": "99ca98cc",
   "metadata": {},
   "outputs": [],
   "source": [
    "#items = tc.SFrame.read_csv('groups.csv')"
   ]
  },
  {
   "cell_type": "markdown",
   "id": "5aa7aa33",
   "metadata": {},
   "source": [
    "There are a variety of machine learning techniques that can be used to build a recommender model. Turi Create provides a method turicreate.recommender.create that will automatically choose an appropriate model for your data set. More details on choosing a model: https://apple.github.io/turicreate/docs/userguide/recommender/choosing-a-model.html\n",
    "\n",
    "First we create a random split of the data to produce a validation set that can be used to evaluate the model."
   ]
  },
  {
   "cell_type": "markdown",
   "id": "b76cbea4",
   "metadata": {},
   "source": [
    "### Чему учим модель\n",
    "\n",
    "Мы учим модель предсказывать логарифм от количества посещений юзером курса (логарифм потому что разброс посещений курса пользователем высокий - от 1 до 64)"
   ]
  },
  {
   "cell_type": "markdown",
   "id": "e1f6cf6b",
   "metadata": {},
   "source": [
    "### Создание и обучение дефолтной модели"
   ]
  },
  {
   "cell_type": "code",
   "execution_count": 8,
   "id": "54deaf6f",
   "metadata": {
    "scrolled": true
   },
   "outputs": [
    {
     "data": {
      "text/html": [
       "<pre>Preparing data set.</pre>"
      ],
      "text/plain": [
       "Preparing data set."
      ]
     },
     "metadata": {},
     "output_type": "display_data"
    },
    {
     "data": {
      "text/html": [
       "<pre>    Data has 597961 observations with 50881 users and 24534 items.</pre>"
      ],
      "text/plain": [
       "    Data has 597961 observations with 50881 users and 24534 items."
      ]
     },
     "metadata": {},
     "output_type": "display_data"
    },
    {
     "data": {
      "text/html": [
       "<pre>    Data prepared in: 0.39s</pre>"
      ],
      "text/plain": [
       "    Data prepared in: 0.39s"
      ]
     },
     "metadata": {},
     "output_type": "display_data"
    },
    {
     "data": {
      "text/html": [
       "<pre>Training ranking_factorization_recommender for recommendations.</pre>"
      ],
      "text/plain": [
       "Training ranking_factorization_recommender for recommendations."
      ]
     },
     "metadata": {},
     "output_type": "display_data"
    },
    {
     "data": {
      "text/html": [
       "<pre>+--------------------------------+--------------------------------------------------+----------+</pre>"
      ],
      "text/plain": [
       "+--------------------------------+--------------------------------------------------+----------+"
      ]
     },
     "metadata": {},
     "output_type": "display_data"
    },
    {
     "data": {
      "text/html": [
       "<pre>| Parameter                      | Description                                      | Value    |</pre>"
      ],
      "text/plain": [
       "| Parameter                      | Description                                      | Value    |"
      ]
     },
     "metadata": {},
     "output_type": "display_data"
    },
    {
     "data": {
      "text/html": [
       "<pre>+--------------------------------+--------------------------------------------------+----------+</pre>"
      ],
      "text/plain": [
       "+--------------------------------+--------------------------------------------------+----------+"
      ]
     },
     "metadata": {},
     "output_type": "display_data"
    },
    {
     "data": {
      "text/html": [
       "<pre>| num_factors                    | Factor Dimension                                 | 32       |</pre>"
      ],
      "text/plain": [
       "| num_factors                    | Factor Dimension                                 | 32       |"
      ]
     },
     "metadata": {},
     "output_type": "display_data"
    },
    {
     "data": {
      "text/html": [
       "<pre>| regularization                 | L2 Regularization on Factors                     | 1e-09    |</pre>"
      ],
      "text/plain": [
       "| regularization                 | L2 Regularization on Factors                     | 1e-09    |"
      ]
     },
     "metadata": {},
     "output_type": "display_data"
    },
    {
     "data": {
      "text/html": [
       "<pre>| solver                         | Solver used for training                         | adagrad  |</pre>"
      ],
      "text/plain": [
       "| solver                         | Solver used for training                         | adagrad  |"
      ]
     },
     "metadata": {},
     "output_type": "display_data"
    },
    {
     "data": {
      "text/html": [
       "<pre>| linear_regularization          | L2 Regularization on Linear Coefficients         | 1e-09    |</pre>"
      ],
      "text/plain": [
       "| linear_regularization          | L2 Regularization on Linear Coefficients         | 1e-09    |"
      ]
     },
     "metadata": {},
     "output_type": "display_data"
    },
    {
     "data": {
      "text/html": [
       "<pre>| ranking_regularization         | Rank-based Regularization Weight                 | 0.25     |</pre>"
      ],
      "text/plain": [
       "| ranking_regularization         | Rank-based Regularization Weight                 | 0.25     |"
      ]
     },
     "metadata": {},
     "output_type": "display_data"
    },
    {
     "data": {
      "text/html": [
       "<pre>| max_iterations                 | Maximum Number of Iterations                     | 25       |</pre>"
      ],
      "text/plain": [
       "| max_iterations                 | Maximum Number of Iterations                     | 25       |"
      ]
     },
     "metadata": {},
     "output_type": "display_data"
    },
    {
     "data": {
      "text/html": [
       "<pre>+--------------------------------+--------------------------------------------------+----------+</pre>"
      ],
      "text/plain": [
       "+--------------------------------+--------------------------------------------------+----------+"
      ]
     },
     "metadata": {},
     "output_type": "display_data"
    },
    {
     "data": {
      "text/html": [
       "<pre>  Optimizing model using SGD; tuning step size.</pre>"
      ],
      "text/plain": [
       "  Optimizing model using SGD; tuning step size."
      ]
     },
     "metadata": {},
     "output_type": "display_data"
    },
    {
     "data": {
      "text/html": [
       "<pre>  Using 74745 / 597961 points for tuning the step size.</pre>"
      ],
      "text/plain": [
       "  Using 74745 / 597961 points for tuning the step size."
      ]
     },
     "metadata": {},
     "output_type": "display_data"
    },
    {
     "data": {
      "text/html": [
       "<pre>+---------+-------------------+------------------------------------------+</pre>"
      ],
      "text/plain": [
       "+---------+-------------------+------------------------------------------+"
      ]
     },
     "metadata": {},
     "output_type": "display_data"
    },
    {
     "data": {
      "text/html": [
       "<pre>| Attempt | Initial Step Size | Estimated Objective Value                |</pre>"
      ],
      "text/plain": [
       "| Attempt | Initial Step Size | Estimated Objective Value                |"
      ]
     },
     "metadata": {},
     "output_type": "display_data"
    },
    {
     "data": {
      "text/html": [
       "<pre>+---------+-------------------+------------------------------------------+</pre>"
      ],
      "text/plain": [
       "+---------+-------------------+------------------------------------------+"
      ]
     },
     "metadata": {},
     "output_type": "display_data"
    },
    {
     "data": {
      "text/html": [
       "<pre>| 0       | 4.16667           | Not Viable                               |</pre>"
      ],
      "text/plain": [
       "| 0       | 4.16667           | Not Viable                               |"
      ]
     },
     "metadata": {},
     "output_type": "display_data"
    },
    {
     "data": {
      "text/html": [
       "<pre>| 1       | 1.04167           | Not Viable                               |</pre>"
      ],
      "text/plain": [
       "| 1       | 1.04167           | Not Viable                               |"
      ]
     },
     "metadata": {},
     "output_type": "display_data"
    },
    {
     "data": {
      "text/html": [
       "<pre>| 2       | 0.260417          | Not Viable                               |</pre>"
      ],
      "text/plain": [
       "| 2       | 0.260417          | Not Viable                               |"
      ]
     },
     "metadata": {},
     "output_type": "display_data"
    },
    {
     "data": {
      "text/html": [
       "<pre>| 3       | 0.0651042         | Not Viable                               |</pre>"
      ],
      "text/plain": [
       "| 3       | 0.0651042         | Not Viable                               |"
      ]
     },
     "metadata": {},
     "output_type": "display_data"
    },
    {
     "data": {
      "text/html": [
       "<pre>| 4       | 0.016276          | 1.33577                                  |</pre>"
      ],
      "text/plain": [
       "| 4       | 0.016276          | 1.33577                                  |"
      ]
     },
     "metadata": {},
     "output_type": "display_data"
    },
    {
     "data": {
      "text/html": [
       "<pre>| 5       | 0.00813802        | 1.81101                                  |</pre>"
      ],
      "text/plain": [
       "| 5       | 0.00813802        | 1.81101                                  |"
      ]
     },
     "metadata": {},
     "output_type": "display_data"
    },
    {
     "data": {
      "text/html": [
       "<pre>| 6       | 0.00406901        | 2.08359                                  |</pre>"
      ],
      "text/plain": [
       "| 6       | 0.00406901        | 2.08359                                  |"
      ]
     },
     "metadata": {},
     "output_type": "display_data"
    },
    {
     "data": {
      "text/html": [
       "<pre>| 7       | 0.00203451        | 2.16795                                  |</pre>"
      ],
      "text/plain": [
       "| 7       | 0.00203451        | 2.16795                                  |"
      ]
     },
     "metadata": {},
     "output_type": "display_data"
    },
    {
     "data": {
      "text/html": [
       "<pre>+---------+-------------------+------------------------------------------+</pre>"
      ],
      "text/plain": [
       "+---------+-------------------+------------------------------------------+"
      ]
     },
     "metadata": {},
     "output_type": "display_data"
    },
    {
     "data": {
      "text/html": [
       "<pre>| Final   | 0.016276          | 1.33577                                  |</pre>"
      ],
      "text/plain": [
       "| Final   | 0.016276          | 1.33577                                  |"
      ]
     },
     "metadata": {},
     "output_type": "display_data"
    },
    {
     "data": {
      "text/html": [
       "<pre>+---------+-------------------+------------------------------------------+</pre>"
      ],
      "text/plain": [
       "+---------+-------------------+------------------------------------------+"
      ]
     },
     "metadata": {},
     "output_type": "display_data"
    },
    {
     "data": {
      "text/html": [
       "<pre>Starting Optimization.</pre>"
      ],
      "text/plain": [
       "Starting Optimization."
      ]
     },
     "metadata": {},
     "output_type": "display_data"
    },
    {
     "data": {
      "text/html": [
       "<pre>+---------+--------------+-------------------+-----------------------+-------------+</pre>"
      ],
      "text/plain": [
       "+---------+--------------+-------------------+-----------------------+-------------+"
      ]
     },
     "metadata": {},
     "output_type": "display_data"
    },
    {
     "data": {
      "text/html": [
       "<pre>| Iter.   | Elapsed Time | Approx. Objective | Approx. Training RMSE | Step Size   |</pre>"
      ],
      "text/plain": [
       "| Iter.   | Elapsed Time | Approx. Objective | Approx. Training RMSE | Step Size   |"
      ]
     },
     "metadata": {},
     "output_type": "display_data"
    },
    {
     "data": {
      "text/html": [
       "<pre>+---------+--------------+-------------------+-----------------------+-------------+</pre>"
      ],
      "text/plain": [
       "+---------+--------------+-------------------+-----------------------+-------------+"
      ]
     },
     "metadata": {},
     "output_type": "display_data"
    },
    {
     "data": {
      "text/html": [
       "<pre>| Initial | 52us         | 2.77823           | 1.19033               |             |</pre>"
      ],
      "text/plain": [
       "| Initial | 52us         | 2.77823           | 1.19033               |             |"
      ]
     },
     "metadata": {},
     "output_type": "display_data"
    },
    {
     "data": {
      "text/html": [
       "<pre>+---------+--------------+-------------------+-----------------------+-------------+</pre>"
      ],
      "text/plain": [
       "+---------+--------------+-------------------+-----------------------+-------------+"
      ]
     },
     "metadata": {},
     "output_type": "display_data"
    },
    {
     "data": {
      "text/html": [
       "<pre>| 1       | 468.172ms    | 2.03111           | 1.08959               | 0.016276    |</pre>"
      ],
      "text/plain": [
       "| 1       | 468.172ms    | 2.03111           | 1.08959               | 0.016276    |"
      ]
     },
     "metadata": {},
     "output_type": "display_data"
    },
    {
     "data": {
      "text/html": [
       "<pre>| 2       | 921.405ms    | 1.58929           | 0.976142              | 0.016276    |</pre>"
      ],
      "text/plain": [
       "| 2       | 921.405ms    | 1.58929           | 0.976142              | 0.016276    |"
      ]
     },
     "metadata": {},
     "output_type": "display_data"
    },
    {
     "data": {
      "text/html": [
       "<pre>| 3       | 1.36s        | 1.36365           | 0.917098              | 0.016276    |</pre>"
      ],
      "text/plain": [
       "| 3       | 1.36s        | 1.36365           | 0.917098              | 0.016276    |"
      ]
     },
     "metadata": {},
     "output_type": "display_data"
    },
    {
     "data": {
      "text/html": [
       "<pre>| 4       | 1.79s        | 1.22625           | 0.877196              | 0.016276    |</pre>"
      ],
      "text/plain": [
       "| 4       | 1.79s        | 1.22625           | 0.877196              | 0.016276    |"
      ]
     },
     "metadata": {},
     "output_type": "display_data"
    },
    {
     "data": {
      "text/html": [
       "<pre>| 5       | 2.23s        | 1.13007           | 0.848961              | 0.016276    |</pre>"
      ],
      "text/plain": [
       "| 5       | 2.23s        | 1.13007           | 0.848961              | 0.016276    |"
      ]
     },
     "metadata": {},
     "output_type": "display_data"
    },
    {
     "data": {
      "text/html": [
       "<pre>| 10      | 4.25s        | 0.877373          | 0.768772              | 0.016276    |</pre>"
      ],
      "text/plain": [
       "| 10      | 4.25s        | 0.877373          | 0.768772              | 0.016276    |"
      ]
     },
     "metadata": {},
     "output_type": "display_data"
    },
    {
     "data": {
      "text/html": [
       "<pre>| 20      | 8.12s        | 0.694482          | 0.703868              | 0.016276    |</pre>"
      ],
      "text/plain": [
       "| 20      | 8.12s        | 0.694482          | 0.703868              | 0.016276    |"
      ]
     },
     "metadata": {},
     "output_type": "display_data"
    },
    {
     "data": {
      "text/html": [
       "<pre>| 25      | 10.00s       | 0.646922          | 0.685629              | 0.016276    |</pre>"
      ],
      "text/plain": [
       "| 25      | 10.00s       | 0.646922          | 0.685629              | 0.016276    |"
      ]
     },
     "metadata": {},
     "output_type": "display_data"
    },
    {
     "data": {
      "text/html": [
       "<pre>+---------+--------------+-------------------+-----------------------+-------------+</pre>"
      ],
      "text/plain": [
       "+---------+--------------+-------------------+-----------------------+-------------+"
      ]
     },
     "metadata": {},
     "output_type": "display_data"
    },
    {
     "data": {
      "text/html": [
       "<pre>Optimization Complete: Maximum number of passes through the data reached.</pre>"
      ],
      "text/plain": [
       "Optimization Complete: Maximum number of passes through the data reached."
      ]
     },
     "metadata": {},
     "output_type": "display_data"
    },
    {
     "data": {
      "text/html": [
       "<pre>Computing final objective value and training RMSE.</pre>"
      ],
      "text/plain": [
       "Computing final objective value and training RMSE."
      ]
     },
     "metadata": {},
     "output_type": "display_data"
    },
    {
     "data": {
      "text/html": [
       "<pre>       Final objective value: 0.624801</pre>"
      ],
      "text/plain": [
       "       Final objective value: 0.624801"
      ]
     },
     "metadata": {},
     "output_type": "display_data"
    },
    {
     "data": {
      "text/html": [
       "<pre>       Final training RMSE: 0.671059</pre>"
      ],
      "text/plain": [
       "       Final training RMSE: 0.671059"
      ]
     },
     "metadata": {},
     "output_type": "display_data"
    }
   ],
   "source": [
    "training_data, validation_data = tc.recommender.util.random_split_by_user(actions, 'user_id', 'group_id')\n",
    "model = tc.recommender.create(training_data, 'user_id', 'group_id', target = 'log_visits')"
   ]
  },
  {
   "cell_type": "code",
   "execution_count": 18,
   "id": "23dbc605",
   "metadata": {
    "scrolled": true
   },
   "outputs": [
    {
     "data": {
      "text/plain": [
       "Class                            : RankingFactorizationRecommender\n",
       "\n",
       "Schema\n",
       "------\n",
       "User ID                          : user_id\n",
       "Item ID                          : group_id\n",
       "Target                           : log_visits\n",
       "Additional observation features  : 10\n",
       "User side features               : []\n",
       "Item side features               : []\n",
       "\n",
       "Statistics\n",
       "----------\n",
       "Number of observations           : 597961\n",
       "Number of users                  : 50881\n",
       "Number of items                  : 24534\n",
       "\n",
       "Training summary\n",
       "----------------\n",
       "Training time                    : 12.0792\n",
       "\n",
       "Model Parameters\n",
       "----------------\n",
       "Model class                      : RankingFactorizationRecommender\n",
       "num_factors                      : 32\n",
       "binary_target                    : 0\n",
       "side_data_factorization          : 1\n",
       "solver                           : auto\n",
       "nmf                              : 0\n",
       "max_iterations                   : 25\n",
       "\n",
       "Regularization Settings\n",
       "-----------------------\n",
       "regularization                   : 0.0\n",
       "regularization_type              : normal\n",
       "linear_regularization            : 0.0\n",
       "ranking_regularization           : 0.25\n",
       "unobserved_rating_value          : -1.7976931348623157e+308\n",
       "num_sampled_negative_examples    : 4\n",
       "ials_confidence_scaling_type     : auto\n",
       "ials_confidence_scaling_factor   : 1\n",
       "\n",
       "Optimization Settings\n",
       "---------------------\n",
       "init_random_sigma                : 0.01\n",
       "sgd_convergence_interval         : 4\n",
       "sgd_convergence_threshold        : 0.0\n",
       "sgd_max_trial_iterations         : 5\n",
       "sgd_sampling_block_size          : 131072\n",
       "sgd_step_adjustment_interval     : 4\n",
       "sgd_step_size                    : 0.0\n",
       "sgd_trial_sample_minimum_size    : 10000\n",
       "sgd_trial_sample_proportion      : 0.125\n",
       "step_size_decrease_rate          : 0.75\n",
       "additional_iterations_if_unhealthy : 5\n",
       "adagrad_momentum_weighting       : 0.9\n",
       "num_tempering_iterations         : 4\n",
       "tempering_regularization_start_value : 0.0\n",
       "track_exact_loss                 : 0"
      ]
     },
     "execution_count": 18,
     "metadata": {},
     "output_type": "execute_result"
    }
   ],
   "source": [
    "# параметры модели\n",
    "model"
   ]
  },
  {
   "cell_type": "markdown",
   "id": "fab740ff",
   "metadata": {},
   "source": [
    "### Получение предсказаний от дефолтной модели"
   ]
  },
  {
   "cell_type": "code",
   "execution_count": 11,
   "id": "99708424",
   "metadata": {
    "scrolled": true
   },
   "outputs": [
    {
     "data": {
      "text/html": [
       "<pre>recommendations finished on 1000/50881 queries. users per second: 5323.54</pre>"
      ],
      "text/plain": [
       "recommendations finished on 1000/50881 queries. users per second: 5323.54"
      ]
     },
     "metadata": {},
     "output_type": "display_data"
    },
    {
     "data": {
      "text/html": [
       "<pre>recommendations finished on 2000/50881 queries. users per second: 5384.51</pre>"
      ],
      "text/plain": [
       "recommendations finished on 2000/50881 queries. users per second: 5384.51"
      ]
     },
     "metadata": {},
     "output_type": "display_data"
    },
    {
     "data": {
      "text/html": [
       "<pre>recommendations finished on 3000/50881 queries. users per second: 5377.35</pre>"
      ],
      "text/plain": [
       "recommendations finished on 3000/50881 queries. users per second: 5377.35"
      ]
     },
     "metadata": {},
     "output_type": "display_data"
    },
    {
     "data": {
      "text/html": [
       "<pre>recommendations finished on 4000/50881 queries. users per second: 5374</pre>"
      ],
      "text/plain": [
       "recommendations finished on 4000/50881 queries. users per second: 5374"
      ]
     },
     "metadata": {},
     "output_type": "display_data"
    },
    {
     "data": {
      "text/html": [
       "<pre>recommendations finished on 5000/50881 queries. users per second: 5389.5</pre>"
      ],
      "text/plain": [
       "recommendations finished on 5000/50881 queries. users per second: 5389.5"
      ]
     },
     "metadata": {},
     "output_type": "display_data"
    },
    {
     "data": {
      "text/html": [
       "<pre>recommendations finished on 6000/50881 queries. users per second: 5393.54</pre>"
      ],
      "text/plain": [
       "recommendations finished on 6000/50881 queries. users per second: 5393.54"
      ]
     },
     "metadata": {},
     "output_type": "display_data"
    },
    {
     "data": {
      "text/html": [
       "<pre>recommendations finished on 7000/50881 queries. users per second: 5378.99</pre>"
      ],
      "text/plain": [
       "recommendations finished on 7000/50881 queries. users per second: 5378.99"
      ]
     },
     "metadata": {},
     "output_type": "display_data"
    },
    {
     "data": {
      "text/html": [
       "<pre>recommendations finished on 8000/50881 queries. users per second: 5373.5</pre>"
      ],
      "text/plain": [
       "recommendations finished on 8000/50881 queries. users per second: 5373.5"
      ]
     },
     "metadata": {},
     "output_type": "display_data"
    },
    {
     "data": {
      "text/html": [
       "<pre>recommendations finished on 9000/50881 queries. users per second: 5371.4</pre>"
      ],
      "text/plain": [
       "recommendations finished on 9000/50881 queries. users per second: 5371.4"
      ]
     },
     "metadata": {},
     "output_type": "display_data"
    },
    {
     "data": {
      "text/html": [
       "<pre>recommendations finished on 10000/50881 queries. users per second: 5368.27</pre>"
      ],
      "text/plain": [
       "recommendations finished on 10000/50881 queries. users per second: 5368.27"
      ]
     },
     "metadata": {},
     "output_type": "display_data"
    },
    {
     "data": {
      "text/html": [
       "<pre>recommendations finished on 11000/50881 queries. users per second: 5361.7</pre>"
      ],
      "text/plain": [
       "recommendations finished on 11000/50881 queries. users per second: 5361.7"
      ]
     },
     "metadata": {},
     "output_type": "display_data"
    },
    {
     "data": {
      "text/html": [
       "<pre>recommendations finished on 12000/50881 queries. users per second: 5354.5</pre>"
      ],
      "text/plain": [
       "recommendations finished on 12000/50881 queries. users per second: 5354.5"
      ]
     },
     "metadata": {},
     "output_type": "display_data"
    },
    {
     "data": {
      "text/html": [
       "<pre>recommendations finished on 13000/50881 queries. users per second: 5359.22</pre>"
      ],
      "text/plain": [
       "recommendations finished on 13000/50881 queries. users per second: 5359.22"
      ]
     },
     "metadata": {},
     "output_type": "display_data"
    },
    {
     "data": {
      "text/html": [
       "<pre>recommendations finished on 14000/50881 queries. users per second: 5359.39</pre>"
      ],
      "text/plain": [
       "recommendations finished on 14000/50881 queries. users per second: 5359.39"
      ]
     },
     "metadata": {},
     "output_type": "display_data"
    },
    {
     "data": {
      "text/html": [
       "<pre>recommendations finished on 15000/50881 queries. users per second: 5365.62</pre>"
      ],
      "text/plain": [
       "recommendations finished on 15000/50881 queries. users per second: 5365.62"
      ]
     },
     "metadata": {},
     "output_type": "display_data"
    },
    {
     "data": {
      "text/html": [
       "<pre>recommendations finished on 16000/50881 queries. users per second: 5366.85</pre>"
      ],
      "text/plain": [
       "recommendations finished on 16000/50881 queries. users per second: 5366.85"
      ]
     },
     "metadata": {},
     "output_type": "display_data"
    },
    {
     "data": {
      "text/html": [
       "<pre>recommendations finished on 17000/50881 queries. users per second: 5370.08</pre>"
      ],
      "text/plain": [
       "recommendations finished on 17000/50881 queries. users per second: 5370.08"
      ]
     },
     "metadata": {},
     "output_type": "display_data"
    },
    {
     "data": {
      "text/html": [
       "<pre>recommendations finished on 18000/50881 queries. users per second: 5372.43</pre>"
      ],
      "text/plain": [
       "recommendations finished on 18000/50881 queries. users per second: 5372.43"
      ]
     },
     "metadata": {},
     "output_type": "display_data"
    },
    {
     "data": {
      "text/html": [
       "<pre>recommendations finished on 19000/50881 queries. users per second: 5374.98</pre>"
      ],
      "text/plain": [
       "recommendations finished on 19000/50881 queries. users per second: 5374.98"
      ]
     },
     "metadata": {},
     "output_type": "display_data"
    },
    {
     "data": {
      "text/html": [
       "<pre>recommendations finished on 20000/50881 queries. users per second: 5376.89</pre>"
      ],
      "text/plain": [
       "recommendations finished on 20000/50881 queries. users per second: 5376.89"
      ]
     },
     "metadata": {},
     "output_type": "display_data"
    },
    {
     "data": {
      "text/html": [
       "<pre>recommendations finished on 21000/50881 queries. users per second: 5380.51</pre>"
      ],
      "text/plain": [
       "recommendations finished on 21000/50881 queries. users per second: 5380.51"
      ]
     },
     "metadata": {},
     "output_type": "display_data"
    },
    {
     "data": {
      "text/html": [
       "<pre>recommendations finished on 22000/50881 queries. users per second: 5382.99</pre>"
      ],
      "text/plain": [
       "recommendations finished on 22000/50881 queries. users per second: 5382.99"
      ]
     },
     "metadata": {},
     "output_type": "display_data"
    },
    {
     "data": {
      "text/html": [
       "<pre>recommendations finished on 23000/50881 queries. users per second: 5381.84</pre>"
      ],
      "text/plain": [
       "recommendations finished on 23000/50881 queries. users per second: 5381.84"
      ]
     },
     "metadata": {},
     "output_type": "display_data"
    },
    {
     "data": {
      "text/html": [
       "<pre>recommendations finished on 24000/50881 queries. users per second: 5378.63</pre>"
      ],
      "text/plain": [
       "recommendations finished on 24000/50881 queries. users per second: 5378.63"
      ]
     },
     "metadata": {},
     "output_type": "display_data"
    },
    {
     "data": {
      "text/html": [
       "<pre>recommendations finished on 25000/50881 queries. users per second: 5378.05</pre>"
      ],
      "text/plain": [
       "recommendations finished on 25000/50881 queries. users per second: 5378.05"
      ]
     },
     "metadata": {},
     "output_type": "display_data"
    },
    {
     "data": {
      "text/html": [
       "<pre>recommendations finished on 26000/50881 queries. users per second: 5379.85</pre>"
      ],
      "text/plain": [
       "recommendations finished on 26000/50881 queries. users per second: 5379.85"
      ]
     },
     "metadata": {},
     "output_type": "display_data"
    },
    {
     "data": {
      "text/html": [
       "<pre>recommendations finished on 27000/50881 queries. users per second: 5382.02</pre>"
      ],
      "text/plain": [
       "recommendations finished on 27000/50881 queries. users per second: 5382.02"
      ]
     },
     "metadata": {},
     "output_type": "display_data"
    },
    {
     "data": {
      "text/html": [
       "<pre>recommendations finished on 28000/50881 queries. users per second: 5383.37</pre>"
      ],
      "text/plain": [
       "recommendations finished on 28000/50881 queries. users per second: 5383.37"
      ]
     },
     "metadata": {},
     "output_type": "display_data"
    },
    {
     "data": {
      "text/html": [
       "<pre>recommendations finished on 29000/50881 queries. users per second: 5383.75</pre>"
      ],
      "text/plain": [
       "recommendations finished on 29000/50881 queries. users per second: 5383.75"
      ]
     },
     "metadata": {},
     "output_type": "display_data"
    },
    {
     "data": {
      "text/html": [
       "<pre>recommendations finished on 30000/50881 queries. users per second: 5385.52</pre>"
      ],
      "text/plain": [
       "recommendations finished on 30000/50881 queries. users per second: 5385.52"
      ]
     },
     "metadata": {},
     "output_type": "display_data"
    },
    {
     "data": {
      "text/html": [
       "<pre>recommendations finished on 31000/50881 queries. users per second: 5387.13</pre>"
      ],
      "text/plain": [
       "recommendations finished on 31000/50881 queries. users per second: 5387.13"
      ]
     },
     "metadata": {},
     "output_type": "display_data"
    },
    {
     "data": {
      "text/html": [
       "<pre>recommendations finished on 32000/50881 queries. users per second: 5388.47</pre>"
      ],
      "text/plain": [
       "recommendations finished on 32000/50881 queries. users per second: 5388.47"
      ]
     },
     "metadata": {},
     "output_type": "display_data"
    },
    {
     "data": {
      "text/html": [
       "<pre>recommendations finished on 33000/50881 queries. users per second: 5389.65</pre>"
      ],
      "text/plain": [
       "recommendations finished on 33000/50881 queries. users per second: 5389.65"
      ]
     },
     "metadata": {},
     "output_type": "display_data"
    },
    {
     "data": {
      "text/html": [
       "<pre>recommendations finished on 34000/50881 queries. users per second: 5389.19</pre>"
      ],
      "text/plain": [
       "recommendations finished on 34000/50881 queries. users per second: 5389.19"
      ]
     },
     "metadata": {},
     "output_type": "display_data"
    },
    {
     "data": {
      "text/html": [
       "<pre>recommendations finished on 35000/50881 queries. users per second: 5389.63</pre>"
      ],
      "text/plain": [
       "recommendations finished on 35000/50881 queries. users per second: 5389.63"
      ]
     },
     "metadata": {},
     "output_type": "display_data"
    },
    {
     "data": {
      "text/html": [
       "<pre>recommendations finished on 36000/50881 queries. users per second: 5388.33</pre>"
      ],
      "text/plain": [
       "recommendations finished on 36000/50881 queries. users per second: 5388.33"
      ]
     },
     "metadata": {},
     "output_type": "display_data"
    },
    {
     "data": {
      "text/html": [
       "<pre>recommendations finished on 37000/50881 queries. users per second: 5386.53</pre>"
      ],
      "text/plain": [
       "recommendations finished on 37000/50881 queries. users per second: 5386.53"
      ]
     },
     "metadata": {},
     "output_type": "display_data"
    },
    {
     "data": {
      "text/html": [
       "<pre>recommendations finished on 38000/50881 queries. users per second: 5378.07</pre>"
      ],
      "text/plain": [
       "recommendations finished on 38000/50881 queries. users per second: 5378.07"
      ]
     },
     "metadata": {},
     "output_type": "display_data"
    },
    {
     "data": {
      "text/html": [
       "<pre>recommendations finished on 39000/50881 queries. users per second: 5360.2</pre>"
      ],
      "text/plain": [
       "recommendations finished on 39000/50881 queries. users per second: 5360.2"
      ]
     },
     "metadata": {},
     "output_type": "display_data"
    },
    {
     "data": {
      "text/html": [
       "<pre>recommendations finished on 40000/50881 queries. users per second: 5331.01</pre>"
      ],
      "text/plain": [
       "recommendations finished on 40000/50881 queries. users per second: 5331.01"
      ]
     },
     "metadata": {},
     "output_type": "display_data"
    },
    {
     "data": {
      "text/html": [
       "<pre>recommendations finished on 41000/50881 queries. users per second: 5282.08</pre>"
      ],
      "text/plain": [
       "recommendations finished on 41000/50881 queries. users per second: 5282.08"
      ]
     },
     "metadata": {},
     "output_type": "display_data"
    },
    {
     "data": {
      "text/html": [
       "<pre>recommendations finished on 42000/50881 queries. users per second: 5220.04</pre>"
      ],
      "text/plain": [
       "recommendations finished on 42000/50881 queries. users per second: 5220.04"
      ]
     },
     "metadata": {},
     "output_type": "display_data"
    },
    {
     "data": {
      "text/html": [
       "<pre>recommendations finished on 43000/50881 queries. users per second: 5161.05</pre>"
      ],
      "text/plain": [
       "recommendations finished on 43000/50881 queries. users per second: 5161.05"
      ]
     },
     "metadata": {},
     "output_type": "display_data"
    },
    {
     "data": {
      "text/html": [
       "<pre>recommendations finished on 44000/50881 queries. users per second: 5107.87</pre>"
      ],
      "text/plain": [
       "recommendations finished on 44000/50881 queries. users per second: 5107.87"
      ]
     },
     "metadata": {},
     "output_type": "display_data"
    },
    {
     "data": {
      "text/html": [
       "<pre>recommendations finished on 45000/50881 queries. users per second: 5045.64</pre>"
      ],
      "text/plain": [
       "recommendations finished on 45000/50881 queries. users per second: 5045.64"
      ]
     },
     "metadata": {},
     "output_type": "display_data"
    },
    {
     "data": {
      "text/html": [
       "<pre>recommendations finished on 46000/50881 queries. users per second: 4981.29</pre>"
      ],
      "text/plain": [
       "recommendations finished on 46000/50881 queries. users per second: 4981.29"
      ]
     },
     "metadata": {},
     "output_type": "display_data"
    },
    {
     "data": {
      "text/html": [
       "<pre>recommendations finished on 47000/50881 queries. users per second: 4918.78</pre>"
      ],
      "text/plain": [
       "recommendations finished on 47000/50881 queries. users per second: 4918.78"
      ]
     },
     "metadata": {},
     "output_type": "display_data"
    },
    {
     "data": {
      "text/html": [
       "<pre>recommendations finished on 48000/50881 queries. users per second: 4856.43</pre>"
      ],
      "text/plain": [
       "recommendations finished on 48000/50881 queries. users per second: 4856.43"
      ]
     },
     "metadata": {},
     "output_type": "display_data"
    },
    {
     "data": {
      "text/html": [
       "<pre>recommendations finished on 49000/50881 queries. users per second: 4798.89</pre>"
      ],
      "text/plain": [
       "recommendations finished on 49000/50881 queries. users per second: 4798.89"
      ]
     },
     "metadata": {},
     "output_type": "display_data"
    },
    {
     "data": {
      "text/html": [
       "<pre>recommendations finished on 50000/50881 queries. users per second: 4682.73</pre>"
      ],
      "text/plain": [
       "recommendations finished on 50000/50881 queries. users per second: 4682.73"
      ]
     },
     "metadata": {},
     "output_type": "display_data"
    }
   ],
   "source": [
    "default_recommendations = model.recommend()"
   ]
  },
  {
   "cell_type": "markdown",
   "id": "5880e65b",
   "metadata": {},
   "source": [
    "### Посмотрим рекоммендации для отдельных юзеров"
   ]
  },
  {
   "cell_type": "code",
   "execution_count": 14,
   "id": "57f9a406",
   "metadata": {},
   "outputs": [],
   "source": [
    "df_groups = pd.read_csv('groups.csv')\n",
    "\n",
    "def display_history_and_predictions_for_user(user_id, train_dataset, predictions):\n",
    "    print('----------------------------------------------------------------------------')\n",
    "    print('User', user_id, 'history:')\n",
    "    display(train_dataset[train_dataset['user_id'] == user_id][\n",
    "        'group_id','is_online','session','направление 1','направление 2'])\n",
    "    predictions = predictions[predictions['user_id'] == user_id].to_dataframe()\n",
    "    print('User recommendations:')\n",
    "    predicted_groups = predictions['group_id'].to_list()\n",
    "    display(df_groups[df_groups['уникальный номер'].isin(predicted_groups)].drop(columns=[\n",
    "        'адрес площадки','расписание в активных периодах','расписание в закрытых периодах','расписание в плановом периоде']))"
   ]
  },
  {
   "cell_type": "code",
   "execution_count": 16,
   "id": "3b30b808",
   "metadata": {
    "scrolled": true
   },
   "outputs": [
    {
     "name": "stdout",
     "output_type": "stream",
     "text": [
      "----------------------------------------------------------------------------\n",
      "User 101352882 history:\n"
     ]
    },
    {
     "data": {
      "text/html": [
       "<div style=\"max-height:1000px;max-width:1500px;overflow:auto;\"><table frame=\"box\" rules=\"cols\">\n",
       "    <tr>\n",
       "        <th style=\"padding-left: 1em; padding-right: 1em; text-align: center\">group_id</th>\n",
       "        <th style=\"padding-left: 1em; padding-right: 1em; text-align: center\">is_online</th>\n",
       "        <th style=\"padding-left: 1em; padding-right: 1em; text-align: center\">session</th>\n",
       "        <th style=\"padding-left: 1em; padding-right: 1em; text-align: center\">направление 1</th>\n",
       "        <th style=\"padding-left: 1em; padding-right: 1em; text-align: center\">направление 2</th>\n",
       "    </tr>\n",
       "    <tr>\n",
       "        <td style=\"padding-left: 1em; padding-right: 1em; text-align: center; vertical-align: top\">801348234</td>\n",
       "        <td style=\"padding-left: 1em; padding-right: 1em; text-align: center; vertical-align: top\">online</td>\n",
       "        <td style=\"padding-left: 1em; padding-right: 1em; text-align: center; vertical-align: top\">mornig</td>\n",
       "        <td style=\"padding-left: 1em; padding-right: 1em; text-align: center; vertical-align: top\">Физическая активность</td>\n",
       "        <td style=\"padding-left: 1em; padding-right: 1em; text-align: center; vertical-align: top\">ОНЛАЙН Гимнастика</td>\n",
       "    </tr>\n",
       "    <tr>\n",
       "        <td style=\"padding-left: 1em; padding-right: 1em; text-align: center; vertical-align: top\">801348838</td>\n",
       "        <td style=\"padding-left: 1em; padding-right: 1em; text-align: center; vertical-align: top\">offline</td>\n",
       "        <td style=\"padding-left: 1em; padding-right: 1em; text-align: center; vertical-align: top\">mornig</td>\n",
       "        <td style=\"padding-left: 1em; padding-right: 1em; text-align: center; vertical-align: top\">Физическая активность</td>\n",
       "        <td style=\"padding-left: 1em; padding-right: 1em; text-align: center; vertical-align: top\">Гимнастика</td>\n",
       "    </tr>\n",
       "    <tr>\n",
       "        <td style=\"padding-left: 1em; padding-right: 1em; text-align: center; vertical-align: top\">801348944</td>\n",
       "        <td style=\"padding-left: 1em; padding-right: 1em; text-align: center; vertical-align: top\">offline</td>\n",
       "        <td style=\"padding-left: 1em; padding-right: 1em; text-align: center; vertical-align: top\">mornig</td>\n",
       "        <td style=\"padding-left: 1em; padding-right: 1em; text-align: center; vertical-align: top\">Танцы</td>\n",
       "        <td style=\"padding-left: 1em; padding-right: 1em; text-align: center; vertical-align: top\">Танцы</td>\n",
       "    </tr>\n",
       "    <tr>\n",
       "        <td style=\"padding-left: 1em; padding-right: 1em; text-align: center; vertical-align: top\">801349048</td>\n",
       "        <td style=\"padding-left: 1em; padding-right: 1em; text-align: center; vertical-align: top\">offline</td>\n",
       "        <td style=\"padding-left: 1em; padding-right: 1em; text-align: center; vertical-align: top\">mornig</td>\n",
       "        <td style=\"padding-left: 1em; padding-right: 1em; text-align: center; vertical-align: top\">Физическая активность</td>\n",
       "        <td style=\"padding-left: 1em; padding-right: 1em; text-align: center; vertical-align: top\">ОФП</td>\n",
       "    </tr>\n",
       "    <tr>\n",
       "        <td style=\"padding-left: 1em; padding-right: 1em; text-align: center; vertical-align: top\">801350227</td>\n",
       "        <td style=\"padding-left: 1em; padding-right: 1em; text-align: center; vertical-align: top\">online</td>\n",
       "        <td style=\"padding-left: 1em; padding-right: 1em; text-align: center; vertical-align: top\">mornig</td>\n",
       "        <td style=\"padding-left: 1em; padding-right: 1em; text-align: center; vertical-align: top\">Творчество</td>\n",
       "        <td style=\"padding-left: 1em; padding-right: 1em; text-align: center; vertical-align: top\">ОНЛАЙН Художественно-<br>прикладное творчество ...</td>\n",
       "    </tr>\n",
       "    <tr>\n",
       "        <td style=\"padding-left: 1em; padding-right: 1em; text-align: center; vertical-align: top\">801350380</td>\n",
       "        <td style=\"padding-left: 1em; padding-right: 1em; text-align: center; vertical-align: top\">online</td>\n",
       "        <td style=\"padding-left: 1em; padding-right: 1em; text-align: center; vertical-align: top\">mornig</td>\n",
       "        <td style=\"padding-left: 1em; padding-right: 1em; text-align: center; vertical-align: top\">Танцы</td>\n",
       "        <td style=\"padding-left: 1em; padding-right: 1em; text-align: center; vertical-align: top\">ОНЛАЙН Танцы</td>\n",
       "    </tr>\n",
       "    <tr>\n",
       "        <td style=\"padding-left: 1em; padding-right: 1em; text-align: center; vertical-align: top\">801351413</td>\n",
       "        <td style=\"padding-left: 1em; padding-right: 1em; text-align: center; vertical-align: top\">online</td>\n",
       "        <td style=\"padding-left: 1em; padding-right: 1em; text-align: center; vertical-align: top\">mornig</td>\n",
       "        <td style=\"padding-left: 1em; padding-right: 1em; text-align: center; vertical-align: top\">Рисование</td>\n",
       "        <td style=\"padding-left: 1em; padding-right: 1em; text-align: center; vertical-align: top\">ОНЛАЙН Рисование</td>\n",
       "    </tr>\n",
       "    <tr>\n",
       "        <td style=\"padding-left: 1em; padding-right: 1em; text-align: center; vertical-align: top\">801358464</td>\n",
       "        <td style=\"padding-left: 1em; padding-right: 1em; text-align: center; vertical-align: top\">online</td>\n",
       "        <td style=\"padding-left: 1em; padding-right: 1em; text-align: center; vertical-align: top\">mornig</td>\n",
       "        <td style=\"padding-left: 1em; padding-right: 1em; text-align: center; vertical-align: top\">Физическая активность</td>\n",
       "        <td style=\"padding-left: 1em; padding-right: 1em; text-align: center; vertical-align: top\">ОНЛАЙН Гимнастика</td>\n",
       "    </tr>\n",
       "    <tr>\n",
       "        <td style=\"padding-left: 1em; padding-right: 1em; text-align: center; vertical-align: top\">801358465</td>\n",
       "        <td style=\"padding-left: 1em; padding-right: 1em; text-align: center; vertical-align: top\">online</td>\n",
       "        <td style=\"padding-left: 1em; padding-right: 1em; text-align: center; vertical-align: top\">mornig</td>\n",
       "        <td style=\"padding-left: 1em; padding-right: 1em; text-align: center; vertical-align: top\">Танцы</td>\n",
       "        <td style=\"padding-left: 1em; padding-right: 1em; text-align: center; vertical-align: top\">ОНЛАЙН Танцы</td>\n",
       "    </tr>\n",
       "    <tr>\n",
       "        <td style=\"padding-left: 1em; padding-right: 1em; text-align: center; vertical-align: top\">801358466</td>\n",
       "        <td style=\"padding-left: 1em; padding-right: 1em; text-align: center; vertical-align: top\">online</td>\n",
       "        <td style=\"padding-left: 1em; padding-right: 1em; text-align: center; vertical-align: top\">mornig</td>\n",
       "        <td style=\"padding-left: 1em; padding-right: 1em; text-align: center; vertical-align: top\">Физическая активность</td>\n",
       "        <td style=\"padding-left: 1em; padding-right: 1em; text-align: center; vertical-align: top\">ОНЛАЙН Гимнастика</td>\n",
       "    </tr>\n",
       "</table>\n",
       "[? rows x 5 columns]<br/>Note: Only the head of the SFrame is printed. This SFrame is lazily evaluated.<br/>You can use sf.materialize() to force materialization.\n",
       "</div>"
      ],
      "text/plain": [
       "Columns:\n",
       "\tgroup_id\tint\n",
       "\tis_online\tstr\n",
       "\tsession\tstr\n",
       "\tнаправление 1\tstr\n",
       "\tнаправление 2\tstr\n",
       "\n",
       "Rows: Unknown\n",
       "\n",
       "Data:\n",
       "+-----------+-----------+---------+-----------------------+\n",
       "|  group_id | is_online | session |     направление 1     |\n",
       "+-----------+-----------+---------+-----------------------+\n",
       "| 801348234 |   online  |  mornig | Физическая активность |\n",
       "| 801348838 |  offline  |  mornig | Физическая активность |\n",
       "| 801348944 |  offline  |  mornig |         Танцы         |\n",
       "| 801349048 |  offline  |  mornig | Физическая активность |\n",
       "| 801350227 |   online  |  mornig |       Творчество      |\n",
       "| 801350380 |   online  |  mornig |         Танцы         |\n",
       "| 801351413 |   online  |  mornig |       Рисование       |\n",
       "| 801358464 |   online  |  mornig | Физическая активность |\n",
       "| 801358465 |   online  |  mornig |         Танцы         |\n",
       "| 801358466 |   online  |  mornig | Физическая активность |\n",
       "+-----------+-----------+---------+-----------------------+\n",
       "+-------------------------------+\n",
       "|         направление 2         |\n",
       "+-------------------------------+\n",
       "|       ОНЛАЙН Гимнастика       |\n",
       "|           Гимнастика          |\n",
       "|             Танцы             |\n",
       "|              ОФП              |\n",
       "| ОНЛАЙН Художественно-прикл... |\n",
       "|          ОНЛАЙН Танцы         |\n",
       "|        ОНЛАЙН Рисование       |\n",
       "|       ОНЛАЙН Гимнастика       |\n",
       "|          ОНЛАЙН Танцы         |\n",
       "|       ОНЛАЙН Гимнастика       |\n",
       "+-------------------------------+\n",
       "[? rows x 5 columns]\n",
       "Note: Only the head of the SFrame is printed. This SFrame is lazily evaluated.\n",
       "You can use sf.materialize() to force materialization."
      ]
     },
     "metadata": {},
     "output_type": "display_data"
    },
    {
     "name": "stdout",
     "output_type": "stream",
     "text": [
      "User recommendations:\n"
     ]
    },
    {
     "data": {
      "text/html": [
       "<div>\n",
       "<style scoped>\n",
       "    .dataframe tbody tr th:only-of-type {\n",
       "        vertical-align: middle;\n",
       "    }\n",
       "\n",
       "    .dataframe tbody tr th {\n",
       "        vertical-align: top;\n",
       "    }\n",
       "\n",
       "    .dataframe thead th {\n",
       "        text-align: right;\n",
       "    }\n",
       "</style>\n",
       "<table border=\"1\" class=\"dataframe\">\n",
       "  <thead>\n",
       "    <tr style=\"text-align: right;\">\n",
       "      <th></th>\n",
       "      <th>уникальный номер</th>\n",
       "      <th>направление 1</th>\n",
       "      <th>направление 2</th>\n",
       "      <th>направление 3</th>\n",
       "      <th>округ площадки</th>\n",
       "      <th>район площадки</th>\n",
       "    </tr>\n",
       "  </thead>\n",
       "  <tbody>\n",
       "    <tr>\n",
       "      <th>882</th>\n",
       "      <td>801348532</td>\n",
       "      <td>Рисование</td>\n",
       "      <td>ОНЛАЙН Рисование</td>\n",
       "      <td>ОНЛАЙН Акварельная живопись</td>\n",
       "      <td>Зеленоградский административный округ</td>\n",
       "      <td>муниципальный округ Крюково</td>\n",
       "    </tr>\n",
       "    <tr>\n",
       "      <th>1708</th>\n",
       "      <td>801347075</td>\n",
       "      <td>Физическая активность</td>\n",
       "      <td>ОНЛАЙН ОФП</td>\n",
       "      <td>ОНЛАЙН Физкультурно-оздоровительные занятия</td>\n",
       "      <td>Северо-Западный административный округ</td>\n",
       "      <td>муниципальный округ Щукино</td>\n",
       "    </tr>\n",
       "    <tr>\n",
       "      <th>1717</th>\n",
       "      <td>801346764</td>\n",
       "      <td>Физическая активность</td>\n",
       "      <td>ОНЛАЙН ОФП</td>\n",
       "      <td>ОНЛАЙН Физкультурно-оздоровительные занятия</td>\n",
       "      <td>Восточный административный округ</td>\n",
       "      <td>муниципальный округ Северное Измайлово</td>\n",
       "    </tr>\n",
       "    <tr>\n",
       "      <th>1730</th>\n",
       "      <td>801348933</td>\n",
       "      <td>Физическая активность</td>\n",
       "      <td>ОНЛАЙН ОФП</td>\n",
       "      <td>ОНЛАЙН Физкультурно-оздоровительные занятия</td>\n",
       "      <td>Западный административный округ</td>\n",
       "      <td>муниципальный округ Можайский</td>\n",
       "    </tr>\n",
       "    <tr>\n",
       "      <th>1739</th>\n",
       "      <td>801349699</td>\n",
       "      <td>Физическая активность</td>\n",
       "      <td>ОНЛАЙН ОФП</td>\n",
       "      <td>ОНЛАЙН Физкультурно-оздоровительные занятия</td>\n",
       "      <td>Южный административный округ</td>\n",
       "      <td>муниципальный округ Даниловский</td>\n",
       "    </tr>\n",
       "    <tr>\n",
       "      <th>1765</th>\n",
       "      <td>801350565</td>\n",
       "      <td>Физическая активность</td>\n",
       "      <td>ОНЛАЙН ОФП</td>\n",
       "      <td>ОНЛАЙН Физкультурно-оздоровительные занятия</td>\n",
       "      <td>Восточный административный округ</td>\n",
       "      <td>муниципальный округ Гольяново</td>\n",
       "    </tr>\n",
       "    <tr>\n",
       "      <th>1769</th>\n",
       "      <td>801348457</td>\n",
       "      <td>Физическая активность</td>\n",
       "      <td>ОНЛАЙН ОФП</td>\n",
       "      <td>ОНЛАЙН Физкультурно-оздоровительные занятия</td>\n",
       "      <td>Северный административный округ,</td>\n",
       "      <td>муниципальный округ Сокол,</td>\n",
       "    </tr>\n",
       "    <tr>\n",
       "      <th>3915</th>\n",
       "      <td>801348042</td>\n",
       "      <td>Рисование</td>\n",
       "      <td>ОНЛАЙН Рисование</td>\n",
       "      <td>ОНЛАЙН Масляная живопись</td>\n",
       "      <td>Зеленоградский административный округ</td>\n",
       "      <td>муниципальный округ Крюково</td>\n",
       "    </tr>\n",
       "    <tr>\n",
       "      <th>3971</th>\n",
       "      <td>801350767</td>\n",
       "      <td>Рисование</td>\n",
       "      <td>ОНЛАЙН Рисование</td>\n",
       "      <td>ОНЛАЙН Различные техники рисования</td>\n",
       "      <td>NaN</td>\n",
       "      <td>NaN</td>\n",
       "    </tr>\n",
       "    <tr>\n",
       "      <th>7460</th>\n",
       "      <td>801348374</td>\n",
       "      <td>Танцы</td>\n",
       "      <td>Танцы</td>\n",
       "      <td>Танцы для всех</td>\n",
       "      <td>Центральный административный округ</td>\n",
       "      <td>муниципальный округ Тверской</td>\n",
       "    </tr>\n",
       "  </tbody>\n",
       "</table>\n",
       "</div>"
      ],
      "text/plain": [
       "      уникальный номер          направление 1     направление 2   \n",
       "882          801348532              Рисование  ОНЛАЙН Рисование  \\\n",
       "1708         801347075  Физическая активность        ОНЛАЙН ОФП   \n",
       "1717         801346764  Физическая активность        ОНЛАЙН ОФП   \n",
       "1730         801348933  Физическая активность        ОНЛАЙН ОФП   \n",
       "1739         801349699  Физическая активность        ОНЛАЙН ОФП   \n",
       "1765         801350565  Физическая активность        ОНЛАЙН ОФП   \n",
       "1769         801348457  Физическая активность        ОНЛАЙН ОФП   \n",
       "3915         801348042              Рисование  ОНЛАЙН Рисование   \n",
       "3971         801350767              Рисование  ОНЛАЙН Рисование   \n",
       "7460         801348374                  Танцы             Танцы   \n",
       "\n",
       "                                    направление 3   \n",
       "882                   ОНЛАЙН Акварельная живопись  \\\n",
       "1708  ОНЛАЙН Физкультурно-оздоровительные занятия   \n",
       "1717  ОНЛАЙН Физкультурно-оздоровительные занятия   \n",
       "1730  ОНЛАЙН Физкультурно-оздоровительные занятия   \n",
       "1739  ОНЛАЙН Физкультурно-оздоровительные занятия   \n",
       "1765  ОНЛАЙН Физкультурно-оздоровительные занятия   \n",
       "1769  ОНЛАЙН Физкультурно-оздоровительные занятия   \n",
       "3915                     ОНЛАЙН Масляная живопись   \n",
       "3971           ОНЛАЙН Различные техники рисования   \n",
       "7460                               Танцы для всех   \n",
       "\n",
       "                              округ площадки   \n",
       "882    Зеленоградский административный округ  \\\n",
       "1708  Северо-Западный административный округ   \n",
       "1717        Восточный административный округ   \n",
       "1730         Западный административный округ   \n",
       "1739            Южный административный округ   \n",
       "1765        Восточный административный округ   \n",
       "1769       Северный административный округ,    \n",
       "3915   Зеленоградский административный округ   \n",
       "3971                                     NaN   \n",
       "7460      Центральный административный округ   \n",
       "\n",
       "                              район площадки  \n",
       "882              муниципальный округ Крюково  \n",
       "1708              муниципальный округ Щукино  \n",
       "1717  муниципальный округ Северное Измайлово  \n",
       "1730           муниципальный округ Можайский  \n",
       "1739         муниципальный округ Даниловский  \n",
       "1765           муниципальный округ Гольяново  \n",
       "1769             муниципальный округ Сокол,   \n",
       "3915             муниципальный округ Крюково  \n",
       "3971                                     NaN  \n",
       "7460            муниципальный округ Тверской  "
      ]
     },
     "metadata": {},
     "output_type": "display_data"
    }
   ],
   "source": [
    "user_id = 101352882\n",
    "\n",
    "display_history_and_predictions_for_user(user_id, actions, results)"
   ]
  },
  {
   "cell_type": "code",
   "execution_count": 17,
   "id": "2ab745f8",
   "metadata": {
    "scrolled": true
   },
   "outputs": [
    {
     "name": "stdout",
     "output_type": "stream",
     "text": [
      "----------------------------------------------------------------------------\n",
      "User 101354253 history:\n"
     ]
    },
    {
     "data": {
      "text/html": [
       "<div style=\"max-height:1000px;max-width:1500px;overflow:auto;\"><table frame=\"box\" rules=\"cols\">\n",
       "    <tr>\n",
       "        <th style=\"padding-left: 1em; padding-right: 1em; text-align: center\">group_id</th>\n",
       "        <th style=\"padding-left: 1em; padding-right: 1em; text-align: center\">is_online</th>\n",
       "        <th style=\"padding-left: 1em; padding-right: 1em; text-align: center\">session</th>\n",
       "        <th style=\"padding-left: 1em; padding-right: 1em; text-align: center\">направление 1</th>\n",
       "        <th style=\"padding-left: 1em; padding-right: 1em; text-align: center\">направление 2</th>\n",
       "    </tr>\n",
       "    <tr>\n",
       "        <td style=\"padding-left: 1em; padding-right: 1em; text-align: center; vertical-align: top\">801347802</td>\n",
       "        <td style=\"padding-left: 1em; padding-right: 1em; text-align: center; vertical-align: top\">online</td>\n",
       "        <td style=\"padding-left: 1em; padding-right: 1em; text-align: center; vertical-align: top\">mornig</td>\n",
       "        <td style=\"padding-left: 1em; padding-right: 1em; text-align: center; vertical-align: top\">Физическая активность</td>\n",
       "        <td style=\"padding-left: 1em; padding-right: 1em; text-align: center; vertical-align: top\">ОНЛАЙН ОФП</td>\n",
       "    </tr>\n",
       "    <tr>\n",
       "        <td style=\"padding-left: 1em; padding-right: 1em; text-align: center; vertical-align: top\">801348667</td>\n",
       "        <td style=\"padding-left: 1em; padding-right: 1em; text-align: center; vertical-align: top\">online</td>\n",
       "        <td style=\"padding-left: 1em; padding-right: 1em; text-align: center; vertical-align: top\">evening</td>\n",
       "        <td style=\"padding-left: 1em; padding-right: 1em; text-align: center; vertical-align: top\">Физическая активность</td>\n",
       "        <td style=\"padding-left: 1em; padding-right: 1em; text-align: center; vertical-align: top\">ОНЛАЙН Гимнастика</td>\n",
       "    </tr>\n",
       "    <tr>\n",
       "        <td style=\"padding-left: 1em; padding-right: 1em; text-align: center; vertical-align: top\">801348794</td>\n",
       "        <td style=\"padding-left: 1em; padding-right: 1em; text-align: center; vertical-align: top\">online</td>\n",
       "        <td style=\"padding-left: 1em; padding-right: 1em; text-align: center; vertical-align: top\">mornig</td>\n",
       "        <td style=\"padding-left: 1em; padding-right: 1em; text-align: center; vertical-align: top\">Физическая активность</td>\n",
       "        <td style=\"padding-left: 1em; padding-right: 1em; text-align: center; vertical-align: top\">ОНЛАЙН Гимнастика</td>\n",
       "    </tr>\n",
       "    <tr>\n",
       "        <td style=\"padding-left: 1em; padding-right: 1em; text-align: center; vertical-align: top\">801349796</td>\n",
       "        <td style=\"padding-left: 1em; padding-right: 1em; text-align: center; vertical-align: top\">offline</td>\n",
       "        <td style=\"padding-left: 1em; padding-right: 1em; text-align: center; vertical-align: top\">mornig</td>\n",
       "        <td style=\"padding-left: 1em; padding-right: 1em; text-align: center; vertical-align: top\">Физическая активность</td>\n",
       "        <td style=\"padding-left: 1em; padding-right: 1em; text-align: center; vertical-align: top\">Гимнастика</td>\n",
       "    </tr>\n",
       "    <tr>\n",
       "        <td style=\"padding-left: 1em; padding-right: 1em; text-align: center; vertical-align: top\">801349875</td>\n",
       "        <td style=\"padding-left: 1em; padding-right: 1em; text-align: center; vertical-align: top\">offline</td>\n",
       "        <td style=\"padding-left: 1em; padding-right: 1em; text-align: center; vertical-align: top\">aftennoon</td>\n",
       "        <td style=\"padding-left: 1em; padding-right: 1em; text-align: center; vertical-align: top\">Физическая активность</td>\n",
       "        <td style=\"padding-left: 1em; padding-right: 1em; text-align: center; vertical-align: top\">Гимнастика</td>\n",
       "    </tr>\n",
       "    <tr>\n",
       "        <td style=\"padding-left: 1em; padding-right: 1em; text-align: center; vertical-align: top\">801350556</td>\n",
       "        <td style=\"padding-left: 1em; padding-right: 1em; text-align: center; vertical-align: top\">online</td>\n",
       "        <td style=\"padding-left: 1em; padding-right: 1em; text-align: center; vertical-align: top\">mornig</td>\n",
       "        <td style=\"padding-left: 1em; padding-right: 1em; text-align: center; vertical-align: top\">Физическая активность</td>\n",
       "        <td style=\"padding-left: 1em; padding-right: 1em; text-align: center; vertical-align: top\">ОНЛАЙН ОФП</td>\n",
       "    </tr>\n",
       "    <tr>\n",
       "        <td style=\"padding-left: 1em; padding-right: 1em; text-align: center; vertical-align: top\">801350568</td>\n",
       "        <td style=\"padding-left: 1em; padding-right: 1em; text-align: center; vertical-align: top\">online</td>\n",
       "        <td style=\"padding-left: 1em; padding-right: 1em; text-align: center; vertical-align: top\">mornig</td>\n",
       "        <td style=\"padding-left: 1em; padding-right: 1em; text-align: center; vertical-align: top\">Физическая активность</td>\n",
       "        <td style=\"padding-left: 1em; padding-right: 1em; text-align: center; vertical-align: top\">ОНЛАЙН ОФП</td>\n",
       "    </tr>\n",
       "    <tr>\n",
       "        <td style=\"padding-left: 1em; padding-right: 1em; text-align: center; vertical-align: top\">801361065</td>\n",
       "        <td style=\"padding-left: 1em; padding-right: 1em; text-align: center; vertical-align: top\">offline</td>\n",
       "        <td style=\"padding-left: 1em; padding-right: 1em; text-align: center; vertical-align: top\">mornig</td>\n",
       "        <td style=\"padding-left: 1em; padding-right: 1em; text-align: center; vertical-align: top\">Рисование</td>\n",
       "        <td style=\"padding-left: 1em; padding-right: 1em; text-align: center; vertical-align: top\">Рисование</td>\n",
       "    </tr>\n",
       "</table>\n",
       "[? rows x 5 columns]<br/>Note: Only the head of the SFrame is printed. This SFrame is lazily evaluated.<br/>You can use sf.materialize() to force materialization.\n",
       "</div>"
      ],
      "text/plain": [
       "Columns:\n",
       "\tgroup_id\tint\n",
       "\tis_online\tstr\n",
       "\tsession\tstr\n",
       "\tнаправление 1\tstr\n",
       "\tнаправление 2\tstr\n",
       "\n",
       "Rows: Unknown\n",
       "\n",
       "Data:\n",
       "+-----------+-----------+-----------+-----------------------+-------------------+\n",
       "|  group_id | is_online |  session  |     направление 1     |   направление 2   |\n",
       "+-----------+-----------+-----------+-----------------------+-------------------+\n",
       "| 801347802 |   online  |   mornig  | Физическая активность |     ОНЛАЙН ОФП    |\n",
       "| 801348667 |   online  |  evening  | Физическая активность | ОНЛАЙН Гимнастика |\n",
       "| 801348794 |   online  |   mornig  | Физическая активность | ОНЛАЙН Гимнастика |\n",
       "| 801349796 |  offline  |   mornig  | Физическая активность |     Гимнастика    |\n",
       "| 801349875 |  offline  | aftennoon | Физическая активность |     Гимнастика    |\n",
       "| 801350556 |   online  |   mornig  | Физическая активность |     ОНЛАЙН ОФП    |\n",
       "| 801350568 |   online  |   mornig  | Физическая активность |     ОНЛАЙН ОФП    |\n",
       "| 801361065 |  offline  |   mornig  |       Рисование       |     Рисование     |\n",
       "+-----------+-----------+-----------+-----------------------+-------------------+\n",
       "[? rows x 5 columns]\n",
       "Note: Only the head of the SFrame is printed. This SFrame is lazily evaluated.\n",
       "You can use sf.materialize() to force materialization."
      ]
     },
     "metadata": {},
     "output_type": "display_data"
    },
    {
     "name": "stdout",
     "output_type": "stream",
     "text": [
      "User recommendations:\n"
     ]
    },
    {
     "data": {
      "text/html": [
       "<div>\n",
       "<style scoped>\n",
       "    .dataframe tbody tr th:only-of-type {\n",
       "        vertical-align: middle;\n",
       "    }\n",
       "\n",
       "    .dataframe tbody tr th {\n",
       "        vertical-align: top;\n",
       "    }\n",
       "\n",
       "    .dataframe thead th {\n",
       "        text-align: right;\n",
       "    }\n",
       "</style>\n",
       "<table border=\"1\" class=\"dataframe\">\n",
       "  <thead>\n",
       "    <tr style=\"text-align: right;\">\n",
       "      <th></th>\n",
       "      <th>уникальный номер</th>\n",
       "      <th>направление 1</th>\n",
       "      <th>направление 2</th>\n",
       "      <th>направление 3</th>\n",
       "      <th>округ площадки</th>\n",
       "      <th>район площадки</th>\n",
       "    </tr>\n",
       "  </thead>\n",
       "  <tbody>\n",
       "    <tr>\n",
       "      <th>1585</th>\n",
       "      <td>801352052</td>\n",
       "      <td>Физическая активность</td>\n",
       "      <td>ОНЛАЙН Гимнастика</td>\n",
       "      <td>ОНЛАЙН Йога</td>\n",
       "      <td>Центральный административный округ</td>\n",
       "      <td>муниципальный округ Таганский</td>\n",
       "    </tr>\n",
       "    <tr>\n",
       "      <th>2160</th>\n",
       "      <td>801351037</td>\n",
       "      <td>Физическая активность</td>\n",
       "      <td>ОНЛАЙН Гимнастика</td>\n",
       "      <td>ОНЛАЙН Адаптивная и тонизирующая гимнастика</td>\n",
       "      <td>NaN</td>\n",
       "      <td>NaN</td>\n",
       "    </tr>\n",
       "    <tr>\n",
       "      <th>3075</th>\n",
       "      <td>801351857</td>\n",
       "      <td>Физическая активность</td>\n",
       "      <td>ОНЛАЙН Гимнастика</td>\n",
       "      <td>ОНЛАЙН Йога</td>\n",
       "      <td>NaN</td>\n",
       "      <td>NaN</td>\n",
       "    </tr>\n",
       "    <tr>\n",
       "      <th>3788</th>\n",
       "      <td>801347329</td>\n",
       "      <td>Физическая активность</td>\n",
       "      <td>ОНЛАЙН Гимнастика</td>\n",
       "      <td>ОНЛАЙН Корригирующая гимнастика для глаз</td>\n",
       "      <td>Восточный административный округ</td>\n",
       "      <td>муниципальный округ Северное Измайлово</td>\n",
       "    </tr>\n",
       "    <tr>\n",
       "      <th>4545</th>\n",
       "      <td>801348670</td>\n",
       "      <td>Физическая активность</td>\n",
       "      <td>ОНЛАЙН Гимнастика</td>\n",
       "      <td>ОНЛАЙН Йога</td>\n",
       "      <td>Центральный административный округ</td>\n",
       "      <td>муниципальный округ Тверской</td>\n",
       "    </tr>\n",
       "    <tr>\n",
       "      <th>4668</th>\n",
       "      <td>801348888</td>\n",
       "      <td>Физическая активность</td>\n",
       "      <td>ОНЛАЙН Гимнастика</td>\n",
       "      <td>ОНЛАЙН Йога</td>\n",
       "      <td>Южный административный округ</td>\n",
       "      <td>муниципальный округ Нагорный</td>\n",
       "    </tr>\n",
       "    <tr>\n",
       "      <th>8154</th>\n",
       "      <td>801349632</td>\n",
       "      <td>Физическая активность</td>\n",
       "      <td>ОНЛАЙН Гимнастика</td>\n",
       "      <td>ОНЛАЙН Гимнастика</td>\n",
       "      <td>Южный административный округ</td>\n",
       "      <td>муниципальный округ Царицыно</td>\n",
       "    </tr>\n",
       "    <tr>\n",
       "      <th>12628</th>\n",
       "      <td>801346690</td>\n",
       "      <td>Физическая активность</td>\n",
       "      <td>ОНЛАЙН Гимнастика</td>\n",
       "      <td>ОНЛАЙН Адаптивная и тонизирующая гимнастика</td>\n",
       "      <td>Юго-Восточный административный округ</td>\n",
       "      <td>муниципальный округ Люблино</td>\n",
       "    </tr>\n",
       "    <tr>\n",
       "      <th>12646</th>\n",
       "      <td>801351151</td>\n",
       "      <td>Физическая активность</td>\n",
       "      <td>ОНЛАЙН Гимнастика</td>\n",
       "      <td>ОНЛАЙН Адаптивная и тонизирующая гимнастика</td>\n",
       "      <td>Восточный административный округ</td>\n",
       "      <td>муниципальный округ Восточный</td>\n",
       "    </tr>\n",
       "    <tr>\n",
       "      <th>20411</th>\n",
       "      <td>801365938</td>\n",
       "      <td>Физическая активность</td>\n",
       "      <td>ОНЛАЙН Гимнастика</td>\n",
       "      <td>ОНЛАЙН Адаптивная и тонизирующая гимнастика</td>\n",
       "      <td>Восточный административный округ</td>\n",
       "      <td>муниципальный округ Гольяново</td>\n",
       "    </tr>\n",
       "  </tbody>\n",
       "</table>\n",
       "</div>"
      ],
      "text/plain": [
       "       уникальный номер          направление 1      направление 2   \n",
       "1585          801352052  Физическая активность  ОНЛАЙН Гимнастика  \\\n",
       "2160          801351037  Физическая активность  ОНЛАЙН Гимнастика   \n",
       "3075          801351857  Физическая активность  ОНЛАЙН Гимнастика   \n",
       "3788          801347329  Физическая активность  ОНЛАЙН Гимнастика   \n",
       "4545          801348670  Физическая активность  ОНЛАЙН Гимнастика   \n",
       "4668          801348888  Физическая активность  ОНЛАЙН Гимнастика   \n",
       "8154          801349632  Физическая активность  ОНЛАЙН Гимнастика   \n",
       "12628         801346690  Физическая активность  ОНЛАЙН Гимнастика   \n",
       "12646         801351151  Физическая активность  ОНЛАЙН Гимнастика   \n",
       "20411         801365938  Физическая активность  ОНЛАЙН Гимнастика   \n",
       "\n",
       "                                     направление 3   \n",
       "1585                                   ОНЛАЙН Йога  \\\n",
       "2160   ОНЛАЙН Адаптивная и тонизирующая гимнастика   \n",
       "3075                                   ОНЛАЙН Йога   \n",
       "3788      ОНЛАЙН Корригирующая гимнастика для глаз   \n",
       "4545                                   ОНЛАЙН Йога   \n",
       "4668                                   ОНЛАЙН Йога   \n",
       "8154                             ОНЛАЙН Гимнастика   \n",
       "12628  ОНЛАЙН Адаптивная и тонизирующая гимнастика   \n",
       "12646  ОНЛАЙН Адаптивная и тонизирующая гимнастика   \n",
       "20411  ОНЛАЙН Адаптивная и тонизирующая гимнастика   \n",
       "\n",
       "                             округ площадки   \n",
       "1585     Центральный административный округ  \\\n",
       "2160                                    NaN   \n",
       "3075                                    NaN   \n",
       "3788       Восточный административный округ   \n",
       "4545     Центральный административный округ   \n",
       "4668           Южный административный округ   \n",
       "8154           Южный административный округ   \n",
       "12628  Юго-Восточный административный округ   \n",
       "12646      Восточный административный округ   \n",
       "20411      Восточный административный округ   \n",
       "\n",
       "                               район площадки  \n",
       "1585            муниципальный округ Таганский  \n",
       "2160                                      NaN  \n",
       "3075                                      NaN  \n",
       "3788   муниципальный округ Северное Измайлово  \n",
       "4545             муниципальный округ Тверской  \n",
       "4668             муниципальный округ Нагорный  \n",
       "8154             муниципальный округ Царицыно  \n",
       "12628             муниципальный округ Люблино  \n",
       "12646           муниципальный округ Восточный  \n",
       "20411           муниципальный округ Гольяново  "
      ]
     },
     "metadata": {},
     "output_type": "display_data"
    }
   ],
   "source": [
    "user_id = 101354253\n",
    "\n",
    "display_history_and_predictions_for_user(user_id, actions, results)"
   ]
  },
  {
   "cell_type": "code",
   "execution_count": 19,
   "id": "4affc323",
   "metadata": {
    "scrolled": true
   },
   "outputs": [
    {
     "name": "stdout",
     "output_type": "stream",
     "text": [
      "----------------------------------------------------------------------------\n",
      "User 101385865 history:\n"
     ]
    },
    {
     "data": {
      "text/html": [
       "<div style=\"max-height:1000px;max-width:1500px;overflow:auto;\"><table frame=\"box\" rules=\"cols\">\n",
       "    <tr>\n",
       "        <th style=\"padding-left: 1em; padding-right: 1em; text-align: center\">group_id</th>\n",
       "        <th style=\"padding-left: 1em; padding-right: 1em; text-align: center\">is_online</th>\n",
       "        <th style=\"padding-left: 1em; padding-right: 1em; text-align: center\">session</th>\n",
       "        <th style=\"padding-left: 1em; padding-right: 1em; text-align: center\">направление 1</th>\n",
       "        <th style=\"padding-left: 1em; padding-right: 1em; text-align: center\">направление 2</th>\n",
       "    </tr>\n",
       "    <tr>\n",
       "        <td style=\"padding-left: 1em; padding-right: 1em; text-align: center; vertical-align: top\">801346923</td>\n",
       "        <td style=\"padding-left: 1em; padding-right: 1em; text-align: center; vertical-align: top\">online</td>\n",
       "        <td style=\"padding-left: 1em; padding-right: 1em; text-align: center; vertical-align: top\">mornig</td>\n",
       "        <td style=\"padding-left: 1em; padding-right: 1em; text-align: center; vertical-align: top\">Танцы</td>\n",
       "        <td style=\"padding-left: 1em; padding-right: 1em; text-align: center; vertical-align: top\">ОНЛАЙН Танцы</td>\n",
       "    </tr>\n",
       "    <tr>\n",
       "        <td style=\"padding-left: 1em; padding-right: 1em; text-align: center; vertical-align: top\">801348309</td>\n",
       "        <td style=\"padding-left: 1em; padding-right: 1em; text-align: center; vertical-align: top\">online</td>\n",
       "        <td style=\"padding-left: 1em; padding-right: 1em; text-align: center; vertical-align: top\">mornig</td>\n",
       "        <td style=\"padding-left: 1em; padding-right: 1em; text-align: center; vertical-align: top\">Творчество</td>\n",
       "        <td style=\"padding-left: 1em; padding-right: 1em; text-align: center; vertical-align: top\">ОНЛАЙН Красота и стиль</td>\n",
       "    </tr>\n",
       "    <tr>\n",
       "        <td style=\"padding-left: 1em; padding-right: 1em; text-align: center; vertical-align: top\">801348946</td>\n",
       "        <td style=\"padding-left: 1em; padding-right: 1em; text-align: center; vertical-align: top\">online</td>\n",
       "        <td style=\"padding-left: 1em; padding-right: 1em; text-align: center; vertical-align: top\">mornig</td>\n",
       "        <td style=\"padding-left: 1em; padding-right: 1em; text-align: center; vertical-align: top\">Физическая активность</td>\n",
       "        <td style=\"padding-left: 1em; padding-right: 1em; text-align: center; vertical-align: top\">ОНЛАЙН Гимнастика</td>\n",
       "    </tr>\n",
       "    <tr>\n",
       "        <td style=\"padding-left: 1em; padding-right: 1em; text-align: center; vertical-align: top\">801349093</td>\n",
       "        <td style=\"padding-left: 1em; padding-right: 1em; text-align: center; vertical-align: top\">online</td>\n",
       "        <td style=\"padding-left: 1em; padding-right: 1em; text-align: center; vertical-align: top\">mornig</td>\n",
       "        <td style=\"padding-left: 1em; padding-right: 1em; text-align: center; vertical-align: top\">Образование</td>\n",
       "        <td style=\"padding-left: 1em; padding-right: 1em; text-align: center; vertical-align: top\">ОНЛАЙН Иностранные языки</td>\n",
       "    </tr>\n",
       "    <tr>\n",
       "        <td style=\"padding-left: 1em; padding-right: 1em; text-align: center; vertical-align: top\">801350488</td>\n",
       "        <td style=\"padding-left: 1em; padding-right: 1em; text-align: center; vertical-align: top\">offline</td>\n",
       "        <td style=\"padding-left: 1em; padding-right: 1em; text-align: center; vertical-align: top\">aftennoon</td>\n",
       "        <td style=\"padding-left: 1em; padding-right: 1em; text-align: center; vertical-align: top\">Физическая активность</td>\n",
       "        <td style=\"padding-left: 1em; padding-right: 1em; text-align: center; vertical-align: top\">Фитнес, тренажеры</td>\n",
       "    </tr>\n",
       "    <tr>\n",
       "        <td style=\"padding-left: 1em; padding-right: 1em; text-align: center; vertical-align: top\">801350739</td>\n",
       "        <td style=\"padding-left: 1em; padding-right: 1em; text-align: center; vertical-align: top\">offline</td>\n",
       "        <td style=\"padding-left: 1em; padding-right: 1em; text-align: center; vertical-align: top\">mornig</td>\n",
       "        <td style=\"padding-left: 1em; padding-right: 1em; text-align: center; vertical-align: top\">Танцы</td>\n",
       "        <td style=\"padding-left: 1em; padding-right: 1em; text-align: center; vertical-align: top\">Танцы</td>\n",
       "    </tr>\n",
       "    <tr>\n",
       "        <td style=\"padding-left: 1em; padding-right: 1em; text-align: center; vertical-align: top\">801350759</td>\n",
       "        <td style=\"padding-left: 1em; padding-right: 1em; text-align: center; vertical-align: top\">offline</td>\n",
       "        <td style=\"padding-left: 1em; padding-right: 1em; text-align: center; vertical-align: top\">mornig</td>\n",
       "        <td style=\"padding-left: 1em; padding-right: 1em; text-align: center; vertical-align: top\">Танцы</td>\n",
       "        <td style=\"padding-left: 1em; padding-right: 1em; text-align: center; vertical-align: top\">Танцы</td>\n",
       "    </tr>\n",
       "    <tr>\n",
       "        <td style=\"padding-left: 1em; padding-right: 1em; text-align: center; vertical-align: top\">801351106</td>\n",
       "        <td style=\"padding-left: 1em; padding-right: 1em; text-align: center; vertical-align: top\">online</td>\n",
       "        <td style=\"padding-left: 1em; padding-right: 1em; text-align: center; vertical-align: top\">mornig</td>\n",
       "        <td style=\"padding-left: 1em; padding-right: 1em; text-align: center; vertical-align: top\">Творчество</td>\n",
       "        <td style=\"padding-left: 1em; padding-right: 1em; text-align: center; vertical-align: top\">ОНЛАЙН Красота и стиль</td>\n",
       "    </tr>\n",
       "    <tr>\n",
       "        <td style=\"padding-left: 1em; padding-right: 1em; text-align: center; vertical-align: top\">801351519</td>\n",
       "        <td style=\"padding-left: 1em; padding-right: 1em; text-align: center; vertical-align: top\">offline</td>\n",
       "        <td style=\"padding-left: 1em; padding-right: 1em; text-align: center; vertical-align: top\">mornig</td>\n",
       "        <td style=\"padding-left: 1em; padding-right: 1em; text-align: center; vertical-align: top\">Танцы</td>\n",
       "        <td style=\"padding-left: 1em; padding-right: 1em; text-align: center; vertical-align: top\">Танцы</td>\n",
       "    </tr>\n",
       "    <tr>\n",
       "        <td style=\"padding-left: 1em; padding-right: 1em; text-align: center; vertical-align: top\">801351888</td>\n",
       "        <td style=\"padding-left: 1em; padding-right: 1em; text-align: center; vertical-align: top\">offline</td>\n",
       "        <td style=\"padding-left: 1em; padding-right: 1em; text-align: center; vertical-align: top\">mornig</td>\n",
       "        <td style=\"padding-left: 1em; padding-right: 1em; text-align: center; vertical-align: top\">Танцы</td>\n",
       "        <td style=\"padding-left: 1em; padding-right: 1em; text-align: center; vertical-align: top\">Танцы</td>\n",
       "    </tr>\n",
       "</table>\n",
       "[? rows x 5 columns]<br/>Note: Only the head of the SFrame is printed. This SFrame is lazily evaluated.<br/>You can use sf.materialize() to force materialization.\n",
       "</div>"
      ],
      "text/plain": [
       "Columns:\n",
       "\tgroup_id\tint\n",
       "\tis_online\tstr\n",
       "\tsession\tstr\n",
       "\tнаправление 1\tstr\n",
       "\tнаправление 2\tstr\n",
       "\n",
       "Rows: Unknown\n",
       "\n",
       "Data:\n",
       "+-----------+-----------+-----------+-----------------------+\n",
       "|  group_id | is_online |  session  |     направление 1     |\n",
       "+-----------+-----------+-----------+-----------------------+\n",
       "| 801346923 |   online  |   mornig  |         Танцы         |\n",
       "| 801348309 |   online  |   mornig  |       Творчество      |\n",
       "| 801348946 |   online  |   mornig  | Физическая активность |\n",
       "| 801349093 |   online  |   mornig  |      Образование      |\n",
       "| 801350488 |  offline  | aftennoon | Физическая активность |\n",
       "| 801350739 |  offline  |   mornig  |         Танцы         |\n",
       "| 801350759 |  offline  |   mornig  |         Танцы         |\n",
       "| 801351106 |   online  |   mornig  |       Творчество      |\n",
       "| 801351519 |  offline  |   mornig  |         Танцы         |\n",
       "| 801351888 |  offline  |   mornig  |         Танцы         |\n",
       "+-----------+-----------+-----------+-----------------------+\n",
       "+--------------------------+\n",
       "|      направление 2       |\n",
       "+--------------------------+\n",
       "|       ОНЛАЙН Танцы       |\n",
       "|  ОНЛАЙН Красота и стиль  |\n",
       "|    ОНЛАЙН Гимнастика     |\n",
       "| ОНЛАЙН Иностранные языки |\n",
       "|    Фитнес, тренажеры     |\n",
       "|          Танцы           |\n",
       "|          Танцы           |\n",
       "|  ОНЛАЙН Красота и стиль  |\n",
       "|          Танцы           |\n",
       "|          Танцы           |\n",
       "+--------------------------+\n",
       "[? rows x 5 columns]\n",
       "Note: Only the head of the SFrame is printed. This SFrame is lazily evaluated.\n",
       "You can use sf.materialize() to force materialization."
      ]
     },
     "metadata": {},
     "output_type": "display_data"
    },
    {
     "name": "stdout",
     "output_type": "stream",
     "text": [
      "User recommendations:\n"
     ]
    },
    {
     "data": {
      "text/html": [
       "<div>\n",
       "<style scoped>\n",
       "    .dataframe tbody tr th:only-of-type {\n",
       "        vertical-align: middle;\n",
       "    }\n",
       "\n",
       "    .dataframe tbody tr th {\n",
       "        vertical-align: top;\n",
       "    }\n",
       "\n",
       "    .dataframe thead th {\n",
       "        text-align: right;\n",
       "    }\n",
       "</style>\n",
       "<table border=\"1\" class=\"dataframe\">\n",
       "  <thead>\n",
       "    <tr style=\"text-align: right;\">\n",
       "      <th></th>\n",
       "      <th>уникальный номер</th>\n",
       "      <th>направление 1</th>\n",
       "      <th>направление 2</th>\n",
       "      <th>направление 3</th>\n",
       "      <th>округ площадки</th>\n",
       "      <th>район площадки</th>\n",
       "    </tr>\n",
       "  </thead>\n",
       "  <tbody>\n",
       "    <tr>\n",
       "      <th>1715</th>\n",
       "      <td>801349571</td>\n",
       "      <td>Физическая активность</td>\n",
       "      <td>ОНЛАЙН ОФП</td>\n",
       "      <td>ОНЛАЙН Физкультурно-оздоровительные занятия</td>\n",
       "      <td>Северо-Западный административный округ</td>\n",
       "      <td>муниципальный округ Строгино</td>\n",
       "    </tr>\n",
       "    <tr>\n",
       "      <th>1717</th>\n",
       "      <td>801346764</td>\n",
       "      <td>Физическая активность</td>\n",
       "      <td>ОНЛАЙН ОФП</td>\n",
       "      <td>ОНЛАЙН Физкультурно-оздоровительные занятия</td>\n",
       "      <td>Восточный административный округ</td>\n",
       "      <td>муниципальный округ Северное Измайлово</td>\n",
       "    </tr>\n",
       "    <tr>\n",
       "      <th>1730</th>\n",
       "      <td>801348933</td>\n",
       "      <td>Физическая активность</td>\n",
       "      <td>ОНЛАЙН ОФП</td>\n",
       "      <td>ОНЛАЙН Физкультурно-оздоровительные занятия</td>\n",
       "      <td>Западный административный округ</td>\n",
       "      <td>муниципальный округ Можайский</td>\n",
       "    </tr>\n",
       "    <tr>\n",
       "      <th>1738</th>\n",
       "      <td>801347634</td>\n",
       "      <td>Физическая активность</td>\n",
       "      <td>ОНЛАЙН ОФП</td>\n",
       "      <td>ОНЛАЙН Физкультурно-оздоровительные занятия</td>\n",
       "      <td>Юго-Западный административный округ</td>\n",
       "      <td>муниципальный округ Зюзино</td>\n",
       "    </tr>\n",
       "    <tr>\n",
       "      <th>1739</th>\n",
       "      <td>801349699</td>\n",
       "      <td>Физическая активность</td>\n",
       "      <td>ОНЛАЙН ОФП</td>\n",
       "      <td>ОНЛАЙН Физкультурно-оздоровительные занятия</td>\n",
       "      <td>Южный административный округ</td>\n",
       "      <td>муниципальный округ Даниловский</td>\n",
       "    </tr>\n",
       "    <tr>\n",
       "      <th>1749</th>\n",
       "      <td>801351282</td>\n",
       "      <td>Физическая активность</td>\n",
       "      <td>ОНЛАЙН ОФП</td>\n",
       "      <td>ОНЛАЙН Физкультурно-оздоровительные занятия</td>\n",
       "      <td>Южный административный округ</td>\n",
       "      <td>муниципальный округ Бирюлево Восточное</td>\n",
       "    </tr>\n",
       "    <tr>\n",
       "      <th>1750</th>\n",
       "      <td>801346908</td>\n",
       "      <td>Физическая активность</td>\n",
       "      <td>ОНЛАЙН ОФП</td>\n",
       "      <td>ОНЛАЙН Физкультурно-оздоровительные занятия</td>\n",
       "      <td>Восточный административный округ,</td>\n",
       "      <td>муниципальный округ Измайлово,</td>\n",
       "    </tr>\n",
       "    <tr>\n",
       "      <th>1762</th>\n",
       "      <td>801351112</td>\n",
       "      <td>Физическая активность</td>\n",
       "      <td>ОНЛАЙН ОФП</td>\n",
       "      <td>ОНЛАЙН Физкультурно-оздоровительные занятия</td>\n",
       "      <td>Западный административный округ</td>\n",
       "      <td>муниципальный округ Ново-Переделкино</td>\n",
       "    </tr>\n",
       "    <tr>\n",
       "      <th>6167</th>\n",
       "      <td>801349321</td>\n",
       "      <td>Творчество</td>\n",
       "      <td>Художественно-прикладное творчество</td>\n",
       "      <td>Рукоделие и творчество</td>\n",
       "      <td>Юго-Западный административный округ</td>\n",
       "      <td>муниципальный округ Южное Бутово</td>\n",
       "    </tr>\n",
       "    <tr>\n",
       "      <th>6640</th>\n",
       "      <td>801348492</td>\n",
       "      <td>Творчество</td>\n",
       "      <td>Художественно-прикладное творчество</td>\n",
       "      <td>Текстильный дизайн, кройка и шитье</td>\n",
       "      <td>Юго-Западный административный округ</td>\n",
       "      <td>муниципальный округ Южное Бутово</td>\n",
       "    </tr>\n",
       "  </tbody>\n",
       "</table>\n",
       "</div>"
      ],
      "text/plain": [
       "      уникальный номер          направление 1   \n",
       "1715         801349571  Физическая активность  \\\n",
       "1717         801346764  Физическая активность   \n",
       "1730         801348933  Физическая активность   \n",
       "1738         801347634  Физическая активность   \n",
       "1739         801349699  Физическая активность   \n",
       "1749         801351282  Физическая активность   \n",
       "1750         801346908  Физическая активность   \n",
       "1762         801351112  Физическая активность   \n",
       "6167         801349321             Творчество   \n",
       "6640         801348492             Творчество   \n",
       "\n",
       "                            направление 2   \n",
       "1715                           ОНЛАЙН ОФП  \\\n",
       "1717                           ОНЛАЙН ОФП   \n",
       "1730                           ОНЛАЙН ОФП   \n",
       "1738                           ОНЛАЙН ОФП   \n",
       "1739                           ОНЛАЙН ОФП   \n",
       "1749                           ОНЛАЙН ОФП   \n",
       "1750                           ОНЛАЙН ОФП   \n",
       "1762                           ОНЛАЙН ОФП   \n",
       "6167  Художественно-прикладное творчество   \n",
       "6640  Художественно-прикладное творчество   \n",
       "\n",
       "                                    направление 3   \n",
       "1715  ОНЛАЙН Физкультурно-оздоровительные занятия  \\\n",
       "1717  ОНЛАЙН Физкультурно-оздоровительные занятия   \n",
       "1730  ОНЛАЙН Физкультурно-оздоровительные занятия   \n",
       "1738  ОНЛАЙН Физкультурно-оздоровительные занятия   \n",
       "1739  ОНЛАЙН Физкультурно-оздоровительные занятия   \n",
       "1749  ОНЛАЙН Физкультурно-оздоровительные занятия   \n",
       "1750  ОНЛАЙН Физкультурно-оздоровительные занятия   \n",
       "1762  ОНЛАЙН Физкультурно-оздоровительные занятия   \n",
       "6167                       Рукоделие и творчество   \n",
       "6640           Текстильный дизайн, кройка и шитье   \n",
       "\n",
       "                              округ площадки   \n",
       "1715  Северо-Западный административный округ  \\\n",
       "1717        Восточный административный округ   \n",
       "1730         Западный административный округ   \n",
       "1738     Юго-Западный административный округ   \n",
       "1739            Южный административный округ   \n",
       "1749            Южный административный округ   \n",
       "1750      Восточный административный округ,    \n",
       "1762         Западный административный округ   \n",
       "6167     Юго-Западный административный округ   \n",
       "6640     Юго-Западный административный округ   \n",
       "\n",
       "                              район площадки  \n",
       "1715            муниципальный округ Строгино  \n",
       "1717  муниципальный округ Северное Измайлово  \n",
       "1730           муниципальный округ Можайский  \n",
       "1738              муниципальный округ Зюзино  \n",
       "1739         муниципальный округ Даниловский  \n",
       "1749  муниципальный округ Бирюлево Восточное  \n",
       "1750         муниципальный округ Измайлово,   \n",
       "1762    муниципальный округ Ново-Переделкино  \n",
       "6167        муниципальный округ Южное Бутово  \n",
       "6640        муниципальный округ Южное Бутово  "
      ]
     },
     "metadata": {},
     "output_type": "display_data"
    }
   ],
   "source": [
    "user_id = 101385865\n",
    "\n",
    "display_history_and_predictions_for_user(user_id, actions, results)"
   ]
  },
  {
   "cell_type": "markdown",
   "id": "19b6f6b5",
   "metadata": {},
   "source": [
    "### Делаем сравнение различных моделей\n",
    "\n",
    "Описание всех моделей, заложенных в turicreate, доступно по ссылке:\n",
    "\n",
    "https://apple.github.io/turicreate/docs/api/turicreate.toolkits.recommender.html"
   ]
  },
  {
   "cell_type": "code",
   "execution_count": 20,
   "id": "4b1be696",
   "metadata": {
    "scrolled": true
   },
   "outputs": [
    {
     "data": {
      "text/html": [
       "<pre>Preparing data set.</pre>"
      ],
      "text/plain": [
       "Preparing data set."
      ]
     },
     "metadata": {},
     "output_type": "display_data"
    },
    {
     "data": {
      "text/html": [
       "<pre>    Data has 597961 observations with 50881 users and 24534 items.</pre>"
      ],
      "text/plain": [
       "    Data has 597961 observations with 50881 users and 24534 items."
      ]
     },
     "metadata": {},
     "output_type": "display_data"
    },
    {
     "data": {
      "text/html": [
       "<pre>    Data prepared in: 0.383683s</pre>"
      ],
      "text/plain": [
       "    Data prepared in: 0.383683s"
      ]
     },
     "metadata": {},
     "output_type": "display_data"
    },
    {
     "data": {
      "text/html": [
       "<pre>Training ranking_factorization_recommender for recommendations.</pre>"
      ],
      "text/plain": [
       "Training ranking_factorization_recommender for recommendations."
      ]
     },
     "metadata": {},
     "output_type": "display_data"
    },
    {
     "data": {
      "text/html": [
       "<pre>+--------------------------------+--------------------------------------------------+----------+</pre>"
      ],
      "text/plain": [
       "+--------------------------------+--------------------------------------------------+----------+"
      ]
     },
     "metadata": {},
     "output_type": "display_data"
    },
    {
     "data": {
      "text/html": [
       "<pre>| Parameter                      | Description                                      | Value    |</pre>"
      ],
      "text/plain": [
       "| Parameter                      | Description                                      | Value    |"
      ]
     },
     "metadata": {},
     "output_type": "display_data"
    },
    {
     "data": {
      "text/html": [
       "<pre>+--------------------------------+--------------------------------------------------+----------+</pre>"
      ],
      "text/plain": [
       "+--------------------------------+--------------------------------------------------+----------+"
      ]
     },
     "metadata": {},
     "output_type": "display_data"
    },
    {
     "data": {
      "text/html": [
       "<pre>| num_factors                    | Factor Dimension                                 | 32       |</pre>"
      ],
      "text/plain": [
       "| num_factors                    | Factor Dimension                                 | 32       |"
      ]
     },
     "metadata": {},
     "output_type": "display_data"
    },
    {
     "data": {
      "text/html": [
       "<pre>| regularization                 | L2 Regularization on Factors                     | 1e-09    |</pre>"
      ],
      "text/plain": [
       "| regularization                 | L2 Regularization on Factors                     | 1e-09    |"
      ]
     },
     "metadata": {},
     "output_type": "display_data"
    },
    {
     "data": {
      "text/html": [
       "<pre>| solver                         | Solver used for training                         | adagrad  |</pre>"
      ],
      "text/plain": [
       "| solver                         | Solver used for training                         | adagrad  |"
      ]
     },
     "metadata": {},
     "output_type": "display_data"
    },
    {
     "data": {
      "text/html": [
       "<pre>| linear_regularization          | L2 Regularization on Linear Coefficients         | 1e-09    |</pre>"
      ],
      "text/plain": [
       "| linear_regularization          | L2 Regularization on Linear Coefficients         | 1e-09    |"
      ]
     },
     "metadata": {},
     "output_type": "display_data"
    },
    {
     "data": {
      "text/html": [
       "<pre>| ranking_regularization         | Rank-based Regularization Weight                 | 0.25     |</pre>"
      ],
      "text/plain": [
       "| ranking_regularization         | Rank-based Regularization Weight                 | 0.25     |"
      ]
     },
     "metadata": {},
     "output_type": "display_data"
    },
    {
     "data": {
      "text/html": [
       "<pre>| max_iterations                 | Maximum Number of Iterations                     | 25       |</pre>"
      ],
      "text/plain": [
       "| max_iterations                 | Maximum Number of Iterations                     | 25       |"
      ]
     },
     "metadata": {},
     "output_type": "display_data"
    },
    {
     "data": {
      "text/html": [
       "<pre>+--------------------------------+--------------------------------------------------+----------+</pre>"
      ],
      "text/plain": [
       "+--------------------------------+--------------------------------------------------+----------+"
      ]
     },
     "metadata": {},
     "output_type": "display_data"
    },
    {
     "data": {
      "text/html": [
       "<pre>  Optimizing model using SGD; tuning step size.</pre>"
      ],
      "text/plain": [
       "  Optimizing model using SGD; tuning step size."
      ]
     },
     "metadata": {},
     "output_type": "display_data"
    },
    {
     "data": {
      "text/html": [
       "<pre>  Using 74745 / 597961 points for tuning the step size.</pre>"
      ],
      "text/plain": [
       "  Using 74745 / 597961 points for tuning the step size."
      ]
     },
     "metadata": {},
     "output_type": "display_data"
    },
    {
     "data": {
      "text/html": [
       "<pre>+---------+-------------------+------------------------------------------+</pre>"
      ],
      "text/plain": [
       "+---------+-------------------+------------------------------------------+"
      ]
     },
     "metadata": {},
     "output_type": "display_data"
    },
    {
     "data": {
      "text/html": [
       "<pre>| Attempt | Initial Step Size | Estimated Objective Value                |</pre>"
      ],
      "text/plain": [
       "| Attempt | Initial Step Size | Estimated Objective Value                |"
      ]
     },
     "metadata": {},
     "output_type": "display_data"
    },
    {
     "data": {
      "text/html": [
       "<pre>+---------+-------------------+------------------------------------------+</pre>"
      ],
      "text/plain": [
       "+---------+-------------------+------------------------------------------+"
      ]
     },
     "metadata": {},
     "output_type": "display_data"
    },
    {
     "data": {
      "text/html": [
       "<pre>| 0       | 4.16667           | Not Viable                               |</pre>"
      ],
      "text/plain": [
       "| 0       | 4.16667           | Not Viable                               |"
      ]
     },
     "metadata": {},
     "output_type": "display_data"
    },
    {
     "data": {
      "text/html": [
       "<pre>| 1       | 1.04167           | Not Viable                               |</pre>"
      ],
      "text/plain": [
       "| 1       | 1.04167           | Not Viable                               |"
      ]
     },
     "metadata": {},
     "output_type": "display_data"
    },
    {
     "data": {
      "text/html": [
       "<pre>| 2       | 0.260417          | 0.438846                                 |</pre>"
      ],
      "text/plain": [
       "| 2       | 0.260417          | 0.438846                                 |"
      ]
     },
     "metadata": {},
     "output_type": "display_data"
    },
    {
     "data": {
      "text/html": [
       "<pre>| 3       | 0.130208          | 0.924721                                 |</pre>"
      ],
      "text/plain": [
       "| 3       | 0.130208          | 0.924721                                 |"
      ]
     },
     "metadata": {},
     "output_type": "display_data"
    },
    {
     "data": {
      "text/html": [
       "<pre>+---------+-------------------+------------------------------------------+</pre>"
      ],
      "text/plain": [
       "+---------+-------------------+------------------------------------------+"
      ]
     },
     "metadata": {},
     "output_type": "display_data"
    },
    {
     "data": {
      "text/html": [
       "<pre>| Final   | 0.260417          | 0.438846                                 |</pre>"
      ],
      "text/plain": [
       "| Final   | 0.260417          | 0.438846                                 |"
      ]
     },
     "metadata": {},
     "output_type": "display_data"
    },
    {
     "data": {
      "text/html": [
       "<pre>+---------+-------------------+------------------------------------------+</pre>"
      ],
      "text/plain": [
       "+---------+-------------------+------------------------------------------+"
      ]
     },
     "metadata": {},
     "output_type": "display_data"
    },
    {
     "data": {
      "text/html": [
       "<pre>Starting Optimization.</pre>"
      ],
      "text/plain": [
       "Starting Optimization."
      ]
     },
     "metadata": {},
     "output_type": "display_data"
    },
    {
     "data": {
      "text/html": [
       "<pre>+---------+--------------+-------------------+-----------------------+-------------+</pre>"
      ],
      "text/plain": [
       "+---------+--------------+-------------------+-----------------------+-------------+"
      ]
     },
     "metadata": {},
     "output_type": "display_data"
    },
    {
     "data": {
      "text/html": [
       "<pre>| Iter.   | Elapsed Time | Approx. Objective | Approx. Training RMSE | Step Size   |</pre>"
      ],
      "text/plain": [
       "| Iter.   | Elapsed Time | Approx. Objective | Approx. Training RMSE | Step Size   |"
      ]
     },
     "metadata": {},
     "output_type": "display_data"
    },
    {
     "data": {
      "text/html": [
       "<pre>+---------+--------------+-------------------+-----------------------+-------------+</pre>"
      ],
      "text/plain": [
       "+---------+--------------+-------------------+-----------------------+-------------+"
      ]
     },
     "metadata": {},
     "output_type": "display_data"
    },
    {
     "data": {
      "text/html": [
       "<pre>| Initial | 58us         | 2.77822           | 1.19034               |             |</pre>"
      ],
      "text/plain": [
       "| Initial | 58us         | 2.77822           | 1.19034               |             |"
      ]
     },
     "metadata": {},
     "output_type": "display_data"
    },
    {
     "data": {
      "text/html": [
       "<pre>+---------+--------------+-------------------+-----------------------+-------------+</pre>"
      ],
      "text/plain": [
       "+---------+--------------+-------------------+-----------------------+-------------+"
      ]
     },
     "metadata": {},
     "output_type": "display_data"
    },
    {
     "data": {
      "text/html": [
       "<pre>| 1       | 473.394ms    | 3.36485           | 1.48941               | 0.260417    |</pre>"
      ],
      "text/plain": [
       "| 1       | 473.394ms    | 3.36485           | 1.48941               | 0.260417    |"
      ]
     },
     "metadata": {},
     "output_type": "display_data"
    },
    {
     "data": {
      "text/html": [
       "<pre>| 2       | 916.802ms    | 1.73916           | 1.0496                | 0.260417    |</pre>"
      ],
      "text/plain": [
       "| 2       | 916.802ms    | 1.73916           | 1.0496                | 0.260417    |"
      ]
     },
     "metadata": {},
     "output_type": "display_data"
    },
    {
     "data": {
      "text/html": [
       "<pre>| 3       | 1.33s        | 0.880088          | 0.732584              | 0.260417    |</pre>"
      ],
      "text/plain": [
       "| 3       | 1.33s        | 0.880088          | 0.732584              | 0.260417    |"
      ]
     },
     "metadata": {},
     "output_type": "display_data"
    },
    {
     "data": {
      "text/html": [
       "<pre>| 4       | 1.73s        | 0.573706          | 0.607905              | 0.260417    |</pre>"
      ],
      "text/plain": [
       "| 4       | 1.73s        | 0.573706          | 0.607905              | 0.260417    |"
      ]
     },
     "metadata": {},
     "output_type": "display_data"
    },
    {
     "data": {
      "text/html": [
       "<pre>| 5       | 2.10s        | 0.419765          | 0.533319              | 0.260417    |</pre>"
      ],
      "text/plain": [
       "| 5       | 2.10s        | 0.419765          | 0.533319              | 0.260417    |"
      ]
     },
     "metadata": {},
     "output_type": "display_data"
    },
    {
     "data": {
      "text/html": [
       "<pre>| 10      | 3.86s        | 0.185564          | 0.374364              | 0.260417    |</pre>"
      ],
      "text/plain": [
       "| 10      | 3.86s        | 0.185564          | 0.374364              | 0.260417    |"
      ]
     },
     "metadata": {},
     "output_type": "display_data"
    },
    {
     "data": {
      "text/html": [
       "<pre>| 20      | 7.12s        | 0.103839          | 0.285795              | 0.260417    |</pre>"
      ],
      "text/plain": [
       "| 20      | 7.12s        | 0.103839          | 0.285795              | 0.260417    |"
      ]
     },
     "metadata": {},
     "output_type": "display_data"
    },
    {
     "data": {
      "text/html": [
       "<pre>| 25      | 8.68s        | 0.0904662         | 0.268129              | 0.260417    |</pre>"
      ],
      "text/plain": [
       "| 25      | 8.68s        | 0.0904662         | 0.268129              | 0.260417    |"
      ]
     },
     "metadata": {},
     "output_type": "display_data"
    },
    {
     "data": {
      "text/html": [
       "<pre>+---------+--------------+-------------------+-----------------------+-------------+</pre>"
      ],
      "text/plain": [
       "+---------+--------------+-------------------+-----------------------+-------------+"
      ]
     },
     "metadata": {},
     "output_type": "display_data"
    },
    {
     "data": {
      "text/html": [
       "<pre>Optimization Complete: Maximum number of passes through the data reached.</pre>"
      ],
      "text/plain": [
       "Optimization Complete: Maximum number of passes through the data reached."
      ]
     },
     "metadata": {},
     "output_type": "display_data"
    },
    {
     "data": {
      "text/html": [
       "<pre>Computing final objective value and training RMSE.</pre>"
      ],
      "text/plain": [
       "Computing final objective value and training RMSE."
      ]
     },
     "metadata": {},
     "output_type": "display_data"
    },
    {
     "data": {
      "text/html": [
       "<pre>       Final objective value: 0.0785142</pre>"
      ],
      "text/plain": [
       "       Final objective value: 0.0785142"
      ]
     },
     "metadata": {},
     "output_type": "display_data"
    },
    {
     "data": {
      "text/html": [
       "<pre>       Final training RMSE: 0.245509</pre>"
      ],
      "text/plain": [
       "       Final training RMSE: 0.245509"
      ]
     },
     "metadata": {},
     "output_type": "display_data"
    },
    {
     "data": {
      "text/html": [
       "<pre>Warning: Ignoring columns X1, направление 3, is_online, lesson_length, session, направление 1, направление 2, user_address, lat, long;</pre>"
      ],
      "text/plain": [
       "Warning: Ignoring columns X1, направление 3, is_online, lesson_length, session, направление 1, направление 2, user_address, lat, long;"
      ]
     },
     "metadata": {},
     "output_type": "display_data"
    },
    {
     "data": {
      "text/html": [
       "<pre>    To use these columns in scoring predictions, use a model that allows the use of additional features.</pre>"
      ],
      "text/plain": [
       "    To use these columns in scoring predictions, use a model that allows the use of additional features."
      ]
     },
     "metadata": {},
     "output_type": "display_data"
    },
    {
     "data": {
      "text/html": [
       "<pre>Preparing data set.</pre>"
      ],
      "text/plain": [
       "Preparing data set."
      ]
     },
     "metadata": {},
     "output_type": "display_data"
    },
    {
     "data": {
      "text/html": [
       "<pre>    Data has 597961 observations with 50881 users and 24534 items.</pre>"
      ],
      "text/plain": [
       "    Data has 597961 observations with 50881 users and 24534 items."
      ]
     },
     "metadata": {},
     "output_type": "display_data"
    },
    {
     "data": {
      "text/html": [
       "<pre>    Data prepared in: 0.162217s</pre>"
      ],
      "text/plain": [
       "    Data prepared in: 0.162217s"
      ]
     },
     "metadata": {},
     "output_type": "display_data"
    },
    {
     "data": {
      "text/html": [
       "<pre>Training model from provided data.</pre>"
      ],
      "text/plain": [
       "Training model from provided data."
      ]
     },
     "metadata": {},
     "output_type": "display_data"
    },
    {
     "data": {
      "text/html": [
       "<pre>Gathering per-item and per-user statistics.</pre>"
      ],
      "text/plain": [
       "Gathering per-item and per-user statistics."
      ]
     },
     "metadata": {},
     "output_type": "display_data"
    },
    {
     "data": {
      "text/html": [
       "<pre>+--------------------------------+------------+</pre>"
      ],
      "text/plain": [
       "+--------------------------------+------------+"
      ]
     },
     "metadata": {},
     "output_type": "display_data"
    },
    {
     "data": {
      "text/html": [
       "<pre>| Elapsed Time (Item Statistics) | % Complete |</pre>"
      ],
      "text/plain": [
       "| Elapsed Time (Item Statistics) | % Complete |"
      ]
     },
     "metadata": {},
     "output_type": "display_data"
    },
    {
     "data": {
      "text/html": [
       "<pre>+--------------------------------+------------+</pre>"
      ],
      "text/plain": [
       "+--------------------------------+------------+"
      ]
     },
     "metadata": {},
     "output_type": "display_data"
    },
    {
     "data": {
      "text/html": [
       "<pre>| 6.236ms                        | 1.75       |</pre>"
      ],
      "text/plain": [
       "| 6.236ms                        | 1.75       |"
      ]
     },
     "metadata": {},
     "output_type": "display_data"
    },
    {
     "data": {
      "text/html": [
       "<pre>| 10.231ms                       | 100        |</pre>"
      ],
      "text/plain": [
       "| 10.231ms                       | 100        |"
      ]
     },
     "metadata": {},
     "output_type": "display_data"
    },
    {
     "data": {
      "text/html": [
       "<pre>+--------------------------------+------------+</pre>"
      ],
      "text/plain": [
       "+--------------------------------+------------+"
      ]
     },
     "metadata": {},
     "output_type": "display_data"
    },
    {
     "data": {
      "text/html": [
       "<pre>Setting up lookup tables.</pre>"
      ],
      "text/plain": [
       "Setting up lookup tables."
      ]
     },
     "metadata": {},
     "output_type": "display_data"
    },
    {
     "data": {
      "text/html": [
       "<pre>Processing data in one pass using dense lookup tables.</pre>"
      ],
      "text/plain": [
       "Processing data in one pass using dense lookup tables."
      ]
     },
     "metadata": {},
     "output_type": "display_data"
    },
    {
     "data": {
      "text/html": [
       "<pre>+-------------------------------------+------------------+-----------------+</pre>"
      ],
      "text/plain": [
       "+-------------------------------------+------------------+-----------------+"
      ]
     },
     "metadata": {},
     "output_type": "display_data"
    },
    {
     "data": {
      "text/html": [
       "<pre>| Elapsed Time (Constructing Lookups) | Total % Complete | Items Processed |</pre>"
      ],
      "text/plain": [
       "| Elapsed Time (Constructing Lookups) | Total % Complete | Items Processed |"
      ]
     },
     "metadata": {},
     "output_type": "display_data"
    },
    {
     "data": {
      "text/html": [
       "<pre>+-------------------------------------+------------------+-----------------+</pre>"
      ],
      "text/plain": [
       "+-------------------------------------+------------------+-----------------+"
      ]
     },
     "metadata": {},
     "output_type": "display_data"
    },
    {
     "data": {
      "text/html": [
       "<pre>| 366.098ms                           | 0                | 0               |</pre>"
      ],
      "text/plain": [
       "| 366.098ms                           | 0                | 0               |"
      ]
     },
     "metadata": {},
     "output_type": "display_data"
    },
    {
     "data": {
      "text/html": [
       "<pre>| 793.747ms                           | 100              | 24534           |</pre>"
      ],
      "text/plain": [
       "| 793.747ms                           | 100              | 24534           |"
      ]
     },
     "metadata": {},
     "output_type": "display_data"
    },
    {
     "data": {
      "text/html": [
       "<pre>+-------------------------------------+------------------+-----------------+</pre>"
      ],
      "text/plain": [
       "+-------------------------------------+------------------+-----------------+"
      ]
     },
     "metadata": {},
     "output_type": "display_data"
    },
    {
     "data": {
      "text/html": [
       "<pre>Finalizing lookup tables.</pre>"
      ],
      "text/plain": [
       "Finalizing lookup tables."
      ]
     },
     "metadata": {},
     "output_type": "display_data"
    },
    {
     "data": {
      "text/html": [
       "<pre>Generating candidate set for working with new users.</pre>"
      ],
      "text/plain": [
       "Generating candidate set for working with new users."
      ]
     },
     "metadata": {},
     "output_type": "display_data"
    },
    {
     "data": {
      "text/html": [
       "<pre>Finished training in 0.813125s</pre>"
      ],
      "text/plain": [
       "Finished training in 0.813125s"
      ]
     },
     "metadata": {},
     "output_type": "display_data"
    },
    {
     "data": {
      "text/html": [
       "<pre>Warning: Ignoring columns X1, направление 3, is_online, lesson_length, session, направление 1, направление 2, user_address, lat, long;</pre>"
      ],
      "text/plain": [
       "Warning: Ignoring columns X1, направление 3, is_online, lesson_length, session, направление 1, направление 2, user_address, lat, long;"
      ]
     },
     "metadata": {},
     "output_type": "display_data"
    },
    {
     "data": {
      "text/html": [
       "<pre>    To use these columns in scoring predictions, use a model that allows the use of additional features.</pre>"
      ],
      "text/plain": [
       "    To use these columns in scoring predictions, use a model that allows the use of additional features."
      ]
     },
     "metadata": {},
     "output_type": "display_data"
    },
    {
     "data": {
      "text/html": [
       "<pre>Preparing data set.</pre>"
      ],
      "text/plain": [
       "Preparing data set."
      ]
     },
     "metadata": {},
     "output_type": "display_data"
    },
    {
     "data": {
      "text/html": [
       "<pre>    Data has 597961 observations with 50881 users and 24534 items.</pre>"
      ],
      "text/plain": [
       "    Data has 597961 observations with 50881 users and 24534 items."
      ]
     },
     "metadata": {},
     "output_type": "display_data"
    },
    {
     "data": {
      "text/html": [
       "<pre>    Data prepared in: 0.171603s</pre>"
      ],
      "text/plain": [
       "    Data prepared in: 0.171603s"
      ]
     },
     "metadata": {},
     "output_type": "display_data"
    },
    {
     "data": {
      "text/html": [
       "<pre>597961 observations to process; with 24534 unique items.</pre>"
      ],
      "text/plain": [
       "597961 observations to process; with 24534 unique items."
      ]
     },
     "metadata": {},
     "output_type": "display_data"
    },
    {
     "data": {
      "text/html": [
       "<pre>Preparing data set.</pre>"
      ],
      "text/plain": [
       "Preparing data set."
      ]
     },
     "metadata": {},
     "output_type": "display_data"
    },
    {
     "data": {
      "text/html": [
       "<pre>    Data has 597961 observations with 50881 users and 24534 items.</pre>"
      ],
      "text/plain": [
       "    Data has 597961 observations with 50881 users and 24534 items."
      ]
     },
     "metadata": {},
     "output_type": "display_data"
    },
    {
     "data": {
      "text/html": [
       "<pre>    Data prepared in: 0.389769s</pre>"
      ],
      "text/plain": [
       "    Data prepared in: 0.389769s"
      ]
     },
     "metadata": {},
     "output_type": "display_data"
    },
    {
     "data": {
      "text/html": [
       "<pre>Training factorization_recommender for recommendations.</pre>"
      ],
      "text/plain": [
       "Training factorization_recommender for recommendations."
      ]
     },
     "metadata": {},
     "output_type": "display_data"
    },
    {
     "data": {
      "text/html": [
       "<pre>+--------------------------------+--------------------------------------------------+----------+</pre>"
      ],
      "text/plain": [
       "+--------------------------------+--------------------------------------------------+----------+"
      ]
     },
     "metadata": {},
     "output_type": "display_data"
    },
    {
     "data": {
      "text/html": [
       "<pre>| Parameter                      | Description                                      | Value    |</pre>"
      ],
      "text/plain": [
       "| Parameter                      | Description                                      | Value    |"
      ]
     },
     "metadata": {},
     "output_type": "display_data"
    },
    {
     "data": {
      "text/html": [
       "<pre>+--------------------------------+--------------------------------------------------+----------+</pre>"
      ],
      "text/plain": [
       "+--------------------------------+--------------------------------------------------+----------+"
      ]
     },
     "metadata": {},
     "output_type": "display_data"
    },
    {
     "data": {
      "text/html": [
       "<pre>| num_factors                    | Factor Dimension                                 | 8        |</pre>"
      ],
      "text/plain": [
       "| num_factors                    | Factor Dimension                                 | 8        |"
      ]
     },
     "metadata": {},
     "output_type": "display_data"
    },
    {
     "data": {
      "text/html": [
       "<pre>| regularization                 | L2 Regularization on Factors                     | 1e-08    |</pre>"
      ],
      "text/plain": [
       "| regularization                 | L2 Regularization on Factors                     | 1e-08    |"
      ]
     },
     "metadata": {},
     "output_type": "display_data"
    },
    {
     "data": {
      "text/html": [
       "<pre>| solver                         | Solver used for training                         | adagrad  |</pre>"
      ],
      "text/plain": [
       "| solver                         | Solver used for training                         | adagrad  |"
      ]
     },
     "metadata": {},
     "output_type": "display_data"
    },
    {
     "data": {
      "text/html": [
       "<pre>| linear_regularization          | L2 Regularization on Linear Coefficients         | 1e-10    |</pre>"
      ],
      "text/plain": [
       "| linear_regularization          | L2 Regularization on Linear Coefficients         | 1e-10    |"
      ]
     },
     "metadata": {},
     "output_type": "display_data"
    },
    {
     "data": {
      "text/html": [
       "<pre>| max_iterations                 | Maximum Number of Iterations                     | 50       |</pre>"
      ],
      "text/plain": [
       "| max_iterations                 | Maximum Number of Iterations                     | 50       |"
      ]
     },
     "metadata": {},
     "output_type": "display_data"
    },
    {
     "data": {
      "text/html": [
       "<pre>+--------------------------------+--------------------------------------------------+----------+</pre>"
      ],
      "text/plain": [
       "+--------------------------------+--------------------------------------------------+----------+"
      ]
     },
     "metadata": {},
     "output_type": "display_data"
    },
    {
     "data": {
      "text/html": [
       "<pre>  Optimizing model using SGD; tuning step size.</pre>"
      ],
      "text/plain": [
       "  Optimizing model using SGD; tuning step size."
      ]
     },
     "metadata": {},
     "output_type": "display_data"
    },
    {
     "data": {
      "text/html": [
       "<pre>  Using 74745 / 597961 points for tuning the step size.</pre>"
      ],
      "text/plain": [
       "  Using 74745 / 597961 points for tuning the step size."
      ]
     },
     "metadata": {},
     "output_type": "display_data"
    },
    {
     "data": {
      "text/html": [
       "<pre>+---------+-------------------+------------------------------------------+</pre>"
      ],
      "text/plain": [
       "+---------+-------------------+------------------------------------------+"
      ]
     },
     "metadata": {},
     "output_type": "display_data"
    },
    {
     "data": {
      "text/html": [
       "<pre>| Attempt | Initial Step Size | Estimated Objective Value                |</pre>"
      ],
      "text/plain": [
       "| Attempt | Initial Step Size | Estimated Objective Value                |"
      ]
     },
     "metadata": {},
     "output_type": "display_data"
    },
    {
     "data": {
      "text/html": [
       "<pre>+---------+-------------------+------------------------------------------+</pre>"
      ],
      "text/plain": [
       "+---------+-------------------+------------------------------------------+"
      ]
     },
     "metadata": {},
     "output_type": "display_data"
    },
    {
     "data": {
      "text/html": [
       "<pre>| 0       | 4.16667           | Not Viable                               |</pre>"
      ],
      "text/plain": [
       "| 0       | 4.16667           | Not Viable                               |"
      ]
     },
     "metadata": {},
     "output_type": "display_data"
    },
    {
     "data": {
      "text/html": [
       "<pre>| 1       | 1.04167           | Not Viable                               |</pre>"
      ],
      "text/plain": [
       "| 1       | 1.04167           | Not Viable                               |"
      ]
     },
     "metadata": {},
     "output_type": "display_data"
    },
    {
     "data": {
      "text/html": [
       "<pre>| 2       | 0.260417          | 0.32967                                  |</pre>"
      ],
      "text/plain": [
       "| 2       | 0.260417          | 0.32967                                  |"
      ]
     },
     "metadata": {},
     "output_type": "display_data"
    },
    {
     "data": {
      "text/html": [
       "<pre>| 3       | 0.130208          | 0.110857                                 |</pre>"
      ],
      "text/plain": [
       "| 3       | 0.130208          | 0.110857                                 |"
      ]
     },
     "metadata": {},
     "output_type": "display_data"
    },
    {
     "data": {
      "text/html": [
       "<pre>| 4       | 0.0651042         | 0.258462                                 |</pre>"
      ],
      "text/plain": [
       "| 4       | 0.0651042         | 0.258462                                 |"
      ]
     },
     "metadata": {},
     "output_type": "display_data"
    },
    {
     "data": {
      "text/html": [
       "<pre>+---------+-------------------+------------------------------------------+</pre>"
      ],
      "text/plain": [
       "+---------+-------------------+------------------------------------------+"
      ]
     },
     "metadata": {},
     "output_type": "display_data"
    },
    {
     "data": {
      "text/html": [
       "<pre>| Final   | 0.130208          | 0.110857                                 |</pre>"
      ],
      "text/plain": [
       "| Final   | 0.130208          | 0.110857                                 |"
      ]
     },
     "metadata": {},
     "output_type": "display_data"
    },
    {
     "data": {
      "text/html": [
       "<pre>+---------+-------------------+------------------------------------------+</pre>"
      ],
      "text/plain": [
       "+---------+-------------------+------------------------------------------+"
      ]
     },
     "metadata": {},
     "output_type": "display_data"
    },
    {
     "data": {
      "text/html": [
       "<pre>Starting Optimization.</pre>"
      ],
      "text/plain": [
       "Starting Optimization."
      ]
     },
     "metadata": {},
     "output_type": "display_data"
    },
    {
     "data": {
      "text/html": [
       "<pre>+---------+--------------+-------------------+-----------------------+-------------+</pre>"
      ],
      "text/plain": [
       "+---------+--------------+-------------------+-----------------------+-------------+"
      ]
     },
     "metadata": {},
     "output_type": "display_data"
    },
    {
     "data": {
      "text/html": [
       "<pre>| Iter.   | Elapsed Time | Approx. Objective | Approx. Training RMSE | Step Size   |</pre>"
      ],
      "text/plain": [
       "| Iter.   | Elapsed Time | Approx. Objective | Approx. Training RMSE | Step Size   |"
      ]
     },
     "metadata": {},
     "output_type": "display_data"
    },
    {
     "data": {
      "text/html": [
       "<pre>+---------+--------------+-------------------+-----------------------+-------------+</pre>"
      ],
      "text/plain": [
       "+---------+--------------+-------------------+-----------------------+-------------+"
      ]
     },
     "metadata": {},
     "output_type": "display_data"
    },
    {
     "data": {
      "text/html": [
       "<pre>| Initial | 49us         | 1.4169            | 1.19034               |             |</pre>"
      ],
      "text/plain": [
       "| Initial | 49us         | 1.4169            | 1.19034               |             |"
      ]
     },
     "metadata": {},
     "output_type": "display_data"
    },
    {
     "data": {
      "text/html": [
       "<pre>+---------+--------------+-------------------+-----------------------+-------------+</pre>"
      ],
      "text/plain": [
       "+---------+--------------+-------------------+-----------------------+-------------+"
      ]
     },
     "metadata": {},
     "output_type": "display_data"
    },
    {
     "data": {
      "text/html": [
       "<pre>| 1       | 122.224ms    | 1.02391           | 1.01178               | 0.130208    |</pre>"
      ],
      "text/plain": [
       "| 1       | 122.224ms    | 1.02391           | 1.01178               | 0.130208    |"
      ]
     },
     "metadata": {},
     "output_type": "display_data"
    },
    {
     "data": {
      "text/html": [
       "<pre>| 2       | 239.007ms    | 0.705449          | 0.839769              | 0.130208    |</pre>"
      ],
      "text/plain": [
       "| 2       | 239.007ms    | 0.705449          | 0.839769              | 0.130208    |"
      ]
     },
     "metadata": {},
     "output_type": "display_data"
    },
    {
     "data": {
      "text/html": [
       "<pre>| 3       | 356.528ms    | 0.599024          | 0.773789              | 0.130208    |</pre>"
      ],
      "text/plain": [
       "| 3       | 356.528ms    | 0.599024          | 0.773789              | 0.130208    |"
      ]
     },
     "metadata": {},
     "output_type": "display_data"
    },
    {
     "data": {
      "text/html": [
       "<pre>| 4       | 476.651ms    | 0.536072          | 0.731959              | 0.130208    |</pre>"
      ],
      "text/plain": [
       "| 4       | 476.651ms    | 0.536072          | 0.731959              | 0.130208    |"
      ]
     },
     "metadata": {},
     "output_type": "display_data"
    },
    {
     "data": {
      "text/html": [
       "<pre>| 5       | 595.326ms    | 0.490956          | 0.700439              | 0.130208    |</pre>"
      ],
      "text/plain": [
       "| 5       | 595.326ms    | 0.490956          | 0.700439              | 0.130208    |"
      ]
     },
     "metadata": {},
     "output_type": "display_data"
    },
    {
     "data": {
      "text/html": [
       "<pre>| 10      | 1.18s        | 0.38432           | 0.61957               | 0.130208    |</pre>"
      ],
      "text/plain": [
       "| 10      | 1.18s        | 0.38432           | 0.61957               | 0.130208    |"
      ]
     },
     "metadata": {},
     "output_type": "display_data"
    },
    {
     "data": {
      "text/html": [
       "<pre>| 50      | 5.93s        | 0.253913          | 0.503192              | 0.130208    |</pre>"
      ],
      "text/plain": [
       "| 50      | 5.93s        | 0.253913          | 0.503192              | 0.130208    |"
      ]
     },
     "metadata": {},
     "output_type": "display_data"
    },
    {
     "data": {
      "text/html": [
       "<pre>+---------+--------------+-------------------+-----------------------+-------------+</pre>"
      ],
      "text/plain": [
       "+---------+--------------+-------------------+-----------------------+-------------+"
      ]
     },
     "metadata": {},
     "output_type": "display_data"
    },
    {
     "data": {
      "text/html": [
       "<pre>Optimization Complete: Maximum number of passes through the data reached.</pre>"
      ],
      "text/plain": [
       "Optimization Complete: Maximum number of passes through the data reached."
      ]
     },
     "metadata": {},
     "output_type": "display_data"
    },
    {
     "data": {
      "text/html": [
       "<pre>Computing final objective value and training RMSE.</pre>"
      ],
      "text/plain": [
       "Computing final objective value and training RMSE."
      ]
     },
     "metadata": {},
     "output_type": "display_data"
    },
    {
     "data": {
      "text/html": [
       "<pre>       Final objective value: 0.243682</pre>"
      ],
      "text/plain": [
       "       Final objective value: 0.243682"
      ]
     },
     "metadata": {},
     "output_type": "display_data"
    },
    {
     "data": {
      "text/html": [
       "<pre>       Final training RMSE: 0.492921</pre>"
      ],
      "text/plain": [
       "       Final training RMSE: 0.492921"
      ]
     },
     "metadata": {},
     "output_type": "display_data"
    },
    {
     "data": {
      "text/html": [
       "<pre>Preparing data set.</pre>"
      ],
      "text/plain": [
       "Preparing data set."
      ]
     },
     "metadata": {},
     "output_type": "display_data"
    },
    {
     "data": {
      "text/html": [
       "<pre>    Data has 597961 observations with 50881 users and 24534 items.</pre>"
      ],
      "text/plain": [
       "    Data has 597961 observations with 50881 users and 24534 items."
      ]
     },
     "metadata": {},
     "output_type": "display_data"
    },
    {
     "data": {
      "text/html": [
       "<pre>    Data prepared in: 0.381521s</pre>"
      ],
      "text/plain": [
       "    Data prepared in: 0.381521s"
      ]
     },
     "metadata": {},
     "output_type": "display_data"
    },
    {
     "data": {
      "text/html": [
       "<pre>Training ranking_factorization_recommender for recommendations.</pre>"
      ],
      "text/plain": [
       "Training ranking_factorization_recommender for recommendations."
      ]
     },
     "metadata": {},
     "output_type": "display_data"
    },
    {
     "data": {
      "text/html": [
       "<pre>+--------------------------------+--------------------------------------------------+----------+</pre>"
      ],
      "text/plain": [
       "+--------------------------------+--------------------------------------------------+----------+"
      ]
     },
     "metadata": {},
     "output_type": "display_data"
    },
    {
     "data": {
      "text/html": [
       "<pre>| Parameter                      | Description                                      | Value    |</pre>"
      ],
      "text/plain": [
       "| Parameter                      | Description                                      | Value    |"
      ]
     },
     "metadata": {},
     "output_type": "display_data"
    },
    {
     "data": {
      "text/html": [
       "<pre>+--------------------------------+--------------------------------------------------+----------+</pre>"
      ],
      "text/plain": [
       "+--------------------------------+--------------------------------------------------+----------+"
      ]
     },
     "metadata": {},
     "output_type": "display_data"
    },
    {
     "data": {
      "text/html": [
       "<pre>| num_factors                    | Factor Dimension                                 | 32       |</pre>"
      ],
      "text/plain": [
       "| num_factors                    | Factor Dimension                                 | 32       |"
      ]
     },
     "metadata": {},
     "output_type": "display_data"
    },
    {
     "data": {
      "text/html": [
       "<pre>| regularization                 | L2 Regularization on Factors                     | 1e-09    |</pre>"
      ],
      "text/plain": [
       "| regularization                 | L2 Regularization on Factors                     | 1e-09    |"
      ]
     },
     "metadata": {},
     "output_type": "display_data"
    },
    {
     "data": {
      "text/html": [
       "<pre>| solver                         | Solver used for training                         | adagrad  |</pre>"
      ],
      "text/plain": [
       "| solver                         | Solver used for training                         | adagrad  |"
      ]
     },
     "metadata": {},
     "output_type": "display_data"
    },
    {
     "data": {
      "text/html": [
       "<pre>| linear_regularization          | L2 Regularization on Linear Coefficients         | 1e-09    |</pre>"
      ],
      "text/plain": [
       "| linear_regularization          | L2 Regularization on Linear Coefficients         | 1e-09    |"
      ]
     },
     "metadata": {},
     "output_type": "display_data"
    },
    {
     "data": {
      "text/html": [
       "<pre>| ranking_regularization         | Rank-based Regularization Weight                 | 0.25     |</pre>"
      ],
      "text/plain": [
       "| ranking_regularization         | Rank-based Regularization Weight                 | 0.25     |"
      ]
     },
     "metadata": {},
     "output_type": "display_data"
    },
    {
     "data": {
      "text/html": [
       "<pre>| max_iterations                 | Maximum Number of Iterations                     | 25       |</pre>"
      ],
      "text/plain": [
       "| max_iterations                 | Maximum Number of Iterations                     | 25       |"
      ]
     },
     "metadata": {},
     "output_type": "display_data"
    },
    {
     "data": {
      "text/html": [
       "<pre>+--------------------------------+--------------------------------------------------+----------+</pre>"
      ],
      "text/plain": [
       "+--------------------------------+--------------------------------------------------+----------+"
      ]
     },
     "metadata": {},
     "output_type": "display_data"
    },
    {
     "data": {
      "text/html": [
       "<pre>  Optimizing model using SGD; tuning step size.</pre>"
      ],
      "text/plain": [
       "  Optimizing model using SGD; tuning step size."
      ]
     },
     "metadata": {},
     "output_type": "display_data"
    },
    {
     "data": {
      "text/html": [
       "<pre>  Using 74745 / 597961 points for tuning the step size.</pre>"
      ],
      "text/plain": [
       "  Using 74745 / 597961 points for tuning the step size."
      ]
     },
     "metadata": {},
     "output_type": "display_data"
    },
    {
     "data": {
      "text/html": [
       "<pre>+---------+-------------------+------------------------------------------+</pre>"
      ],
      "text/plain": [
       "+---------+-------------------+------------------------------------------+"
      ]
     },
     "metadata": {},
     "output_type": "display_data"
    },
    {
     "data": {
      "text/html": [
       "<pre>| Attempt | Initial Step Size | Estimated Objective Value                |</pre>"
      ],
      "text/plain": [
       "| Attempt | Initial Step Size | Estimated Objective Value                |"
      ]
     },
     "metadata": {},
     "output_type": "display_data"
    },
    {
     "data": {
      "text/html": [
       "<pre>+---------+-------------------+------------------------------------------+</pre>"
      ],
      "text/plain": [
       "+---------+-------------------+------------------------------------------+"
      ]
     },
     "metadata": {},
     "output_type": "display_data"
    },
    {
     "data": {
      "text/html": [
       "<pre>| 0       | 4.16667           | Not Viable                               |</pre>"
      ],
      "text/plain": [
       "| 0       | 4.16667           | Not Viable                               |"
      ]
     },
     "metadata": {},
     "output_type": "display_data"
    },
    {
     "data": {
      "text/html": [
       "<pre>| 1       | 1.04167           | Not Viable                               |</pre>"
      ],
      "text/plain": [
       "| 1       | 1.04167           | Not Viable                               |"
      ]
     },
     "metadata": {},
     "output_type": "display_data"
    },
    {
     "data": {
      "text/html": [
       "<pre>| 2       | 0.260417          | Not Viable                               |</pre>"
      ],
      "text/plain": [
       "| 2       | 0.260417          | Not Viable                               |"
      ]
     },
     "metadata": {},
     "output_type": "display_data"
    },
    {
     "data": {
      "text/html": [
       "<pre>| 3       | 0.0651042         | 0.955653                                 |</pre>"
      ],
      "text/plain": [
       "| 3       | 0.0651042         | 0.955653                                 |"
      ]
     },
     "metadata": {},
     "output_type": "display_data"
    },
    {
     "data": {
      "text/html": [
       "<pre>| 4       | 0.0325521         | 0.677587                                 |</pre>"
      ],
      "text/plain": [
       "| 4       | 0.0325521         | 0.677587                                 |"
      ]
     },
     "metadata": {},
     "output_type": "display_data"
    },
    {
     "data": {
      "text/html": [
       "<pre>| 5       | 0.016276          | 1.60338                                  |</pre>"
      ],
      "text/plain": [
       "| 5       | 0.016276          | 1.60338                                  |"
      ]
     },
     "metadata": {},
     "output_type": "display_data"
    },
    {
     "data": {
      "text/html": [
       "<pre>+---------+-------------------+------------------------------------------+</pre>"
      ],
      "text/plain": [
       "+---------+-------------------+------------------------------------------+"
      ]
     },
     "metadata": {},
     "output_type": "display_data"
    },
    {
     "data": {
      "text/html": [
       "<pre>| Final   | 0.0325521         | 0.677587                                 |</pre>"
      ],
      "text/plain": [
       "| Final   | 0.0325521         | 0.677587                                 |"
      ]
     },
     "metadata": {},
     "output_type": "display_data"
    },
    {
     "data": {
      "text/html": [
       "<pre>+---------+-------------------+------------------------------------------+</pre>"
      ],
      "text/plain": [
       "+---------+-------------------+------------------------------------------+"
      ]
     },
     "metadata": {},
     "output_type": "display_data"
    },
    {
     "data": {
      "text/html": [
       "<pre>Starting Optimization.</pre>"
      ],
      "text/plain": [
       "Starting Optimization."
      ]
     },
     "metadata": {},
     "output_type": "display_data"
    },
    {
     "data": {
      "text/html": [
       "<pre>+---------+--------------+-------------------+-----------------------+-------------+</pre>"
      ],
      "text/plain": [
       "+---------+--------------+-------------------+-----------------------+-------------+"
      ]
     },
     "metadata": {},
     "output_type": "display_data"
    },
    {
     "data": {
      "text/html": [
       "<pre>| Iter.   | Elapsed Time | Approx. Objective | Approx. Training RMSE | Step Size   |</pre>"
      ],
      "text/plain": [
       "| Iter.   | Elapsed Time | Approx. Objective | Approx. Training RMSE | Step Size   |"
      ]
     },
     "metadata": {},
     "output_type": "display_data"
    },
    {
     "data": {
      "text/html": [
       "<pre>+---------+--------------+-------------------+-----------------------+-------------+</pre>"
      ],
      "text/plain": [
       "+---------+--------------+-------------------+-----------------------+-------------+"
      ]
     },
     "metadata": {},
     "output_type": "display_data"
    },
    {
     "data": {
      "text/html": [
       "<pre>| Initial | 66us         | 2.77824           | 1.19034               |             |</pre>"
      ],
      "text/plain": [
       "| Initial | 66us         | 2.77824           | 1.19034               |             |"
      ]
     },
     "metadata": {},
     "output_type": "display_data"
    },
    {
     "data": {
      "text/html": [
       "<pre>+---------+--------------+-------------------+-----------------------+-------------+</pre>"
      ],
      "text/plain": [
       "+---------+--------------+-------------------+-----------------------+-------------+"
      ]
     },
     "metadata": {},
     "output_type": "display_data"
    },
    {
     "data": {
      "text/html": [
       "<pre>| 1       | 479.763ms    | 1.96562           | 1.08536               | 0.0325521   |</pre>"
      ],
      "text/plain": [
       "| 1       | 479.763ms    | 1.96562           | 1.08536               | 0.0325521   |"
      ]
     },
     "metadata": {},
     "output_type": "display_data"
    },
    {
     "data": {
      "text/html": [
       "<pre>| 2       | 926.214ms    | 1.3364            | 0.921407              | 0.0325521   |</pre>"
      ],
      "text/plain": [
       "| 2       | 926.214ms    | 1.3364            | 0.921407              | 0.0325521   |"
      ]
     },
     "metadata": {},
     "output_type": "display_data"
    },
    {
     "data": {
      "text/html": [
       "<pre>| 3       | 1.33s        | 1.05115           | 0.8371                | 0.0325521   |</pre>"
      ],
      "text/plain": [
       "| 3       | 1.33s        | 1.05115           | 0.8371                | 0.0325521   |"
      ]
     },
     "metadata": {},
     "output_type": "display_data"
    },
    {
     "data": {
      "text/html": [
       "<pre>| 4       | 1.72s        | 0.895316          | 0.78571               | 0.0325521   |</pre>"
      ],
      "text/plain": [
       "| 4       | 1.72s        | 0.895316          | 0.78571               | 0.0325521   |"
      ]
     },
     "metadata": {},
     "output_type": "display_data"
    },
    {
     "data": {
      "text/html": [
       "<pre>| 5       | 2.10s        | 0.797858          | 0.751181              | 0.0325521   |</pre>"
      ],
      "text/plain": [
       "| 5       | 2.10s        | 0.797858          | 0.751181              | 0.0325521   |"
      ]
     },
     "metadata": {},
     "output_type": "display_data"
    },
    {
     "data": {
      "text/html": [
       "<pre>| 10      | 3.92s        | 0.589865          | 0.666953              | 0.0325521   |</pre>"
      ],
      "text/plain": [
       "| 10      | 3.92s        | 0.589865          | 0.666953              | 0.0325521   |"
      ]
     },
     "metadata": {},
     "output_type": "display_data"
    },
    {
     "data": {
      "text/html": [
       "<pre>| 20      | 7.33s        | 0.467398          | 0.607238              | 0.0325521   |</pre>"
      ],
      "text/plain": [
       "| 20      | 7.33s        | 0.467398          | 0.607238              | 0.0325521   |"
      ]
     },
     "metadata": {},
     "output_type": "display_data"
    },
    {
     "data": {
      "text/html": [
       "<pre>| 25      | 8.97s        | 0.436898          | 0.590643              | 0.0325521   |</pre>"
      ],
      "text/plain": [
       "| 25      | 8.97s        | 0.436898          | 0.590643              | 0.0325521   |"
      ]
     },
     "metadata": {},
     "output_type": "display_data"
    },
    {
     "data": {
      "text/html": [
       "<pre>+---------+--------------+-------------------+-----------------------+-------------+</pre>"
      ],
      "text/plain": [
       "+---------+--------------+-------------------+-----------------------+-------------+"
      ]
     },
     "metadata": {},
     "output_type": "display_data"
    },
    {
     "data": {
      "text/html": [
       "<pre>Optimization Complete: Maximum number of passes through the data reached.</pre>"
      ],
      "text/plain": [
       "Optimization Complete: Maximum number of passes through the data reached."
      ]
     },
     "metadata": {},
     "output_type": "display_data"
    },
    {
     "data": {
      "text/html": [
       "<pre>Computing final objective value and training RMSE.</pre>"
      ],
      "text/plain": [
       "Computing final objective value and training RMSE."
      ]
     },
     "metadata": {},
     "output_type": "display_data"
    },
    {
     "data": {
      "text/html": [
       "<pre>       Final objective value: 0.408929</pre>"
      ],
      "text/plain": [
       "       Final objective value: 0.408929"
      ]
     },
     "metadata": {},
     "output_type": "display_data"
    },
    {
     "data": {
      "text/html": [
       "<pre>       Final training RMSE: 0.567674</pre>"
      ],
      "text/plain": [
       "       Final training RMSE: 0.567674"
      ]
     },
     "metadata": {},
     "output_type": "display_data"
    }
   ],
   "source": [
    "model_0 = tc.recommender.create(training_data, 'user_id', 'group_id', target = 'log_visits')\n",
    "model_1 = tc.item_similarity_recommender.create(training_data, 'user_id', 'group_id', target = 'log_visits')\n",
    "model_2 = tc.popularity_recommender.create(training_data, 'user_id', 'group_id', target = 'log_visits')\n",
    "model_3 = tc.factorization_recommender.create(training_data, 'user_id', 'group_id', target = 'log_visits')\n",
    "model_4 = tc.ranking_factorization_recommender.create(training_data, 'user_id', 'group_id', target = 'log_visits')"
   ]
  },
  {
   "cell_type": "code",
   "execution_count": 21,
   "id": "2611d15e",
   "metadata": {},
   "outputs": [
    {
     "name": "stdout",
     "output_type": "stream",
     "text": [
      "PROGRESS: Evaluate model Default model\n",
      "\n",
      "Precision and recall summary statistics by cutoff\n",
      "+--------+-----------------------+------------------------+\n",
      "| cutoff |     mean_precision    |      mean_recall       |\n",
      "+--------+-----------------------+------------------------+\n",
      "|   1    | 0.0013888888888888892 | 3.561253561253564e-05  |\n",
      "|   2    | 0.0006944444444444446 | 3.5612535612535624e-05 |\n",
      "|   3    | 0.0009259259259259257 | 0.00012820512820512826 |\n",
      "|   4    |  0.001388888888888889 | 0.0002630240130240129  |\n",
      "|   5    | 0.0013888888888888885 | 0.0003447233594292417  |\n",
      "|   6    |  0.00162037037037037  |  0.000565181913221129  |\n",
      "|   7    |  0.001388888888888889 |  0.000565181913221129  |\n",
      "|   8    | 0.0012152777777777782 | 0.0005651819132211285  |\n",
      "|   9    | 0.0010802469135802472 |  0.000565181913221129  |\n",
      "|   10   | 0.0011111111111111111 |  0.001954070802110017  |\n",
      "+--------+-----------------------+------------------------+\n",
      "[10 rows x 3 columns]\n",
      "\n",
      "\n",
      "Overall RMSE: 1.4839031983440507\n",
      "\n",
      "Per User RMSE (best)\n",
      "+-----------+----------------------+-------+\n",
      "|  user_id  |         rmse         | count |\n",
      "+-----------+----------------------+-------+\n",
      "| 101362926 | 0.002396886562815226 |   1   |\n",
      "+-----------+----------------------+-------+\n",
      "[1 rows x 3 columns]\n",
      "\n",
      "\n",
      "Per User RMSE (worst)\n",
      "+-----------+-------------------+-------+\n",
      "|  user_id  |        rmse       | count |\n",
      "+-----------+-------------------+-------+\n",
      "| 101436535 | 5.270566985045761 |   2   |\n",
      "+-----------+-------------------+-------+\n",
      "[1 rows x 3 columns]\n",
      "\n",
      "\n",
      "Per Item RMSE (best)\n",
      "+-----------+-----------------------+-------+\n",
      "|  group_id |          rmse         | count |\n",
      "+-----------+-----------------------+-------+\n",
      "| 801368474 | 0.0005516326300551988 |   1   |\n",
      "+-----------+-----------------------+-------+\n",
      "[1 rows x 3 columns]\n",
      "\n",
      "\n",
      "Per Item RMSE (worst)\n",
      "+-----------+-------------------+-------+\n",
      "|  group_id |        rmse       | count |\n",
      "+-----------+-------------------+-------+\n",
      "| 801350719 | 7.252574503735824 |   1   |\n",
      "+-----------+-------------------+-------+\n",
      "[1 rows x 3 columns]\n",
      "\n",
      "PROGRESS: Evaluate model Item similarity model\n",
      "\n",
      "Precision and recall summary statistics by cutoff\n",
      "+--------+---------------------+---------------------+\n",
      "| cutoff |    mean_precision   |     mean_recall     |\n",
      "+--------+---------------------+---------------------+\n",
      "|   1    | 0.44444444444444453 | 0.23130569984982408 |\n",
      "|   2    |  0.3326388888888889 | 0.29915939138470155 |\n",
      "|   3    |  0.264351851851852  |  0.3394250902795028 |\n",
      "|   4    | 0.22256944444444443 |  0.371481314594499  |\n",
      "|   5    | 0.19249999999999995 | 0.39342059566755194 |\n",
      "|   6    | 0.17337962962962958 | 0.41611579648162533 |\n",
      "|   7    |  0.1563492063492064 |  0.432947496802909  |\n",
      "|   8    | 0.14288194444444446 |  0.4478028221337778 |\n",
      "|   9    | 0.13317901234567894 | 0.46485739300962053 |\n",
      "|   10   | 0.12402777777777783 |  0.4744195811303053 |\n",
      "+--------+---------------------+---------------------+\n",
      "[10 rows x 3 columns]\n",
      "\n",
      "\n",
      "Overall RMSE: 1.9387119289000498\n",
      "\n",
      "Per User RMSE (best)\n",
      "+-----------+------+-------+\n",
      "|  user_id  | rmse | count |\n",
      "+-----------+------+-------+\n",
      "| 101447648 | 0.0  |   1   |\n",
      "+-----------+------+-------+\n",
      "[1 rows x 3 columns]\n",
      "\n",
      "\n",
      "Per User RMSE (worst)\n",
      "+-----------+-------------------+-------+\n",
      "|  user_id  |        rmse       | count |\n",
      "+-----------+-------------------+-------+\n",
      "| 101428315 | 4.435817524082822 |   1   |\n",
      "+-----------+-------------------+-------+\n",
      "[1 rows x 3 columns]\n",
      "\n",
      "\n",
      "Per Item RMSE (best)\n",
      "+-----------+------+-------+\n",
      "|  group_id | rmse | count |\n",
      "+-----------+------+-------+\n",
      "| 801351930 | 0.0  |   1   |\n",
      "+-----------+------+-------+\n",
      "[1 rows x 3 columns]\n",
      "\n",
      "\n",
      "Per Item RMSE (worst)\n",
      "+-----------+-------------------+-------+\n",
      "|  group_id |        rmse       | count |\n",
      "+-----------+-------------------+-------+\n",
      "| 801350218 | 4.435817524082822 |   1   |\n",
      "+-----------+-------------------+-------+\n",
      "[1 rows x 3 columns]\n",
      "\n",
      "PROGRESS: Evaluate model Popularity recommender\n",
      "\n",
      "Precision and recall summary statistics by cutoff\n",
      "+--------+----------------+-------------+\n",
      "| cutoff | mean_precision | mean_recall |\n",
      "+--------+----------------+-------------+\n",
      "|   1    |      0.0       |     0.0     |\n",
      "|   2    |      0.0       |     0.0     |\n",
      "|   3    |      0.0       |     0.0     |\n",
      "|   4    |      0.0       |     0.0     |\n",
      "|   5    |      0.0       |     0.0     |\n",
      "|   6    |      0.0       |     0.0     |\n",
      "|   7    |      0.0       |     0.0     |\n",
      "|   8    |      0.0       |     0.0     |\n",
      "|   9    |      0.0       |     0.0     |\n",
      "|   10   |      0.0       |     0.0     |\n",
      "+--------+----------------+-------------+\n",
      "[10 rows x 3 columns]\n",
      "\n",
      "\n",
      "Overall RMSE: 0.9897593711404455\n",
      "\n",
      "Per User RMSE (best)\n",
      "+-----------+------+-------+\n",
      "|  user_id  | rmse | count |\n",
      "+-----------+------+-------+\n",
      "| 101424441 | 0.0  |   1   |\n",
      "+-----------+------+-------+\n",
      "[1 rows x 3 columns]\n",
      "\n",
      "\n",
      "Per User RMSE (worst)\n",
      "+-----------+--------------------+-------+\n",
      "|  user_id  |        rmse        | count |\n",
      "+-----------+--------------------+-------+\n",
      "| 101416029 | 3.1524234970956697 |   1   |\n",
      "+-----------+--------------------+-------+\n",
      "[1 rows x 3 columns]\n",
      "\n",
      "\n",
      "Per Item RMSE (best)\n",
      "+-----------+------+-------+\n",
      "|  group_id | rmse | count |\n",
      "+-----------+------+-------+\n",
      "| 801356116 | 0.0  |   1   |\n",
      "+-----------+------+-------+\n",
      "[1 rows x 3 columns]\n",
      "\n",
      "\n",
      "Per Item RMSE (worst)\n",
      "+-----------+--------------------+-------+\n",
      "|  group_id |        rmse        | count |\n",
      "+-----------+--------------------+-------+\n",
      "| 801353059 | 3.2808209502327847 |   1   |\n",
      "+-----------+--------------------+-------+\n",
      "[1 rows x 3 columns]\n",
      "\n",
      "PROGRESS: Evaluate model Factorization recommender\n",
      "\n",
      "Precision and recall summary statistics by cutoff\n",
      "+--------+------------------------+------------------------+\n",
      "| cutoff |     mean_precision     |      mean_recall       |\n",
      "+--------+------------------------+------------------------+\n",
      "|   1    |          0.0           |          0.0           |\n",
      "|   2    |          0.0           |          0.0           |\n",
      "|   3    |          0.0           |          0.0           |\n",
      "|   4    |          0.0           |          0.0           |\n",
      "|   5    | 0.00027777777777777756 | 0.0001262626262626262  |\n",
      "|   6    | 0.00023148148148148152 | 0.0001262626262626263  |\n",
      "|   7    | 0.0001984126984126984  | 0.00012626262626262626 |\n",
      "|   8    | 0.00034722222222222224 |  0.001515151515151515  |\n",
      "|   9    | 0.00030864197530864197 | 0.0015151515151515154  |\n",
      "|   10   | 0.0002777777777777778  | 0.0015151515151515154  |\n",
      "+--------+------------------------+------------------------+\n",
      "[10 rows x 3 columns]\n",
      "\n",
      "\n",
      "Overall RMSE: 1.0964792988739434\n",
      "\n",
      "Per User RMSE (best)\n",
      "+-----------+-----------------------+-------+\n",
      "|  user_id  |          rmse         | count |\n",
      "+-----------+-----------------------+-------+\n",
      "| 101368615 | 0.0034481379403576984 |   1   |\n",
      "+-----------+-----------------------+-------+\n",
      "[1 rows x 3 columns]\n",
      "\n",
      "\n",
      "Per User RMSE (worst)\n",
      "+-----------+-------------------+-------+\n",
      "|  user_id  |        rmse       | count |\n",
      "+-----------+-------------------+-------+\n",
      "| 101371540 | 3.159357107083993 |   1   |\n",
      "+-----------+-------------------+-------+\n",
      "[1 rows x 3 columns]\n",
      "\n",
      "\n",
      "Per Item RMSE (best)\n",
      "+-----------+------------------------+-------+\n",
      "|  group_id |          rmse          | count |\n",
      "+-----------+------------------------+-------+\n",
      "| 801356529 | 0.00016766988831207197 |   1   |\n",
      "+-----------+------------------------+-------+\n",
      "[1 rows x 3 columns]\n",
      "\n",
      "\n",
      "Per Item RMSE (worst)\n",
      "+-----------+-------------------+-------+\n",
      "|  group_id |        rmse       | count |\n",
      "+-----------+-------------------+-------+\n",
      "| 801348629 | 5.138509005001717 |   1   |\n",
      "+-----------+-------------------+-------+\n",
      "[1 rows x 3 columns]\n",
      "\n",
      "PROGRESS: Evaluate model Ranking factorization recommender\n",
      "\n",
      "Precision and recall summary statistics by cutoff\n",
      "+--------+-----------------------+-----------------------+\n",
      "| cutoff |     mean_precision    |      mean_recall      |\n",
      "+--------+-----------------------+-----------------------+\n",
      "|   1    | 0.0027777777777777783 | 0.0015432098765432102 |\n",
      "|   2    |  0.002777777777777778 | 0.0017746913580246918 |\n",
      "|   3    |  0.002314814814814815 | 0.0019135802469135799 |\n",
      "|   4    |  0.001736111111111111 |  0.001913580246913581 |\n",
      "|   5    | 0.0013888888888888885 | 0.0019135802469135812 |\n",
      "|   6    |  0.001157407407407407 |  0.001913580246913581 |\n",
      "|   7    | 0.0011904761904761904 | 0.0033024691358024697 |\n",
      "|   8    | 0.0010416666666666669 | 0.0033024691358024697 |\n",
      "|   9    | 0.0009259259259259257 | 0.0033024691358024692 |\n",
      "|   10   | 0.0011111111111111111 |  0.003554994388327722 |\n",
      "+--------+-----------------------+-----------------------+\n",
      "[10 rows x 3 columns]\n",
      "\n",
      "\n",
      "Overall RMSE: 1.0114718154853628\n",
      "\n",
      "Per User RMSE (best)\n",
      "+-----------+-----------------------+-------+\n",
      "|  user_id  |          rmse         | count |\n",
      "+-----------+-----------------------+-------+\n",
      "| 101397927 | 0.0011896516332394746 |   1   |\n",
      "+-----------+-----------------------+-------+\n",
      "[1 rows x 3 columns]\n",
      "\n",
      "\n",
      "Per User RMSE (worst)\n",
      "+-----------+-------------------+-------+\n",
      "|  user_id  |        rmse       | count |\n",
      "+-----------+-------------------+-------+\n",
      "| 101406785 | 3.355246579256006 |   1   |\n",
      "+-----------+-------------------+-------+\n",
      "[1 rows x 3 columns]\n",
      "\n",
      "\n",
      "Per Item RMSE (best)\n",
      "+-----------+-----------------------+-------+\n",
      "|  group_id |          rmse         | count |\n",
      "+-----------+-----------------------+-------+\n",
      "| 801372294 | 3.377308217811237e-05 |   1   |\n",
      "+-----------+-----------------------+-------+\n",
      "[1 rows x 3 columns]\n",
      "\n",
      "\n",
      "Per Item RMSE (worst)\n",
      "+-----------+--------------------+-------+\n",
      "|  group_id |        rmse        | count |\n",
      "+-----------+--------------------+-------+\n",
      "| 801358346 | 3.6026682880069556 |   1   |\n",
      "+-----------+--------------------+-------+\n",
      "[1 rows x 3 columns]\n",
      "\n",
      "[{'precision_recall_by_user': Columns:\n",
      "\tuser_id\tint\n",
      "\tcutoff\tint\n",
      "\tprecision\tfloat\n",
      "\trecall\tfloat\n",
      "\tcount\tint\n",
      "\n",
      "Rows: 12960\n",
      "\n",
      "Data:\n",
      "+-----------+--------+-----------+--------+-------+\n",
      "|  user_id  | cutoff | precision | recall | count |\n",
      "+-----------+--------+-----------+--------+-------+\n",
      "| 101392971 |   1    |    0.0    |  0.0   |   9   |\n",
      "| 101392971 |   2    |    0.0    |  0.0   |   9   |\n",
      "| 101392971 |   3    |    0.0    |  0.0   |   9   |\n",
      "| 101392971 |   4    |    0.0    |  0.0   |   9   |\n",
      "| 101392971 |   5    |    0.0    |  0.0   |   9   |\n",
      "| 101392971 |   6    |    0.0    |  0.0   |   9   |\n",
      "| 101392971 |   7    |    0.0    |  0.0   |   9   |\n",
      "| 101392971 |   8    |    0.0    |  0.0   |   9   |\n",
      "| 101392971 |   9    |    0.0    |  0.0   |   9   |\n",
      "| 101392971 |   10   |    0.0    |  0.0   |   9   |\n",
      "+-----------+--------+-----------+--------+-------+\n",
      "[12960 rows x 5 columns]\n",
      "Note: Only the head of the SFrame is printed.\n",
      "You can use print_rows(num_rows=m, num_columns=n) to print more rows and columns., 'precision_recall_overall': Columns:\n",
      "\tcutoff\tint\n",
      "\tprecision\tfloat\n",
      "\trecall\tfloat\n",
      "\n",
      "Rows: 18\n",
      "\n",
      "Data:\n",
      "+--------+-----------------------+------------------------+\n",
      "| cutoff |       precision       |         recall         |\n",
      "+--------+-----------------------+------------------------+\n",
      "|   1    | 0.0013888888888888892 | 3.5612535612535624e-05 |\n",
      "|   2    | 0.0006944444444444446 | 3.5612535612535624e-05 |\n",
      "|   3    | 0.0009259259259259257 | 0.00012820512820512826 |\n",
      "|   4    | 0.0013888888888888892 | 0.0002630240130240132  |\n",
      "|   5    | 0.0013888888888888896 | 0.0003447233594292417  |\n",
      "|   6    |  0.00162037037037037  | 0.0005651819132211292  |\n",
      "|   7    | 0.0013888888888888885 | 0.0005651819132211289  |\n",
      "|   8    | 0.0012152777777777789 | 0.0005651819132211287  |\n",
      "|   9    |  0.001080246913580247 |  0.000565181913221129  |\n",
      "|   10   | 0.0011111111111111111 | 0.0019540708021100186  |\n",
      "+--------+-----------------------+------------------------+\n",
      "[18 rows x 3 columns]\n",
      "Note: Only the head of the SFrame is printed.\n",
      "You can use print_rows(num_rows=m, num_columns=n) to print more rows and columns., 'rmse_by_user': Columns:\n",
      "\tuser_id\tint\n",
      "\trmse\tfloat\n",
      "\tcount\tint\n",
      "\n",
      "Rows: 720\n",
      "\n",
      "Data:\n",
      "+-----------+---------------------+-------+\n",
      "|  user_id  |         rmse        | count |\n",
      "+-----------+---------------------+-------+\n",
      "| 101369230 |  0.3319927741968993 |   3   |\n",
      "| 101441796 |  1.5522409808099844 |   2   |\n",
      "| 101378194 | 0.16421925086776046 |   1   |\n",
      "| 101403230 |  1.1898507576886617 |   2   |\n",
      "| 101442395 |  0.5898216356170982 |   1   |\n",
      "| 101348269 |  2.4127497012053376 |   3   |\n",
      "| 101408521 |  0.7547094745784264 |   3   |\n",
      "| 101372141 |  0.8243950254000862 |   4   |\n",
      "| 101372653 |  1.4931626736496824 |   8   |\n",
      "| 101405026 |  0.8203472392016016 |   1   |\n",
      "+-----------+---------------------+-------+\n",
      "[720 rows x 3 columns]\n",
      "Note: Only the head of the SFrame is printed.\n",
      "You can use print_rows(num_rows=m, num_columns=n) to print more rows and columns., 'rmse_by_item': Columns:\n",
      "\tgroup_id\tint\n",
      "\trmse\tfloat\n",
      "\tcount\tint\n",
      "\n",
      "Rows: 2113\n",
      "\n",
      "Data:\n",
      "+-----------+---------------------+-------+\n",
      "|  group_id |         rmse        | count |\n",
      "+-----------+---------------------+-------+\n",
      "| 801350512 |  1.1637165721231426 |   1   |\n",
      "| 801351145 |  2.678553996062569  |   1   |\n",
      "| 801355390 |  0.5443089658620687 |   1   |\n",
      "| 801371304 |  0.3970597548732011 |   1   |\n",
      "| 801349162 |  0.8887808227392615 |   1   |\n",
      "| 801354921 |  3.5120955841367345 |   1   |\n",
      "| 801347380 |  1.113964216387438  |   1   |\n",
      "| 801366704 |  0.1889743010433511 |   1   |\n",
      "| 801365622 | 0.23720900354182828 |   1   |\n",
      "| 801346867 |  3.0296785833091002 |   1   |\n",
      "+-----------+---------------------+-------+\n",
      "[2113 rows x 3 columns]\n",
      "Note: Only the head of the SFrame is printed.\n",
      "You can use print_rows(num_rows=m, num_columns=n) to print more rows and columns., 'rmse_overall': 1.4839031983440507}, {'precision_recall_by_user': Columns:\n",
      "\tuser_id\tint\n",
      "\tcutoff\tint\n",
      "\tprecision\tfloat\n",
      "\trecall\tfloat\n",
      "\tcount\tint\n",
      "\n",
      "Rows: 12960\n",
      "\n",
      "Data:\n",
      "+-----------+--------+---------------------+--------------------+-------+\n",
      "|  user_id  | cutoff |      precision      |       recall       | count |\n",
      "+-----------+--------+---------------------+--------------------+-------+\n",
      "| 101392971 |   1    |         1.0         | 0.1111111111111111 |   9   |\n",
      "| 101392971 |   2    |         1.0         | 0.2222222222222222 |   9   |\n",
      "| 101392971 |   3    |  0.6666666666666666 | 0.2222222222222222 |   9   |\n",
      "| 101392971 |   4    |         0.5         | 0.2222222222222222 |   9   |\n",
      "| 101392971 |   5    |         0.4         | 0.2222222222222222 |   9   |\n",
      "| 101392971 |   6    |         0.5         | 0.3333333333333333 |   9   |\n",
      "| 101392971 |   7    | 0.42857142857142855 | 0.3333333333333333 |   9   |\n",
      "| 101392971 |   8    |        0.375        | 0.3333333333333333 |   9   |\n",
      "| 101392971 |   9    |  0.3333333333333333 | 0.3333333333333333 |   9   |\n",
      "| 101392971 |   10   |         0.3         | 0.3333333333333333 |   9   |\n",
      "+-----------+--------+---------------------+--------------------+-------+\n",
      "[12960 rows x 5 columns]\n",
      "Note: Only the head of the SFrame is printed.\n",
      "You can use print_rows(num_rows=m, num_columns=n) to print more rows and columns., 'precision_recall_overall': Columns:\n",
      "\tcutoff\tint\n",
      "\tprecision\tfloat\n",
      "\trecall\tfloat\n",
      "\n",
      "Rows: 18\n",
      "\n",
      "Data:\n",
      "+--------+---------------------+---------------------+\n",
      "| cutoff |      precision      |        recall       |\n",
      "+--------+---------------------+---------------------+\n",
      "|   1    |  0.4444444444444444 | 0.23130569984982421 |\n",
      "|   2    |  0.3326388888888889 | 0.29915939138470143 |\n",
      "|   3    |  0.2643518518518521 | 0.33942509027950263 |\n",
      "|   4    | 0.22256944444444443 | 0.37148131459449885 |\n",
      "|   5    |        0.1925       |  0.3934205956675521 |\n",
      "|   6    | 0.17337962962962947 | 0.41611579648162544 |\n",
      "|   7    | 0.15634920634920638 |  0.432947496802909  |\n",
      "|   8    | 0.14288194444444438 |  0.4478028221337777 |\n",
      "|   9    |  0.133179012345679  | 0.46485739300962053 |\n",
      "|   10   | 0.12402777777777785 |  0.4744195811303052 |\n",
      "+--------+---------------------+---------------------+\n",
      "[18 rows x 3 columns]\n",
      "Note: Only the head of the SFrame is printed.\n",
      "You can use print_rows(num_rows=m, num_columns=n) to print more rows and columns., 'rmse_by_user': Columns:\n",
      "\tuser_id\tint\n",
      "\trmse\tfloat\n",
      "\tcount\tint\n",
      "\n",
      "Rows: 720\n",
      "\n",
      "Data:\n",
      "+-----------+--------------------+-------+\n",
      "|  user_id  |        rmse        | count |\n",
      "+-----------+--------------------+-------+\n",
      "| 101369230 | 1.9641758136425869 |   3   |\n",
      "| 101441796 | 0.4686316063590031 |   2   |\n",
      "| 101378194 | 2.1970477579161245 |   1   |\n",
      "| 101403230 | 0.9423774253057061 |   2   |\n",
      "| 101442395 | 2.675318613488284  |   1   |\n",
      "| 101348269 | 1.792289844391994  |   3   |\n",
      "| 101408521 | 1.3727298852846168 |   3   |\n",
      "| 101372141 |  0.79791850237359  |   4   |\n",
      "| 101372653 | 2.337491568080815  |   8   |\n",
      "| 101405026 | 1.6094379124341005 |   1   |\n",
      "+-----------+--------------------+-------+\n",
      "[720 rows x 3 columns]\n",
      "Note: Only the head of the SFrame is printed.\n",
      "You can use print_rows(num_rows=m, num_columns=n) to print more rows and columns., 'rmse_by_item': Columns:\n",
      "\tgroup_id\tint\n",
      "\trmse\tfloat\n",
      "\tcount\tint\n",
      "\n",
      "Rows: 2113\n",
      "\n",
      "Data:\n",
      "+-----------+----------------------+-------+\n",
      "|  group_id |         rmse         | count |\n",
      "+-----------+----------------------+-------+\n",
      "| 801350512 |  1.476104572146892   |   1   |\n",
      "| 801351145 |  3.0896621911907585  |   1   |\n",
      "| 801355390 |  0.6723686766067511  |   1   |\n",
      "| 801371304 |  1.0211712122304775  |   1   |\n",
      "| 801349162 | 0.009485818445682526 |   1   |\n",
      "| 801354921 |  3.828641396489095   |   1   |\n",
      "| 801347380 |  3.398625684603489   |   1   |\n",
      "| 801366704 | 0.00718703783220715  |   1   |\n",
      "| 801365622 |  0.6690611422883592  |   1   |\n",
      "| 801346867 |  1.097777857330836   |   1   |\n",
      "+-----------+----------------------+-------+\n",
      "[2113 rows x 3 columns]\n",
      "Note: Only the head of the SFrame is printed.\n",
      "You can use print_rows(num_rows=m, num_columns=n) to print more rows and columns., 'rmse_overall': 1.9387119289000498}, {'precision_recall_by_user': Columns:\n",
      "\tuser_id\tint\n",
      "\tcutoff\tint\n",
      "\tprecision\tfloat\n",
      "\trecall\tfloat\n",
      "\tcount\tint\n",
      "\n",
      "Rows: 12960\n",
      "\n",
      "Data:\n",
      "+-----------+--------+-----------+--------+-------+\n",
      "|  user_id  | cutoff | precision | recall | count |\n",
      "+-----------+--------+-----------+--------+-------+\n",
      "| 101392971 |   1    |    0.0    |  0.0   |   9   |\n",
      "| 101392971 |   2    |    0.0    |  0.0   |   9   |\n",
      "| 101392971 |   3    |    0.0    |  0.0   |   9   |\n",
      "| 101392971 |   4    |    0.0    |  0.0   |   9   |\n",
      "| 101392971 |   5    |    0.0    |  0.0   |   9   |\n",
      "| 101392971 |   6    |    0.0    |  0.0   |   9   |\n",
      "| 101392971 |   7    |    0.0    |  0.0   |   9   |\n",
      "| 101392971 |   8    |    0.0    |  0.0   |   9   |\n",
      "| 101392971 |   9    |    0.0    |  0.0   |   9   |\n",
      "| 101392971 |   10   |    0.0    |  0.0   |   9   |\n",
      "+-----------+--------+-----------+--------+-------+\n",
      "[12960 rows x 5 columns]\n",
      "Note: Only the head of the SFrame is printed.\n",
      "You can use print_rows(num_rows=m, num_columns=n) to print more rows and columns., 'precision_recall_overall': Columns:\n",
      "\tcutoff\tint\n",
      "\tprecision\tfloat\n",
      "\trecall\tfloat\n",
      "\n",
      "Rows: 18\n",
      "\n",
      "Data:\n",
      "+--------+-----------+--------+\n",
      "| cutoff | precision | recall |\n",
      "+--------+-----------+--------+\n",
      "|   1    |    0.0    |  0.0   |\n",
      "|   2    |    0.0    |  0.0   |\n",
      "|   3    |    0.0    |  0.0   |\n",
      "|   4    |    0.0    |  0.0   |\n",
      "|   5    |    0.0    |  0.0   |\n",
      "|   6    |    0.0    |  0.0   |\n",
      "|   7    |    0.0    |  0.0   |\n",
      "|   8    |    0.0    |  0.0   |\n",
      "|   9    |    0.0    |  0.0   |\n",
      "|   10   |    0.0    |  0.0   |\n",
      "+--------+-----------+--------+\n",
      "[18 rows x 3 columns]\n",
      "Note: Only the head of the SFrame is printed.\n",
      "You can use print_rows(num_rows=m, num_columns=n) to print more rows and columns., 'rmse_by_user': Columns:\n",
      "\tuser_id\tint\n",
      "\trmse\tfloat\n",
      "\tcount\tint\n",
      "\n",
      "Rows: 720\n",
      "\n",
      "Data:\n",
      "+-----------+--------------------+-------+\n",
      "|  user_id  |        rmse        | count |\n",
      "+-----------+--------------------+-------+\n",
      "| 101369230 | 1.474191663244973  |   3   |\n",
      "| 101441796 | 0.694145187643761  |   2   |\n",
      "| 101378194 | 0.7154881467419087 |   1   |\n",
      "| 101403230 | 0.3921032573874189 |   2   |\n",
      "| 101442395 | 0.6110822945044996 |   1   |\n",
      "| 101348269 | 1.3729588549336982 |   3   |\n",
      "| 101408521 | 1.0239600319082747 |   3   |\n",
      "| 101372141 | 1.1640718612447187 |   4   |\n",
      "| 101372653 | 0.9138552877192744 |   8   |\n",
      "| 101405026 | 0.5468886966335744 |   1   |\n",
      "+-----------+--------------------+-------+\n",
      "[720 rows x 3 columns]\n",
      "Note: Only the head of the SFrame is printed.\n",
      "You can use print_rows(num_rows=m, num_columns=n) to print more rows and columns., 'rmse_by_item': Columns:\n",
      "\tgroup_id\tint\n",
      "\trmse\tfloat\n",
      "\tcount\tint\n",
      "\n",
      "Rows: 2113\n",
      "\n",
      "Data:\n",
      "+-----------+-----------------------+-------+\n",
      "|  group_id |          rmse         | count |\n",
      "+-----------+-----------------------+-------+\n",
      "| 801350512 | 0.0018404704405543537 |   1   |\n",
      "| 801351145 |   0.7673174798475109  |   1   |\n",
      "| 801355390 |   0.7940605308472056  |   1   |\n",
      "| 801371304 |  0.035120171885941964 |   1   |\n",
      "| 801349162 |   0.6919459641595979  |   1   |\n",
      "| 801354921 |  0.23308998882348408  |   1   |\n",
      "| 801347380 |   1.4165198567048383  |   1   |\n",
      "| 801366704 |   2.2574420367573693  |   1   |\n",
      "| 801365622 |   0.3797676755628704  |   1   |\n",
      "| 801346867 |   1.5813905751020736  |   1   |\n",
      "+-----------+-----------------------+-------+\n",
      "[2113 rows x 3 columns]\n",
      "Note: Only the head of the SFrame is printed.\n",
      "You can use print_rows(num_rows=m, num_columns=n) to print more rows and columns., 'rmse_overall': 0.9897593711404455}, {'precision_recall_by_user': Columns:\n",
      "\tuser_id\tint\n",
      "\tcutoff\tint\n",
      "\tprecision\tfloat\n",
      "\trecall\tfloat\n",
      "\tcount\tint\n",
      "\n",
      "Rows: 12960\n",
      "\n",
      "Data:\n",
      "+-----------+--------+-----------+--------+-------+\n",
      "|  user_id  | cutoff | precision | recall | count |\n",
      "+-----------+--------+-----------+--------+-------+\n",
      "| 101392971 |   1    |    0.0    |  0.0   |   9   |\n",
      "| 101392971 |   2    |    0.0    |  0.0   |   9   |\n",
      "| 101392971 |   3    |    0.0    |  0.0   |   9   |\n",
      "| 101392971 |   4    |    0.0    |  0.0   |   9   |\n",
      "| 101392971 |   5    |    0.0    |  0.0   |   9   |\n",
      "| 101392971 |   6    |    0.0    |  0.0   |   9   |\n",
      "| 101392971 |   7    |    0.0    |  0.0   |   9   |\n",
      "| 101392971 |   8    |    0.0    |  0.0   |   9   |\n",
      "| 101392971 |   9    |    0.0    |  0.0   |   9   |\n",
      "| 101392971 |   10   |    0.0    |  0.0   |   9   |\n",
      "+-----------+--------+-----------+--------+-------+\n",
      "[12960 rows x 5 columns]\n",
      "Note: Only the head of the SFrame is printed.\n",
      "You can use print_rows(num_rows=m, num_columns=n) to print more rows and columns., 'precision_recall_overall': Columns:\n",
      "\tcutoff\tint\n",
      "\tprecision\tfloat\n",
      "\trecall\tfloat\n",
      "\n",
      "Rows: 18\n",
      "\n",
      "Data:\n",
      "+--------+------------------------+------------------------+\n",
      "| cutoff |       precision        |         recall         |\n",
      "+--------+------------------------+------------------------+\n",
      "|   1    |          0.0           |          0.0           |\n",
      "|   2    |          0.0           |          0.0           |\n",
      "|   3    |          0.0           |          0.0           |\n",
      "|   4    |          0.0           |          0.0           |\n",
      "|   5    | 0.0002777777777777778  | 0.00012626262626262626 |\n",
      "|   6    | 0.00023148148148148138 | 0.00012626262626262632 |\n",
      "|   7    | 0.0001984126984126984  | 0.0001262626262626263  |\n",
      "|   8    | 0.0003472222222222221  |  0.001515151515151516  |\n",
      "|   9    | 0.00030864197530864197 | 0.0015151515151515154  |\n",
      "|   10   | 0.0002777777777777778  |  0.001515151515151516  |\n",
      "+--------+------------------------+------------------------+\n",
      "[18 rows x 3 columns]\n",
      "Note: Only the head of the SFrame is printed.\n",
      "You can use print_rows(num_rows=m, num_columns=n) to print more rows and columns., 'rmse_by_user': Columns:\n",
      "\tuser_id\tint\n",
      "\trmse\tfloat\n",
      "\tcount\tint\n",
      "\n",
      "Rows: 720\n",
      "\n",
      "Data:\n",
      "+-----------+--------------------+-------+\n",
      "|  user_id  |        rmse        | count |\n",
      "+-----------+--------------------+-------+\n",
      "| 101369230 | 1.4531341396553816 |   3   |\n",
      "| 101441796 | 0.9796899740234356 |   2   |\n",
      "| 101378194 | 0.2263162022578542 |   1   |\n",
      "| 101403230 | 0.5617389926836127 |   2   |\n",
      "| 101442395 | 0.9196094803022685 |   1   |\n",
      "| 101348269 | 0.7724734758901969 |   3   |\n",
      "| 101408521 | 0.8441730179930892 |   3   |\n",
      "| 101372141 | 1.1149485816342126 |   4   |\n",
      "| 101372653 | 0.7462777068877761 |   8   |\n",
      "| 101405026 | 0.8413152426215618 |   1   |\n",
      "+-----------+--------------------+-------+\n",
      "[720 rows x 3 columns]\n",
      "Note: Only the head of the SFrame is printed.\n",
      "You can use print_rows(num_rows=m, num_columns=n) to print more rows and columns., 'rmse_by_item': Columns:\n",
      "\tgroup_id\tint\n",
      "\trmse\tfloat\n",
      "\tcount\tint\n",
      "\n",
      "Rows: 2113\n",
      "\n",
      "Data:\n",
      "+-----------+----------------------+-------+\n",
      "|  group_id |         rmse         | count |\n",
      "+-----------+----------------------+-------+\n",
      "| 801350512 |  0.4981207069147162  |   1   |\n",
      "| 801351145 |  0.8432533950854149  |   1   |\n",
      "| 801355390 | 0.41792464533369833  |   1   |\n",
      "| 801371304 | 0.17181119140995205  |   1   |\n",
      "| 801349162 | 0.014310791435725778 |   1   |\n",
      "| 801354921 |  0.7389572897238685  |   1   |\n",
      "| 801347380 |  0.9873563101373746  |   1   |\n",
      "| 801366704 |  2.1176721857473275  |   1   |\n",
      "| 801365622 |  0.5562731074834619  |   1   |\n",
      "| 801346867 |  1.296097893990187   |   1   |\n",
      "+-----------+----------------------+-------+\n",
      "[2113 rows x 3 columns]\n",
      "Note: Only the head of the SFrame is printed.\n",
      "You can use print_rows(num_rows=m, num_columns=n) to print more rows and columns., 'rmse_overall': 1.0964792988739434}, {'precision_recall_by_user': Columns:\n",
      "\tuser_id\tint\n",
      "\tcutoff\tint\n",
      "\tprecision\tfloat\n",
      "\trecall\tfloat\n",
      "\tcount\tint\n",
      "\n",
      "Rows: 12960\n",
      "\n",
      "Data:\n",
      "+-----------+--------+-----------+--------+-------+\n",
      "|  user_id  | cutoff | precision | recall | count |\n",
      "+-----------+--------+-----------+--------+-------+\n",
      "| 101392971 |   1    |    0.0    |  0.0   |   9   |\n",
      "| 101392971 |   2    |    0.0    |  0.0   |   9   |\n",
      "| 101392971 |   3    |    0.0    |  0.0   |   9   |\n",
      "| 101392971 |   4    |    0.0    |  0.0   |   9   |\n",
      "| 101392971 |   5    |    0.0    |  0.0   |   9   |\n",
      "| 101392971 |   6    |    0.0    |  0.0   |   9   |\n",
      "| 101392971 |   7    |    0.0    |  0.0   |   9   |\n",
      "| 101392971 |   8    |    0.0    |  0.0   |   9   |\n",
      "| 101392971 |   9    |    0.0    |  0.0   |   9   |\n",
      "| 101392971 |   10   |    0.0    |  0.0   |   9   |\n",
      "+-----------+--------+-----------+--------+-------+\n",
      "[12960 rows x 5 columns]\n",
      "Note: Only the head of the SFrame is printed.\n",
      "You can use print_rows(num_rows=m, num_columns=n) to print more rows and columns., 'precision_recall_overall': Columns:\n",
      "\tcutoff\tint\n",
      "\tprecision\tfloat\n",
      "\trecall\tfloat\n",
      "\n",
      "Rows: 18\n",
      "\n",
      "Data:\n",
      "+--------+-----------------------+-----------------------+\n",
      "| cutoff |       precision       |         recall        |\n",
      "+--------+-----------------------+-----------------------+\n",
      "|   1    | 0.0027777777777777783 | 0.0015432098765432107 |\n",
      "|   2    |  0.002777777777777779 |  0.001774691358024692 |\n",
      "|   3    |  0.002314814814814813 | 0.0019135802469135799 |\n",
      "|   4    | 0.0017361111111111114 | 0.0019135802469135792 |\n",
      "|   5    |  0.001388888888888888 | 0.0019135802469135799 |\n",
      "|   6    | 0.0011574074074074076 |  0.001913580246913581 |\n",
      "|   7    | 0.0011904761904761908 | 0.0033024691358024697 |\n",
      "|   8    | 0.0010416666666666669 | 0.0033024691358024697 |\n",
      "|   9    | 0.0009259259259259261 | 0.0033024691358024697 |\n",
      "|   10   | 0.0011111111111111113 | 0.0035549943883277225 |\n",
      "+--------+-----------------------+-----------------------+\n",
      "[18 rows x 3 columns]\n",
      "Note: Only the head of the SFrame is printed.\n",
      "You can use print_rows(num_rows=m, num_columns=n) to print more rows and columns., 'rmse_by_user': Columns:\n",
      "\tuser_id\tint\n",
      "\trmse\tfloat\n",
      "\tcount\tint\n",
      "\n",
      "Rows: 720\n",
      "\n",
      "Data:\n",
      "+-----------+---------------------+-------+\n",
      "|  user_id  |         rmse        | count |\n",
      "+-----------+---------------------+-------+\n",
      "| 101369230 |  1.4907415004149036 |   3   |\n",
      "| 101441796 | 0.44332423497077583 |   2   |\n",
      "| 101378194 |  0.8216900802947329 |   1   |\n",
      "| 101403230 |  0.3918228599324702 |   2   |\n",
      "| 101442395 |  1.8073683473410493 |   1   |\n",
      "| 101348269 |  1.0458105727506284 |   3   |\n",
      "| 101408521 |  1.1038288972563877 |   3   |\n",
      "| 101372141 |  1.5308486164449744 |   4   |\n",
      "| 101372653 |   0.81242238410693  |   8   |\n",
      "| 101405026 | 0.38603193383870593 |   1   |\n",
      "+-----------+---------------------+-------+\n",
      "[720 rows x 3 columns]\n",
      "Note: Only the head of the SFrame is printed.\n",
      "You can use print_rows(num_rows=m, num_columns=n) to print more rows and columns., 'rmse_by_item': Columns:\n",
      "\tgroup_id\tint\n",
      "\trmse\tfloat\n",
      "\tcount\tint\n",
      "\n",
      "Rows: 2113\n",
      "\n",
      "Data:\n",
      "+-----------+---------------------+-------+\n",
      "|  group_id |         rmse        | count |\n",
      "+-----------+---------------------+-------+\n",
      "| 801350512 |  0.5527920263932522 |   1   |\n",
      "| 801351145 | 0.19997819411899576 |   1   |\n",
      "| 801355390 | 0.17351642621107033 |   1   |\n",
      "| 801371304 |  0.1994553189215147 |   1   |\n",
      "| 801349162 |  0.7987858220932322 |   1   |\n",
      "| 801354921 | 0.14485054608309866 |   1   |\n",
      "| 801347380 |  0.3148619355192359 |   1   |\n",
      "| 801366704 |  2.030403681104345  |   1   |\n",
      "| 801365622 |  0.7005548414607813 |   1   |\n",
      "| 801346867 |  0.9196091508697786 |   1   |\n",
      "+-----------+---------------------+-------+\n",
      "[2113 rows x 3 columns]\n",
      "Note: Only the head of the SFrame is printed.\n",
      "You can use print_rows(num_rows=m, num_columns=n) to print more rows and columns., 'rmse_overall': 1.0114718154853628}]\n"
     ]
    }
   ],
   "source": [
    "print(tc.recommender.util.compare_models(\n",
    "    validation_data, \n",
    "    [model_0, model_1,model_2,model_3,model_4], \n",
    "    model_names=[\"Default model\",\n",
    "                 \"Item similarity model\",\n",
    "                 'Popularity recommender',\n",
    "                 'Factorization recommender',\n",
    "                 'Ranking factorization recommender']))"
   ]
  },
  {
   "cell_type": "markdown",
   "id": "ef30c73e",
   "metadata": {},
   "source": [
    "`Default model:             `Overall RMSE: 1.4839031983440507\n",
    "\n",
    "`Item similarity model:     `Overall RMSE: 1.9387119289000498\n",
    "\n",
    "`Popularity recommender:    `Overall RMSE: 0.9897593711404455\n",
    "\n",
    "`Factorization recommender: `Overall RMSE: 1.0964792988739434\n",
    "\n",
    "`Ranking factorization:     `Overall RMSE: 1.0114718154853628"
   ]
  },
  {
   "cell_type": "markdown",
   "id": "c3fec1a2",
   "metadata": {},
   "source": [
    "### Берем результаты Ranking factorization модели"
   ]
  },
  {
   "cell_type": "code",
   "execution_count": 22,
   "id": "8da21dc6",
   "metadata": {
    "scrolled": true
   },
   "outputs": [
    {
     "data": {
      "text/html": [
       "<pre>recommendations finished on 1000/50881 queries. users per second: 5354.35</pre>"
      ],
      "text/plain": [
       "recommendations finished on 1000/50881 queries. users per second: 5354.35"
      ]
     },
     "metadata": {},
     "output_type": "display_data"
    },
    {
     "data": {
      "text/html": [
       "<pre>recommendations finished on 2000/50881 queries. users per second: 5402.86</pre>"
      ],
      "text/plain": [
       "recommendations finished on 2000/50881 queries. users per second: 5402.86"
      ]
     },
     "metadata": {},
     "output_type": "display_data"
    },
    {
     "data": {
      "text/html": [
       "<pre>recommendations finished on 3000/50881 queries. users per second: 5446.88</pre>"
      ],
      "text/plain": [
       "recommendations finished on 3000/50881 queries. users per second: 5446.88"
      ]
     },
     "metadata": {},
     "output_type": "display_data"
    },
    {
     "data": {
      "text/html": [
       "<pre>recommendations finished on 4000/50881 queries. users per second: 5453.22</pre>"
      ],
      "text/plain": [
       "recommendations finished on 4000/50881 queries. users per second: 5453.22"
      ]
     },
     "metadata": {},
     "output_type": "display_data"
    },
    {
     "data": {
      "text/html": [
       "<pre>recommendations finished on 5000/50881 queries. users per second: 5462.93</pre>"
      ],
      "text/plain": [
       "recommendations finished on 5000/50881 queries. users per second: 5462.93"
      ]
     },
     "metadata": {},
     "output_type": "display_data"
    },
    {
     "data": {
      "text/html": [
       "<pre>recommendations finished on 6000/50881 queries. users per second: 5470.41</pre>"
      ],
      "text/plain": [
       "recommendations finished on 6000/50881 queries. users per second: 5470.41"
      ]
     },
     "metadata": {},
     "output_type": "display_data"
    },
    {
     "data": {
      "text/html": [
       "<pre>recommendations finished on 7000/50881 queries. users per second: 5475.9</pre>"
      ],
      "text/plain": [
       "recommendations finished on 7000/50881 queries. users per second: 5475.9"
      ]
     },
     "metadata": {},
     "output_type": "display_data"
    },
    {
     "data": {
      "text/html": [
       "<pre>recommendations finished on 8000/50881 queries. users per second: 5473.17</pre>"
      ],
      "text/plain": [
       "recommendations finished on 8000/50881 queries. users per second: 5473.17"
      ]
     },
     "metadata": {},
     "output_type": "display_data"
    },
    {
     "data": {
      "text/html": [
       "<pre>recommendations finished on 9000/50881 queries. users per second: 5470.58</pre>"
      ],
      "text/plain": [
       "recommendations finished on 9000/50881 queries. users per second: 5470.58"
      ]
     },
     "metadata": {},
     "output_type": "display_data"
    },
    {
     "data": {
      "text/html": [
       "<pre>recommendations finished on 10000/50881 queries. users per second: 5470.47</pre>"
      ],
      "text/plain": [
       "recommendations finished on 10000/50881 queries. users per second: 5470.47"
      ]
     },
     "metadata": {},
     "output_type": "display_data"
    },
    {
     "data": {
      "text/html": [
       "<pre>recommendations finished on 11000/50881 queries. users per second: 5473.63</pre>"
      ],
      "text/plain": [
       "recommendations finished on 11000/50881 queries. users per second: 5473.63"
      ]
     },
     "metadata": {},
     "output_type": "display_data"
    },
    {
     "data": {
      "text/html": [
       "<pre>recommendations finished on 12000/50881 queries. users per second: 5477.19</pre>"
      ],
      "text/plain": [
       "recommendations finished on 12000/50881 queries. users per second: 5477.19"
      ]
     },
     "metadata": {},
     "output_type": "display_data"
    },
    {
     "data": {
      "text/html": [
       "<pre>recommendations finished on 13000/50881 queries. users per second: 5478.79</pre>"
      ],
      "text/plain": [
       "recommendations finished on 13000/50881 queries. users per second: 5478.79"
      ]
     },
     "metadata": {},
     "output_type": "display_data"
    },
    {
     "data": {
      "text/html": [
       "<pre>recommendations finished on 14000/50881 queries. users per second: 5480.69</pre>"
      ],
      "text/plain": [
       "recommendations finished on 14000/50881 queries. users per second: 5480.69"
      ]
     },
     "metadata": {},
     "output_type": "display_data"
    },
    {
     "data": {
      "text/html": [
       "<pre>recommendations finished on 15000/50881 queries. users per second: 5483.23</pre>"
      ],
      "text/plain": [
       "recommendations finished on 15000/50881 queries. users per second: 5483.23"
      ]
     },
     "metadata": {},
     "output_type": "display_data"
    },
    {
     "data": {
      "text/html": [
       "<pre>recommendations finished on 16000/50881 queries. users per second: 5484.77</pre>"
      ],
      "text/plain": [
       "recommendations finished on 16000/50881 queries. users per second: 5484.77"
      ]
     },
     "metadata": {},
     "output_type": "display_data"
    },
    {
     "data": {
      "text/html": [
       "<pre>recommendations finished on 17000/50881 queries. users per second: 5480.6</pre>"
      ],
      "text/plain": [
       "recommendations finished on 17000/50881 queries. users per second: 5480.6"
      ]
     },
     "metadata": {},
     "output_type": "display_data"
    },
    {
     "data": {
      "text/html": [
       "<pre>recommendations finished on 18000/50881 queries. users per second: 5478.76</pre>"
      ],
      "text/plain": [
       "recommendations finished on 18000/50881 queries. users per second: 5478.76"
      ]
     },
     "metadata": {},
     "output_type": "display_data"
    },
    {
     "data": {
      "text/html": [
       "<pre>recommendations finished on 19000/50881 queries. users per second: 5473.82</pre>"
      ],
      "text/plain": [
       "recommendations finished on 19000/50881 queries. users per second: 5473.82"
      ]
     },
     "metadata": {},
     "output_type": "display_data"
    },
    {
     "data": {
      "text/html": [
       "<pre>recommendations finished on 20000/50881 queries. users per second: 5475.21</pre>"
      ],
      "text/plain": [
       "recommendations finished on 20000/50881 queries. users per second: 5475.21"
      ]
     },
     "metadata": {},
     "output_type": "display_data"
    },
    {
     "data": {
      "text/html": [
       "<pre>recommendations finished on 21000/50881 queries. users per second: 5475.24</pre>"
      ],
      "text/plain": [
       "recommendations finished on 21000/50881 queries. users per second: 5475.24"
      ]
     },
     "metadata": {},
     "output_type": "display_data"
    },
    {
     "data": {
      "text/html": [
       "<pre>recommendations finished on 22000/50881 queries. users per second: 5474.38</pre>"
      ],
      "text/plain": [
       "recommendations finished on 22000/50881 queries. users per second: 5474.38"
      ]
     },
     "metadata": {},
     "output_type": "display_data"
    },
    {
     "data": {
      "text/html": [
       "<pre>recommendations finished on 23000/50881 queries. users per second: 5476.2</pre>"
      ],
      "text/plain": [
       "recommendations finished on 23000/50881 queries. users per second: 5476.2"
      ]
     },
     "metadata": {},
     "output_type": "display_data"
    },
    {
     "data": {
      "text/html": [
       "<pre>recommendations finished on 24000/50881 queries. users per second: 5474.94</pre>"
      ],
      "text/plain": [
       "recommendations finished on 24000/50881 queries. users per second: 5474.94"
      ]
     },
     "metadata": {},
     "output_type": "display_data"
    },
    {
     "data": {
      "text/html": [
       "<pre>recommendations finished on 25000/50881 queries. users per second: 5475.07</pre>"
      ],
      "text/plain": [
       "recommendations finished on 25000/50881 queries. users per second: 5475.07"
      ]
     },
     "metadata": {},
     "output_type": "display_data"
    },
    {
     "data": {
      "text/html": [
       "<pre>recommendations finished on 26000/50881 queries. users per second: 5474.71</pre>"
      ],
      "text/plain": [
       "recommendations finished on 26000/50881 queries. users per second: 5474.71"
      ]
     },
     "metadata": {},
     "output_type": "display_data"
    },
    {
     "data": {
      "text/html": [
       "<pre>recommendations finished on 27000/50881 queries. users per second: 5475.31</pre>"
      ],
      "text/plain": [
       "recommendations finished on 27000/50881 queries. users per second: 5475.31"
      ]
     },
     "metadata": {},
     "output_type": "display_data"
    },
    {
     "data": {
      "text/html": [
       "<pre>recommendations finished on 28000/50881 queries. users per second: 5475.75</pre>"
      ],
      "text/plain": [
       "recommendations finished on 28000/50881 queries. users per second: 5475.75"
      ]
     },
     "metadata": {},
     "output_type": "display_data"
    },
    {
     "data": {
      "text/html": [
       "<pre>recommendations finished on 29000/50881 queries. users per second: 5475.52</pre>"
      ],
      "text/plain": [
       "recommendations finished on 29000/50881 queries. users per second: 5475.52"
      ]
     },
     "metadata": {},
     "output_type": "display_data"
    },
    {
     "data": {
      "text/html": [
       "<pre>recommendations finished on 30000/50881 queries. users per second: 5476.82</pre>"
      ],
      "text/plain": [
       "recommendations finished on 30000/50881 queries. users per second: 5476.82"
      ]
     },
     "metadata": {},
     "output_type": "display_data"
    },
    {
     "data": {
      "text/html": [
       "<pre>recommendations finished on 31000/50881 queries. users per second: 5477.04</pre>"
      ],
      "text/plain": [
       "recommendations finished on 31000/50881 queries. users per second: 5477.04"
      ]
     },
     "metadata": {},
     "output_type": "display_data"
    },
    {
     "data": {
      "text/html": [
       "<pre>recommendations finished on 32000/50881 queries. users per second: 5474.35</pre>"
      ],
      "text/plain": [
       "recommendations finished on 32000/50881 queries. users per second: 5474.35"
      ]
     },
     "metadata": {},
     "output_type": "display_data"
    },
    {
     "data": {
      "text/html": [
       "<pre>recommendations finished on 33000/50881 queries. users per second: 5471.8</pre>"
      ],
      "text/plain": [
       "recommendations finished on 33000/50881 queries. users per second: 5471.8"
      ]
     },
     "metadata": {},
     "output_type": "display_data"
    },
    {
     "data": {
      "text/html": [
       "<pre>recommendations finished on 34000/50881 queries. users per second: 5469.79</pre>"
      ],
      "text/plain": [
       "recommendations finished on 34000/50881 queries. users per second: 5469.79"
      ]
     },
     "metadata": {},
     "output_type": "display_data"
    },
    {
     "data": {
      "text/html": [
       "<pre>recommendations finished on 35000/50881 queries. users per second: 5470.78</pre>"
      ],
      "text/plain": [
       "recommendations finished on 35000/50881 queries. users per second: 5470.78"
      ]
     },
     "metadata": {},
     "output_type": "display_data"
    },
    {
     "data": {
      "text/html": [
       "<pre>recommendations finished on 36000/50881 queries. users per second: 5469.78</pre>"
      ],
      "text/plain": [
       "recommendations finished on 36000/50881 queries. users per second: 5469.78"
      ]
     },
     "metadata": {},
     "output_type": "display_data"
    },
    {
     "data": {
      "text/html": [
       "<pre>recommendations finished on 37000/50881 queries. users per second: 5471.12</pre>"
      ],
      "text/plain": [
       "recommendations finished on 37000/50881 queries. users per second: 5471.12"
      ]
     },
     "metadata": {},
     "output_type": "display_data"
    },
    {
     "data": {
      "text/html": [
       "<pre>recommendations finished on 38000/50881 queries. users per second: 5470.75</pre>"
      ],
      "text/plain": [
       "recommendations finished on 38000/50881 queries. users per second: 5470.75"
      ]
     },
     "metadata": {},
     "output_type": "display_data"
    },
    {
     "data": {
      "text/html": [
       "<pre>recommendations finished on 39000/50881 queries. users per second: 5454.99</pre>"
      ],
      "text/plain": [
       "recommendations finished on 39000/50881 queries. users per second: 5454.99"
      ]
     },
     "metadata": {},
     "output_type": "display_data"
    },
    {
     "data": {
      "text/html": [
       "<pre>recommendations finished on 40000/50881 queries. users per second: 5425.39</pre>"
      ],
      "text/plain": [
       "recommendations finished on 40000/50881 queries. users per second: 5425.39"
      ]
     },
     "metadata": {},
     "output_type": "display_data"
    },
    {
     "data": {
      "text/html": [
       "<pre>recommendations finished on 41000/50881 queries. users per second: 5391.88</pre>"
      ],
      "text/plain": [
       "recommendations finished on 41000/50881 queries. users per second: 5391.88"
      ]
     },
     "metadata": {},
     "output_type": "display_data"
    },
    {
     "data": {
      "text/html": [
       "<pre>recommendations finished on 42000/50881 queries. users per second: 5337.44</pre>"
      ],
      "text/plain": [
       "recommendations finished on 42000/50881 queries. users per second: 5337.44"
      ]
     },
     "metadata": {},
     "output_type": "display_data"
    },
    {
     "data": {
      "text/html": [
       "<pre>recommendations finished on 43000/50881 queries. users per second: 5262.46</pre>"
      ],
      "text/plain": [
       "recommendations finished on 43000/50881 queries. users per second: 5262.46"
      ]
     },
     "metadata": {},
     "output_type": "display_data"
    },
    {
     "data": {
      "text/html": [
       "<pre>recommendations finished on 44000/50881 queries. users per second: 5193.23</pre>"
      ],
      "text/plain": [
       "recommendations finished on 44000/50881 queries. users per second: 5193.23"
      ]
     },
     "metadata": {},
     "output_type": "display_data"
    },
    {
     "data": {
      "text/html": [
       "<pre>recommendations finished on 45000/50881 queries. users per second: 5128.9</pre>"
      ],
      "text/plain": [
       "recommendations finished on 45000/50881 queries. users per second: 5128.9"
      ]
     },
     "metadata": {},
     "output_type": "display_data"
    },
    {
     "data": {
      "text/html": [
       "<pre>recommendations finished on 46000/50881 queries. users per second: 5068.88</pre>"
      ],
      "text/plain": [
       "recommendations finished on 46000/50881 queries. users per second: 5068.88"
      ]
     },
     "metadata": {},
     "output_type": "display_data"
    },
    {
     "data": {
      "text/html": [
       "<pre>recommendations finished on 47000/50881 queries. users per second: 5013.83</pre>"
      ],
      "text/plain": [
       "recommendations finished on 47000/50881 queries. users per second: 5013.83"
      ]
     },
     "metadata": {},
     "output_type": "display_data"
    },
    {
     "data": {
      "text/html": [
       "<pre>recommendations finished on 48000/50881 queries. users per second: 4958.91</pre>"
      ],
      "text/plain": [
       "recommendations finished on 48000/50881 queries. users per second: 4958.91"
      ]
     },
     "metadata": {},
     "output_type": "display_data"
    },
    {
     "data": {
      "text/html": [
       "<pre>recommendations finished on 49000/50881 queries. users per second: 4904.74</pre>"
      ],
      "text/plain": [
       "recommendations finished on 49000/50881 queries. users per second: 4904.74"
      ]
     },
     "metadata": {},
     "output_type": "display_data"
    },
    {
     "data": {
      "text/html": [
       "<pre>recommendations finished on 50000/50881 queries. users per second: 4848.87</pre>"
      ],
      "text/plain": [
       "recommendations finished on 50000/50881 queries. users per second: 4848.87"
      ]
     },
     "metadata": {},
     "output_type": "display_data"
    },
    {
     "data": {
      "text/html": [
       "<div style=\"max-height:1000px;max-width:1500px;overflow:auto;\"><table frame=\"box\" rules=\"cols\">\n",
       "    <tr>\n",
       "        <th style=\"padding-left: 1em; padding-right: 1em; text-align: center\">user_id</th>\n",
       "        <th style=\"padding-left: 1em; padding-right: 1em; text-align: center\">group_id</th>\n",
       "        <th style=\"padding-left: 1em; padding-right: 1em; text-align: center\">score</th>\n",
       "        <th style=\"padding-left: 1em; padding-right: 1em; text-align: center\">rank</th>\n",
       "    </tr>\n",
       "    <tr>\n",
       "        <td style=\"padding-left: 1em; padding-right: 1em; text-align: center; vertical-align: top\">101370217</td>\n",
       "        <td style=\"padding-left: 1em; padding-right: 1em; text-align: center; vertical-align: top\">801362030</td>\n",
       "        <td style=\"padding-left: 1em; padding-right: 1em; text-align: center; vertical-align: top\">1.8778277140142543</td>\n",
       "        <td style=\"padding-left: 1em; padding-right: 1em; text-align: center; vertical-align: top\">1</td>\n",
       "    </tr>\n",
       "    <tr>\n",
       "        <td style=\"padding-left: 1em; padding-right: 1em; text-align: center; vertical-align: top\">101370217</td>\n",
       "        <td style=\"padding-left: 1em; padding-right: 1em; text-align: center; vertical-align: top\">801352480</td>\n",
       "        <td style=\"padding-left: 1em; padding-right: 1em; text-align: center; vertical-align: top\">1.8631233822586162</td>\n",
       "        <td style=\"padding-left: 1em; padding-right: 1em; text-align: center; vertical-align: top\">2</td>\n",
       "    </tr>\n",
       "    <tr>\n",
       "        <td style=\"padding-left: 1em; padding-right: 1em; text-align: center; vertical-align: top\">101370217</td>\n",
       "        <td style=\"padding-left: 1em; padding-right: 1em; text-align: center; vertical-align: top\">801354202</td>\n",
       "        <td style=\"padding-left: 1em; padding-right: 1em; text-align: center; vertical-align: top\">1.8266987528683765</td>\n",
       "        <td style=\"padding-left: 1em; padding-right: 1em; text-align: center; vertical-align: top\">3</td>\n",
       "    </tr>\n",
       "    <tr>\n",
       "        <td style=\"padding-left: 1em; padding-right: 1em; text-align: center; vertical-align: top\">101370217</td>\n",
       "        <td style=\"padding-left: 1em; padding-right: 1em; text-align: center; vertical-align: top\">801366419</td>\n",
       "        <td style=\"padding-left: 1em; padding-right: 1em; text-align: center; vertical-align: top\">1.80930315219184</td>\n",
       "        <td style=\"padding-left: 1em; padding-right: 1em; text-align: center; vertical-align: top\">4</td>\n",
       "    </tr>\n",
       "    <tr>\n",
       "        <td style=\"padding-left: 1em; padding-right: 1em; text-align: center; vertical-align: top\">101370217</td>\n",
       "        <td style=\"padding-left: 1em; padding-right: 1em; text-align: center; vertical-align: top\">801349419</td>\n",
       "        <td style=\"padding-left: 1em; padding-right: 1em; text-align: center; vertical-align: top\">1.7973920505525691</td>\n",
       "        <td style=\"padding-left: 1em; padding-right: 1em; text-align: center; vertical-align: top\">5</td>\n",
       "    </tr>\n",
       "    <tr>\n",
       "        <td style=\"padding-left: 1em; padding-right: 1em; text-align: center; vertical-align: top\">101370217</td>\n",
       "        <td style=\"padding-left: 1em; padding-right: 1em; text-align: center; vertical-align: top\">801348731</td>\n",
       "        <td style=\"padding-left: 1em; padding-right: 1em; text-align: center; vertical-align: top\">1.7943034868719203</td>\n",
       "        <td style=\"padding-left: 1em; padding-right: 1em; text-align: center; vertical-align: top\">6</td>\n",
       "    </tr>\n",
       "    <tr>\n",
       "        <td style=\"padding-left: 1em; padding-right: 1em; text-align: center; vertical-align: top\">101370217</td>\n",
       "        <td style=\"padding-left: 1em; padding-right: 1em; text-align: center; vertical-align: top\">801370008</td>\n",
       "        <td style=\"padding-left: 1em; padding-right: 1em; text-align: center; vertical-align: top\">1.7924303326787574</td>\n",
       "        <td style=\"padding-left: 1em; padding-right: 1em; text-align: center; vertical-align: top\">7</td>\n",
       "    </tr>\n",
       "    <tr>\n",
       "        <td style=\"padding-left: 1em; padding-right: 1em; text-align: center; vertical-align: top\">101370217</td>\n",
       "        <td style=\"padding-left: 1em; padding-right: 1em; text-align: center; vertical-align: top\">801373704</td>\n",
       "        <td style=\"padding-left: 1em; padding-right: 1em; text-align: center; vertical-align: top\">1.7881144460322482</td>\n",
       "        <td style=\"padding-left: 1em; padding-right: 1em; text-align: center; vertical-align: top\">8</td>\n",
       "    </tr>\n",
       "    <tr>\n",
       "        <td style=\"padding-left: 1em; padding-right: 1em; text-align: center; vertical-align: top\">101370217</td>\n",
       "        <td style=\"padding-left: 1em; padding-right: 1em; text-align: center; vertical-align: top\">801359318</td>\n",
       "        <td style=\"padding-left: 1em; padding-right: 1em; text-align: center; vertical-align: top\">1.7847448688032252</td>\n",
       "        <td style=\"padding-left: 1em; padding-right: 1em; text-align: center; vertical-align: top\">9</td>\n",
       "    </tr>\n",
       "    <tr>\n",
       "        <td style=\"padding-left: 1em; padding-right: 1em; text-align: center; vertical-align: top\">101370217</td>\n",
       "        <td style=\"padding-left: 1em; padding-right: 1em; text-align: center; vertical-align: top\">801350830</td>\n",
       "        <td style=\"padding-left: 1em; padding-right: 1em; text-align: center; vertical-align: top\">1.7810807701232059</td>\n",
       "        <td style=\"padding-left: 1em; padding-right: 1em; text-align: center; vertical-align: top\">10</td>\n",
       "    </tr>\n",
       "</table>\n",
       "[508810 rows x 4 columns]<br/>Note: Only the head of the SFrame is printed.<br/>You can use print_rows(num_rows=m, num_columns=n) to print more rows and columns.\n",
       "</div>"
      ],
      "text/plain": [
       "Columns:\n",
       "\tuser_id\tint\n",
       "\tgroup_id\tint\n",
       "\tscore\tfloat\n",
       "\trank\tint\n",
       "\n",
       "Rows: 508810\n",
       "\n",
       "Data:\n",
       "+-----------+-----------+--------------------+------+\n",
       "|  user_id  |  group_id |       score        | rank |\n",
       "+-----------+-----------+--------------------+------+\n",
       "| 101370217 | 801362030 | 1.8778277140142543 |  1   |\n",
       "| 101370217 | 801352480 | 1.8631233822586162 |  2   |\n",
       "| 101370217 | 801354202 | 1.8266987528683765 |  3   |\n",
       "| 101370217 | 801366419 |  1.80930315219184  |  4   |\n",
       "| 101370217 | 801349419 | 1.7973920505525691 |  5   |\n",
       "| 101370217 | 801348731 | 1.7943034868719203 |  6   |\n",
       "| 101370217 | 801370008 | 1.7924303326787574 |  7   |\n",
       "| 101370217 | 801373704 | 1.7881144460322482 |  8   |\n",
       "| 101370217 | 801359318 | 1.7847448688032252 |  9   |\n",
       "| 101370217 | 801350830 | 1.7810807701232059 |  10  |\n",
       "+-----------+-----------+--------------------+------+\n",
       "[508810 rows x 4 columns]\n",
       "Note: Only the head of the SFrame is printed.\n",
       "You can use print_rows(num_rows=m, num_columns=n) to print more rows and columns."
      ]
     },
     "metadata": {},
     "output_type": "display_data"
    }
   ],
   "source": [
    "preds = model_4.recommend(k=10)\n",
    "display(preds)"
   ]
  },
  {
   "cell_type": "markdown",
   "id": "f31f2b2d",
   "metadata": {},
   "source": [
    "### Сохраняем результаты для бэка"
   ]
  },
  {
   "cell_type": "code",
   "execution_count": 23,
   "id": "832bff49",
   "metadata": {},
   "outputs": [],
   "source": [
    "preds.to_dataframe().to_csv('predicts/predict_v01.csv', index=False )"
   ]
  },
  {
   "cell_type": "code",
   "execution_count": null,
   "id": "4a35a4d2",
   "metadata": {},
   "outputs": [],
   "source": []
  },
  {
   "cell_type": "markdown",
   "id": "eca47e18",
   "metadata": {},
   "source": [
    "### Делаем предсказание для Test"
   ]
  },
  {
   "cell_type": "code",
   "execution_count": null,
   "id": "393c4a99",
   "metadata": {},
   "outputs": [],
   "source": []
  },
  {
   "cell_type": "markdown",
   "id": "ab966bc6",
   "metadata": {},
   "source": [
    "### Исключаем предсказания групп, которых не будет в марте-апреле"
   ]
  },
  {
   "cell_type": "code",
   "execution_count": null,
   "id": "674e3a12",
   "metadata": {},
   "outputs": [],
   "source": []
  },
  {
   "cell_type": "markdown",
   "id": "3105f490",
   "metadata": {},
   "source": [
    "### Сохраняем test.csv"
   ]
  },
  {
   "cell_type": "code",
   "execution_count": null,
   "id": "8cfe9437",
   "metadata": {},
   "outputs": [],
   "source": []
  }
 ],
 "metadata": {
  "kernelspec": {
   "display_name": "Python 3 (ipykernel)",
   "language": "python",
   "name": "python3"
  },
  "language_info": {
   "codemirror_mode": {
    "name": "ipython",
    "version": 3
   },
   "file_extension": ".py",
   "mimetype": "text/x-python",
   "name": "python",
   "nbconvert_exporter": "python",
   "pygments_lexer": "ipython3",
   "version": "3.8.16"
  }
 },
 "nbformat": 4,
 "nbformat_minor": 5
}
