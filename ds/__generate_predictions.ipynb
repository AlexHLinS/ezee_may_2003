{
 "cells": [
  {
   "cell_type": "markdown",
   "id": "fe2f64e0",
   "metadata": {},
   "source": [
    "# Для тренировки модели нужно установить turicreate\n",
    "Linux or mac\n",
    "python 3.6 - 3.8\n",
    "\n",
    "`pip install turicreate`\n",
    "\n",
    "### На вход:\n",
    "- _attend_features.csv (с нашими фичами)\n",
    "- _user_features.csv (с нашими фичами)\n",
    "- _groups.csv\n",
    "\n",
    "### Выход:\n",
    "- predicts/predict_v01.csv\n"
   ]
  },
  {
   "cell_type": "code",
   "execution_count": 1,
   "id": "28b6c87a",
   "metadata": {},
   "outputs": [],
   "source": [
    "import turicreate as tc\n",
    "import pandas as pd"
   ]
  },
  {
   "cell_type": "code",
   "execution_count": 2,
   "id": "5bf9231d",
   "metadata": {},
   "outputs": [
    {
     "data": {
      "text/html": [
       "<pre>Finished parsing file /media/vasiliev/SSD_Data/_dev/ezee_may_2003/ds/_attend_features.csv</pre>"
      ],
      "text/plain": [
       "Finished parsing file /media/vasiliev/SSD_Data/_dev/ezee_may_2003/ds/_attend_features.csv"
      ]
     },
     "metadata": {},
     "output_type": "display_data"
    },
    {
     "data": {
      "text/html": [
       "<pre>Parsing completed. Parsed 100 lines in 0.195318 secs.</pre>"
      ],
      "text/plain": [
       "Parsing completed. Parsed 100 lines in 0.195318 secs."
      ]
     },
     "metadata": {},
     "output_type": "display_data"
    },
    {
     "name": "stdout",
     "output_type": "stream",
     "text": [
      "------------------------------------------------------\n",
      "Inferred types from first 100 line(s) of file as \n",
      "column_type_hints=[int,int,int,float,str,str,float,str,str,str,str,float,float]\n",
      "If parsing fails due to incorrect types, you can correct\n",
      "the inferred type list above and pass it to read_csv in\n",
      "the column_type_hints argument\n",
      "------------------------------------------------------\n"
     ]
    },
    {
     "data": {
      "text/html": [
       "<pre>Read 219940 lines. Lines per second: 888496</pre>"
      ],
      "text/plain": [
       "Read 219940 lines. Lines per second: 888496"
      ]
     },
     "metadata": {},
     "output_type": "display_data"
    },
    {
     "data": {
      "text/html": [
       "<pre>Finished parsing file /media/vasiliev/SSD_Data/_dev/ezee_may_2003/ds/_attend_features.csv</pre>"
      ],
      "text/plain": [
       "Finished parsing file /media/vasiliev/SSD_Data/_dev/ezee_may_2003/ds/_attend_features.csv"
      ]
     },
     "metadata": {},
     "output_type": "display_data"
    },
    {
     "data": {
      "text/html": [
       "<pre>Parsing completed. Parsed 600390 lines in 0.53239 secs.</pre>"
      ],
      "text/plain": [
       "Parsing completed. Parsed 600390 lines in 0.53239 secs."
      ]
     },
     "metadata": {},
     "output_type": "display_data"
    }
   ],
   "source": [
    "actions = tc.SFrame.read_csv('_attend_features.csv')"
   ]
  },
  {
   "cell_type": "code",
   "execution_count": 3,
   "id": "99ca98cc",
   "metadata": {},
   "outputs": [],
   "source": [
    "#items = tc.SFrame.read_csv('groups.csv')"
   ]
  },
  {
   "cell_type": "markdown",
   "id": "5aa7aa33",
   "metadata": {},
   "source": [
    "There are a variety of machine learning techniques that can be used to build a recommender model. Turi Create provides a method turicreate.recommender.create that will automatically choose an appropriate model for your data set. More details on choosing a model: https://apple.github.io/turicreate/docs/userguide/recommender/choosing-a-model.html\n",
    "\n",
    "First we create a random split of the data to produce a validation set that can be used to evaluate the model."
   ]
  },
  {
   "cell_type": "markdown",
   "id": "907461ad",
   "metadata": {},
   "source": [
    "### Чему учим модель\n",
    "\n",
    "Мы учим модель предсказывать логарифм от количества посещений юзером курса (логарифм потому что разброс посещений курса пользователем высокий - от 1 до 64)"
   ]
  },
  {
   "cell_type": "markdown",
   "id": "c092ec26",
   "metadata": {},
   "source": [
    "### Создание и обучение дефолтной модели"
   ]
  },
  {
   "cell_type": "code",
   "execution_count": 4,
   "id": "54deaf6f",
   "metadata": {
    "scrolled": true
   },
   "outputs": [
    {
     "data": {
      "text/html": [
       "<pre>Preparing data set.</pre>"
      ],
      "text/plain": [
       "Preparing data set."
      ]
     },
     "metadata": {},
     "output_type": "display_data"
    },
    {
     "data": {
      "text/html": [
       "<pre>    Data has 597961 observations with 50881 users and 24534 items.</pre>"
      ],
      "text/plain": [
       "    Data has 597961 observations with 50881 users and 24534 items."
      ]
     },
     "metadata": {},
     "output_type": "display_data"
    },
    {
     "data": {
      "text/html": [
       "<pre>    Data prepared in: 0.385187s</pre>"
      ],
      "text/plain": [
       "    Data prepared in: 0.385187s"
      ]
     },
     "metadata": {},
     "output_type": "display_data"
    },
    {
     "data": {
      "text/html": [
       "<pre>Training ranking_factorization_recommender for recommendations.</pre>"
      ],
      "text/plain": [
       "Training ranking_factorization_recommender for recommendations."
      ]
     },
     "metadata": {},
     "output_type": "display_data"
    },
    {
     "data": {
      "text/html": [
       "<pre>+--------------------------------+--------------------------------------------------+----------+</pre>"
      ],
      "text/plain": [
       "+--------------------------------+--------------------------------------------------+----------+"
      ]
     },
     "metadata": {},
     "output_type": "display_data"
    },
    {
     "data": {
      "text/html": [
       "<pre>| Parameter                      | Description                                      | Value    |</pre>"
      ],
      "text/plain": [
       "| Parameter                      | Description                                      | Value    |"
      ]
     },
     "metadata": {},
     "output_type": "display_data"
    },
    {
     "data": {
      "text/html": [
       "<pre>+--------------------------------+--------------------------------------------------+----------+</pre>"
      ],
      "text/plain": [
       "+--------------------------------+--------------------------------------------------+----------+"
      ]
     },
     "metadata": {},
     "output_type": "display_data"
    },
    {
     "data": {
      "text/html": [
       "<pre>| num_factors                    | Factor Dimension                                 | 32       |</pre>"
      ],
      "text/plain": [
       "| num_factors                    | Factor Dimension                                 | 32       |"
      ]
     },
     "metadata": {},
     "output_type": "display_data"
    },
    {
     "data": {
      "text/html": [
       "<pre>| regularization                 | L2 Regularization on Factors                     | 1e-09    |</pre>"
      ],
      "text/plain": [
       "| regularization                 | L2 Regularization on Factors                     | 1e-09    |"
      ]
     },
     "metadata": {},
     "output_type": "display_data"
    },
    {
     "data": {
      "text/html": [
       "<pre>| solver                         | Solver used for training                         | adagrad  |</pre>"
      ],
      "text/plain": [
       "| solver                         | Solver used for training                         | adagrad  |"
      ]
     },
     "metadata": {},
     "output_type": "display_data"
    },
    {
     "data": {
      "text/html": [
       "<pre>| linear_regularization          | L2 Regularization on Linear Coefficients         | 1e-09    |</pre>"
      ],
      "text/plain": [
       "| linear_regularization          | L2 Regularization on Linear Coefficients         | 1e-09    |"
      ]
     },
     "metadata": {},
     "output_type": "display_data"
    },
    {
     "data": {
      "text/html": [
       "<pre>| ranking_regularization         | Rank-based Regularization Weight                 | 0.25     |</pre>"
      ],
      "text/plain": [
       "| ranking_regularization         | Rank-based Regularization Weight                 | 0.25     |"
      ]
     },
     "metadata": {},
     "output_type": "display_data"
    },
    {
     "data": {
      "text/html": [
       "<pre>| max_iterations                 | Maximum Number of Iterations                     | 25       |</pre>"
      ],
      "text/plain": [
       "| max_iterations                 | Maximum Number of Iterations                     | 25       |"
      ]
     },
     "metadata": {},
     "output_type": "display_data"
    },
    {
     "data": {
      "text/html": [
       "<pre>+--------------------------------+--------------------------------------------------+----------+</pre>"
      ],
      "text/plain": [
       "+--------------------------------+--------------------------------------------------+----------+"
      ]
     },
     "metadata": {},
     "output_type": "display_data"
    },
    {
     "data": {
      "text/html": [
       "<pre>  Optimizing model using SGD; tuning step size.</pre>"
      ],
      "text/plain": [
       "  Optimizing model using SGD; tuning step size."
      ]
     },
     "metadata": {},
     "output_type": "display_data"
    },
    {
     "data": {
      "text/html": [
       "<pre>  Using 74745 / 597961 points for tuning the step size.</pre>"
      ],
      "text/plain": [
       "  Using 74745 / 597961 points for tuning the step size."
      ]
     },
     "metadata": {},
     "output_type": "display_data"
    },
    {
     "data": {
      "text/html": [
       "<pre>+---------+-------------------+------------------------------------------+</pre>"
      ],
      "text/plain": [
       "+---------+-------------------+------------------------------------------+"
      ]
     },
     "metadata": {},
     "output_type": "display_data"
    },
    {
     "data": {
      "text/html": [
       "<pre>| Attempt | Initial Step Size | Estimated Objective Value                |</pre>"
      ],
      "text/plain": [
       "| Attempt | Initial Step Size | Estimated Objective Value                |"
      ]
     },
     "metadata": {},
     "output_type": "display_data"
    },
    {
     "data": {
      "text/html": [
       "<pre>+---------+-------------------+------------------------------------------+</pre>"
      ],
      "text/plain": [
       "+---------+-------------------+------------------------------------------+"
      ]
     },
     "metadata": {},
     "output_type": "display_data"
    },
    {
     "data": {
      "text/html": [
       "<pre>| 0       | 4.16667           | Not Viable                               |</pre>"
      ],
      "text/plain": [
       "| 0       | 4.16667           | Not Viable                               |"
      ]
     },
     "metadata": {},
     "output_type": "display_data"
    },
    {
     "data": {
      "text/html": [
       "<pre>| 1       | 1.04167           | Not Viable                               |</pre>"
      ],
      "text/plain": [
       "| 1       | 1.04167           | Not Viable                               |"
      ]
     },
     "metadata": {},
     "output_type": "display_data"
    },
    {
     "data": {
      "text/html": [
       "<pre>| 2       | 0.260417          | 0.426381                                 |</pre>"
      ],
      "text/plain": [
       "| 2       | 0.260417          | 0.426381                                 |"
      ]
     },
     "metadata": {},
     "output_type": "display_data"
    },
    {
     "data": {
      "text/html": [
       "<pre>| 3       | 0.130208          | 0.347214                                 |</pre>"
      ],
      "text/plain": [
       "| 3       | 0.130208          | 0.347214                                 |"
      ]
     },
     "metadata": {},
     "output_type": "display_data"
    },
    {
     "data": {
      "text/html": [
       "<pre>| 4       | 0.0651042         | 0.456496                                 |</pre>"
      ],
      "text/plain": [
       "| 4       | 0.0651042         | 0.456496                                 |"
      ]
     },
     "metadata": {},
     "output_type": "display_data"
    },
    {
     "data": {
      "text/html": [
       "<pre>| 5       | 0.0325521         | 0.880576                                 |</pre>"
      ],
      "text/plain": [
       "| 5       | 0.0325521         | 0.880576                                 |"
      ]
     },
     "metadata": {},
     "output_type": "display_data"
    },
    {
     "data": {
      "text/html": [
       "<pre>+---------+-------------------+------------------------------------------+</pre>"
      ],
      "text/plain": [
       "+---------+-------------------+------------------------------------------+"
      ]
     },
     "metadata": {},
     "output_type": "display_data"
    },
    {
     "data": {
      "text/html": [
       "<pre>| Final   | 0.130208          | 0.347214                                 |</pre>"
      ],
      "text/plain": [
       "| Final   | 0.130208          | 0.347214                                 |"
      ]
     },
     "metadata": {},
     "output_type": "display_data"
    },
    {
     "data": {
      "text/html": [
       "<pre>+---------+-------------------+------------------------------------------+</pre>"
      ],
      "text/plain": [
       "+---------+-------------------+------------------------------------------+"
      ]
     },
     "metadata": {},
     "output_type": "display_data"
    },
    {
     "data": {
      "text/html": [
       "<pre>Starting Optimization.</pre>"
      ],
      "text/plain": [
       "Starting Optimization."
      ]
     },
     "metadata": {},
     "output_type": "display_data"
    },
    {
     "data": {
      "text/html": [
       "<pre>+---------+--------------+-------------------+-----------------------+-------------+</pre>"
      ],
      "text/plain": [
       "+---------+--------------+-------------------+-----------------------+-------------+"
      ]
     },
     "metadata": {},
     "output_type": "display_data"
    },
    {
     "data": {
      "text/html": [
       "<pre>| Iter.   | Elapsed Time | Approx. Objective | Approx. Training RMSE | Step Size   |</pre>"
      ],
      "text/plain": [
       "| Iter.   | Elapsed Time | Approx. Objective | Approx. Training RMSE | Step Size   |"
      ]
     },
     "metadata": {},
     "output_type": "display_data"
    },
    {
     "data": {
      "text/html": [
       "<pre>+---------+--------------+-------------------+-----------------------+-------------+</pre>"
      ],
      "text/plain": [
       "+---------+--------------+-------------------+-----------------------+-------------+"
      ]
     },
     "metadata": {},
     "output_type": "display_data"
    },
    {
     "data": {
      "text/html": [
       "<pre>| Initial | 53us         | 2.77823           | 1.19034               |             |</pre>"
      ],
      "text/plain": [
       "| Initial | 53us         | 2.77823           | 1.19034               |             |"
      ]
     },
     "metadata": {},
     "output_type": "display_data"
    },
    {
     "data": {
      "text/html": [
       "<pre>+---------+--------------+-------------------+-----------------------+-------------+</pre>"
      ],
      "text/plain": [
       "+---------+--------------+-------------------+-----------------------+-------------+"
      ]
     },
     "metadata": {},
     "output_type": "display_data"
    },
    {
     "data": {
      "text/html": [
       "<pre>| 1       | 460.223ms    | 2.79538           | 1.36049               | 0.130208    |</pre>"
      ],
      "text/plain": [
       "| 1       | 460.223ms    | 2.79538           | 1.36049               | 0.130208    |"
      ]
     },
     "metadata": {},
     "output_type": "display_data"
    },
    {
     "data": {
      "text/html": [
       "<pre>| 2       | 875.949ms    | 1.25333           | 0.925264              | 0.130208    |</pre>"
      ],
      "text/plain": [
       "| 2       | 875.949ms    | 1.25333           | 0.925264              | 0.130208    |"
      ]
     },
     "metadata": {},
     "output_type": "display_data"
    },
    {
     "data": {
      "text/html": [
       "<pre>| 3       | 1.27s        | 0.825451          | 0.778002              | 0.130208    |</pre>"
      ],
      "text/plain": [
       "| 3       | 1.27s        | 0.825451          | 0.778002              | 0.130208    |"
      ]
     },
     "metadata": {},
     "output_type": "display_data"
    },
    {
     "data": {
      "text/html": [
       "<pre>| 4       | 1.64s        | 0.622922          | 0.696281              | 0.130208    |</pre>"
      ],
      "text/plain": [
       "| 4       | 1.64s        | 0.622922          | 0.696281              | 0.130208    |"
      ]
     },
     "metadata": {},
     "output_type": "display_data"
    },
    {
     "data": {
      "text/html": [
       "<pre>| 5       | 1.99s        | 0.506866          | 0.639987              | 0.130208    |</pre>"
      ],
      "text/plain": [
       "| 5       | 1.99s        | 0.506866          | 0.639987              | 0.130208    |"
      ]
     },
     "metadata": {},
     "output_type": "display_data"
    },
    {
     "data": {
      "text/html": [
       "<pre>| 10      | 3.69s        | 0.297296          | 0.506333              | 0.130208    |</pre>"
      ],
      "text/plain": [
       "| 10      | 3.69s        | 0.297296          | 0.506333              | 0.130208    |"
      ]
     },
     "metadata": {},
     "output_type": "display_data"
    },
    {
     "data": {
      "text/html": [
       "<pre>| 20      | 6.87s        | 0.189329          | 0.406892              | 0.130208    |</pre>"
      ],
      "text/plain": [
       "| 20      | 6.87s        | 0.189329          | 0.406892              | 0.130208    |"
      ]
     },
     "metadata": {},
     "output_type": "display_data"
    },
    {
     "data": {
      "text/html": [
       "<pre>| 25      | 8.44s        | 0.165556          | 0.380054              | 0.130208    |</pre>"
      ],
      "text/plain": [
       "| 25      | 8.44s        | 0.165556          | 0.380054              | 0.130208    |"
      ]
     },
     "metadata": {},
     "output_type": "display_data"
    },
    {
     "data": {
      "text/html": [
       "<pre>+---------+--------------+-------------------+-----------------------+-------------+</pre>"
      ],
      "text/plain": [
       "+---------+--------------+-------------------+-----------------------+-------------+"
      ]
     },
     "metadata": {},
     "output_type": "display_data"
    },
    {
     "data": {
      "text/html": [
       "<pre>Optimization Complete: Maximum number of passes through the data reached.</pre>"
      ],
      "text/plain": [
       "Optimization Complete: Maximum number of passes through the data reached."
      ]
     },
     "metadata": {},
     "output_type": "display_data"
    },
    {
     "data": {
      "text/html": [
       "<pre>Computing final objective value and training RMSE.</pre>"
      ],
      "text/plain": [
       "Computing final objective value and training RMSE."
      ]
     },
     "metadata": {},
     "output_type": "display_data"
    },
    {
     "data": {
      "text/html": [
       "<pre>       Final objective value: 0.141846</pre>"
      ],
      "text/plain": [
       "       Final objective value: 0.141846"
      ]
     },
     "metadata": {},
     "output_type": "display_data"
    },
    {
     "data": {
      "text/html": [
       "<pre>       Final training RMSE: 0.347505</pre>"
      ],
      "text/plain": [
       "       Final training RMSE: 0.347505"
      ]
     },
     "metadata": {},
     "output_type": "display_data"
    }
   ],
   "source": [
    "training_data, validation_data = tc.recommender.util.random_split_by_user(actions, 'user_id', 'group_id')\n",
    "model = tc.recommender.create(training_data, 'user_id', 'group_id', target = 'log_visits')"
   ]
  },
  {
   "cell_type": "code",
   "execution_count": 5,
   "id": "23dbc605",
   "metadata": {
    "scrolled": true
   },
   "outputs": [
    {
     "data": {
      "text/plain": [
       "Class                            : RankingFactorizationRecommender\n",
       "\n",
       "Schema\n",
       "------\n",
       "User ID                          : user_id\n",
       "Item ID                          : group_id\n",
       "Target                           : log_visits\n",
       "Additional observation features  : 10\n",
       "User side features               : []\n",
       "Item side features               : []\n",
       "\n",
       "Statistics\n",
       "----------\n",
       "Number of observations           : 597961\n",
       "Number of users                  : 50881\n",
       "Number of items                  : 24534\n",
       "\n",
       "Training summary\n",
       "----------------\n",
       "Training time                    : 11.3381\n",
       "\n",
       "Model Parameters\n",
       "----------------\n",
       "Model class                      : RankingFactorizationRecommender\n",
       "num_factors                      : 32\n",
       "binary_target                    : 0\n",
       "side_data_factorization          : 1\n",
       "solver                           : auto\n",
       "nmf                              : 0\n",
       "max_iterations                   : 25\n",
       "\n",
       "Regularization Settings\n",
       "-----------------------\n",
       "regularization                   : 0.0\n",
       "regularization_type              : normal\n",
       "linear_regularization            : 0.0\n",
       "ranking_regularization           : 0.25\n",
       "unobserved_rating_value          : -1.7976931348623157e+308\n",
       "num_sampled_negative_examples    : 4\n",
       "ials_confidence_scaling_type     : auto\n",
       "ials_confidence_scaling_factor   : 1\n",
       "\n",
       "Optimization Settings\n",
       "---------------------\n",
       "init_random_sigma                : 0.01\n",
       "sgd_convergence_interval         : 4\n",
       "sgd_convergence_threshold        : 0.0\n",
       "sgd_max_trial_iterations         : 5\n",
       "sgd_sampling_block_size          : 131072\n",
       "sgd_step_adjustment_interval     : 4\n",
       "sgd_step_size                    : 0.0\n",
       "sgd_trial_sample_minimum_size    : 10000\n",
       "sgd_trial_sample_proportion      : 0.125\n",
       "step_size_decrease_rate          : 0.75\n",
       "additional_iterations_if_unhealthy : 5\n",
       "adagrad_momentum_weighting       : 0.9\n",
       "num_tempering_iterations         : 4\n",
       "tempering_regularization_start_value : 0.0\n",
       "track_exact_loss                 : 0"
      ]
     },
     "execution_count": 5,
     "metadata": {},
     "output_type": "execute_result"
    }
   ],
   "source": [
    "# параметры модели\n",
    "model"
   ]
  },
  {
   "cell_type": "markdown",
   "id": "859c2837",
   "metadata": {},
   "source": [
    "### Получение предсказаний от дефолтной модели"
   ]
  },
  {
   "cell_type": "code",
   "execution_count": 6,
   "id": "99708424",
   "metadata": {
    "scrolled": true
   },
   "outputs": [
    {
     "data": {
      "text/html": [
       "<pre>recommendations finished on 1000/50881 queries. users per second: 6490.35</pre>"
      ],
      "text/plain": [
       "recommendations finished on 1000/50881 queries. users per second: 6490.35"
      ]
     },
     "metadata": {},
     "output_type": "display_data"
    },
    {
     "data": {
      "text/html": [
       "<pre>recommendations finished on 2000/50881 queries. users per second: 6572.01</pre>"
      ],
      "text/plain": [
       "recommendations finished on 2000/50881 queries. users per second: 6572.01"
      ]
     },
     "metadata": {},
     "output_type": "display_data"
    },
    {
     "data": {
      "text/html": [
       "<pre>recommendations finished on 3000/50881 queries. users per second: 6591.13</pre>"
      ],
      "text/plain": [
       "recommendations finished on 3000/50881 queries. users per second: 6591.13"
      ]
     },
     "metadata": {},
     "output_type": "display_data"
    },
    {
     "data": {
      "text/html": [
       "<pre>recommendations finished on 4000/50881 queries. users per second: 6599.46</pre>"
      ],
      "text/plain": [
       "recommendations finished on 4000/50881 queries. users per second: 6599.46"
      ]
     },
     "metadata": {},
     "output_type": "display_data"
    },
    {
     "data": {
      "text/html": [
       "<pre>recommendations finished on 5000/50881 queries. users per second: 6596.15</pre>"
      ],
      "text/plain": [
       "recommendations finished on 5000/50881 queries. users per second: 6596.15"
      ]
     },
     "metadata": {},
     "output_type": "display_data"
    },
    {
     "data": {
      "text/html": [
       "<pre>recommendations finished on 6000/50881 queries. users per second: 6606.28</pre>"
      ],
      "text/plain": [
       "recommendations finished on 6000/50881 queries. users per second: 6606.28"
      ]
     },
     "metadata": {},
     "output_type": "display_data"
    },
    {
     "data": {
      "text/html": [
       "<pre>recommendations finished on 7000/50881 queries. users per second: 6592.65</pre>"
      ],
      "text/plain": [
       "recommendations finished on 7000/50881 queries. users per second: 6592.65"
      ]
     },
     "metadata": {},
     "output_type": "display_data"
    },
    {
     "data": {
      "text/html": [
       "<pre>recommendations finished on 8000/50881 queries. users per second: 6576.1</pre>"
      ],
      "text/plain": [
       "recommendations finished on 8000/50881 queries. users per second: 6576.1"
      ]
     },
     "metadata": {},
     "output_type": "display_data"
    },
    {
     "data": {
      "text/html": [
       "<pre>recommendations finished on 9000/50881 queries. users per second: 6571.43</pre>"
      ],
      "text/plain": [
       "recommendations finished on 9000/50881 queries. users per second: 6571.43"
      ]
     },
     "metadata": {},
     "output_type": "display_data"
    },
    {
     "data": {
      "text/html": [
       "<pre>recommendations finished on 10000/50881 queries. users per second: 6575.15</pre>"
      ],
      "text/plain": [
       "recommendations finished on 10000/50881 queries. users per second: 6575.15"
      ]
     },
     "metadata": {},
     "output_type": "display_data"
    },
    {
     "data": {
      "text/html": [
       "<pre>recommendations finished on 11000/50881 queries. users per second: 6579.16</pre>"
      ],
      "text/plain": [
       "recommendations finished on 11000/50881 queries. users per second: 6579.16"
      ]
     },
     "metadata": {},
     "output_type": "display_data"
    },
    {
     "data": {
      "text/html": [
       "<pre>recommendations finished on 12000/50881 queries. users per second: 6583.89</pre>"
      ],
      "text/plain": [
       "recommendations finished on 12000/50881 queries. users per second: 6583.89"
      ]
     },
     "metadata": {},
     "output_type": "display_data"
    },
    {
     "data": {
      "text/html": [
       "<pre>recommendations finished on 13000/50881 queries. users per second: 6592.66</pre>"
      ],
      "text/plain": [
       "recommendations finished on 13000/50881 queries. users per second: 6592.66"
      ]
     },
     "metadata": {},
     "output_type": "display_data"
    },
    {
     "data": {
      "text/html": [
       "<pre>recommendations finished on 14000/50881 queries. users per second: 6599.7</pre>"
      ],
      "text/plain": [
       "recommendations finished on 14000/50881 queries. users per second: 6599.7"
      ]
     },
     "metadata": {},
     "output_type": "display_data"
    },
    {
     "data": {
      "text/html": [
       "<pre>recommendations finished on 15000/50881 queries. users per second: 6605.71</pre>"
      ],
      "text/plain": [
       "recommendations finished on 15000/50881 queries. users per second: 6605.71"
      ]
     },
     "metadata": {},
     "output_type": "display_data"
    },
    {
     "data": {
      "text/html": [
       "<pre>recommendations finished on 16000/50881 queries. users per second: 6610.49</pre>"
      ],
      "text/plain": [
       "recommendations finished on 16000/50881 queries. users per second: 6610.49"
      ]
     },
     "metadata": {},
     "output_type": "display_data"
    },
    {
     "data": {
      "text/html": [
       "<pre>recommendations finished on 17000/50881 queries. users per second: 6615.45</pre>"
      ],
      "text/plain": [
       "recommendations finished on 17000/50881 queries. users per second: 6615.45"
      ]
     },
     "metadata": {},
     "output_type": "display_data"
    },
    {
     "data": {
      "text/html": [
       "<pre>recommendations finished on 18000/50881 queries. users per second: 6614.93</pre>"
      ],
      "text/plain": [
       "recommendations finished on 18000/50881 queries. users per second: 6614.93"
      ]
     },
     "metadata": {},
     "output_type": "display_data"
    },
    {
     "data": {
      "text/html": [
       "<pre>recommendations finished on 19000/50881 queries. users per second: 6611.73</pre>"
      ],
      "text/plain": [
       "recommendations finished on 19000/50881 queries. users per second: 6611.73"
      ]
     },
     "metadata": {},
     "output_type": "display_data"
    },
    {
     "data": {
      "text/html": [
       "<pre>recommendations finished on 20000/50881 queries. users per second: 6608.55</pre>"
      ],
      "text/plain": [
       "recommendations finished on 20000/50881 queries. users per second: 6608.55"
      ]
     },
     "metadata": {},
     "output_type": "display_data"
    },
    {
     "data": {
      "text/html": [
       "<pre>recommendations finished on 21000/50881 queries. users per second: 6608.27</pre>"
      ],
      "text/plain": [
       "recommendations finished on 21000/50881 queries. users per second: 6608.27"
      ]
     },
     "metadata": {},
     "output_type": "display_data"
    },
    {
     "data": {
      "text/html": [
       "<pre>recommendations finished on 22000/50881 queries. users per second: 6611.24</pre>"
      ],
      "text/plain": [
       "recommendations finished on 22000/50881 queries. users per second: 6611.24"
      ]
     },
     "metadata": {},
     "output_type": "display_data"
    },
    {
     "data": {
      "text/html": [
       "<pre>recommendations finished on 23000/50881 queries. users per second: 6614.75</pre>"
      ],
      "text/plain": [
       "recommendations finished on 23000/50881 queries. users per second: 6614.75"
      ]
     },
     "metadata": {},
     "output_type": "display_data"
    },
    {
     "data": {
      "text/html": [
       "<pre>recommendations finished on 24000/50881 queries. users per second: 6617.62</pre>"
      ],
      "text/plain": [
       "recommendations finished on 24000/50881 queries. users per second: 6617.62"
      ]
     },
     "metadata": {},
     "output_type": "display_data"
    },
    {
     "data": {
      "text/html": [
       "<pre>recommendations finished on 25000/50881 queries. users per second: 6619.9</pre>"
      ],
      "text/plain": [
       "recommendations finished on 25000/50881 queries. users per second: 6619.9"
      ]
     },
     "metadata": {},
     "output_type": "display_data"
    },
    {
     "data": {
      "text/html": [
       "<pre>recommendations finished on 26000/50881 queries. users per second: 6622.85</pre>"
      ],
      "text/plain": [
       "recommendations finished on 26000/50881 queries. users per second: 6622.85"
      ]
     },
     "metadata": {},
     "output_type": "display_data"
    },
    {
     "data": {
      "text/html": [
       "<pre>recommendations finished on 27000/50881 queries. users per second: 6625.12</pre>"
      ],
      "text/plain": [
       "recommendations finished on 27000/50881 queries. users per second: 6625.12"
      ]
     },
     "metadata": {},
     "output_type": "display_data"
    },
    {
     "data": {
      "text/html": [
       "<pre>recommendations finished on 28000/50881 queries. users per second: 6627.13</pre>"
      ],
      "text/plain": [
       "recommendations finished on 28000/50881 queries. users per second: 6627.13"
      ]
     },
     "metadata": {},
     "output_type": "display_data"
    },
    {
     "data": {
      "text/html": [
       "<pre>recommendations finished on 29000/50881 queries. users per second: 6629.01</pre>"
      ],
      "text/plain": [
       "recommendations finished on 29000/50881 queries. users per second: 6629.01"
      ]
     },
     "metadata": {},
     "output_type": "display_data"
    },
    {
     "data": {
      "text/html": [
       "<pre>recommendations finished on 30000/50881 queries. users per second: 6630.73</pre>"
      ],
      "text/plain": [
       "recommendations finished on 30000/50881 queries. users per second: 6630.73"
      ]
     },
     "metadata": {},
     "output_type": "display_data"
    },
    {
     "data": {
      "text/html": [
       "<pre>recommendations finished on 31000/50881 queries. users per second: 6632.61</pre>"
      ],
      "text/plain": [
       "recommendations finished on 31000/50881 queries. users per second: 6632.61"
      ]
     },
     "metadata": {},
     "output_type": "display_data"
    },
    {
     "data": {
      "text/html": [
       "<pre>recommendations finished on 32000/50881 queries. users per second: 6634.45</pre>"
      ],
      "text/plain": [
       "recommendations finished on 32000/50881 queries. users per second: 6634.45"
      ]
     },
     "metadata": {},
     "output_type": "display_data"
    },
    {
     "data": {
      "text/html": [
       "<pre>recommendations finished on 33000/50881 queries. users per second: 6636.5</pre>"
      ],
      "text/plain": [
       "recommendations finished on 33000/50881 queries. users per second: 6636.5"
      ]
     },
     "metadata": {},
     "output_type": "display_data"
    },
    {
     "data": {
      "text/html": [
       "<pre>recommendations finished on 34000/50881 queries. users per second: 6638.68</pre>"
      ],
      "text/plain": [
       "recommendations finished on 34000/50881 queries. users per second: 6638.68"
      ]
     },
     "metadata": {},
     "output_type": "display_data"
    },
    {
     "data": {
      "text/html": [
       "<pre>recommendations finished on 35000/50881 queries. users per second: 6640.87</pre>"
      ],
      "text/plain": [
       "recommendations finished on 35000/50881 queries. users per second: 6640.87"
      ]
     },
     "metadata": {},
     "output_type": "display_data"
    },
    {
     "data": {
      "text/html": [
       "<pre>recommendations finished on 36000/50881 queries. users per second: 6642.99</pre>"
      ],
      "text/plain": [
       "recommendations finished on 36000/50881 queries. users per second: 6642.99"
      ]
     },
     "metadata": {},
     "output_type": "display_data"
    },
    {
     "data": {
      "text/html": [
       "<pre>recommendations finished on 37000/50881 queries. users per second: 6644.84</pre>"
      ],
      "text/plain": [
       "recommendations finished on 37000/50881 queries. users per second: 6644.84"
      ]
     },
     "metadata": {},
     "output_type": "display_data"
    },
    {
     "data": {
      "text/html": [
       "<pre>recommendations finished on 38000/50881 queries. users per second: 6646.84</pre>"
      ],
      "text/plain": [
       "recommendations finished on 38000/50881 queries. users per second: 6646.84"
      ]
     },
     "metadata": {},
     "output_type": "display_data"
    },
    {
     "data": {
      "text/html": [
       "<pre>recommendations finished on 39000/50881 queries. users per second: 6648.42</pre>"
      ],
      "text/plain": [
       "recommendations finished on 39000/50881 queries. users per second: 6648.42"
      ]
     },
     "metadata": {},
     "output_type": "display_data"
    },
    {
     "data": {
      "text/html": [
       "<pre>recommendations finished on 40000/50881 queries. users per second: 6649.62</pre>"
      ],
      "text/plain": [
       "recommendations finished on 40000/50881 queries. users per second: 6649.62"
      ]
     },
     "metadata": {},
     "output_type": "display_data"
    },
    {
     "data": {
      "text/html": [
       "<pre>recommendations finished on 41000/50881 queries. users per second: 6651.4</pre>"
      ],
      "text/plain": [
       "recommendations finished on 41000/50881 queries. users per second: 6651.4"
      ]
     },
     "metadata": {},
     "output_type": "display_data"
    },
    {
     "data": {
      "text/html": [
       "<pre>recommendations finished on 42000/50881 queries. users per second: 6652.82</pre>"
      ],
      "text/plain": [
       "recommendations finished on 42000/50881 queries. users per second: 6652.82"
      ]
     },
     "metadata": {},
     "output_type": "display_data"
    },
    {
     "data": {
      "text/html": [
       "<pre>recommendations finished on 43000/50881 queries. users per second: 6653.94</pre>"
      ],
      "text/plain": [
       "recommendations finished on 43000/50881 queries. users per second: 6653.94"
      ]
     },
     "metadata": {},
     "output_type": "display_data"
    },
    {
     "data": {
      "text/html": [
       "<pre>recommendations finished on 44000/50881 queries. users per second: 6655.53</pre>"
      ],
      "text/plain": [
       "recommendations finished on 44000/50881 queries. users per second: 6655.53"
      ]
     },
     "metadata": {},
     "output_type": "display_data"
    },
    {
     "data": {
      "text/html": [
       "<pre>recommendations finished on 45000/50881 queries. users per second: 6657.12</pre>"
      ],
      "text/plain": [
       "recommendations finished on 45000/50881 queries. users per second: 6657.12"
      ]
     },
     "metadata": {},
     "output_type": "display_data"
    },
    {
     "data": {
      "text/html": [
       "<pre>recommendations finished on 46000/50881 queries. users per second: 6658.7</pre>"
      ],
      "text/plain": [
       "recommendations finished on 46000/50881 queries. users per second: 6658.7"
      ]
     },
     "metadata": {},
     "output_type": "display_data"
    },
    {
     "data": {
      "text/html": [
       "<pre>recommendations finished on 47000/50881 queries. users per second: 6659.51</pre>"
      ],
      "text/plain": [
       "recommendations finished on 47000/50881 queries. users per second: 6659.51"
      ]
     },
     "metadata": {},
     "output_type": "display_data"
    },
    {
     "data": {
      "text/html": [
       "<pre>recommendations finished on 48000/50881 queries. users per second: 6660.88</pre>"
      ],
      "text/plain": [
       "recommendations finished on 48000/50881 queries. users per second: 6660.88"
      ]
     },
     "metadata": {},
     "output_type": "display_data"
    },
    {
     "data": {
      "text/html": [
       "<pre>recommendations finished on 49000/50881 queries. users per second: 6662.39</pre>"
      ],
      "text/plain": [
       "recommendations finished on 49000/50881 queries. users per second: 6662.39"
      ]
     },
     "metadata": {},
     "output_type": "display_data"
    },
    {
     "data": {
      "text/html": [
       "<pre>recommendations finished on 50000/50881 queries. users per second: 6662.93</pre>"
      ],
      "text/plain": [
       "recommendations finished on 50000/50881 queries. users per second: 6662.93"
      ]
     },
     "metadata": {},
     "output_type": "display_data"
    }
   ],
   "source": [
    "default_recommendations = model.recommend()"
   ]
  },
  {
   "cell_type": "markdown",
   "id": "51b33560",
   "metadata": {},
   "source": [
    "### Посмотрим рекоммендации для отдельных юзеров"
   ]
  },
  {
   "cell_type": "code",
   "execution_count": 7,
   "id": "9e76e779",
   "metadata": {},
   "outputs": [],
   "source": [
    "df_groups = pd.read_csv('groups.csv')\n",
    "\n",
    "def display_history_and_predictions_for_user(user_id, train_dataset, predictions):\n",
    "    print('----------------------------------------------------------------------------')\n",
    "    print('User', user_id, 'history:')\n",
    "    display(train_dataset[train_dataset['user_id'] == user_id][\n",
    "        'group_id','is_online','session','направление 1','направление 2'])\n",
    "    predictions = predictions[predictions['user_id'] == user_id].to_dataframe()\n",
    "    print('User recommendations:')\n",
    "    predicted_groups = predictions['group_id'].to_list()\n",
    "    display(df_groups[df_groups['уникальный номер'].isin(predicted_groups)].drop(columns=[\n",
    "        'адрес площадки','расписание в активных периодах','расписание в закрытых периодах','расписание в плановом периоде']))"
   ]
  },
  {
   "cell_type": "code",
   "execution_count": 8,
   "id": "c0a7d06f",
   "metadata": {
    "scrolled": true
   },
   "outputs": [
    {
     "name": "stdout",
     "output_type": "stream",
     "text": [
      "----------------------------------------------------------------------------\n",
      "User 101352882 history:\n"
     ]
    },
    {
     "data": {
      "text/html": [
       "<div style=\"max-height:1000px;max-width:1500px;overflow:auto;\"><table frame=\"box\" rules=\"cols\">\n",
       "    <tr>\n",
       "        <th style=\"padding-left: 1em; padding-right: 1em; text-align: center\">group_id</th>\n",
       "        <th style=\"padding-left: 1em; padding-right: 1em; text-align: center\">is_online</th>\n",
       "        <th style=\"padding-left: 1em; padding-right: 1em; text-align: center\">session</th>\n",
       "        <th style=\"padding-left: 1em; padding-right: 1em; text-align: center\">направление 1</th>\n",
       "        <th style=\"padding-left: 1em; padding-right: 1em; text-align: center\">направление 2</th>\n",
       "    </tr>\n",
       "    <tr>\n",
       "        <td style=\"padding-left: 1em; padding-right: 1em; text-align: center; vertical-align: top\">801348234</td>\n",
       "        <td style=\"padding-left: 1em; padding-right: 1em; text-align: center; vertical-align: top\">online</td>\n",
       "        <td style=\"padding-left: 1em; padding-right: 1em; text-align: center; vertical-align: top\">mornig</td>\n",
       "        <td style=\"padding-left: 1em; padding-right: 1em; text-align: center; vertical-align: top\">Физическая активность</td>\n",
       "        <td style=\"padding-left: 1em; padding-right: 1em; text-align: center; vertical-align: top\">ОНЛАЙН Гимнастика</td>\n",
       "    </tr>\n",
       "    <tr>\n",
       "        <td style=\"padding-left: 1em; padding-right: 1em; text-align: center; vertical-align: top\">801348838</td>\n",
       "        <td style=\"padding-left: 1em; padding-right: 1em; text-align: center; vertical-align: top\">offline</td>\n",
       "        <td style=\"padding-left: 1em; padding-right: 1em; text-align: center; vertical-align: top\">mornig</td>\n",
       "        <td style=\"padding-left: 1em; padding-right: 1em; text-align: center; vertical-align: top\">Физическая активность</td>\n",
       "        <td style=\"padding-left: 1em; padding-right: 1em; text-align: center; vertical-align: top\">Гимнастика</td>\n",
       "    </tr>\n",
       "    <tr>\n",
       "        <td style=\"padding-left: 1em; padding-right: 1em; text-align: center; vertical-align: top\">801348944</td>\n",
       "        <td style=\"padding-left: 1em; padding-right: 1em; text-align: center; vertical-align: top\">offline</td>\n",
       "        <td style=\"padding-left: 1em; padding-right: 1em; text-align: center; vertical-align: top\">mornig</td>\n",
       "        <td style=\"padding-left: 1em; padding-right: 1em; text-align: center; vertical-align: top\">Танцы</td>\n",
       "        <td style=\"padding-left: 1em; padding-right: 1em; text-align: center; vertical-align: top\">Танцы</td>\n",
       "    </tr>\n",
       "    <tr>\n",
       "        <td style=\"padding-left: 1em; padding-right: 1em; text-align: center; vertical-align: top\">801349048</td>\n",
       "        <td style=\"padding-left: 1em; padding-right: 1em; text-align: center; vertical-align: top\">offline</td>\n",
       "        <td style=\"padding-left: 1em; padding-right: 1em; text-align: center; vertical-align: top\">mornig</td>\n",
       "        <td style=\"padding-left: 1em; padding-right: 1em; text-align: center; vertical-align: top\">Физическая активность</td>\n",
       "        <td style=\"padding-left: 1em; padding-right: 1em; text-align: center; vertical-align: top\">ОФП</td>\n",
       "    </tr>\n",
       "    <tr>\n",
       "        <td style=\"padding-left: 1em; padding-right: 1em; text-align: center; vertical-align: top\">801350227</td>\n",
       "        <td style=\"padding-left: 1em; padding-right: 1em; text-align: center; vertical-align: top\">online</td>\n",
       "        <td style=\"padding-left: 1em; padding-right: 1em; text-align: center; vertical-align: top\">mornig</td>\n",
       "        <td style=\"padding-left: 1em; padding-right: 1em; text-align: center; vertical-align: top\">Творчество</td>\n",
       "        <td style=\"padding-left: 1em; padding-right: 1em; text-align: center; vertical-align: top\">ОНЛАЙН Художественно-<br>прикладное творчество ...</td>\n",
       "    </tr>\n",
       "    <tr>\n",
       "        <td style=\"padding-left: 1em; padding-right: 1em; text-align: center; vertical-align: top\">801350380</td>\n",
       "        <td style=\"padding-left: 1em; padding-right: 1em; text-align: center; vertical-align: top\">online</td>\n",
       "        <td style=\"padding-left: 1em; padding-right: 1em; text-align: center; vertical-align: top\">mornig</td>\n",
       "        <td style=\"padding-left: 1em; padding-right: 1em; text-align: center; vertical-align: top\">Танцы</td>\n",
       "        <td style=\"padding-left: 1em; padding-right: 1em; text-align: center; vertical-align: top\">ОНЛАЙН Танцы</td>\n",
       "    </tr>\n",
       "    <tr>\n",
       "        <td style=\"padding-left: 1em; padding-right: 1em; text-align: center; vertical-align: top\">801351413</td>\n",
       "        <td style=\"padding-left: 1em; padding-right: 1em; text-align: center; vertical-align: top\">online</td>\n",
       "        <td style=\"padding-left: 1em; padding-right: 1em; text-align: center; vertical-align: top\">mornig</td>\n",
       "        <td style=\"padding-left: 1em; padding-right: 1em; text-align: center; vertical-align: top\">Рисование</td>\n",
       "        <td style=\"padding-left: 1em; padding-right: 1em; text-align: center; vertical-align: top\">ОНЛАЙН Рисование</td>\n",
       "    </tr>\n",
       "    <tr>\n",
       "        <td style=\"padding-left: 1em; padding-right: 1em; text-align: center; vertical-align: top\">801358464</td>\n",
       "        <td style=\"padding-left: 1em; padding-right: 1em; text-align: center; vertical-align: top\">online</td>\n",
       "        <td style=\"padding-left: 1em; padding-right: 1em; text-align: center; vertical-align: top\">mornig</td>\n",
       "        <td style=\"padding-left: 1em; padding-right: 1em; text-align: center; vertical-align: top\">Физическая активность</td>\n",
       "        <td style=\"padding-left: 1em; padding-right: 1em; text-align: center; vertical-align: top\">ОНЛАЙН Гимнастика</td>\n",
       "    </tr>\n",
       "    <tr>\n",
       "        <td style=\"padding-left: 1em; padding-right: 1em; text-align: center; vertical-align: top\">801358465</td>\n",
       "        <td style=\"padding-left: 1em; padding-right: 1em; text-align: center; vertical-align: top\">online</td>\n",
       "        <td style=\"padding-left: 1em; padding-right: 1em; text-align: center; vertical-align: top\">mornig</td>\n",
       "        <td style=\"padding-left: 1em; padding-right: 1em; text-align: center; vertical-align: top\">Танцы</td>\n",
       "        <td style=\"padding-left: 1em; padding-right: 1em; text-align: center; vertical-align: top\">ОНЛАЙН Танцы</td>\n",
       "    </tr>\n",
       "    <tr>\n",
       "        <td style=\"padding-left: 1em; padding-right: 1em; text-align: center; vertical-align: top\">801358466</td>\n",
       "        <td style=\"padding-left: 1em; padding-right: 1em; text-align: center; vertical-align: top\">online</td>\n",
       "        <td style=\"padding-left: 1em; padding-right: 1em; text-align: center; vertical-align: top\">mornig</td>\n",
       "        <td style=\"padding-left: 1em; padding-right: 1em; text-align: center; vertical-align: top\">Физическая активность</td>\n",
       "        <td style=\"padding-left: 1em; padding-right: 1em; text-align: center; vertical-align: top\">ОНЛАЙН Гимнастика</td>\n",
       "    </tr>\n",
       "</table>\n",
       "[? rows x 5 columns]<br/>Note: Only the head of the SFrame is printed. This SFrame is lazily evaluated.<br/>You can use sf.materialize() to force materialization.\n",
       "</div>"
      ],
      "text/plain": [
       "Columns:\n",
       "\tgroup_id\tint\n",
       "\tis_online\tstr\n",
       "\tsession\tstr\n",
       "\tнаправление 1\tstr\n",
       "\tнаправление 2\tstr\n",
       "\n",
       "Rows: Unknown\n",
       "\n",
       "Data:\n",
       "+-----------+-----------+---------+-----------------------+\n",
       "|  group_id | is_online | session |     направление 1     |\n",
       "+-----------+-----------+---------+-----------------------+\n",
       "| 801348234 |   online  |  mornig | Физическая активность |\n",
       "| 801348838 |  offline  |  mornig | Физическая активность |\n",
       "| 801348944 |  offline  |  mornig |         Танцы         |\n",
       "| 801349048 |  offline  |  mornig | Физическая активность |\n",
       "| 801350227 |   online  |  mornig |       Творчество      |\n",
       "| 801350380 |   online  |  mornig |         Танцы         |\n",
       "| 801351413 |   online  |  mornig |       Рисование       |\n",
       "| 801358464 |   online  |  mornig | Физическая активность |\n",
       "| 801358465 |   online  |  mornig |         Танцы         |\n",
       "| 801358466 |   online  |  mornig | Физическая активность |\n",
       "+-----------+-----------+---------+-----------------------+\n",
       "+-------------------------------+\n",
       "|         направление 2         |\n",
       "+-------------------------------+\n",
       "|       ОНЛАЙН Гимнастика       |\n",
       "|           Гимнастика          |\n",
       "|             Танцы             |\n",
       "|              ОФП              |\n",
       "| ОНЛАЙН Художественно-прикл... |\n",
       "|          ОНЛАЙН Танцы         |\n",
       "|        ОНЛАЙН Рисование       |\n",
       "|       ОНЛАЙН Гимнастика       |\n",
       "|          ОНЛАЙН Танцы         |\n",
       "|       ОНЛАЙН Гимнастика       |\n",
       "+-------------------------------+\n",
       "[? rows x 5 columns]\n",
       "Note: Only the head of the SFrame is printed. This SFrame is lazily evaluated.\n",
       "You can use sf.materialize() to force materialization."
      ]
     },
     "metadata": {},
     "output_type": "display_data"
    },
    {
     "name": "stdout",
     "output_type": "stream",
     "text": [
      "User recommendations:\n"
     ]
    },
    {
     "data": {
      "text/html": [
       "<div>\n",
       "<style scoped>\n",
       "    .dataframe tbody tr th:only-of-type {\n",
       "        vertical-align: middle;\n",
       "    }\n",
       "\n",
       "    .dataframe tbody tr th {\n",
       "        vertical-align: top;\n",
       "    }\n",
       "\n",
       "    .dataframe thead th {\n",
       "        text-align: right;\n",
       "    }\n",
       "</style>\n",
       "<table border=\"1\" class=\"dataframe\">\n",
       "  <thead>\n",
       "    <tr style=\"text-align: right;\">\n",
       "      <th></th>\n",
       "      <th>уникальный номер</th>\n",
       "      <th>направление 1</th>\n",
       "      <th>направление 2</th>\n",
       "      <th>направление 3</th>\n",
       "      <th>округ площадки</th>\n",
       "      <th>район площадки</th>\n",
       "    </tr>\n",
       "  </thead>\n",
       "  <tbody>\n",
       "    <tr>\n",
       "      <th>1391</th>\n",
       "      <td>801350123</td>\n",
       "      <td>Образование</td>\n",
       "      <td>ОНЛАЙН Пеший лекторий</td>\n",
       "      <td>ОНЛАЙН Краеведение и онлайн-экскурсии</td>\n",
       "      <td>Северный административный округ</td>\n",
       "      <td>муниципальный округ Хорошевский</td>\n",
       "    </tr>\n",
       "    <tr>\n",
       "      <th>2022</th>\n",
       "      <td>801350665</td>\n",
       "      <td>Образование</td>\n",
       "      <td>ОНЛАЙН Пеший лекторий</td>\n",
       "      <td>ОНЛАЙН Краеведение и онлайн-экскурсии</td>\n",
       "      <td>NaN</td>\n",
       "      <td>NaN</td>\n",
       "    </tr>\n",
       "    <tr>\n",
       "      <th>2040</th>\n",
       "      <td>801356727</td>\n",
       "      <td>Образование</td>\n",
       "      <td>ОНЛАЙН Пеший лекторий</td>\n",
       "      <td>ОНЛАЙН Краеведение и онлайн-экскурсии</td>\n",
       "      <td>NaN</td>\n",
       "      <td>NaN</td>\n",
       "    </tr>\n",
       "    <tr>\n",
       "      <th>2047</th>\n",
       "      <td>801350944</td>\n",
       "      <td>Образование</td>\n",
       "      <td>ОНЛАЙН Пеший лекторий</td>\n",
       "      <td>ОНЛАЙН Краеведение и онлайн-экскурсии</td>\n",
       "      <td>NaN</td>\n",
       "      <td>NaN</td>\n",
       "    </tr>\n",
       "    <tr>\n",
       "      <th>2287</th>\n",
       "      <td>801350038</td>\n",
       "      <td>Образование</td>\n",
       "      <td>ОНЛАЙН Образовательный практикум</td>\n",
       "      <td>ОНЛАЙН География. Путешествия вокруг света</td>\n",
       "      <td>NaN</td>\n",
       "      <td>NaN</td>\n",
       "    </tr>\n",
       "    <tr>\n",
       "      <th>3423</th>\n",
       "      <td>801351614</td>\n",
       "      <td>Рисование</td>\n",
       "      <td>ОНЛАЙН Рисование</td>\n",
       "      <td>ОНЛАЙН Различные техники рисования</td>\n",
       "      <td>NaN</td>\n",
       "      <td>NaN</td>\n",
       "    </tr>\n",
       "    <tr>\n",
       "      <th>3761</th>\n",
       "      <td>801350894</td>\n",
       "      <td>Образование</td>\n",
       "      <td>ОНЛАЙН Пеший лекторий</td>\n",
       "      <td>ОНЛАЙН Краеведение и онлайн-экскурсии</td>\n",
       "      <td>NaN</td>\n",
       "      <td>NaN</td>\n",
       "    </tr>\n",
       "    <tr>\n",
       "      <th>3973</th>\n",
       "      <td>801350683</td>\n",
       "      <td>Рисование</td>\n",
       "      <td>ОНЛАЙН Рисование</td>\n",
       "      <td>ОНЛАЙН Различные техники рисования</td>\n",
       "      <td>NaN</td>\n",
       "      <td>NaN</td>\n",
       "    </tr>\n",
       "    <tr>\n",
       "      <th>5404</th>\n",
       "      <td>801349506</td>\n",
       "      <td>Образование</td>\n",
       "      <td>ОНЛАЙН Пеший лекторий</td>\n",
       "      <td>ОНЛАЙН Краеведение и онлайн-экскурсии по Москв...</td>\n",
       "      <td>Северный административный округ</td>\n",
       "      <td>муниципальный округ Савеловский</td>\n",
       "    </tr>\n",
       "    <tr>\n",
       "      <th>7838</th>\n",
       "      <td>801351772</td>\n",
       "      <td>Образование</td>\n",
       "      <td>ОНЛАЙН История, искусство, краеведение</td>\n",
       "      <td>ОНЛАЙН История искусства</td>\n",
       "      <td>Северный административный округ</td>\n",
       "      <td>муниципальный округ Коптево</td>\n",
       "    </tr>\n",
       "  </tbody>\n",
       "</table>\n",
       "</div>"
      ],
      "text/plain": [
       "      уникальный номер направление 1                           направление 2   \n",
       "1391         801350123   Образование                   ОНЛАЙН Пеший лекторий  \\\n",
       "2022         801350665   Образование                   ОНЛАЙН Пеший лекторий   \n",
       "2040         801356727   Образование                   ОНЛАЙН Пеший лекторий   \n",
       "2047         801350944   Образование                   ОНЛАЙН Пеший лекторий   \n",
       "2287         801350038   Образование        ОНЛАЙН Образовательный практикум   \n",
       "3423         801351614     Рисование                        ОНЛАЙН Рисование   \n",
       "3761         801350894   Образование                   ОНЛАЙН Пеший лекторий   \n",
       "3973         801350683     Рисование                        ОНЛАЙН Рисование   \n",
       "5404         801349506   Образование                   ОНЛАЙН Пеший лекторий   \n",
       "7838         801351772   Образование  ОНЛАЙН История, искусство, краеведение   \n",
       "\n",
       "                                          направление 3   \n",
       "1391              ОНЛАЙН Краеведение и онлайн-экскурсии  \\\n",
       "2022              ОНЛАЙН Краеведение и онлайн-экскурсии   \n",
       "2040              ОНЛАЙН Краеведение и онлайн-экскурсии   \n",
       "2047              ОНЛАЙН Краеведение и онлайн-экскурсии   \n",
       "2287         ОНЛАЙН География. Путешествия вокруг света   \n",
       "3423                 ОНЛАЙН Различные техники рисования   \n",
       "3761              ОНЛАЙН Краеведение и онлайн-экскурсии   \n",
       "3973                 ОНЛАЙН Различные техники рисования   \n",
       "5404  ОНЛАЙН Краеведение и онлайн-экскурсии по Москв...   \n",
       "7838                           ОНЛАЙН История искусства   \n",
       "\n",
       "                       округ площадки                   район площадки  \n",
       "1391  Северный административный округ  муниципальный округ Хорошевский  \n",
       "2022                              NaN                              NaN  \n",
       "2040                              NaN                              NaN  \n",
       "2047                              NaN                              NaN  \n",
       "2287                              NaN                              NaN  \n",
       "3423                              NaN                              NaN  \n",
       "3761                              NaN                              NaN  \n",
       "3973                              NaN                              NaN  \n",
       "5404  Северный административный округ  муниципальный округ Савеловский  \n",
       "7838  Северный административный округ      муниципальный округ Коптево  "
      ]
     },
     "metadata": {},
     "output_type": "display_data"
    }
   ],
   "source": [
    "user_id = 101352882\n",
    "\n",
    "display_history_and_predictions_for_user(user_id, actions, default_recommendations)"
   ]
  },
  {
   "cell_type": "code",
   "execution_count": 9,
   "id": "f47eed5b",
   "metadata": {
    "scrolled": true
   },
   "outputs": [
    {
     "name": "stdout",
     "output_type": "stream",
     "text": [
      "----------------------------------------------------------------------------\n",
      "User 101354253 history:\n"
     ]
    },
    {
     "data": {
      "text/html": [
       "<div style=\"max-height:1000px;max-width:1500px;overflow:auto;\"><table frame=\"box\" rules=\"cols\">\n",
       "    <tr>\n",
       "        <th style=\"padding-left: 1em; padding-right: 1em; text-align: center\">group_id</th>\n",
       "        <th style=\"padding-left: 1em; padding-right: 1em; text-align: center\">is_online</th>\n",
       "        <th style=\"padding-left: 1em; padding-right: 1em; text-align: center\">session</th>\n",
       "        <th style=\"padding-left: 1em; padding-right: 1em; text-align: center\">направление 1</th>\n",
       "        <th style=\"padding-left: 1em; padding-right: 1em; text-align: center\">направление 2</th>\n",
       "    </tr>\n",
       "    <tr>\n",
       "        <td style=\"padding-left: 1em; padding-right: 1em; text-align: center; vertical-align: top\">801347802</td>\n",
       "        <td style=\"padding-left: 1em; padding-right: 1em; text-align: center; vertical-align: top\">online</td>\n",
       "        <td style=\"padding-left: 1em; padding-right: 1em; text-align: center; vertical-align: top\">mornig</td>\n",
       "        <td style=\"padding-left: 1em; padding-right: 1em; text-align: center; vertical-align: top\">Физическая активность</td>\n",
       "        <td style=\"padding-left: 1em; padding-right: 1em; text-align: center; vertical-align: top\">ОНЛАЙН ОФП</td>\n",
       "    </tr>\n",
       "    <tr>\n",
       "        <td style=\"padding-left: 1em; padding-right: 1em; text-align: center; vertical-align: top\">801348667</td>\n",
       "        <td style=\"padding-left: 1em; padding-right: 1em; text-align: center; vertical-align: top\">online</td>\n",
       "        <td style=\"padding-left: 1em; padding-right: 1em; text-align: center; vertical-align: top\">evening</td>\n",
       "        <td style=\"padding-left: 1em; padding-right: 1em; text-align: center; vertical-align: top\">Физическая активность</td>\n",
       "        <td style=\"padding-left: 1em; padding-right: 1em; text-align: center; vertical-align: top\">ОНЛАЙН Гимнастика</td>\n",
       "    </tr>\n",
       "    <tr>\n",
       "        <td style=\"padding-left: 1em; padding-right: 1em; text-align: center; vertical-align: top\">801348794</td>\n",
       "        <td style=\"padding-left: 1em; padding-right: 1em; text-align: center; vertical-align: top\">online</td>\n",
       "        <td style=\"padding-left: 1em; padding-right: 1em; text-align: center; vertical-align: top\">mornig</td>\n",
       "        <td style=\"padding-left: 1em; padding-right: 1em; text-align: center; vertical-align: top\">Физическая активность</td>\n",
       "        <td style=\"padding-left: 1em; padding-right: 1em; text-align: center; vertical-align: top\">ОНЛАЙН Гимнастика</td>\n",
       "    </tr>\n",
       "    <tr>\n",
       "        <td style=\"padding-left: 1em; padding-right: 1em; text-align: center; vertical-align: top\">801349796</td>\n",
       "        <td style=\"padding-left: 1em; padding-right: 1em; text-align: center; vertical-align: top\">offline</td>\n",
       "        <td style=\"padding-left: 1em; padding-right: 1em; text-align: center; vertical-align: top\">mornig</td>\n",
       "        <td style=\"padding-left: 1em; padding-right: 1em; text-align: center; vertical-align: top\">Физическая активность</td>\n",
       "        <td style=\"padding-left: 1em; padding-right: 1em; text-align: center; vertical-align: top\">Гимнастика</td>\n",
       "    </tr>\n",
       "    <tr>\n",
       "        <td style=\"padding-left: 1em; padding-right: 1em; text-align: center; vertical-align: top\">801349875</td>\n",
       "        <td style=\"padding-left: 1em; padding-right: 1em; text-align: center; vertical-align: top\">offline</td>\n",
       "        <td style=\"padding-left: 1em; padding-right: 1em; text-align: center; vertical-align: top\">aftennoon</td>\n",
       "        <td style=\"padding-left: 1em; padding-right: 1em; text-align: center; vertical-align: top\">Физическая активность</td>\n",
       "        <td style=\"padding-left: 1em; padding-right: 1em; text-align: center; vertical-align: top\">Гимнастика</td>\n",
       "    </tr>\n",
       "    <tr>\n",
       "        <td style=\"padding-left: 1em; padding-right: 1em; text-align: center; vertical-align: top\">801350556</td>\n",
       "        <td style=\"padding-left: 1em; padding-right: 1em; text-align: center; vertical-align: top\">online</td>\n",
       "        <td style=\"padding-left: 1em; padding-right: 1em; text-align: center; vertical-align: top\">mornig</td>\n",
       "        <td style=\"padding-left: 1em; padding-right: 1em; text-align: center; vertical-align: top\">Физическая активность</td>\n",
       "        <td style=\"padding-left: 1em; padding-right: 1em; text-align: center; vertical-align: top\">ОНЛАЙН ОФП</td>\n",
       "    </tr>\n",
       "    <tr>\n",
       "        <td style=\"padding-left: 1em; padding-right: 1em; text-align: center; vertical-align: top\">801350568</td>\n",
       "        <td style=\"padding-left: 1em; padding-right: 1em; text-align: center; vertical-align: top\">online</td>\n",
       "        <td style=\"padding-left: 1em; padding-right: 1em; text-align: center; vertical-align: top\">mornig</td>\n",
       "        <td style=\"padding-left: 1em; padding-right: 1em; text-align: center; vertical-align: top\">Физическая активность</td>\n",
       "        <td style=\"padding-left: 1em; padding-right: 1em; text-align: center; vertical-align: top\">ОНЛАЙН ОФП</td>\n",
       "    </tr>\n",
       "    <tr>\n",
       "        <td style=\"padding-left: 1em; padding-right: 1em; text-align: center; vertical-align: top\">801361065</td>\n",
       "        <td style=\"padding-left: 1em; padding-right: 1em; text-align: center; vertical-align: top\">offline</td>\n",
       "        <td style=\"padding-left: 1em; padding-right: 1em; text-align: center; vertical-align: top\">mornig</td>\n",
       "        <td style=\"padding-left: 1em; padding-right: 1em; text-align: center; vertical-align: top\">Рисование</td>\n",
       "        <td style=\"padding-left: 1em; padding-right: 1em; text-align: center; vertical-align: top\">Рисование</td>\n",
       "    </tr>\n",
       "</table>\n",
       "[? rows x 5 columns]<br/>Note: Only the head of the SFrame is printed. This SFrame is lazily evaluated.<br/>You can use sf.materialize() to force materialization.\n",
       "</div>"
      ],
      "text/plain": [
       "Columns:\n",
       "\tgroup_id\tint\n",
       "\tis_online\tstr\n",
       "\tsession\tstr\n",
       "\tнаправление 1\tstr\n",
       "\tнаправление 2\tstr\n",
       "\n",
       "Rows: Unknown\n",
       "\n",
       "Data:\n",
       "+-----------+-----------+-----------+-----------------------+-------------------+\n",
       "|  group_id | is_online |  session  |     направление 1     |   направление 2   |\n",
       "+-----------+-----------+-----------+-----------------------+-------------------+\n",
       "| 801347802 |   online  |   mornig  | Физическая активность |     ОНЛАЙН ОФП    |\n",
       "| 801348667 |   online  |  evening  | Физическая активность | ОНЛАЙН Гимнастика |\n",
       "| 801348794 |   online  |   mornig  | Физическая активность | ОНЛАЙН Гимнастика |\n",
       "| 801349796 |  offline  |   mornig  | Физическая активность |     Гимнастика    |\n",
       "| 801349875 |  offline  | aftennoon | Физическая активность |     Гимнастика    |\n",
       "| 801350556 |   online  |   mornig  | Физическая активность |     ОНЛАЙН ОФП    |\n",
       "| 801350568 |   online  |   mornig  | Физическая активность |     ОНЛАЙН ОФП    |\n",
       "| 801361065 |  offline  |   mornig  |       Рисование       |     Рисование     |\n",
       "+-----------+-----------+-----------+-----------------------+-------------------+\n",
       "[? rows x 5 columns]\n",
       "Note: Only the head of the SFrame is printed. This SFrame is lazily evaluated.\n",
       "You can use sf.materialize() to force materialization."
      ]
     },
     "metadata": {},
     "output_type": "display_data"
    },
    {
     "name": "stdout",
     "output_type": "stream",
     "text": [
      "User recommendations:\n"
     ]
    },
    {
     "data": {
      "text/html": [
       "<div>\n",
       "<style scoped>\n",
       "    .dataframe tbody tr th:only-of-type {\n",
       "        vertical-align: middle;\n",
       "    }\n",
       "\n",
       "    .dataframe tbody tr th {\n",
       "        vertical-align: top;\n",
       "    }\n",
       "\n",
       "    .dataframe thead th {\n",
       "        text-align: right;\n",
       "    }\n",
       "</style>\n",
       "<table border=\"1\" class=\"dataframe\">\n",
       "  <thead>\n",
       "    <tr style=\"text-align: right;\">\n",
       "      <th></th>\n",
       "      <th>уникальный номер</th>\n",
       "      <th>направление 1</th>\n",
       "      <th>направление 2</th>\n",
       "      <th>направление 3</th>\n",
       "      <th>округ площадки</th>\n",
       "      <th>район площадки</th>\n",
       "    </tr>\n",
       "  </thead>\n",
       "  <tbody>\n",
       "    <tr>\n",
       "      <th>517</th>\n",
       "      <td>801347156</td>\n",
       "      <td>Физическая активность</td>\n",
       "      <td>ОНЛАЙН Гимнастика</td>\n",
       "      <td>ОНЛАЙН Здоровая спина</td>\n",
       "      <td>Восточный административный округ, Восточный ад...</td>\n",
       "      <td>муниципальный округ Вешняки, муниципальный окр...</td>\n",
       "    </tr>\n",
       "    <tr>\n",
       "      <th>3324</th>\n",
       "      <td>801352656</td>\n",
       "      <td>Творчество</td>\n",
       "      <td>ОНЛАЙН Красота и стиль</td>\n",
       "      <td>ОНЛАЙН Мастер-класс по уходу за кожей в зрелом...</td>\n",
       "      <td>NaN</td>\n",
       "      <td>NaN</td>\n",
       "    </tr>\n",
       "    <tr>\n",
       "      <th>3332</th>\n",
       "      <td>801352699</td>\n",
       "      <td>Творчество</td>\n",
       "      <td>ОНЛАЙН Красота и стиль</td>\n",
       "      <td>ОНЛАЙН Мастер-класс по уходу за кожей в зрелом...</td>\n",
       "      <td>NaN</td>\n",
       "      <td>NaN</td>\n",
       "    </tr>\n",
       "    <tr>\n",
       "      <th>3649</th>\n",
       "      <td>801349265</td>\n",
       "      <td>Физическая активность</td>\n",
       "      <td>ОНЛАЙН Гимнастика</td>\n",
       "      <td>ОНЛАЙН Дыхательная гимнастика</td>\n",
       "      <td>NaN</td>\n",
       "      <td>NaN</td>\n",
       "    </tr>\n",
       "    <tr>\n",
       "      <th>3743</th>\n",
       "      <td>801350414</td>\n",
       "      <td>Образование</td>\n",
       "      <td>ОНЛАЙН Пеший лекторий</td>\n",
       "      <td>ОНЛАЙН Архитектура Москвы и Подмосковья</td>\n",
       "      <td>NaN</td>\n",
       "      <td>NaN</td>\n",
       "    </tr>\n",
       "    <tr>\n",
       "      <th>3769</th>\n",
       "      <td>801353869</td>\n",
       "      <td>Образование</td>\n",
       "      <td>ОНЛАЙН Пеший лекторий</td>\n",
       "      <td>ОНЛАЙН Краеведение и онлайн-экскурсии</td>\n",
       "      <td>NaN</td>\n",
       "      <td>NaN</td>\n",
       "    </tr>\n",
       "    <tr>\n",
       "      <th>3775</th>\n",
       "      <td>801352905</td>\n",
       "      <td>Образование</td>\n",
       "      <td>ОНЛАЙН Пеший лекторий</td>\n",
       "      <td>ОНЛАЙН Краеведение и онлайн-экскурсии</td>\n",
       "      <td>NaN</td>\n",
       "      <td>NaN</td>\n",
       "    </tr>\n",
       "    <tr>\n",
       "      <th>3777</th>\n",
       "      <td>801350706</td>\n",
       "      <td>Образование</td>\n",
       "      <td>ОНЛАЙН Пеший лекторий</td>\n",
       "      <td>ОНЛАЙН Краеведение и онлайн-экскурсии</td>\n",
       "      <td>NaN</td>\n",
       "      <td>NaN</td>\n",
       "    </tr>\n",
       "    <tr>\n",
       "      <th>11464</th>\n",
       "      <td>801352004</td>\n",
       "      <td>Рисование</td>\n",
       "      <td>ОНЛАЙН Рисование</td>\n",
       "      <td>ОНЛАЙН Различные техники рисования</td>\n",
       "      <td>NaN</td>\n",
       "      <td>NaN</td>\n",
       "    </tr>\n",
       "    <tr>\n",
       "      <th>12287</th>\n",
       "      <td>801347321</td>\n",
       "      <td>Физическая активность</td>\n",
       "      <td>ОНЛАЙН ОФП</td>\n",
       "      <td>ОНЛАЙН Лечебная физкультура</td>\n",
       "      <td>Восточный административный округ</td>\n",
       "      <td>муниципальный округ Восточный</td>\n",
       "    </tr>\n",
       "  </tbody>\n",
       "</table>\n",
       "</div>"
      ],
      "text/plain": [
       "       уникальный номер          направление 1           направление 2   \n",
       "517           801347156  Физическая активность       ОНЛАЙН Гимнастика  \\\n",
       "3324          801352656             Творчество  ОНЛАЙН Красота и стиль   \n",
       "3332          801352699             Творчество  ОНЛАЙН Красота и стиль   \n",
       "3649          801349265  Физическая активность       ОНЛАЙН Гимнастика   \n",
       "3743          801350414            Образование   ОНЛАЙН Пеший лекторий   \n",
       "3769          801353869            Образование   ОНЛАЙН Пеший лекторий   \n",
       "3775          801352905            Образование   ОНЛАЙН Пеший лекторий   \n",
       "3777          801350706            Образование   ОНЛАЙН Пеший лекторий   \n",
       "11464         801352004              Рисование        ОНЛАЙН Рисование   \n",
       "12287         801347321  Физическая активность              ОНЛАЙН ОФП   \n",
       "\n",
       "                                           направление 3   \n",
       "517                                ОНЛАЙН Здоровая спина  \\\n",
       "3324   ОНЛАЙН Мастер-класс по уходу за кожей в зрелом...   \n",
       "3332   ОНЛАЙН Мастер-класс по уходу за кожей в зрелом...   \n",
       "3649                       ОНЛАЙН Дыхательная гимнастика   \n",
       "3743             ОНЛАЙН Архитектура Москвы и Подмосковья   \n",
       "3769               ОНЛАЙН Краеведение и онлайн-экскурсии   \n",
       "3775               ОНЛАЙН Краеведение и онлайн-экскурсии   \n",
       "3777               ОНЛАЙН Краеведение и онлайн-экскурсии   \n",
       "11464                 ОНЛАЙН Различные техники рисования   \n",
       "12287                        ОНЛАЙН Лечебная физкультура   \n",
       "\n",
       "                                          округ площадки   \n",
       "517    Восточный административный округ, Восточный ад...  \\\n",
       "3324                                                 NaN   \n",
       "3332                                                 NaN   \n",
       "3649                                                 NaN   \n",
       "3743                                                 NaN   \n",
       "3769                                                 NaN   \n",
       "3775                                                 NaN   \n",
       "3777                                                 NaN   \n",
       "11464                                                NaN   \n",
       "12287                   Восточный административный округ   \n",
       "\n",
       "                                          район площадки  \n",
       "517    муниципальный округ Вешняки, муниципальный окр...  \n",
       "3324                                                 NaN  \n",
       "3332                                                 NaN  \n",
       "3649                                                 NaN  \n",
       "3743                                                 NaN  \n",
       "3769                                                 NaN  \n",
       "3775                                                 NaN  \n",
       "3777                                                 NaN  \n",
       "11464                                                NaN  \n",
       "12287                      муниципальный округ Восточный  "
      ]
     },
     "metadata": {},
     "output_type": "display_data"
    }
   ],
   "source": [
    "user_id = 101354253\n",
    "\n",
    "display_history_and_predictions_for_user(user_id, actions, default_recommendations)"
   ]
  },
  {
   "cell_type": "code",
   "execution_count": 10,
   "id": "36544caf",
   "metadata": {
    "scrolled": true
   },
   "outputs": [
    {
     "name": "stdout",
     "output_type": "stream",
     "text": [
      "----------------------------------------------------------------------------\n",
      "User 101385865 history:\n"
     ]
    },
    {
     "data": {
      "text/html": [
       "<div style=\"max-height:1000px;max-width:1500px;overflow:auto;\"><table frame=\"box\" rules=\"cols\">\n",
       "    <tr>\n",
       "        <th style=\"padding-left: 1em; padding-right: 1em; text-align: center\">group_id</th>\n",
       "        <th style=\"padding-left: 1em; padding-right: 1em; text-align: center\">is_online</th>\n",
       "        <th style=\"padding-left: 1em; padding-right: 1em; text-align: center\">session</th>\n",
       "        <th style=\"padding-left: 1em; padding-right: 1em; text-align: center\">направление 1</th>\n",
       "        <th style=\"padding-left: 1em; padding-right: 1em; text-align: center\">направление 2</th>\n",
       "    </tr>\n",
       "    <tr>\n",
       "        <td style=\"padding-left: 1em; padding-right: 1em; text-align: center; vertical-align: top\">801346923</td>\n",
       "        <td style=\"padding-left: 1em; padding-right: 1em; text-align: center; vertical-align: top\">online</td>\n",
       "        <td style=\"padding-left: 1em; padding-right: 1em; text-align: center; vertical-align: top\">mornig</td>\n",
       "        <td style=\"padding-left: 1em; padding-right: 1em; text-align: center; vertical-align: top\">Танцы</td>\n",
       "        <td style=\"padding-left: 1em; padding-right: 1em; text-align: center; vertical-align: top\">ОНЛАЙН Танцы</td>\n",
       "    </tr>\n",
       "    <tr>\n",
       "        <td style=\"padding-left: 1em; padding-right: 1em; text-align: center; vertical-align: top\">801348309</td>\n",
       "        <td style=\"padding-left: 1em; padding-right: 1em; text-align: center; vertical-align: top\">online</td>\n",
       "        <td style=\"padding-left: 1em; padding-right: 1em; text-align: center; vertical-align: top\">mornig</td>\n",
       "        <td style=\"padding-left: 1em; padding-right: 1em; text-align: center; vertical-align: top\">Творчество</td>\n",
       "        <td style=\"padding-left: 1em; padding-right: 1em; text-align: center; vertical-align: top\">ОНЛАЙН Красота и стиль</td>\n",
       "    </tr>\n",
       "    <tr>\n",
       "        <td style=\"padding-left: 1em; padding-right: 1em; text-align: center; vertical-align: top\">801348946</td>\n",
       "        <td style=\"padding-left: 1em; padding-right: 1em; text-align: center; vertical-align: top\">online</td>\n",
       "        <td style=\"padding-left: 1em; padding-right: 1em; text-align: center; vertical-align: top\">mornig</td>\n",
       "        <td style=\"padding-left: 1em; padding-right: 1em; text-align: center; vertical-align: top\">Физическая активность</td>\n",
       "        <td style=\"padding-left: 1em; padding-right: 1em; text-align: center; vertical-align: top\">ОНЛАЙН Гимнастика</td>\n",
       "    </tr>\n",
       "    <tr>\n",
       "        <td style=\"padding-left: 1em; padding-right: 1em; text-align: center; vertical-align: top\">801349093</td>\n",
       "        <td style=\"padding-left: 1em; padding-right: 1em; text-align: center; vertical-align: top\">online</td>\n",
       "        <td style=\"padding-left: 1em; padding-right: 1em; text-align: center; vertical-align: top\">mornig</td>\n",
       "        <td style=\"padding-left: 1em; padding-right: 1em; text-align: center; vertical-align: top\">Образование</td>\n",
       "        <td style=\"padding-left: 1em; padding-right: 1em; text-align: center; vertical-align: top\">ОНЛАЙН Иностранные языки</td>\n",
       "    </tr>\n",
       "    <tr>\n",
       "        <td style=\"padding-left: 1em; padding-right: 1em; text-align: center; vertical-align: top\">801350488</td>\n",
       "        <td style=\"padding-left: 1em; padding-right: 1em; text-align: center; vertical-align: top\">offline</td>\n",
       "        <td style=\"padding-left: 1em; padding-right: 1em; text-align: center; vertical-align: top\">aftennoon</td>\n",
       "        <td style=\"padding-left: 1em; padding-right: 1em; text-align: center; vertical-align: top\">Физическая активность</td>\n",
       "        <td style=\"padding-left: 1em; padding-right: 1em; text-align: center; vertical-align: top\">Фитнес, тренажеры</td>\n",
       "    </tr>\n",
       "    <tr>\n",
       "        <td style=\"padding-left: 1em; padding-right: 1em; text-align: center; vertical-align: top\">801350739</td>\n",
       "        <td style=\"padding-left: 1em; padding-right: 1em; text-align: center; vertical-align: top\">offline</td>\n",
       "        <td style=\"padding-left: 1em; padding-right: 1em; text-align: center; vertical-align: top\">mornig</td>\n",
       "        <td style=\"padding-left: 1em; padding-right: 1em; text-align: center; vertical-align: top\">Танцы</td>\n",
       "        <td style=\"padding-left: 1em; padding-right: 1em; text-align: center; vertical-align: top\">Танцы</td>\n",
       "    </tr>\n",
       "    <tr>\n",
       "        <td style=\"padding-left: 1em; padding-right: 1em; text-align: center; vertical-align: top\">801350759</td>\n",
       "        <td style=\"padding-left: 1em; padding-right: 1em; text-align: center; vertical-align: top\">offline</td>\n",
       "        <td style=\"padding-left: 1em; padding-right: 1em; text-align: center; vertical-align: top\">mornig</td>\n",
       "        <td style=\"padding-left: 1em; padding-right: 1em; text-align: center; vertical-align: top\">Танцы</td>\n",
       "        <td style=\"padding-left: 1em; padding-right: 1em; text-align: center; vertical-align: top\">Танцы</td>\n",
       "    </tr>\n",
       "    <tr>\n",
       "        <td style=\"padding-left: 1em; padding-right: 1em; text-align: center; vertical-align: top\">801351106</td>\n",
       "        <td style=\"padding-left: 1em; padding-right: 1em; text-align: center; vertical-align: top\">online</td>\n",
       "        <td style=\"padding-left: 1em; padding-right: 1em; text-align: center; vertical-align: top\">mornig</td>\n",
       "        <td style=\"padding-left: 1em; padding-right: 1em; text-align: center; vertical-align: top\">Творчество</td>\n",
       "        <td style=\"padding-left: 1em; padding-right: 1em; text-align: center; vertical-align: top\">ОНЛАЙН Красота и стиль</td>\n",
       "    </tr>\n",
       "    <tr>\n",
       "        <td style=\"padding-left: 1em; padding-right: 1em; text-align: center; vertical-align: top\">801351519</td>\n",
       "        <td style=\"padding-left: 1em; padding-right: 1em; text-align: center; vertical-align: top\">offline</td>\n",
       "        <td style=\"padding-left: 1em; padding-right: 1em; text-align: center; vertical-align: top\">mornig</td>\n",
       "        <td style=\"padding-left: 1em; padding-right: 1em; text-align: center; vertical-align: top\">Танцы</td>\n",
       "        <td style=\"padding-left: 1em; padding-right: 1em; text-align: center; vertical-align: top\">Танцы</td>\n",
       "    </tr>\n",
       "    <tr>\n",
       "        <td style=\"padding-left: 1em; padding-right: 1em; text-align: center; vertical-align: top\">801351888</td>\n",
       "        <td style=\"padding-left: 1em; padding-right: 1em; text-align: center; vertical-align: top\">offline</td>\n",
       "        <td style=\"padding-left: 1em; padding-right: 1em; text-align: center; vertical-align: top\">mornig</td>\n",
       "        <td style=\"padding-left: 1em; padding-right: 1em; text-align: center; vertical-align: top\">Танцы</td>\n",
       "        <td style=\"padding-left: 1em; padding-right: 1em; text-align: center; vertical-align: top\">Танцы</td>\n",
       "    </tr>\n",
       "</table>\n",
       "[? rows x 5 columns]<br/>Note: Only the head of the SFrame is printed. This SFrame is lazily evaluated.<br/>You can use sf.materialize() to force materialization.\n",
       "</div>"
      ],
      "text/plain": [
       "Columns:\n",
       "\tgroup_id\tint\n",
       "\tis_online\tstr\n",
       "\tsession\tstr\n",
       "\tнаправление 1\tstr\n",
       "\tнаправление 2\tstr\n",
       "\n",
       "Rows: Unknown\n",
       "\n",
       "Data:\n",
       "+-----------+-----------+-----------+-----------------------+\n",
       "|  group_id | is_online |  session  |     направление 1     |\n",
       "+-----------+-----------+-----------+-----------------------+\n",
       "| 801346923 |   online  |   mornig  |         Танцы         |\n",
       "| 801348309 |   online  |   mornig  |       Творчество      |\n",
       "| 801348946 |   online  |   mornig  | Физическая активность |\n",
       "| 801349093 |   online  |   mornig  |      Образование      |\n",
       "| 801350488 |  offline  | aftennoon | Физическая активность |\n",
       "| 801350739 |  offline  |   mornig  |         Танцы         |\n",
       "| 801350759 |  offline  |   mornig  |         Танцы         |\n",
       "| 801351106 |   online  |   mornig  |       Творчество      |\n",
       "| 801351519 |  offline  |   mornig  |         Танцы         |\n",
       "| 801351888 |  offline  |   mornig  |         Танцы         |\n",
       "+-----------+-----------+-----------+-----------------------+\n",
       "+--------------------------+\n",
       "|      направление 2       |\n",
       "+--------------------------+\n",
       "|       ОНЛАЙН Танцы       |\n",
       "|  ОНЛАЙН Красота и стиль  |\n",
       "|    ОНЛАЙН Гимнастика     |\n",
       "| ОНЛАЙН Иностранные языки |\n",
       "|    Фитнес, тренажеры     |\n",
       "|          Танцы           |\n",
       "|          Танцы           |\n",
       "|  ОНЛАЙН Красота и стиль  |\n",
       "|          Танцы           |\n",
       "|          Танцы           |\n",
       "+--------------------------+\n",
       "[? rows x 5 columns]\n",
       "Note: Only the head of the SFrame is printed. This SFrame is lazily evaluated.\n",
       "You can use sf.materialize() to force materialization."
      ]
     },
     "metadata": {},
     "output_type": "display_data"
    },
    {
     "name": "stdout",
     "output_type": "stream",
     "text": [
      "User recommendations:\n"
     ]
    },
    {
     "data": {
      "text/html": [
       "<div>\n",
       "<style scoped>\n",
       "    .dataframe tbody tr th:only-of-type {\n",
       "        vertical-align: middle;\n",
       "    }\n",
       "\n",
       "    .dataframe tbody tr th {\n",
       "        vertical-align: top;\n",
       "    }\n",
       "\n",
       "    .dataframe thead th {\n",
       "        text-align: right;\n",
       "    }\n",
       "</style>\n",
       "<table border=\"1\" class=\"dataframe\">\n",
       "  <thead>\n",
       "    <tr style=\"text-align: right;\">\n",
       "      <th></th>\n",
       "      <th>уникальный номер</th>\n",
       "      <th>направление 1</th>\n",
       "      <th>направление 2</th>\n",
       "      <th>направление 3</th>\n",
       "      <th>округ площадки</th>\n",
       "      <th>район площадки</th>\n",
       "    </tr>\n",
       "  </thead>\n",
       "  <tbody>\n",
       "    <tr>\n",
       "      <th>2172</th>\n",
       "      <td>801351211</td>\n",
       "      <td>Образование</td>\n",
       "      <td>ОНЛАЙН История, искусство, краеведение</td>\n",
       "      <td>ОНЛАЙН История искусства</td>\n",
       "      <td>NaN</td>\n",
       "      <td>NaN</td>\n",
       "    </tr>\n",
       "    <tr>\n",
       "      <th>2184</th>\n",
       "      <td>801352464</td>\n",
       "      <td>Образование</td>\n",
       "      <td>ОНЛАЙН История, искусство, краеведение</td>\n",
       "      <td>ОНЛАЙН История искусства</td>\n",
       "      <td>NaN</td>\n",
       "      <td>NaN</td>\n",
       "    </tr>\n",
       "    <tr>\n",
       "      <th>2191</th>\n",
       "      <td>801351432</td>\n",
       "      <td>Образование</td>\n",
       "      <td>ОНЛАЙН История, искусство, краеведение</td>\n",
       "      <td>ОНЛАЙН Основы духовной культуры</td>\n",
       "      <td>NaN</td>\n",
       "      <td>NaN</td>\n",
       "    </tr>\n",
       "    <tr>\n",
       "      <th>2486</th>\n",
       "      <td>801351262</td>\n",
       "      <td>Творчество</td>\n",
       "      <td>ОНЛАЙН Красота и стиль</td>\n",
       "      <td>ОНЛАЙН История моды и прически</td>\n",
       "      <td>NaN</td>\n",
       "      <td>NaN</td>\n",
       "    </tr>\n",
       "    <tr>\n",
       "      <th>3307</th>\n",
       "      <td>801348819</td>\n",
       "      <td>Творчество</td>\n",
       "      <td>ОНЛАЙН Красота и стиль</td>\n",
       "      <td>ОНЛАЙН Мастер-класс по уходу за кожей в зрелом...</td>\n",
       "      <td>NaN</td>\n",
       "      <td>NaN</td>\n",
       "    </tr>\n",
       "    <tr>\n",
       "      <th>3383</th>\n",
       "      <td>801351733</td>\n",
       "      <td>Творчество</td>\n",
       "      <td>ОНЛАЙН Красота и стиль</td>\n",
       "      <td>ОНЛАЙН Мастер-класс по уходу за кожей в зрелом...</td>\n",
       "      <td>NaN</td>\n",
       "      <td>NaN</td>\n",
       "    </tr>\n",
       "    <tr>\n",
       "      <th>3743</th>\n",
       "      <td>801350414</td>\n",
       "      <td>Образование</td>\n",
       "      <td>ОНЛАЙН Пеший лекторий</td>\n",
       "      <td>ОНЛАЙН Архитектура Москвы и Подмосковья</td>\n",
       "      <td>NaN</td>\n",
       "      <td>NaN</td>\n",
       "    </tr>\n",
       "    <tr>\n",
       "      <th>3771</th>\n",
       "      <td>801350459</td>\n",
       "      <td>Образование</td>\n",
       "      <td>ОНЛАЙН Пеший лекторий</td>\n",
       "      <td>ОНЛАЙН Краеведение и онлайн-экскурсии</td>\n",
       "      <td>NaN</td>\n",
       "      <td>NaN</td>\n",
       "    </tr>\n",
       "    <tr>\n",
       "      <th>3775</th>\n",
       "      <td>801352905</td>\n",
       "      <td>Образование</td>\n",
       "      <td>ОНЛАЙН Пеший лекторий</td>\n",
       "      <td>ОНЛАЙН Краеведение и онлайн-экскурсии</td>\n",
       "      <td>NaN</td>\n",
       "      <td>NaN</td>\n",
       "    </tr>\n",
       "    <tr>\n",
       "      <th>4982</th>\n",
       "      <td>801350902</td>\n",
       "      <td>Образование</td>\n",
       "      <td>ОНЛАЙН Пеший лекторий</td>\n",
       "      <td>ОНЛАЙН Краеведение и онлайн-экскурсии по Москв...</td>\n",
       "      <td>NaN</td>\n",
       "      <td>NaN</td>\n",
       "    </tr>\n",
       "  </tbody>\n",
       "</table>\n",
       "</div>"
      ],
      "text/plain": [
       "      уникальный номер направление 1                           направление 2   \n",
       "2172         801351211   Образование  ОНЛАЙН История, искусство, краеведение  \\\n",
       "2184         801352464   Образование  ОНЛАЙН История, искусство, краеведение   \n",
       "2191         801351432   Образование  ОНЛАЙН История, искусство, краеведение   \n",
       "2486         801351262    Творчество                  ОНЛАЙН Красота и стиль   \n",
       "3307         801348819    Творчество                  ОНЛАЙН Красота и стиль   \n",
       "3383         801351733    Творчество                  ОНЛАЙН Красота и стиль   \n",
       "3743         801350414   Образование                   ОНЛАЙН Пеший лекторий   \n",
       "3771         801350459   Образование                   ОНЛАЙН Пеший лекторий   \n",
       "3775         801352905   Образование                   ОНЛАЙН Пеший лекторий   \n",
       "4982         801350902   Образование                   ОНЛАЙН Пеший лекторий   \n",
       "\n",
       "                                          направление 3 округ площадки   \n",
       "2172                           ОНЛАЙН История искусства            NaN  \\\n",
       "2184                           ОНЛАЙН История искусства            NaN   \n",
       "2191                    ОНЛАЙН Основы духовной культуры            NaN   \n",
       "2486                     ОНЛАЙН История моды и прически            NaN   \n",
       "3307  ОНЛАЙН Мастер-класс по уходу за кожей в зрелом...            NaN   \n",
       "3383  ОНЛАЙН Мастер-класс по уходу за кожей в зрелом...            NaN   \n",
       "3743            ОНЛАЙН Архитектура Москвы и Подмосковья            NaN   \n",
       "3771              ОНЛАЙН Краеведение и онлайн-экскурсии            NaN   \n",
       "3775              ОНЛАЙН Краеведение и онлайн-экскурсии            NaN   \n",
       "4982  ОНЛАЙН Краеведение и онлайн-экскурсии по Москв...            NaN   \n",
       "\n",
       "     район площадки  \n",
       "2172            NaN  \n",
       "2184            NaN  \n",
       "2191            NaN  \n",
       "2486            NaN  \n",
       "3307            NaN  \n",
       "3383            NaN  \n",
       "3743            NaN  \n",
       "3771            NaN  \n",
       "3775            NaN  \n",
       "4982            NaN  "
      ]
     },
     "metadata": {},
     "output_type": "display_data"
    }
   ],
   "source": [
    "user_id = 101385865\n",
    "\n",
    "display_history_and_predictions_for_user(user_id, actions, default_recommendations)"
   ]
  },
  {
   "cell_type": "markdown",
   "id": "f6b39035",
   "metadata": {},
   "source": [
    "### Делаем сравнение различных моделей\n",
    "\n",
    "Описание всех моделей, заложенных в turicreate, доступно по ссылке:\n",
    "\n",
    "https://apple.github.io/turicreate/docs/api/turicreate.toolkits.recommender.html"
   ]
  },
  {
   "cell_type": "code",
   "execution_count": 11,
   "id": "62d3edbf",
   "metadata": {
    "scrolled": true
   },
   "outputs": [
    {
     "data": {
      "text/html": [
       "<pre>Preparing data set.</pre>"
      ],
      "text/plain": [
       "Preparing data set."
      ]
     },
     "metadata": {},
     "output_type": "display_data"
    },
    {
     "data": {
      "text/html": [
       "<pre>    Data has 597961 observations with 50881 users and 24534 items.</pre>"
      ],
      "text/plain": [
       "    Data has 597961 observations with 50881 users and 24534 items."
      ]
     },
     "metadata": {},
     "output_type": "display_data"
    },
    {
     "data": {
      "text/html": [
       "<pre>    Data prepared in: 0.370567s</pre>"
      ],
      "text/plain": [
       "    Data prepared in: 0.370567s"
      ]
     },
     "metadata": {},
     "output_type": "display_data"
    },
    {
     "data": {
      "text/html": [
       "<pre>Training ranking_factorization_recommender for recommendations.</pre>"
      ],
      "text/plain": [
       "Training ranking_factorization_recommender for recommendations."
      ]
     },
     "metadata": {},
     "output_type": "display_data"
    },
    {
     "data": {
      "text/html": [
       "<pre>+--------------------------------+--------------------------------------------------+----------+</pre>"
      ],
      "text/plain": [
       "+--------------------------------+--------------------------------------------------+----------+"
      ]
     },
     "metadata": {},
     "output_type": "display_data"
    },
    {
     "data": {
      "text/html": [
       "<pre>| Parameter                      | Description                                      | Value    |</pre>"
      ],
      "text/plain": [
       "| Parameter                      | Description                                      | Value    |"
      ]
     },
     "metadata": {},
     "output_type": "display_data"
    },
    {
     "data": {
      "text/html": [
       "<pre>+--------------------------------+--------------------------------------------------+----------+</pre>"
      ],
      "text/plain": [
       "+--------------------------------+--------------------------------------------------+----------+"
      ]
     },
     "metadata": {},
     "output_type": "display_data"
    },
    {
     "data": {
      "text/html": [
       "<pre>| num_factors                    | Factor Dimension                                 | 32       |</pre>"
      ],
      "text/plain": [
       "| num_factors                    | Factor Dimension                                 | 32       |"
      ]
     },
     "metadata": {},
     "output_type": "display_data"
    },
    {
     "data": {
      "text/html": [
       "<pre>| regularization                 | L2 Regularization on Factors                     | 1e-09    |</pre>"
      ],
      "text/plain": [
       "| regularization                 | L2 Regularization on Factors                     | 1e-09    |"
      ]
     },
     "metadata": {},
     "output_type": "display_data"
    },
    {
     "data": {
      "text/html": [
       "<pre>| solver                         | Solver used for training                         | adagrad  |</pre>"
      ],
      "text/plain": [
       "| solver                         | Solver used for training                         | adagrad  |"
      ]
     },
     "metadata": {},
     "output_type": "display_data"
    },
    {
     "data": {
      "text/html": [
       "<pre>| linear_regularization          | L2 Regularization on Linear Coefficients         | 1e-09    |</pre>"
      ],
      "text/plain": [
       "| linear_regularization          | L2 Regularization on Linear Coefficients         | 1e-09    |"
      ]
     },
     "metadata": {},
     "output_type": "display_data"
    },
    {
     "data": {
      "text/html": [
       "<pre>| ranking_regularization         | Rank-based Regularization Weight                 | 0.25     |</pre>"
      ],
      "text/plain": [
       "| ranking_regularization         | Rank-based Regularization Weight                 | 0.25     |"
      ]
     },
     "metadata": {},
     "output_type": "display_data"
    },
    {
     "data": {
      "text/html": [
       "<pre>| max_iterations                 | Maximum Number of Iterations                     | 25       |</pre>"
      ],
      "text/plain": [
       "| max_iterations                 | Maximum Number of Iterations                     | 25       |"
      ]
     },
     "metadata": {},
     "output_type": "display_data"
    },
    {
     "data": {
      "text/html": [
       "<pre>+--------------------------------+--------------------------------------------------+----------+</pre>"
      ],
      "text/plain": [
       "+--------------------------------+--------------------------------------------------+----------+"
      ]
     },
     "metadata": {},
     "output_type": "display_data"
    },
    {
     "data": {
      "text/html": [
       "<pre>  Optimizing model using SGD; tuning step size.</pre>"
      ],
      "text/plain": [
       "  Optimizing model using SGD; tuning step size."
      ]
     },
     "metadata": {},
     "output_type": "display_data"
    },
    {
     "data": {
      "text/html": [
       "<pre>  Using 74745 / 597961 points for tuning the step size.</pre>"
      ],
      "text/plain": [
       "  Using 74745 / 597961 points for tuning the step size."
      ]
     },
     "metadata": {},
     "output_type": "display_data"
    },
    {
     "data": {
      "text/html": [
       "<pre>+---------+-------------------+------------------------------------------+</pre>"
      ],
      "text/plain": [
       "+---------+-------------------+------------------------------------------+"
      ]
     },
     "metadata": {},
     "output_type": "display_data"
    },
    {
     "data": {
      "text/html": [
       "<pre>| Attempt | Initial Step Size | Estimated Objective Value                |</pre>"
      ],
      "text/plain": [
       "| Attempt | Initial Step Size | Estimated Objective Value                |"
      ]
     },
     "metadata": {},
     "output_type": "display_data"
    },
    {
     "data": {
      "text/html": [
       "<pre>+---------+-------------------+------------------------------------------+</pre>"
      ],
      "text/plain": [
       "+---------+-------------------+------------------------------------------+"
      ]
     },
     "metadata": {},
     "output_type": "display_data"
    },
    {
     "data": {
      "text/html": [
       "<pre>| 0       | 4.16667           | Not Viable                               |</pre>"
      ],
      "text/plain": [
       "| 0       | 4.16667           | Not Viable                               |"
      ]
     },
     "metadata": {},
     "output_type": "display_data"
    },
    {
     "data": {
      "text/html": [
       "<pre>| 1       | 1.04167           | Not Viable                               |</pre>"
      ],
      "text/plain": [
       "| 1       | 1.04167           | Not Viable                               |"
      ]
     },
     "metadata": {},
     "output_type": "display_data"
    },
    {
     "data": {
      "text/html": [
       "<pre>| 2       | 0.260417          | 0.43013                                  |</pre>"
      ],
      "text/plain": [
       "| 2       | 0.260417          | 0.43013                                  |"
      ]
     },
     "metadata": {},
     "output_type": "display_data"
    },
    {
     "data": {
      "text/html": [
       "<pre>| 3       | 0.130208          | 0.314604                                 |</pre>"
      ],
      "text/plain": [
       "| 3       | 0.130208          | 0.314604                                 |"
      ]
     },
     "metadata": {},
     "output_type": "display_data"
    },
    {
     "data": {
      "text/html": [
       "<pre>| 4       | 0.0651042         | 1.11205                                  |</pre>"
      ],
      "text/plain": [
       "| 4       | 0.0651042         | 1.11205                                  |"
      ]
     },
     "metadata": {},
     "output_type": "display_data"
    },
    {
     "data": {
      "text/html": [
       "<pre>+---------+-------------------+------------------------------------------+</pre>"
      ],
      "text/plain": [
       "+---------+-------------------+------------------------------------------+"
      ]
     },
     "metadata": {},
     "output_type": "display_data"
    },
    {
     "data": {
      "text/html": [
       "<pre>| Final   | 0.130208          | 0.314604                                 |</pre>"
      ],
      "text/plain": [
       "| Final   | 0.130208          | 0.314604                                 |"
      ]
     },
     "metadata": {},
     "output_type": "display_data"
    },
    {
     "data": {
      "text/html": [
       "<pre>+---------+-------------------+------------------------------------------+</pre>"
      ],
      "text/plain": [
       "+---------+-------------------+------------------------------------------+"
      ]
     },
     "metadata": {},
     "output_type": "display_data"
    },
    {
     "data": {
      "text/html": [
       "<pre>Starting Optimization.</pre>"
      ],
      "text/plain": [
       "Starting Optimization."
      ]
     },
     "metadata": {},
     "output_type": "display_data"
    },
    {
     "data": {
      "text/html": [
       "<pre>+---------+--------------+-------------------+-----------------------+-------------+</pre>"
      ],
      "text/plain": [
       "+---------+--------------+-------------------+-----------------------+-------------+"
      ]
     },
     "metadata": {},
     "output_type": "display_data"
    },
    {
     "data": {
      "text/html": [
       "<pre>| Iter.   | Elapsed Time | Approx. Objective | Approx. Training RMSE | Step Size   |</pre>"
      ],
      "text/plain": [
       "| Iter.   | Elapsed Time | Approx. Objective | Approx. Training RMSE | Step Size   |"
      ]
     },
     "metadata": {},
     "output_type": "display_data"
    },
    {
     "data": {
      "text/html": [
       "<pre>+---------+--------------+-------------------+-----------------------+-------------+</pre>"
      ],
      "text/plain": [
       "+---------+--------------+-------------------+-----------------------+-------------+"
      ]
     },
     "metadata": {},
     "output_type": "display_data"
    },
    {
     "data": {
      "text/html": [
       "<pre>| Initial | 54us         | 2.77823           | 1.19034               |             |</pre>"
      ],
      "text/plain": [
       "| Initial | 54us         | 2.77823           | 1.19034               |             |"
      ]
     },
     "metadata": {},
     "output_type": "display_data"
    },
    {
     "data": {
      "text/html": [
       "<pre>+---------+--------------+-------------------+-----------------------+-------------+</pre>"
      ],
      "text/plain": [
       "+---------+--------------+-------------------+-----------------------+-------------+"
      ]
     },
     "metadata": {},
     "output_type": "display_data"
    },
    {
     "data": {
      "text/html": [
       "<pre>| 1       | 464.201ms    | 2.07621           | 1.1675                | 0.130208    |</pre>"
      ],
      "text/plain": [
       "| 1       | 464.201ms    | 2.07621           | 1.1675                | 0.130208    |"
      ]
     },
     "metadata": {},
     "output_type": "display_data"
    },
    {
     "data": {
      "text/html": [
       "<pre>| 2       | 889.176ms    | 0.962842          | 0.800851              | 0.130208    |</pre>"
      ],
      "text/plain": [
       "| 2       | 889.176ms    | 0.962842          | 0.800851              | 0.130208    |"
      ]
     },
     "metadata": {},
     "output_type": "display_data"
    },
    {
     "data": {
      "text/html": [
       "<pre>| 3       | 1.28s        | 0.590524          | 0.645299              | 0.130208    |</pre>"
      ],
      "text/plain": [
       "| 3       | 1.28s        | 0.590524          | 0.645299              | 0.130208    |"
      ]
     },
     "metadata": {},
     "output_type": "display_data"
    },
    {
     "data": {
      "text/html": [
       "<pre>| 4       | 1.65s        | 0.42665           | 0.562102              | 0.130208    |</pre>"
      ],
      "text/plain": [
       "| 4       | 1.65s        | 0.42665           | 0.562102              | 0.130208    |"
      ]
     },
     "metadata": {},
     "output_type": "display_data"
    },
    {
     "data": {
      "text/html": [
       "<pre>| 5       | 2.01s        | 0.337963          | 0.507743              | 0.130208    |</pre>"
      ],
      "text/plain": [
       "| 5       | 2.01s        | 0.337963          | 0.507743              | 0.130208    |"
      ]
     },
     "metadata": {},
     "output_type": "display_data"
    },
    {
     "data": {
      "text/html": [
       "<pre>| 10      | 3.72s        | 0.181294          | 0.38146               | 0.130208    |</pre>"
      ],
      "text/plain": [
       "| 10      | 3.72s        | 0.181294          | 0.38146               | 0.130208    |"
      ]
     },
     "metadata": {},
     "output_type": "display_data"
    },
    {
     "data": {
      "text/html": [
       "<pre>| 20      | 6.88s        | 0.107608          | 0.294327              | 0.130208    |</pre>"
      ],
      "text/plain": [
       "| 20      | 6.88s        | 0.107608          | 0.294327              | 0.130208    |"
      ]
     },
     "metadata": {},
     "output_type": "display_data"
    },
    {
     "data": {
      "text/html": [
       "<pre>| 25      | 8.44s        | 0.0929207         | 0.271869              | 0.130208    |</pre>"
      ],
      "text/plain": [
       "| 25      | 8.44s        | 0.0929207         | 0.271869              | 0.130208    |"
      ]
     },
     "metadata": {},
     "output_type": "display_data"
    },
    {
     "data": {
      "text/html": [
       "<pre>+---------+--------------+-------------------+-----------------------+-------------+</pre>"
      ],
      "text/plain": [
       "+---------+--------------+-------------------+-----------------------+-------------+"
      ]
     },
     "metadata": {},
     "output_type": "display_data"
    },
    {
     "data": {
      "text/html": [
       "<pre>Optimization Complete: Maximum number of passes through the data reached.</pre>"
      ],
      "text/plain": [
       "Optimization Complete: Maximum number of passes through the data reached."
      ]
     },
     "metadata": {},
     "output_type": "display_data"
    },
    {
     "data": {
      "text/html": [
       "<pre>Computing final objective value and training RMSE.</pre>"
      ],
      "text/plain": [
       "Computing final objective value and training RMSE."
      ]
     },
     "metadata": {},
     "output_type": "display_data"
    },
    {
     "data": {
      "text/html": [
       "<pre>       Final objective value: 0.0786329</pre>"
      ],
      "text/plain": [
       "       Final objective value: 0.0786329"
      ]
     },
     "metadata": {},
     "output_type": "display_data"
    },
    {
     "data": {
      "text/html": [
       "<pre>       Final training RMSE: 0.245524</pre>"
      ],
      "text/plain": [
       "       Final training RMSE: 0.245524"
      ]
     },
     "metadata": {},
     "output_type": "display_data"
    },
    {
     "data": {
      "text/html": [
       "<pre>Warning: Ignoring columns X1, направление 3, is_online, lesson_length, session, направление 1, направление 2, user_address, lat, long;</pre>"
      ],
      "text/plain": [
       "Warning: Ignoring columns X1, направление 3, is_online, lesson_length, session, направление 1, направление 2, user_address, lat, long;"
      ]
     },
     "metadata": {},
     "output_type": "display_data"
    },
    {
     "data": {
      "text/html": [
       "<pre>    To use these columns in scoring predictions, use a model that allows the use of additional features.</pre>"
      ],
      "text/plain": [
       "    To use these columns in scoring predictions, use a model that allows the use of additional features."
      ]
     },
     "metadata": {},
     "output_type": "display_data"
    },
    {
     "data": {
      "text/html": [
       "<pre>Preparing data set.</pre>"
      ],
      "text/plain": [
       "Preparing data set."
      ]
     },
     "metadata": {},
     "output_type": "display_data"
    },
    {
     "data": {
      "text/html": [
       "<pre>    Data has 597961 observations with 50881 users and 24534 items.</pre>"
      ],
      "text/plain": [
       "    Data has 597961 observations with 50881 users and 24534 items."
      ]
     },
     "metadata": {},
     "output_type": "display_data"
    },
    {
     "data": {
      "text/html": [
       "<pre>    Data prepared in: 0.170652s</pre>"
      ],
      "text/plain": [
       "    Data prepared in: 0.170652s"
      ]
     },
     "metadata": {},
     "output_type": "display_data"
    },
    {
     "data": {
      "text/html": [
       "<pre>Training model from provided data.</pre>"
      ],
      "text/plain": [
       "Training model from provided data."
      ]
     },
     "metadata": {},
     "output_type": "display_data"
    },
    {
     "data": {
      "text/html": [
       "<pre>Gathering per-item and per-user statistics.</pre>"
      ],
      "text/plain": [
       "Gathering per-item and per-user statistics."
      ]
     },
     "metadata": {},
     "output_type": "display_data"
    },
    {
     "data": {
      "text/html": [
       "<pre>+--------------------------------+------------+</pre>"
      ],
      "text/plain": [
       "+--------------------------------+------------+"
      ]
     },
     "metadata": {},
     "output_type": "display_data"
    },
    {
     "data": {
      "text/html": [
       "<pre>| Elapsed Time (Item Statistics) | % Complete |</pre>"
      ],
      "text/plain": [
       "| Elapsed Time (Item Statistics) | % Complete |"
      ]
     },
     "metadata": {},
     "output_type": "display_data"
    },
    {
     "data": {
      "text/html": [
       "<pre>+--------------------------------+------------+</pre>"
      ],
      "text/plain": [
       "+--------------------------------+------------+"
      ]
     },
     "metadata": {},
     "output_type": "display_data"
    },
    {
     "data": {
      "text/html": [
       "<pre>| 655us                          | 1.75       |</pre>"
      ],
      "text/plain": [
       "| 655us                          | 1.75       |"
      ]
     },
     "metadata": {},
     "output_type": "display_data"
    },
    {
     "data": {
      "text/html": [
       "<pre>| 12.571ms                       | 100        |</pre>"
      ],
      "text/plain": [
       "| 12.571ms                       | 100        |"
      ]
     },
     "metadata": {},
     "output_type": "display_data"
    },
    {
     "data": {
      "text/html": [
       "<pre>+--------------------------------+------------+</pre>"
      ],
      "text/plain": [
       "+--------------------------------+------------+"
      ]
     },
     "metadata": {},
     "output_type": "display_data"
    },
    {
     "data": {
      "text/html": [
       "<pre>Setting up lookup tables.</pre>"
      ],
      "text/plain": [
       "Setting up lookup tables."
      ]
     },
     "metadata": {},
     "output_type": "display_data"
    },
    {
     "data": {
      "text/html": [
       "<pre>Processing data in one pass using dense lookup tables.</pre>"
      ],
      "text/plain": [
       "Processing data in one pass using dense lookup tables."
      ]
     },
     "metadata": {},
     "output_type": "display_data"
    },
    {
     "data": {
      "text/html": [
       "<pre>+-------------------------------------+------------------+-----------------+</pre>"
      ],
      "text/plain": [
       "+-------------------------------------+------------------+-----------------+"
      ]
     },
     "metadata": {},
     "output_type": "display_data"
    },
    {
     "data": {
      "text/html": [
       "<pre>| Elapsed Time (Constructing Lookups) | Total % Complete | Items Processed |</pre>"
      ],
      "text/plain": [
       "| Elapsed Time (Constructing Lookups) | Total % Complete | Items Processed |"
      ]
     },
     "metadata": {},
     "output_type": "display_data"
    },
    {
     "data": {
      "text/html": [
       "<pre>+-------------------------------------+------------------+-----------------+</pre>"
      ],
      "text/plain": [
       "+-------------------------------------+------------------+-----------------+"
      ]
     },
     "metadata": {},
     "output_type": "display_data"
    },
    {
     "data": {
      "text/html": [
       "<pre>| 366.278ms                           | 0                | 0               |</pre>"
      ],
      "text/plain": [
       "| 366.278ms                           | 0                | 0               |"
      ]
     },
     "metadata": {},
     "output_type": "display_data"
    },
    {
     "data": {
      "text/html": [
       "<pre>| 795.846ms                           | 100              | 24534           |</pre>"
      ],
      "text/plain": [
       "| 795.846ms                           | 100              | 24534           |"
      ]
     },
     "metadata": {},
     "output_type": "display_data"
    },
    {
     "data": {
      "text/html": [
       "<pre>+-------------------------------------+------------------+-----------------+</pre>"
      ],
      "text/plain": [
       "+-------------------------------------+------------------+-----------------+"
      ]
     },
     "metadata": {},
     "output_type": "display_data"
    },
    {
     "data": {
      "text/html": [
       "<pre>Finalizing lookup tables.</pre>"
      ],
      "text/plain": [
       "Finalizing lookup tables."
      ]
     },
     "metadata": {},
     "output_type": "display_data"
    },
    {
     "data": {
      "text/html": [
       "<pre>Generating candidate set for working with new users.</pre>"
      ],
      "text/plain": [
       "Generating candidate set for working with new users."
      ]
     },
     "metadata": {},
     "output_type": "display_data"
    },
    {
     "data": {
      "text/html": [
       "<pre>Finished training in 0.812769s</pre>"
      ],
      "text/plain": [
       "Finished training in 0.812769s"
      ]
     },
     "metadata": {},
     "output_type": "display_data"
    },
    {
     "data": {
      "text/html": [
       "<pre>Warning: Ignoring columns X1, направление 3, is_online, lesson_length, session, направление 1, направление 2, user_address, lat, long;</pre>"
      ],
      "text/plain": [
       "Warning: Ignoring columns X1, направление 3, is_online, lesson_length, session, направление 1, направление 2, user_address, lat, long;"
      ]
     },
     "metadata": {},
     "output_type": "display_data"
    },
    {
     "data": {
      "text/html": [
       "<pre>    To use these columns in scoring predictions, use a model that allows the use of additional features.</pre>"
      ],
      "text/plain": [
       "    To use these columns in scoring predictions, use a model that allows the use of additional features."
      ]
     },
     "metadata": {},
     "output_type": "display_data"
    },
    {
     "data": {
      "text/html": [
       "<pre>Preparing data set.</pre>"
      ],
      "text/plain": [
       "Preparing data set."
      ]
     },
     "metadata": {},
     "output_type": "display_data"
    },
    {
     "data": {
      "text/html": [
       "<pre>    Data has 597961 observations with 50881 users and 24534 items.</pre>"
      ],
      "text/plain": [
       "    Data has 597961 observations with 50881 users and 24534 items."
      ]
     },
     "metadata": {},
     "output_type": "display_data"
    },
    {
     "data": {
      "text/html": [
       "<pre>    Data prepared in: 0.164391s</pre>"
      ],
      "text/plain": [
       "    Data prepared in: 0.164391s"
      ]
     },
     "metadata": {},
     "output_type": "display_data"
    },
    {
     "data": {
      "text/html": [
       "<pre>597961 observations to process; with 24534 unique items.</pre>"
      ],
      "text/plain": [
       "597961 observations to process; with 24534 unique items."
      ]
     },
     "metadata": {},
     "output_type": "display_data"
    },
    {
     "data": {
      "text/html": [
       "<pre>Preparing data set.</pre>"
      ],
      "text/plain": [
       "Preparing data set."
      ]
     },
     "metadata": {},
     "output_type": "display_data"
    },
    {
     "data": {
      "text/html": [
       "<pre>    Data has 597961 observations with 50881 users and 24534 items.</pre>"
      ],
      "text/plain": [
       "    Data has 597961 observations with 50881 users and 24534 items."
      ]
     },
     "metadata": {},
     "output_type": "display_data"
    },
    {
     "data": {
      "text/html": [
       "<pre>    Data prepared in: 0.358543s</pre>"
      ],
      "text/plain": [
       "    Data prepared in: 0.358543s"
      ]
     },
     "metadata": {},
     "output_type": "display_data"
    },
    {
     "data": {
      "text/html": [
       "<pre>Training factorization_recommender for recommendations.</pre>"
      ],
      "text/plain": [
       "Training factorization_recommender for recommendations."
      ]
     },
     "metadata": {},
     "output_type": "display_data"
    },
    {
     "data": {
      "text/html": [
       "<pre>+--------------------------------+--------------------------------------------------+----------+</pre>"
      ],
      "text/plain": [
       "+--------------------------------+--------------------------------------------------+----------+"
      ]
     },
     "metadata": {},
     "output_type": "display_data"
    },
    {
     "data": {
      "text/html": [
       "<pre>| Parameter                      | Description                                      | Value    |</pre>"
      ],
      "text/plain": [
       "| Parameter                      | Description                                      | Value    |"
      ]
     },
     "metadata": {},
     "output_type": "display_data"
    },
    {
     "data": {
      "text/html": [
       "<pre>+--------------------------------+--------------------------------------------------+----------+</pre>"
      ],
      "text/plain": [
       "+--------------------------------+--------------------------------------------------+----------+"
      ]
     },
     "metadata": {},
     "output_type": "display_data"
    },
    {
     "data": {
      "text/html": [
       "<pre>| num_factors                    | Factor Dimension                                 | 8        |</pre>"
      ],
      "text/plain": [
       "| num_factors                    | Factor Dimension                                 | 8        |"
      ]
     },
     "metadata": {},
     "output_type": "display_data"
    },
    {
     "data": {
      "text/html": [
       "<pre>| regularization                 | L2 Regularization on Factors                     | 1e-08    |</pre>"
      ],
      "text/plain": [
       "| regularization                 | L2 Regularization on Factors                     | 1e-08    |"
      ]
     },
     "metadata": {},
     "output_type": "display_data"
    },
    {
     "data": {
      "text/html": [
       "<pre>| solver                         | Solver used for training                         | adagrad  |</pre>"
      ],
      "text/plain": [
       "| solver                         | Solver used for training                         | adagrad  |"
      ]
     },
     "metadata": {},
     "output_type": "display_data"
    },
    {
     "data": {
      "text/html": [
       "<pre>| linear_regularization          | L2 Regularization on Linear Coefficients         | 1e-10    |</pre>"
      ],
      "text/plain": [
       "| linear_regularization          | L2 Regularization on Linear Coefficients         | 1e-10    |"
      ]
     },
     "metadata": {},
     "output_type": "display_data"
    },
    {
     "data": {
      "text/html": [
       "<pre>| max_iterations                 | Maximum Number of Iterations                     | 50       |</pre>"
      ],
      "text/plain": [
       "| max_iterations                 | Maximum Number of Iterations                     | 50       |"
      ]
     },
     "metadata": {},
     "output_type": "display_data"
    },
    {
     "data": {
      "text/html": [
       "<pre>+--------------------------------+--------------------------------------------------+----------+</pre>"
      ],
      "text/plain": [
       "+--------------------------------+--------------------------------------------------+----------+"
      ]
     },
     "metadata": {},
     "output_type": "display_data"
    },
    {
     "data": {
      "text/html": [
       "<pre>  Optimizing model using SGD; tuning step size.</pre>"
      ],
      "text/plain": [
       "  Optimizing model using SGD; tuning step size."
      ]
     },
     "metadata": {},
     "output_type": "display_data"
    },
    {
     "data": {
      "text/html": [
       "<pre>  Using 74745 / 597961 points for tuning the step size.</pre>"
      ],
      "text/plain": [
       "  Using 74745 / 597961 points for tuning the step size."
      ]
     },
     "metadata": {},
     "output_type": "display_data"
    },
    {
     "data": {
      "text/html": [
       "<pre>+---------+-------------------+------------------------------------------+</pre>"
      ],
      "text/plain": [
       "+---------+-------------------+------------------------------------------+"
      ]
     },
     "metadata": {},
     "output_type": "display_data"
    },
    {
     "data": {
      "text/html": [
       "<pre>| Attempt | Initial Step Size | Estimated Objective Value                |</pre>"
      ],
      "text/plain": [
       "| Attempt | Initial Step Size | Estimated Objective Value                |"
      ]
     },
     "metadata": {},
     "output_type": "display_data"
    },
    {
     "data": {
      "text/html": [
       "<pre>+---------+-------------------+------------------------------------------+</pre>"
      ],
      "text/plain": [
       "+---------+-------------------+------------------------------------------+"
      ]
     },
     "metadata": {},
     "output_type": "display_data"
    },
    {
     "data": {
      "text/html": [
       "<pre>| 0       | 4.16667           | Not Viable                               |</pre>"
      ],
      "text/plain": [
       "| 0       | 4.16667           | Not Viable                               |"
      ]
     },
     "metadata": {},
     "output_type": "display_data"
    },
    {
     "data": {
      "text/html": [
       "<pre>| 1       | 1.04167           | Not Viable                               |</pre>"
      ],
      "text/plain": [
       "| 1       | 1.04167           | Not Viable                               |"
      ]
     },
     "metadata": {},
     "output_type": "display_data"
    },
    {
     "data": {
      "text/html": [
       "<pre>| 2       | 0.260417          | 0.0799869                                |</pre>"
      ],
      "text/plain": [
       "| 2       | 0.260417          | 0.0799869                                |"
      ]
     },
     "metadata": {},
     "output_type": "display_data"
    },
    {
     "data": {
      "text/html": [
       "<pre>| 3       | 0.130208          | 0.226327                                 |</pre>"
      ],
      "text/plain": [
       "| 3       | 0.130208          | 0.226327                                 |"
      ]
     },
     "metadata": {},
     "output_type": "display_data"
    },
    {
     "data": {
      "text/html": [
       "<pre>+---------+-------------------+------------------------------------------+</pre>"
      ],
      "text/plain": [
       "+---------+-------------------+------------------------------------------+"
      ]
     },
     "metadata": {},
     "output_type": "display_data"
    },
    {
     "data": {
      "text/html": [
       "<pre>| Final   | 0.260417          | 0.0799869                                |</pre>"
      ],
      "text/plain": [
       "| Final   | 0.260417          | 0.0799869                                |"
      ]
     },
     "metadata": {},
     "output_type": "display_data"
    },
    {
     "data": {
      "text/html": [
       "<pre>+---------+-------------------+------------------------------------------+</pre>"
      ],
      "text/plain": [
       "+---------+-------------------+------------------------------------------+"
      ]
     },
     "metadata": {},
     "output_type": "display_data"
    },
    {
     "data": {
      "text/html": [
       "<pre>Starting Optimization.</pre>"
      ],
      "text/plain": [
       "Starting Optimization."
      ]
     },
     "metadata": {},
     "output_type": "display_data"
    },
    {
     "data": {
      "text/html": [
       "<pre>+---------+--------------+-------------------+-----------------------+-------------+</pre>"
      ],
      "text/plain": [
       "+---------+--------------+-------------------+-----------------------+-------------+"
      ]
     },
     "metadata": {},
     "output_type": "display_data"
    },
    {
     "data": {
      "text/html": [
       "<pre>| Iter.   | Elapsed Time | Approx. Objective | Approx. Training RMSE | Step Size   |</pre>"
      ],
      "text/plain": [
       "| Iter.   | Elapsed Time | Approx. Objective | Approx. Training RMSE | Step Size   |"
      ]
     },
     "metadata": {},
     "output_type": "display_data"
    },
    {
     "data": {
      "text/html": [
       "<pre>+---------+--------------+-------------------+-----------------------+-------------+</pre>"
      ],
      "text/plain": [
       "+---------+--------------+-------------------+-----------------------+-------------+"
      ]
     },
     "metadata": {},
     "output_type": "display_data"
    },
    {
     "data": {
      "text/html": [
       "<pre>| Initial | 42us         | 1.41689           | 1.19033               |             |</pre>"
      ],
      "text/plain": [
       "| Initial | 42us         | 1.41689           | 1.19033               |             |"
      ]
     },
     "metadata": {},
     "output_type": "display_data"
    },
    {
     "data": {
      "text/html": [
       "<pre>+---------+--------------+-------------------+-----------------------+-------------+</pre>"
      ],
      "text/plain": [
       "+---------+--------------+-------------------+-----------------------+-------------+"
      ]
     },
     "metadata": {},
     "output_type": "display_data"
    },
    {
     "data": {
      "text/html": [
       "<pre>| 1       | 113.617ms    | 1.20549           | 1.09765               | 0.260417    |</pre>"
      ],
      "text/plain": [
       "| 1       | 113.617ms    | 1.20549           | 1.09765               | 0.260417    |"
      ]
     },
     "metadata": {},
     "output_type": "display_data"
    },
    {
     "data": {
      "text/html": [
       "<pre>| 2       | 222.172ms    | 0.670371          | 0.81836               | 0.260417    |</pre>"
      ],
      "text/plain": [
       "| 2       | 222.172ms    | 0.670371          | 0.81836               | 0.260417    |"
      ]
     },
     "metadata": {},
     "output_type": "display_data"
    },
    {
     "data": {
      "text/html": [
       "<pre>| 3       | 332.284ms    | 0.533745          | 0.730091              | 0.260417    |</pre>"
      ],
      "text/plain": [
       "| 3       | 332.284ms    | 0.533745          | 0.730091              | 0.260417    |"
      ]
     },
     "metadata": {},
     "output_type": "display_data"
    },
    {
     "data": {
      "text/html": [
       "<pre>| 4       | 441.334ms    | 0.461009          | 0.678413              | 0.260417    |</pre>"
      ],
      "text/plain": [
       "| 4       | 441.334ms    | 0.461009          | 0.678413              | 0.260417    |"
      ]
     },
     "metadata": {},
     "output_type": "display_data"
    },
    {
     "data": {
      "text/html": [
       "<pre>| 5       | 550.066ms    | 0.413651          | 0.64253               | 0.260417    |</pre>"
      ],
      "text/plain": [
       "| 5       | 550.066ms    | 0.413651          | 0.64253               | 0.260417    |"
      ]
     },
     "metadata": {},
     "output_type": "display_data"
    },
    {
     "data": {
      "text/html": [
       "<pre>| 10      | 1.09s        | 0.314915          | 0.560337              | 0.260417    |</pre>"
      ],
      "text/plain": [
       "| 10      | 1.09s        | 0.314915          | 0.560337              | 0.260417    |"
      ]
     },
     "metadata": {},
     "output_type": "display_data"
    },
    {
     "data": {
      "text/html": [
       "<pre>| 50      | 5.45s        | 0.223991          | 0.472021              | 0.260417    |</pre>"
      ],
      "text/plain": [
       "| 50      | 5.45s        | 0.223991          | 0.472021              | 0.260417    |"
      ]
     },
     "metadata": {},
     "output_type": "display_data"
    },
    {
     "data": {
      "text/html": [
       "<pre>+---------+--------------+-------------------+-----------------------+-------------+</pre>"
      ],
      "text/plain": [
       "+---------+--------------+-------------------+-----------------------+-------------+"
      ]
     },
     "metadata": {},
     "output_type": "display_data"
    },
    {
     "data": {
      "text/html": [
       "<pre>Optimization Complete: Maximum number of passes through the data reached.</pre>"
      ],
      "text/plain": [
       "Optimization Complete: Maximum number of passes through the data reached."
      ]
     },
     "metadata": {},
     "output_type": "display_data"
    },
    {
     "data": {
      "text/html": [
       "<pre>Computing final objective value and training RMSE.</pre>"
      ],
      "text/plain": [
       "Computing final objective value and training RMSE."
      ]
     },
     "metadata": {},
     "output_type": "display_data"
    },
    {
     "data": {
      "text/html": [
       "<pre>       Final objective value: 0.207434</pre>"
      ],
      "text/plain": [
       "       Final objective value: 0.207434"
      ]
     },
     "metadata": {},
     "output_type": "display_data"
    },
    {
     "data": {
      "text/html": [
       "<pre>       Final training RMSE: 0.454143</pre>"
      ],
      "text/plain": [
       "       Final training RMSE: 0.454143"
      ]
     },
     "metadata": {},
     "output_type": "display_data"
    },
    {
     "data": {
      "text/html": [
       "<pre>Preparing data set.</pre>"
      ],
      "text/plain": [
       "Preparing data set."
      ]
     },
     "metadata": {},
     "output_type": "display_data"
    },
    {
     "data": {
      "text/html": [
       "<pre>    Data has 597961 observations with 50881 users and 24534 items.</pre>"
      ],
      "text/plain": [
       "    Data has 597961 observations with 50881 users and 24534 items."
      ]
     },
     "metadata": {},
     "output_type": "display_data"
    },
    {
     "data": {
      "text/html": [
       "<pre>    Data prepared in: 0.358681s</pre>"
      ],
      "text/plain": [
       "    Data prepared in: 0.358681s"
      ]
     },
     "metadata": {},
     "output_type": "display_data"
    },
    {
     "data": {
      "text/html": [
       "<pre>Training ranking_factorization_recommender for recommendations.</pre>"
      ],
      "text/plain": [
       "Training ranking_factorization_recommender for recommendations."
      ]
     },
     "metadata": {},
     "output_type": "display_data"
    },
    {
     "data": {
      "text/html": [
       "<pre>+--------------------------------+--------------------------------------------------+----------+</pre>"
      ],
      "text/plain": [
       "+--------------------------------+--------------------------------------------------+----------+"
      ]
     },
     "metadata": {},
     "output_type": "display_data"
    },
    {
     "data": {
      "text/html": [
       "<pre>| Parameter                      | Description                                      | Value    |</pre>"
      ],
      "text/plain": [
       "| Parameter                      | Description                                      | Value    |"
      ]
     },
     "metadata": {},
     "output_type": "display_data"
    },
    {
     "data": {
      "text/html": [
       "<pre>+--------------------------------+--------------------------------------------------+----------+</pre>"
      ],
      "text/plain": [
       "+--------------------------------+--------------------------------------------------+----------+"
      ]
     },
     "metadata": {},
     "output_type": "display_data"
    },
    {
     "data": {
      "text/html": [
       "<pre>| num_factors                    | Factor Dimension                                 | 32       |</pre>"
      ],
      "text/plain": [
       "| num_factors                    | Factor Dimension                                 | 32       |"
      ]
     },
     "metadata": {},
     "output_type": "display_data"
    },
    {
     "data": {
      "text/html": [
       "<pre>| regularization                 | L2 Regularization on Factors                     | 1e-09    |</pre>"
      ],
      "text/plain": [
       "| regularization                 | L2 Regularization on Factors                     | 1e-09    |"
      ]
     },
     "metadata": {},
     "output_type": "display_data"
    },
    {
     "data": {
      "text/html": [
       "<pre>| solver                         | Solver used for training                         | adagrad  |</pre>"
      ],
      "text/plain": [
       "| solver                         | Solver used for training                         | adagrad  |"
      ]
     },
     "metadata": {},
     "output_type": "display_data"
    },
    {
     "data": {
      "text/html": [
       "<pre>| linear_regularization          | L2 Regularization on Linear Coefficients         | 1e-09    |</pre>"
      ],
      "text/plain": [
       "| linear_regularization          | L2 Regularization on Linear Coefficients         | 1e-09    |"
      ]
     },
     "metadata": {},
     "output_type": "display_data"
    },
    {
     "data": {
      "text/html": [
       "<pre>| ranking_regularization         | Rank-based Regularization Weight                 | 0.25     |</pre>"
      ],
      "text/plain": [
       "| ranking_regularization         | Rank-based Regularization Weight                 | 0.25     |"
      ]
     },
     "metadata": {},
     "output_type": "display_data"
    },
    {
     "data": {
      "text/html": [
       "<pre>| max_iterations                 | Maximum Number of Iterations                     | 25       |</pre>"
      ],
      "text/plain": [
       "| max_iterations                 | Maximum Number of Iterations                     | 25       |"
      ]
     },
     "metadata": {},
     "output_type": "display_data"
    },
    {
     "data": {
      "text/html": [
       "<pre>+--------------------------------+--------------------------------------------------+----------+</pre>"
      ],
      "text/plain": [
       "+--------------------------------+--------------------------------------------------+----------+"
      ]
     },
     "metadata": {},
     "output_type": "display_data"
    },
    {
     "data": {
      "text/html": [
       "<pre>  Optimizing model using SGD; tuning step size.</pre>"
      ],
      "text/plain": [
       "  Optimizing model using SGD; tuning step size."
      ]
     },
     "metadata": {},
     "output_type": "display_data"
    },
    {
     "data": {
      "text/html": [
       "<pre>  Using 74745 / 597961 points for tuning the step size.</pre>"
      ],
      "text/plain": [
       "  Using 74745 / 597961 points for tuning the step size."
      ]
     },
     "metadata": {},
     "output_type": "display_data"
    },
    {
     "data": {
      "text/html": [
       "<pre>+---------+-------------------+------------------------------------------+</pre>"
      ],
      "text/plain": [
       "+---------+-------------------+------------------------------------------+"
      ]
     },
     "metadata": {},
     "output_type": "display_data"
    },
    {
     "data": {
      "text/html": [
       "<pre>| Attempt | Initial Step Size | Estimated Objective Value                |</pre>"
      ],
      "text/plain": [
       "| Attempt | Initial Step Size | Estimated Objective Value                |"
      ]
     },
     "metadata": {},
     "output_type": "display_data"
    },
    {
     "data": {
      "text/html": [
       "<pre>+---------+-------------------+------------------------------------------+</pre>"
      ],
      "text/plain": [
       "+---------+-------------------+------------------------------------------+"
      ]
     },
     "metadata": {},
     "output_type": "display_data"
    },
    {
     "data": {
      "text/html": [
       "<pre>| 0       | 4.16667           | Not Viable                               |</pre>"
      ],
      "text/plain": [
       "| 0       | 4.16667           | Not Viable                               |"
      ]
     },
     "metadata": {},
     "output_type": "display_data"
    },
    {
     "data": {
      "text/html": [
       "<pre>| 1       | 1.04167           | Not Viable                               |</pre>"
      ],
      "text/plain": [
       "| 1       | 1.04167           | Not Viable                               |"
      ]
     },
     "metadata": {},
     "output_type": "display_data"
    },
    {
     "data": {
      "text/html": [
       "<pre>| 2       | 0.260417          | 0.509022                                 |</pre>"
      ],
      "text/plain": [
       "| 2       | 0.260417          | 0.509022                                 |"
      ]
     },
     "metadata": {},
     "output_type": "display_data"
    },
    {
     "data": {
      "text/html": [
       "<pre>| 3       | 0.130208          | 0.330801                                 |</pre>"
      ],
      "text/plain": [
       "| 3       | 0.130208          | 0.330801                                 |"
      ]
     },
     "metadata": {},
     "output_type": "display_data"
    },
    {
     "data": {
      "text/html": [
       "<pre>| 4       | 0.0651042         | 0.405991                                 |</pre>"
      ],
      "text/plain": [
       "| 4       | 0.0651042         | 0.405991                                 |"
      ]
     },
     "metadata": {},
     "output_type": "display_data"
    },
    {
     "data": {
      "text/html": [
       "<pre>| 5       | 0.0325521         | 0.678733                                 |</pre>"
      ],
      "text/plain": [
       "| 5       | 0.0325521         | 0.678733                                 |"
      ]
     },
     "metadata": {},
     "output_type": "display_data"
    },
    {
     "data": {
      "text/html": [
       "<pre>+---------+-------------------+------------------------------------------+</pre>"
      ],
      "text/plain": [
       "+---------+-------------------+------------------------------------------+"
      ]
     },
     "metadata": {},
     "output_type": "display_data"
    },
    {
     "data": {
      "text/html": [
       "<pre>| Final   | 0.130208          | 0.330801                                 |</pre>"
      ],
      "text/plain": [
       "| Final   | 0.130208          | 0.330801                                 |"
      ]
     },
     "metadata": {},
     "output_type": "display_data"
    },
    {
     "data": {
      "text/html": [
       "<pre>+---------+-------------------+------------------------------------------+</pre>"
      ],
      "text/plain": [
       "+---------+-------------------+------------------------------------------+"
      ]
     },
     "metadata": {},
     "output_type": "display_data"
    },
    {
     "data": {
      "text/html": [
       "<pre>Starting Optimization.</pre>"
      ],
      "text/plain": [
       "Starting Optimization."
      ]
     },
     "metadata": {},
     "output_type": "display_data"
    },
    {
     "data": {
      "text/html": [
       "<pre>+---------+--------------+-------------------+-----------------------+-------------+</pre>"
      ],
      "text/plain": [
       "+---------+--------------+-------------------+-----------------------+-------------+"
      ]
     },
     "metadata": {},
     "output_type": "display_data"
    },
    {
     "data": {
      "text/html": [
       "<pre>| Iter.   | Elapsed Time | Approx. Objective | Approx. Training RMSE | Step Size   |</pre>"
      ],
      "text/plain": [
       "| Iter.   | Elapsed Time | Approx. Objective | Approx. Training RMSE | Step Size   |"
      ]
     },
     "metadata": {},
     "output_type": "display_data"
    },
    {
     "data": {
      "text/html": [
       "<pre>+---------+--------------+-------------------+-----------------------+-------------+</pre>"
      ],
      "text/plain": [
       "+---------+--------------+-------------------+-----------------------+-------------+"
      ]
     },
     "metadata": {},
     "output_type": "display_data"
    },
    {
     "data": {
      "text/html": [
       "<pre>| Initial | 66us         | 2.77821           | 1.19034               |             |</pre>"
      ],
      "text/plain": [
       "| Initial | 66us         | 2.77821           | 1.19034               |             |"
      ]
     },
     "metadata": {},
     "output_type": "display_data"
    },
    {
     "data": {
      "text/html": [
       "<pre>+---------+--------------+-------------------+-----------------------+-------------+</pre>"
      ],
      "text/plain": [
       "+---------+--------------+-------------------+-----------------------+-------------+"
      ]
     },
     "metadata": {},
     "output_type": "display_data"
    },
    {
     "data": {
      "text/html": [
       "<pre>| 1       | 464.936ms    | 2.7638            | 1.3533                | 0.130208    |</pre>"
      ],
      "text/plain": [
       "| 1       | 464.936ms    | 2.7638            | 1.3533                | 0.130208    |"
      ]
     },
     "metadata": {},
     "output_type": "display_data"
    },
    {
     "data": {
      "text/html": [
       "<pre>| 2       | 887.92ms     | 1.23766           | 0.913099              | 0.130208    |</pre>"
      ],
      "text/plain": [
       "| 2       | 887.92ms     | 1.23766           | 0.913099              | 0.130208    |"
      ]
     },
     "metadata": {},
     "output_type": "display_data"
    },
    {
     "data": {
      "text/html": [
       "<pre>| 3       | 1.27s        | 0.809615          | 0.76514               | 0.130208    |</pre>"
      ],
      "text/plain": [
       "| 3       | 1.27s        | 0.809615          | 0.76514               | 0.130208    |"
      ]
     },
     "metadata": {},
     "output_type": "display_data"
    },
    {
     "data": {
      "text/html": [
       "<pre>| 4       | 1.65s        | 0.60504           | 0.681185              | 0.130208    |</pre>"
      ],
      "text/plain": [
       "| 4       | 1.65s        | 0.60504           | 0.681185              | 0.130208    |"
      ]
     },
     "metadata": {},
     "output_type": "display_data"
    },
    {
     "data": {
      "text/html": [
       "<pre>| 5       | 2.01s        | 0.489515          | 0.624334              | 0.130208    |</pre>"
      ],
      "text/plain": [
       "| 5       | 2.01s        | 0.489515          | 0.624334              | 0.130208    |"
      ]
     },
     "metadata": {},
     "output_type": "display_data"
    },
    {
     "data": {
      "text/html": [
       "<pre>| 10      | 3.71s        | 0.283505          | 0.492181              | 0.130208    |</pre>"
      ],
      "text/plain": [
       "| 10      | 3.71s        | 0.283505          | 0.492181              | 0.130208    |"
      ]
     },
     "metadata": {},
     "output_type": "display_data"
    },
    {
     "data": {
      "text/html": [
       "<pre>| 20      | 6.93s        | 0.177238          | 0.393474              | 0.130208    |</pre>"
      ],
      "text/plain": [
       "| 20      | 6.93s        | 0.177238          | 0.393474              | 0.130208    |"
      ]
     },
     "metadata": {},
     "output_type": "display_data"
    },
    {
     "data": {
      "text/html": [
       "<pre>| 25      | 8.51s        | 0.15352           | 0.366002              | 0.130208    |</pre>"
      ],
      "text/plain": [
       "| 25      | 8.51s        | 0.15352           | 0.366002              | 0.130208    |"
      ]
     },
     "metadata": {},
     "output_type": "display_data"
    },
    {
     "data": {
      "text/html": [
       "<pre>+---------+--------------+-------------------+-----------------------+-------------+</pre>"
      ],
      "text/plain": [
       "+---------+--------------+-------------------+-----------------------+-------------+"
      ]
     },
     "metadata": {},
     "output_type": "display_data"
    },
    {
     "data": {
      "text/html": [
       "<pre>Optimization Complete: Maximum number of passes through the data reached.</pre>"
      ],
      "text/plain": [
       "Optimization Complete: Maximum number of passes through the data reached."
      ]
     },
     "metadata": {},
     "output_type": "display_data"
    },
    {
     "data": {
      "text/html": [
       "<pre>Computing final objective value and training RMSE.</pre>"
      ],
      "text/plain": [
       "Computing final objective value and training RMSE."
      ]
     },
     "metadata": {},
     "output_type": "display_data"
    },
    {
     "data": {
      "text/html": [
       "<pre>       Final objective value: 0.134109</pre>"
      ],
      "text/plain": [
       "       Final objective value: 0.134109"
      ]
     },
     "metadata": {},
     "output_type": "display_data"
    },
    {
     "data": {
      "text/html": [
       "<pre>       Final training RMSE: 0.338663</pre>"
      ],
      "text/plain": [
       "       Final training RMSE: 0.338663"
      ]
     },
     "metadata": {},
     "output_type": "display_data"
    }
   ],
   "source": [
    "model_0 = tc.recommender.create(training_data, 'user_id', 'group_id', target = 'log_visits')\n",
    "model_1 = tc.item_similarity_recommender.create(training_data, 'user_id', 'group_id', target = 'log_visits')\n",
    "model_2 = tc.popularity_recommender.create(training_data, 'user_id', 'group_id', target = 'log_visits')\n",
    "model_3 = tc.factorization_recommender.create(training_data, 'user_id', 'group_id', target = 'log_visits')\n",
    "model_4 = tc.ranking_factorization_recommender.create(training_data, 'user_id', 'group_id', target = 'log_visits')"
   ]
  },
  {
   "cell_type": "code",
   "execution_count": 12,
   "id": "e11a3a20",
   "metadata": {},
   "outputs": [
    {
     "name": "stdout",
     "output_type": "stream",
     "text": [
      "PROGRESS: Evaluate model Default model\n",
      "\n",
      "Precision and recall summary statistics by cutoff\n",
      "+--------+-----------------------+-----------------------+\n",
      "| cutoff |     mean_precision    |      mean_recall      |\n",
      "+--------+-----------------------+-----------------------+\n",
      "|   1    | 0.0013888888888888892 | 0.0001984126984126984 |\n",
      "|   2    | 0.0013888888888888892 | 0.0015873015873015875 |\n",
      "|   3    | 0.0013888888888888872 | 0.0019345238095238094 |\n",
      "|   4    |  0.001388888888888889 | 0.0022123015873015887 |\n",
      "|   5    |  0.001388888888888889 |  0.002247914122914122 |\n",
      "|   6    | 0.0011574074074074073 | 0.0022479141229141235 |\n",
      "|   7    |  0.000992063492063492 |  0.002247914122914123 |\n",
      "|   8    | 0.0010416666666666675 | 0.0036368030118030105 |\n",
      "|   9    | 0.0009259259259259261 | 0.0036368030118030118 |\n",
      "|   10   |  0.000972222222222222 | 0.0037029405779405783 |\n",
      "+--------+-----------------------+-----------------------+\n",
      "[10 rows x 3 columns]\n",
      "\n",
      "\n",
      "Overall RMSE: 1.2420882328252758\n",
      "\n",
      "Per User RMSE (best)\n",
      "+-----------+----------------------+-------+\n",
      "|  user_id  |         rmse         | count |\n",
      "+-----------+----------------------+-------+\n",
      "| 101395686 | 0.016135311156889376 |   1   |\n",
      "+-----------+----------------------+-------+\n",
      "[1 rows x 3 columns]\n",
      "\n",
      "\n",
      "Per User RMSE (worst)\n",
      "+-----------+-------------------+-------+\n",
      "|  user_id  |        rmse       | count |\n",
      "+-----------+-------------------+-------+\n",
      "| 101431507 | 4.707350026380475 |   1   |\n",
      "+-----------+-------------------+-------+\n",
      "[1 rows x 3 columns]\n",
      "\n",
      "\n",
      "Per Item RMSE (best)\n",
      "+-----------+------------------------+-------+\n",
      "|  group_id |          rmse          | count |\n",
      "+-----------+------------------------+-------+\n",
      "| 801353802 | 0.00010008520562365675 |   1   |\n",
      "+-----------+------------------------+-------+\n",
      "[1 rows x 3 columns]\n",
      "\n",
      "\n",
      "Per Item RMSE (worst)\n",
      "+-----------+-------------------+-------+\n",
      "|  group_id |        rmse       | count |\n",
      "+-----------+-------------------+-------+\n",
      "| 801359025 | 5.567052290184766 |   1   |\n",
      "+-----------+-------------------+-------+\n",
      "[1 rows x 3 columns]\n",
      "\n",
      "PROGRESS: Evaluate model Item similarity model\n",
      "\n",
      "Precision and recall summary statistics by cutoff\n",
      "+--------+---------------------+---------------------+\n",
      "| cutoff |    mean_precision   |     mean_recall     |\n",
      "+--------+---------------------+---------------------+\n",
      "|   1    | 0.44305555555555554 |  0.230958477627602  |\n",
      "|   2    |  0.3333333333333333 |  0.3005482802735904 |\n",
      "|   3    |  0.264351851851852  |  0.339425090279503  |\n",
      "|   4    |  0.2232638888888889 |  0.3735646479278323 |\n",
      "|   5    | 0.19249999999999987 |  0.3934205956675519 |\n",
      "|   6    | 0.17337962962962955 |  0.4161157964816252 |\n",
      "|   7    | 0.15634920634920652 | 0.43294749680290884 |\n",
      "|   8    | 0.14288194444444435 | 0.44780282213377787 |\n",
      "|   9    | 0.13317901234567892 | 0.46485739300962037 |\n",
      "|   10   | 0.12402777777777775 |  0.4744195811303052 |\n",
      "+--------+---------------------+---------------------+\n",
      "[10 rows x 3 columns]\n",
      "\n",
      "\n",
      "Overall RMSE: 1.938713365677889\n",
      "\n",
      "Per User RMSE (best)\n",
      "+-----------+------+-------+\n",
      "|  user_id  | rmse | count |\n",
      "+-----------+------+-------+\n",
      "| 101447648 | 0.0  |   1   |\n",
      "+-----------+------+-------+\n",
      "[1 rows x 3 columns]\n",
      "\n",
      "\n",
      "Per User RMSE (worst)\n",
      "+-----------+-------------------+-------+\n",
      "|  user_id  |        rmse       | count |\n",
      "+-----------+-------------------+-------+\n",
      "| 101428315 | 4.435817524082822 |   1   |\n",
      "+-----------+-------------------+-------+\n",
      "[1 rows x 3 columns]\n",
      "\n",
      "\n",
      "Per Item RMSE (best)\n",
      "+-----------+------+-------+\n",
      "|  group_id | rmse | count |\n",
      "+-----------+------+-------+\n",
      "| 801351930 | 0.0  |   1   |\n",
      "+-----------+------+-------+\n",
      "[1 rows x 3 columns]\n",
      "\n",
      "\n",
      "Per Item RMSE (worst)\n",
      "+-----------+-------------------+-------+\n",
      "|  group_id |        rmse       | count |\n",
      "+-----------+-------------------+-------+\n",
      "| 801350218 | 4.435817524082822 |   1   |\n",
      "+-----------+-------------------+-------+\n",
      "[1 rows x 3 columns]\n",
      "\n",
      "PROGRESS: Evaluate model Popularity recommender\n",
      "\n",
      "Precision and recall summary statistics by cutoff\n",
      "+--------+----------------+-------------+\n",
      "| cutoff | mean_precision | mean_recall |\n",
      "+--------+----------------+-------------+\n",
      "|   1    |      0.0       |     0.0     |\n",
      "|   2    |      0.0       |     0.0     |\n",
      "|   3    |      0.0       |     0.0     |\n",
      "|   4    |      0.0       |     0.0     |\n",
      "|   5    |      0.0       |     0.0     |\n",
      "|   6    |      0.0       |     0.0     |\n",
      "|   7    |      0.0       |     0.0     |\n",
      "|   8    |      0.0       |     0.0     |\n",
      "|   9    |      0.0       |     0.0     |\n",
      "|   10   |      0.0       |     0.0     |\n",
      "+--------+----------------+-------------+\n",
      "[10 rows x 3 columns]\n",
      "\n",
      "\n",
      "Overall RMSE: 0.9897593711404457\n",
      "\n",
      "Per User RMSE (best)\n",
      "+-----------+------+-------+\n",
      "|  user_id  | rmse | count |\n",
      "+-----------+------+-------+\n",
      "| 101424441 | 0.0  |   1   |\n",
      "+-----------+------+-------+\n",
      "[1 rows x 3 columns]\n",
      "\n",
      "\n",
      "Per User RMSE (worst)\n",
      "+-----------+--------------------+-------+\n",
      "|  user_id  |        rmse        | count |\n",
      "+-----------+--------------------+-------+\n",
      "| 101416029 | 3.1524234970956697 |   1   |\n",
      "+-----------+--------------------+-------+\n",
      "[1 rows x 3 columns]\n",
      "\n",
      "\n",
      "Per Item RMSE (best)\n",
      "+-----------+------+-------+\n",
      "|  group_id | rmse | count |\n",
      "+-----------+------+-------+\n",
      "| 801356116 | 0.0  |   1   |\n",
      "+-----------+------+-------+\n",
      "[1 rows x 3 columns]\n",
      "\n",
      "\n",
      "Per Item RMSE (worst)\n",
      "+-----------+--------------------+-------+\n",
      "|  group_id |        rmse        | count |\n",
      "+-----------+--------------------+-------+\n",
      "| 801353059 | 3.2808209502327847 |   1   |\n",
      "+-----------+--------------------+-------+\n",
      "[1 rows x 3 columns]\n",
      "\n",
      "PROGRESS: Evaluate model Factorization recommender\n",
      "\n",
      "Precision and recall summary statistics by cutoff\n",
      "+--------+-----------------------+-----------------------+\n",
      "| cutoff |     mean_precision    |      mean_recall      |\n",
      "+--------+-----------------------+-----------------------+\n",
      "|   1    |          0.0          |          0.0          |\n",
      "|   2    |          0.0          |          0.0          |\n",
      "|   3    | 0.0009259259259259259 | 0.0003720238095238096 |\n",
      "|   4    | 0.0006944444444444445 | 0.0003720238095238096 |\n",
      "|   5    |  0.000555555555555556 | 0.0003720238095238096 |\n",
      "|   6    | 0.0006944444444444446 | 0.0007192460317460314 |\n",
      "|   7    | 0.0005952380952380953 | 0.0007192460317460318 |\n",
      "|   8    | 0.0006944444444444445 |  0.002108134920634922 |\n",
      "|   9    | 0.0006172839506172839 |  0.002108134920634921 |\n",
      "|   10   | 0.0005555555555555551 |  0.00210813492063492  |\n",
      "+--------+-----------------------+-----------------------+\n",
      "[10 rows x 3 columns]\n",
      "\n",
      "\n",
      "Overall RMSE: 1.2046976266495177\n",
      "\n",
      "Per User RMSE (best)\n",
      "+-----------+----------------------+-------+\n",
      "|  user_id  |         rmse         | count |\n",
      "+-----------+----------------------+-------+\n",
      "| 101348256 | 0.004977301288202618 |   1   |\n",
      "+-----------+----------------------+-------+\n",
      "[1 rows x 3 columns]\n",
      "\n",
      "\n",
      "Per User RMSE (worst)\n",
      "+-----------+-------------------+-------+\n",
      "|  user_id  |        rmse       | count |\n",
      "+-----------+-------------------+-------+\n",
      "| 101403917 | 4.128618102055819 |   1   |\n",
      "+-----------+-------------------+-------+\n",
      "[1 rows x 3 columns]\n",
      "\n",
      "\n",
      "Per Item RMSE (best)\n",
      "+-----------+-----------------------+-------+\n",
      "|  group_id |          rmse         | count |\n",
      "+-----------+-----------------------+-------+\n",
      "| 801369373 | 0.0016125574964513945 |   1   |\n",
      "+-----------+-----------------------+-------+\n",
      "[1 rows x 3 columns]\n",
      "\n",
      "\n",
      "Per Item RMSE (worst)\n",
      "+-----------+-------------------+-------+\n",
      "|  group_id |        rmse       | count |\n",
      "+-----------+-------------------+-------+\n",
      "| 801349504 | 5.041226809937749 |   1   |\n",
      "+-----------+-------------------+-------+\n",
      "[1 rows x 3 columns]\n",
      "\n",
      "PROGRESS: Evaluate model Ranking factorization recommender\n",
      "\n",
      "Precision and recall summary statistics by cutoff\n",
      "+--------+-----------------------+------------------------+\n",
      "| cutoff |     mean_precision    |      mean_recall       |\n",
      "+--------+-----------------------+------------------------+\n",
      "|   1    | 0.0013888888888888892 | 0.00017361111111111114 |\n",
      "|   2    | 0.0013888888888888892 |       0.0015625        |\n",
      "|   3    |  0.001388888888888889 |  0.001840277777777778  |\n",
      "|   4    |  0.001736111111111111 | 0.0021682098765432095  |\n",
      "|   5    | 0.0019444444444444446 | 0.0031404320987654328  |\n",
      "|   6    | 0.0016203703703703699 |  0.003140432098765433  |\n",
      "|   7    | 0.0015873015873015875 | 0.0033388447971781318  |\n",
      "|   8    | 0.0015625000000000005 | 0.0038018077601410937  |\n",
      "|   9    | 0.0016975308641975313 |  0.00399174128340795   |\n",
      "|   10   | 0.0016666666666666666 |  0.004338963505630172  |\n",
      "+--------+-----------------------+------------------------+\n",
      "[10 rows x 3 columns]\n",
      "\n",
      "\n",
      "Overall RMSE: 1.1903477256723674\n",
      "\n",
      "Per User RMSE (best)\n",
      "+-----------+----------------------+-------+\n",
      "|  user_id  |         rmse         | count |\n",
      "+-----------+----------------------+-------+\n",
      "| 101362655 | 0.003665200747017039 |   1   |\n",
      "+-----------+----------------------+-------+\n",
      "[1 rows x 3 columns]\n",
      "\n",
      "\n",
      "Per User RMSE (worst)\n",
      "+-----------+-------------------+-------+\n",
      "|  user_id  |        rmse       | count |\n",
      "+-----------+-------------------+-------+\n",
      "| 101431507 | 4.141684096821699 |   1   |\n",
      "+-----------+-------------------+-------+\n",
      "[1 rows x 3 columns]\n",
      "\n",
      "\n",
      "Per Item RMSE (best)\n",
      "+-----------+----------------------+-------+\n",
      "|  group_id |         rmse         | count |\n",
      "+-----------+----------------------+-------+\n",
      "| 801359121 | 0.000674506284043197 |   1   |\n",
      "+-----------+----------------------+-------+\n",
      "[1 rows x 3 columns]\n",
      "\n",
      "\n",
      "Per Item RMSE (worst)\n",
      "+-----------+--------------------+-------+\n",
      "|  group_id |        rmse        | count |\n",
      "+-----------+--------------------+-------+\n",
      "| 801372745 | 4.7248152074729735 |   1   |\n",
      "+-----------+--------------------+-------+\n",
      "[1 rows x 3 columns]\n",
      "\n",
      "[{'precision_recall_by_user': Columns:\n",
      "\tuser_id\tint\n",
      "\tcutoff\tint\n",
      "\tprecision\tfloat\n",
      "\trecall\tfloat\n",
      "\tcount\tint\n",
      "\n",
      "Rows: 12960\n",
      "\n",
      "Data:\n",
      "+-----------+--------+-----------+--------+-------+\n",
      "|  user_id  | cutoff | precision | recall | count |\n",
      "+-----------+--------+-----------+--------+-------+\n",
      "| 101392971 |   1    |    0.0    |  0.0   |   9   |\n",
      "| 101392971 |   2    |    0.0    |  0.0   |   9   |\n",
      "| 101392971 |   3    |    0.0    |  0.0   |   9   |\n",
      "| 101392971 |   4    |    0.0    |  0.0   |   9   |\n",
      "| 101392971 |   5    |    0.0    |  0.0   |   9   |\n",
      "| 101392971 |   6    |    0.0    |  0.0   |   9   |\n",
      "| 101392971 |   7    |    0.0    |  0.0   |   9   |\n",
      "| 101392971 |   8    |    0.0    |  0.0   |   9   |\n",
      "| 101392971 |   9    |    0.0    |  0.0   |   9   |\n",
      "| 101392971 |   10   |    0.0    |  0.0   |   9   |\n",
      "+-----------+--------+-----------+--------+-------+\n",
      "[12960 rows x 5 columns]\n",
      "Note: Only the head of the SFrame is printed.\n",
      "You can use print_rows(num_rows=m, num_columns=n) to print more rows and columns., 'precision_recall_overall': Columns:\n",
      "\tcutoff\tint\n",
      "\tprecision\tfloat\n",
      "\trecall\tfloat\n",
      "\n",
      "Rows: 18\n",
      "\n",
      "Data:\n",
      "+--------+-----------------------+-----------------------+\n",
      "| cutoff |       precision       |         recall        |\n",
      "+--------+-----------------------+-----------------------+\n",
      "|   1    | 0.0013888888888888892 | 0.0001984126984126984 |\n",
      "|   2    | 0.0013888888888888892 | 0.0015873015873015875 |\n",
      "|   3    |  0.001388888888888889 | 0.0019345238095238094 |\n",
      "|   4    | 0.0013888888888888885 |  0.002212301587301588 |\n",
      "|   5    |  0.001388888888888889 |  0.002247914122914122 |\n",
      "|   6    | 0.0011574074074074076 | 0.0022479141229141235 |\n",
      "|   7    |  0.000992063492063492 | 0.0022479141229141235 |\n",
      "|   8    | 0.0010416666666666662 | 0.0036368030118030126 |\n",
      "|   9    | 0.0009259259259259259 | 0.0036368030118030126 |\n",
      "|   10   | 0.0009722222222222222 |  0.003702940577940579 |\n",
      "+--------+-----------------------+-----------------------+\n",
      "[18 rows x 3 columns]\n",
      "Note: Only the head of the SFrame is printed.\n",
      "You can use print_rows(num_rows=m, num_columns=n) to print more rows and columns., 'rmse_by_user': Columns:\n",
      "\tuser_id\tint\n",
      "\trmse\tfloat\n",
      "\tcount\tint\n",
      "\n",
      "Rows: 720\n",
      "\n",
      "Data:\n",
      "+-----------+---------------------+-------+\n",
      "|  user_id  |         rmse        | count |\n",
      "+-----------+---------------------+-------+\n",
      "| 101369230 |  1.5622930729104394 |   3   |\n",
      "| 101441796 |  0.5529908416057957 |   2   |\n",
      "| 101378194 |  0.5088113045721219 |   1   |\n",
      "| 101403230 |  0.2418426489321283 |   2   |\n",
      "| 101442395 |  2.1809045030540806 |   1   |\n",
      "| 101348269 |  0.6923867013435833 |   3   |\n",
      "| 101408521 |  0.9430885966273198 |   3   |\n",
      "| 101372141 |  1.2890478303428439 |   4   |\n",
      "| 101372653 |  1.1342482097529407 |   8   |\n",
      "| 101405026 | 0.06566059410226144 |   1   |\n",
      "+-----------+---------------------+-------+\n",
      "[720 rows x 3 columns]\n",
      "Note: Only the head of the SFrame is printed.\n",
      "You can use print_rows(num_rows=m, num_columns=n) to print more rows and columns., 'rmse_by_item': Columns:\n",
      "\tgroup_id\tint\n",
      "\trmse\tfloat\n",
      "\tcount\tint\n",
      "\n",
      "Rows: 2113\n",
      "\n",
      "Data:\n",
      "+-----------+----------------------+-------+\n",
      "|  group_id |         rmse         | count |\n",
      "+-----------+----------------------+-------+\n",
      "| 801350512 |  0.9031992611680009  |   1   |\n",
      "| 801351145 |  1.0119570175572457  |   1   |\n",
      "| 801355390 |  0.9563866427385476  |   1   |\n",
      "| 801371304 |  0.8652974365101029  |   1   |\n",
      "| 801349162 | 0.03958319517997477  |   1   |\n",
      "| 801354921 | 0.016135311156889376 |   1   |\n",
      "| 801347380 | 0.36679563321919595  |   1   |\n",
      "| 801366704 |  0.9400381926621213  |   1   |\n",
      "| 801365622 |  0.8972020254176419  |   1   |\n",
      "| 801346867 |  1.6804063780387712  |   1   |\n",
      "+-----------+----------------------+-------+\n",
      "[2113 rows x 3 columns]\n",
      "Note: Only the head of the SFrame is printed.\n",
      "You can use print_rows(num_rows=m, num_columns=n) to print more rows and columns., 'rmse_overall': 1.2420882328252758}, {'precision_recall_by_user': Columns:\n",
      "\tuser_id\tint\n",
      "\tcutoff\tint\n",
      "\tprecision\tfloat\n",
      "\trecall\tfloat\n",
      "\tcount\tint\n",
      "\n",
      "Rows: 12960\n",
      "\n",
      "Data:\n",
      "+-----------+--------+---------------------+--------------------+-------+\n",
      "|  user_id  | cutoff |      precision      |       recall       | count |\n",
      "+-----------+--------+---------------------+--------------------+-------+\n",
      "| 101392971 |   1    |         1.0         | 0.1111111111111111 |   9   |\n",
      "| 101392971 |   2    |         1.0         | 0.2222222222222222 |   9   |\n",
      "| 101392971 |   3    |  0.6666666666666666 | 0.2222222222222222 |   9   |\n",
      "| 101392971 |   4    |         0.5         | 0.2222222222222222 |   9   |\n",
      "| 101392971 |   5    |         0.4         | 0.2222222222222222 |   9   |\n",
      "| 101392971 |   6    |         0.5         | 0.3333333333333333 |   9   |\n",
      "| 101392971 |   7    | 0.42857142857142855 | 0.3333333333333333 |   9   |\n",
      "| 101392971 |   8    |        0.375        | 0.3333333333333333 |   9   |\n",
      "| 101392971 |   9    |  0.3333333333333333 | 0.3333333333333333 |   9   |\n",
      "| 101392971 |   10   |         0.3         | 0.3333333333333333 |   9   |\n",
      "+-----------+--------+---------------------+--------------------+-------+\n",
      "[12960 rows x 5 columns]\n",
      "Note: Only the head of the SFrame is printed.\n",
      "You can use print_rows(num_rows=m, num_columns=n) to print more rows and columns., 'precision_recall_overall': Columns:\n",
      "\tcutoff\tint\n",
      "\tprecision\tfloat\n",
      "\trecall\tfloat\n",
      "\n",
      "Rows: 18\n",
      "\n",
      "Data:\n",
      "+--------+---------------------+---------------------+\n",
      "| cutoff |      precision      |        recall       |\n",
      "+--------+---------------------+---------------------+\n",
      "|   1    | 0.44305555555555554 |  0.2309584776276019 |\n",
      "|   2    |  0.3333333333333334 |  0.3005482802735904 |\n",
      "|   3    |  0.264351851851852  |  0.3394250902795028 |\n",
      "|   4    |  0.2232638888888889 |  0.3735646479278323 |\n",
      "|   5    | 0.19250000000000014 | 0.39342059566755183 |\n",
      "|   6    |  0.1733796296296297 | 0.41611579648162544 |\n",
      "|   7    |  0.1563492063492065 |  0.432947496802909  |\n",
      "|   8    | 0.14288194444444444 | 0.44780282213377764 |\n",
      "|   9    | 0.13317901234567905 | 0.46485739300962053 |\n",
      "|   10   | 0.12402777777777779 | 0.47441958113030486 |\n",
      "+--------+---------------------+---------------------+\n",
      "[18 rows x 3 columns]\n",
      "Note: Only the head of the SFrame is printed.\n",
      "You can use print_rows(num_rows=m, num_columns=n) to print more rows and columns., 'rmse_by_user': Columns:\n",
      "\tuser_id\tint\n",
      "\trmse\tfloat\n",
      "\tcount\tint\n",
      "\n",
      "Rows: 720\n",
      "\n",
      "Data:\n",
      "+-----------+--------------------+-------+\n",
      "|  user_id  |        rmse        | count |\n",
      "+-----------+--------------------+-------+\n",
      "| 101369230 | 1.9641758136425869 |   3   |\n",
      "| 101441796 | 0.4686316063590031 |   2   |\n",
      "| 101378194 | 2.1970477579161245 |   1   |\n",
      "| 101403230 | 0.9423774253057061 |   2   |\n",
      "| 101442395 | 2.675318613488284  |   1   |\n",
      "| 101348269 | 1.792289844391994  |   3   |\n",
      "| 101408521 | 1.3727298852846168 |   3   |\n",
      "| 101372141 |  0.79791850237359  |   4   |\n",
      "| 101372653 | 2.337491568080815  |   8   |\n",
      "| 101405026 | 1.6094379124341005 |   1   |\n",
      "+-----------+--------------------+-------+\n",
      "[720 rows x 3 columns]\n",
      "Note: Only the head of the SFrame is printed.\n",
      "You can use print_rows(num_rows=m, num_columns=n) to print more rows and columns., 'rmse_by_item': Columns:\n",
      "\tgroup_id\tint\n",
      "\trmse\tfloat\n",
      "\tcount\tint\n",
      "\n",
      "Rows: 2113\n",
      "\n",
      "Data:\n",
      "+-----------+----------------------+-------+\n",
      "|  group_id |         rmse         | count |\n",
      "+-----------+----------------------+-------+\n",
      "| 801350512 |  1.476104572146892   |   1   |\n",
      "| 801351145 |  3.0896621911907585  |   1   |\n",
      "| 801355390 |  0.6723686766067511  |   1   |\n",
      "| 801371304 |  1.0211712122304775  |   1   |\n",
      "| 801349162 | 0.009485818445682526 |   1   |\n",
      "| 801354921 |  3.828641396489095   |   1   |\n",
      "| 801347380 |  3.398625684603489   |   1   |\n",
      "| 801366704 | 0.00718703783220715  |   1   |\n",
      "| 801365622 |  0.6690611422883592  |   1   |\n",
      "| 801346867 |  1.097777857330836   |   1   |\n",
      "+-----------+----------------------+-------+\n",
      "[2113 rows x 3 columns]\n",
      "Note: Only the head of the SFrame is printed.\n",
      "You can use print_rows(num_rows=m, num_columns=n) to print more rows and columns., 'rmse_overall': 1.938713365677889}, {'precision_recall_by_user': Columns:\n",
      "\tuser_id\tint\n",
      "\tcutoff\tint\n",
      "\tprecision\tfloat\n",
      "\trecall\tfloat\n",
      "\tcount\tint\n",
      "\n",
      "Rows: 12960\n",
      "\n",
      "Data:\n",
      "+-----------+--------+-----------+--------+-------+\n",
      "|  user_id  | cutoff | precision | recall | count |\n",
      "+-----------+--------+-----------+--------+-------+\n",
      "| 101392971 |   1    |    0.0    |  0.0   |   9   |\n",
      "| 101392971 |   2    |    0.0    |  0.0   |   9   |\n",
      "| 101392971 |   3    |    0.0    |  0.0   |   9   |\n",
      "| 101392971 |   4    |    0.0    |  0.0   |   9   |\n",
      "| 101392971 |   5    |    0.0    |  0.0   |   9   |\n",
      "| 101392971 |   6    |    0.0    |  0.0   |   9   |\n",
      "| 101392971 |   7    |    0.0    |  0.0   |   9   |\n",
      "| 101392971 |   8    |    0.0    |  0.0   |   9   |\n",
      "| 101392971 |   9    |    0.0    |  0.0   |   9   |\n",
      "| 101392971 |   10   |    0.0    |  0.0   |   9   |\n",
      "+-----------+--------+-----------+--------+-------+\n",
      "[12960 rows x 5 columns]\n",
      "Note: Only the head of the SFrame is printed.\n",
      "You can use print_rows(num_rows=m, num_columns=n) to print more rows and columns., 'precision_recall_overall': Columns:\n",
      "\tcutoff\tint\n",
      "\tprecision\tfloat\n",
      "\trecall\tfloat\n",
      "\n",
      "Rows: 18\n",
      "\n",
      "Data:\n",
      "+--------+-----------+--------+\n",
      "| cutoff | precision | recall |\n",
      "+--------+-----------+--------+\n",
      "|   1    |    0.0    |  0.0   |\n",
      "|   2    |    0.0    |  0.0   |\n",
      "|   3    |    0.0    |  0.0   |\n",
      "|   4    |    0.0    |  0.0   |\n",
      "|   5    |    0.0    |  0.0   |\n",
      "|   6    |    0.0    |  0.0   |\n",
      "|   7    |    0.0    |  0.0   |\n",
      "|   8    |    0.0    |  0.0   |\n",
      "|   9    |    0.0    |  0.0   |\n",
      "|   10   |    0.0    |  0.0   |\n",
      "+--------+-----------+--------+\n",
      "[18 rows x 3 columns]\n",
      "Note: Only the head of the SFrame is printed.\n",
      "You can use print_rows(num_rows=m, num_columns=n) to print more rows and columns., 'rmse_by_user': Columns:\n",
      "\tuser_id\tint\n",
      "\trmse\tfloat\n",
      "\tcount\tint\n",
      "\n",
      "Rows: 720\n",
      "\n",
      "Data:\n",
      "+-----------+--------------------+-------+\n",
      "|  user_id  |        rmse        | count |\n",
      "+-----------+--------------------+-------+\n",
      "| 101369230 | 1.4741916632449727 |   3   |\n",
      "| 101441796 | 0.6941451876437612 |   2   |\n",
      "| 101378194 | 0.7154881467419083 |   1   |\n",
      "| 101403230 | 0.3921032573874189 |   2   |\n",
      "| 101442395 | 0.6110822945044996 |   1   |\n",
      "| 101348269 | 1.3729588549336982 |   3   |\n",
      "| 101408521 | 1.023960031908275  |   3   |\n",
      "| 101372141 | 1.164071861244719  |   4   |\n",
      "| 101372653 | 0.9138552877192744 |   8   |\n",
      "| 101405026 | 0.5468886966335744 |   1   |\n",
      "+-----------+--------------------+-------+\n",
      "[720 rows x 3 columns]\n",
      "Note: Only the head of the SFrame is printed.\n",
      "You can use print_rows(num_rows=m, num_columns=n) to print more rows and columns., 'rmse_by_item': Columns:\n",
      "\tgroup_id\tint\n",
      "\trmse\tfloat\n",
      "\tcount\tint\n",
      "\n",
      "Rows: 2113\n",
      "\n",
      "Data:\n",
      "+-----------+-----------------------+-------+\n",
      "|  group_id |          rmse         | count |\n",
      "+-----------+-----------------------+-------+\n",
      "| 801350512 | 0.0018404704405543537 |   1   |\n",
      "| 801351145 |   0.7673174798475109  |   1   |\n",
      "| 801355390 |   0.7940605308472061  |   1   |\n",
      "| 801371304 |  0.035120171885941964 |   1   |\n",
      "| 801349162 |   0.6919459641595979  |   1   |\n",
      "| 801354921 |  0.23308998882348408  |   1   |\n",
      "| 801347380 |   1.4165198567048378  |   1   |\n",
      "| 801366704 |   2.257442036757369   |   1   |\n",
      "| 801365622 |   0.3797676755628704  |   1   |\n",
      "| 801346867 |   1.581390575102074   |   1   |\n",
      "+-----------+-----------------------+-------+\n",
      "[2113 rows x 3 columns]\n",
      "Note: Only the head of the SFrame is printed.\n",
      "You can use print_rows(num_rows=m, num_columns=n) to print more rows and columns., 'rmse_overall': 0.9897593711404457}, {'precision_recall_by_user': Columns:\n",
      "\tuser_id\tint\n",
      "\tcutoff\tint\n",
      "\tprecision\tfloat\n",
      "\trecall\tfloat\n",
      "\tcount\tint\n",
      "\n",
      "Rows: 12960\n",
      "\n",
      "Data:\n",
      "+-----------+--------+-----------+--------+-------+\n",
      "|  user_id  | cutoff | precision | recall | count |\n",
      "+-----------+--------+-----------+--------+-------+\n",
      "| 101392971 |   1    |    0.0    |  0.0   |   9   |\n",
      "| 101392971 |   2    |    0.0    |  0.0   |   9   |\n",
      "| 101392971 |   3    |    0.0    |  0.0   |   9   |\n",
      "| 101392971 |   4    |    0.0    |  0.0   |   9   |\n",
      "| 101392971 |   5    |    0.0    |  0.0   |   9   |\n",
      "| 101392971 |   6    |    0.0    |  0.0   |   9   |\n",
      "| 101392971 |   7    |    0.0    |  0.0   |   9   |\n",
      "| 101392971 |   8    |    0.0    |  0.0   |   9   |\n",
      "| 101392971 |   9    |    0.0    |  0.0   |   9   |\n",
      "| 101392971 |   10   |    0.0    |  0.0   |   9   |\n",
      "+-----------+--------+-----------+--------+-------+\n",
      "[12960 rows x 5 columns]\n",
      "Note: Only the head of the SFrame is printed.\n",
      "You can use print_rows(num_rows=m, num_columns=n) to print more rows and columns., 'precision_recall_overall': Columns:\n",
      "\tcutoff\tint\n",
      "\tprecision\tfloat\n",
      "\trecall\tfloat\n",
      "\n",
      "Rows: 18\n",
      "\n",
      "Data:\n",
      "+--------+-----------------------+-----------------------+\n",
      "| cutoff |       precision       |         recall        |\n",
      "+--------+-----------------------+-----------------------+\n",
      "|   1    |          0.0          |          0.0          |\n",
      "|   2    |          0.0          |          0.0          |\n",
      "|   3    | 0.0009259259259259257 | 0.0003720238095238096 |\n",
      "|   4    | 0.0006944444444444445 | 0.0003720238095238096 |\n",
      "|   5    | 0.0005555555555555556 | 0.0003720238095238096 |\n",
      "|   6    | 0.0006944444444444443 |  0.000719246031746032 |\n",
      "|   7    | 0.0005952380952380953 | 0.0007192460317460318 |\n",
      "|   8    | 0.0006944444444444446 | 0.0021081349206349192 |\n",
      "|   9    | 0.0006172839506172839 | 0.0021081349206349214 |\n",
      "|   10   | 0.0005555555555555556 |  0.002108134920634921 |\n",
      "+--------+-----------------------+-----------------------+\n",
      "[18 rows x 3 columns]\n",
      "Note: Only the head of the SFrame is printed.\n",
      "You can use print_rows(num_rows=m, num_columns=n) to print more rows and columns., 'rmse_by_user': Columns:\n",
      "\tuser_id\tint\n",
      "\trmse\tfloat\n",
      "\tcount\tint\n",
      "\n",
      "Rows: 720\n",
      "\n",
      "Data:\n",
      "+-----------+--------------------+-------+\n",
      "|  user_id  |        rmse        | count |\n",
      "+-----------+--------------------+-------+\n",
      "| 101369230 | 1.329210351735091  |   3   |\n",
      "| 101441796 | 0.5444649928195235 |   2   |\n",
      "| 101378194 | 0.4921898623748664 |   1   |\n",
      "| 101403230 | 0.7730526206153269 |   2   |\n",
      "| 101442395 |  1.22604537090823  |   1   |\n",
      "| 101348269 | 2.144597415780369  |   3   |\n",
      "| 101408521 | 1.2175392274444288 |   3   |\n",
      "| 101372141 | 1.2311176305626095 |   4   |\n",
      "| 101372653 | 2.073938164961475  |   8   |\n",
      "| 101405026 | 0.7325778590387872 |   1   |\n",
      "+-----------+--------------------+-------+\n",
      "[720 rows x 3 columns]\n",
      "Note: Only the head of the SFrame is printed.\n",
      "You can use print_rows(num_rows=m, num_columns=n) to print more rows and columns., 'rmse_by_item': Columns:\n",
      "\tgroup_id\tint\n",
      "\trmse\tfloat\n",
      "\tcount\tint\n",
      "\n",
      "Rows: 2113\n",
      "\n",
      "Data:\n",
      "+-----------+---------------------+-------+\n",
      "|  group_id |         rmse        | count |\n",
      "+-----------+---------------------+-------+\n",
      "| 801350512 |  1.151445323873978  |   1   |\n",
      "| 801351145 |  3.4956286487405333 |   1   |\n",
      "| 801355390 |  0.6563568145494473 |   1   |\n",
      "| 801371304 | 0.26657895011954613 |   1   |\n",
      "| 801349162 |  0.0859058260715353 |   1   |\n",
      "| 801354921 |  1.1005775458807885 |   1   |\n",
      "| 801347380 | 0.24919003968656472 |   1   |\n",
      "| 801366704 |  2.4553101054544566 |   1   |\n",
      "| 801365622 |  0.3100582650085768 |   1   |\n",
      "| 801346867 |  1.5574387787606165 |   1   |\n",
      "+-----------+---------------------+-------+\n",
      "[2113 rows x 3 columns]\n",
      "Note: Only the head of the SFrame is printed.\n",
      "You can use print_rows(num_rows=m, num_columns=n) to print more rows and columns., 'rmse_overall': 1.2046976266495177}, {'precision_recall_by_user': Columns:\n",
      "\tuser_id\tint\n",
      "\tcutoff\tint\n",
      "\tprecision\tfloat\n",
      "\trecall\tfloat\n",
      "\tcount\tint\n",
      "\n",
      "Rows: 12960\n",
      "\n",
      "Data:\n",
      "+-----------+--------+-----------+--------+-------+\n",
      "|  user_id  | cutoff | precision | recall | count |\n",
      "+-----------+--------+-----------+--------+-------+\n",
      "| 101392971 |   1    |    0.0    |  0.0   |   9   |\n",
      "| 101392971 |   2    |    0.0    |  0.0   |   9   |\n",
      "| 101392971 |   3    |    0.0    |  0.0   |   9   |\n",
      "| 101392971 |   4    |    0.0    |  0.0   |   9   |\n",
      "| 101392971 |   5    |    0.0    |  0.0   |   9   |\n",
      "| 101392971 |   6    |    0.0    |  0.0   |   9   |\n",
      "| 101392971 |   7    |    0.0    |  0.0   |   9   |\n",
      "| 101392971 |   8    |    0.0    |  0.0   |   9   |\n",
      "| 101392971 |   9    |    0.0    |  0.0   |   9   |\n",
      "| 101392971 |   10   |    0.0    |  0.0   |   9   |\n",
      "+-----------+--------+-----------+--------+-------+\n",
      "[12960 rows x 5 columns]\n",
      "Note: Only the head of the SFrame is printed.\n",
      "You can use print_rows(num_rows=m, num_columns=n) to print more rows and columns., 'precision_recall_overall': Columns:\n",
      "\tcutoff\tint\n",
      "\tprecision\tfloat\n",
      "\trecall\tfloat\n",
      "\n",
      "Rows: 18\n",
      "\n",
      "Data:\n",
      "+--------+-----------------------+------------------------+\n",
      "| cutoff |       precision       |         recall         |\n",
      "+--------+-----------------------+------------------------+\n",
      "|   1    | 0.0013888888888888892 | 0.00017361111111111114 |\n",
      "|   2    | 0.0013888888888888892 |       0.0015625        |\n",
      "|   3    | 0.0013888888888888883 | 0.0018402777777777777  |\n",
      "|   4    | 0.0017361111111111117 | 0.0021682098765432103  |\n",
      "|   5    | 0.0019444444444444444 |  0.003140432098765432  |\n",
      "|   6    | 0.0016203703703703705 |  0.003140432098765432  |\n",
      "|   7    | 0.0015873015873015873 |  0.003338844797178131  |\n",
      "|   8    | 0.0015624999999999994 |  0.003801807760141094  |\n",
      "|   9    |  0.001697530864197531 |  0.003991741283407949  |\n",
      "|   10   |  0.001666666666666667 |  0.004338963505630173  |\n",
      "+--------+-----------------------+------------------------+\n",
      "[18 rows x 3 columns]\n",
      "Note: Only the head of the SFrame is printed.\n",
      "You can use print_rows(num_rows=m, num_columns=n) to print more rows and columns., 'rmse_by_user': Columns:\n",
      "\tuser_id\tint\n",
      "\trmse\tfloat\n",
      "\tcount\tint\n",
      "\n",
      "Rows: 720\n",
      "\n",
      "Data:\n",
      "+-----------+---------------------+-------+\n",
      "|  user_id  |         rmse        | count |\n",
      "+-----------+---------------------+-------+\n",
      "| 101369230 |  1.3614515723052951 |   3   |\n",
      "| 101441796 | 0.36569081108472695 |   2   |\n",
      "| 101378194 |  0.7036021304271447 |   1   |\n",
      "| 101403230 |  0.6644355093686352 |   2   |\n",
      "| 101442395 | 0.09446794425572236 |   1   |\n",
      "| 101348269 |  0.7990429140129612 |   3   |\n",
      "| 101408521 |  1.296297610443674  |   3   |\n",
      "| 101372141 |  1.5318686535491977 |   4   |\n",
      "| 101372653 |  1.0109756184551761 |   8   |\n",
      "| 101405026 | 0.07721152944808418 |   1   |\n",
      "+-----------+---------------------+-------+\n",
      "[720 rows x 3 columns]\n",
      "Note: Only the head of the SFrame is printed.\n",
      "You can use print_rows(num_rows=m, num_columns=n) to print more rows and columns., 'rmse_by_item': Columns:\n",
      "\tgroup_id\tint\n",
      "\trmse\tfloat\n",
      "\tcount\tint\n",
      "\n",
      "Rows: 2113\n",
      "\n",
      "Data:\n",
      "+-----------+---------------------+-------+\n",
      "|  group_id |         rmse        | count |\n",
      "+-----------+---------------------+-------+\n",
      "| 801350512 |  1.0923869829892885 |   1   |\n",
      "| 801351145 |  1.9506215317237974 |   1   |\n",
      "| 801355390 |  0.9210345525127962 |   1   |\n",
      "| 801371304 | 0.04621273342106247 |   1   |\n",
      "| 801349162 |  0.4750372899771338 |   1   |\n",
      "| 801354921 |  0.8282381914341421 |   1   |\n",
      "| 801347380 |  0.3930536108962319 |   1   |\n",
      "| 801366704 |  1.4580417963966723 |   1   |\n",
      "| 801365622 | 0.27969239168952365 |   1   |\n",
      "| 801346867 |  0.8838149453068402 |   1   |\n",
      "+-----------+---------------------+-------+\n",
      "[2113 rows x 3 columns]\n",
      "Note: Only the head of the SFrame is printed.\n",
      "You can use print_rows(num_rows=m, num_columns=n) to print more rows and columns., 'rmse_overall': 1.1903477256723674}]\n"
     ]
    }
   ],
   "source": [
    "print(tc.recommender.util.compare_models(\n",
    "    validation_data, \n",
    "    [model_0, model_1,model_2,model_3,model_4], \n",
    "    model_names=[\"Default model\",\n",
    "                 \"Item similarity model\",\n",
    "                 'Popularity recommender',\n",
    "                 'Factorization recommender',\n",
    "                 'Ranking factorization recommender']))"
   ]
  },
  {
   "cell_type": "markdown",
   "id": "183678a8",
   "metadata": {},
   "source": [
    "`Default model:             `Overall RMSE: 1.4839031983440507\n",
    "\n",
    "`Item similarity model:     `Overall RMSE: 1.9387119289000498\n",
    "\n",
    "`Popularity recommender:    `Overall RMSE: 0.9897593711404455\n",
    "\n",
    "`Factorization recommender: `Overall RMSE: 1.0964792988739434\n",
    "\n",
    "`Ranking factorization:     `Overall RMSE: 1.0114718154853628"
   ]
  },
  {
   "cell_type": "markdown",
   "id": "9793ff08",
   "metadata": {},
   "source": [
    "### Берем результаты Ranking factorization модели"
   ]
  },
  {
   "cell_type": "code",
   "execution_count": 13,
   "id": "20c64fc1",
   "metadata": {
    "scrolled": true
   },
   "outputs": [
    {
     "data": {
      "text/html": [
       "<pre>recommendations finished on 1000/50881 queries. users per second: 6468.18</pre>"
      ],
      "text/plain": [
       "recommendations finished on 1000/50881 queries. users per second: 6468.18"
      ]
     },
     "metadata": {},
     "output_type": "display_data"
    },
    {
     "data": {
      "text/html": [
       "<pre>recommendations finished on 2000/50881 queries. users per second: 6601.95</pre>"
      ],
      "text/plain": [
       "recommendations finished on 2000/50881 queries. users per second: 6601.95"
      ]
     },
     "metadata": {},
     "output_type": "display_data"
    },
    {
     "data": {
      "text/html": [
       "<pre>recommendations finished on 3000/50881 queries. users per second: 6654.94</pre>"
      ],
      "text/plain": [
       "recommendations finished on 3000/50881 queries. users per second: 6654.94"
      ]
     },
     "metadata": {},
     "output_type": "display_data"
    },
    {
     "data": {
      "text/html": [
       "<pre>recommendations finished on 4000/50881 queries. users per second: 6677.26</pre>"
      ],
      "text/plain": [
       "recommendations finished on 4000/50881 queries. users per second: 6677.26"
      ]
     },
     "metadata": {},
     "output_type": "display_data"
    },
    {
     "data": {
      "text/html": [
       "<pre>recommendations finished on 5000/50881 queries. users per second: 6694.35</pre>"
      ],
      "text/plain": [
       "recommendations finished on 5000/50881 queries. users per second: 6694.35"
      ]
     },
     "metadata": {},
     "output_type": "display_data"
    },
    {
     "data": {
      "text/html": [
       "<pre>recommendations finished on 6000/50881 queries. users per second: 6707.27</pre>"
      ],
      "text/plain": [
       "recommendations finished on 6000/50881 queries. users per second: 6707.27"
      ]
     },
     "metadata": {},
     "output_type": "display_data"
    },
    {
     "data": {
      "text/html": [
       "<pre>recommendations finished on 7000/50881 queries. users per second: 6710.13</pre>"
      ],
      "text/plain": [
       "recommendations finished on 7000/50881 queries. users per second: 6710.13"
      ]
     },
     "metadata": {},
     "output_type": "display_data"
    },
    {
     "data": {
      "text/html": [
       "<pre>recommendations finished on 8000/50881 queries. users per second: 6701.53</pre>"
      ],
      "text/plain": [
       "recommendations finished on 8000/50881 queries. users per second: 6701.53"
      ]
     },
     "metadata": {},
     "output_type": "display_data"
    },
    {
     "data": {
      "text/html": [
       "<pre>recommendations finished on 9000/50881 queries. users per second: 6696.86</pre>"
      ],
      "text/plain": [
       "recommendations finished on 9000/50881 queries. users per second: 6696.86"
      ]
     },
     "metadata": {},
     "output_type": "display_data"
    },
    {
     "data": {
      "text/html": [
       "<pre>recommendations finished on 10000/50881 queries. users per second: 6694.31</pre>"
      ],
      "text/plain": [
       "recommendations finished on 10000/50881 queries. users per second: 6694.31"
      ]
     },
     "metadata": {},
     "output_type": "display_data"
    },
    {
     "data": {
      "text/html": [
       "<pre>recommendations finished on 11000/50881 queries. users per second: 6700.04</pre>"
      ],
      "text/plain": [
       "recommendations finished on 11000/50881 queries. users per second: 6700.04"
      ]
     },
     "metadata": {},
     "output_type": "display_data"
    },
    {
     "data": {
      "text/html": [
       "<pre>recommendations finished on 12000/50881 queries. users per second: 6701.63</pre>"
      ],
      "text/plain": [
       "recommendations finished on 12000/50881 queries. users per second: 6701.63"
      ]
     },
     "metadata": {},
     "output_type": "display_data"
    },
    {
     "data": {
      "text/html": [
       "<pre>recommendations finished on 13000/50881 queries. users per second: 6706.04</pre>"
      ],
      "text/plain": [
       "recommendations finished on 13000/50881 queries. users per second: 6706.04"
      ]
     },
     "metadata": {},
     "output_type": "display_data"
    },
    {
     "data": {
      "text/html": [
       "<pre>recommendations finished on 14000/50881 queries. users per second: 6709.02</pre>"
      ],
      "text/plain": [
       "recommendations finished on 14000/50881 queries. users per second: 6709.02"
      ]
     },
     "metadata": {},
     "output_type": "display_data"
    },
    {
     "data": {
      "text/html": [
       "<pre>recommendations finished on 15000/50881 queries. users per second: 6711.99</pre>"
      ],
      "text/plain": [
       "recommendations finished on 15000/50881 queries. users per second: 6711.99"
      ]
     },
     "metadata": {},
     "output_type": "display_data"
    },
    {
     "data": {
      "text/html": [
       "<pre>recommendations finished on 16000/50881 queries. users per second: 6715.44</pre>"
      ],
      "text/plain": [
       "recommendations finished on 16000/50881 queries. users per second: 6715.44"
      ]
     },
     "metadata": {},
     "output_type": "display_data"
    },
    {
     "data": {
      "text/html": [
       "<pre>recommendations finished on 17000/50881 queries. users per second: 6717.97</pre>"
      ],
      "text/plain": [
       "recommendations finished on 17000/50881 queries. users per second: 6717.97"
      ]
     },
     "metadata": {},
     "output_type": "display_data"
    },
    {
     "data": {
      "text/html": [
       "<pre>recommendations finished on 18000/50881 queries. users per second: 6719.77</pre>"
      ],
      "text/plain": [
       "recommendations finished on 18000/50881 queries. users per second: 6719.77"
      ]
     },
     "metadata": {},
     "output_type": "display_data"
    },
    {
     "data": {
      "text/html": [
       "<pre>recommendations finished on 19000/50881 queries. users per second: 6715.86</pre>"
      ],
      "text/plain": [
       "recommendations finished on 19000/50881 queries. users per second: 6715.86"
      ]
     },
     "metadata": {},
     "output_type": "display_data"
    },
    {
     "data": {
      "text/html": [
       "<pre>recommendations finished on 20000/50881 queries. users per second: 6711.77</pre>"
      ],
      "text/plain": [
       "recommendations finished on 20000/50881 queries. users per second: 6711.77"
      ]
     },
     "metadata": {},
     "output_type": "display_data"
    },
    {
     "data": {
      "text/html": [
       "<pre>recommendations finished on 21000/50881 queries. users per second: 6710.37</pre>"
      ],
      "text/plain": [
       "recommendations finished on 21000/50881 queries. users per second: 6710.37"
      ]
     },
     "metadata": {},
     "output_type": "display_data"
    },
    {
     "data": {
      "text/html": [
       "<pre>recommendations finished on 22000/50881 queries. users per second: 6712.13</pre>"
      ],
      "text/plain": [
       "recommendations finished on 22000/50881 queries. users per second: 6712.13"
      ]
     },
     "metadata": {},
     "output_type": "display_data"
    },
    {
     "data": {
      "text/html": [
       "<pre>recommendations finished on 23000/50881 queries. users per second: 6713.76</pre>"
      ],
      "text/plain": [
       "recommendations finished on 23000/50881 queries. users per second: 6713.76"
      ]
     },
     "metadata": {},
     "output_type": "display_data"
    },
    {
     "data": {
      "text/html": [
       "<pre>recommendations finished on 24000/50881 queries. users per second: 6716.21</pre>"
      ],
      "text/plain": [
       "recommendations finished on 24000/50881 queries. users per second: 6716.21"
      ]
     },
     "metadata": {},
     "output_type": "display_data"
    },
    {
     "data": {
      "text/html": [
       "<pre>recommendations finished on 25000/50881 queries. users per second: 6718.17</pre>"
      ],
      "text/plain": [
       "recommendations finished on 25000/50881 queries. users per second: 6718.17"
      ]
     },
     "metadata": {},
     "output_type": "display_data"
    },
    {
     "data": {
      "text/html": [
       "<pre>recommendations finished on 26000/50881 queries. users per second: 6720.08</pre>"
      ],
      "text/plain": [
       "recommendations finished on 26000/50881 queries. users per second: 6720.08"
      ]
     },
     "metadata": {},
     "output_type": "display_data"
    },
    {
     "data": {
      "text/html": [
       "<pre>recommendations finished on 27000/50881 queries. users per second: 6721.76</pre>"
      ],
      "text/plain": [
       "recommendations finished on 27000/50881 queries. users per second: 6721.76"
      ]
     },
     "metadata": {},
     "output_type": "display_data"
    },
    {
     "data": {
      "text/html": [
       "<pre>recommendations finished on 28000/50881 queries. users per second: 6723.59</pre>"
      ],
      "text/plain": [
       "recommendations finished on 28000/50881 queries. users per second: 6723.59"
      ]
     },
     "metadata": {},
     "output_type": "display_data"
    },
    {
     "data": {
      "text/html": [
       "<pre>recommendations finished on 29000/50881 queries. users per second: 6724.8</pre>"
      ],
      "text/plain": [
       "recommendations finished on 29000/50881 queries. users per second: 6724.8"
      ]
     },
     "metadata": {},
     "output_type": "display_data"
    },
    {
     "data": {
      "text/html": [
       "<pre>recommendations finished on 30000/50881 queries. users per second: 6726.15</pre>"
      ],
      "text/plain": [
       "recommendations finished on 30000/50881 queries. users per second: 6726.15"
      ]
     },
     "metadata": {},
     "output_type": "display_data"
    },
    {
     "data": {
      "text/html": [
       "<pre>recommendations finished on 31000/50881 queries. users per second: 6726.97</pre>"
      ],
      "text/plain": [
       "recommendations finished on 31000/50881 queries. users per second: 6726.97"
      ]
     },
     "metadata": {},
     "output_type": "display_data"
    },
    {
     "data": {
      "text/html": [
       "<pre>recommendations finished on 32000/50881 queries. users per second: 6728.53</pre>"
      ],
      "text/plain": [
       "recommendations finished on 32000/50881 queries. users per second: 6728.53"
      ]
     },
     "metadata": {},
     "output_type": "display_data"
    },
    {
     "data": {
      "text/html": [
       "<pre>recommendations finished on 33000/50881 queries. users per second: 6728.95</pre>"
      ],
      "text/plain": [
       "recommendations finished on 33000/50881 queries. users per second: 6728.95"
      ]
     },
     "metadata": {},
     "output_type": "display_data"
    },
    {
     "data": {
      "text/html": [
       "<pre>recommendations finished on 34000/50881 queries. users per second: 6730.16</pre>"
      ],
      "text/plain": [
       "recommendations finished on 34000/50881 queries. users per second: 6730.16"
      ]
     },
     "metadata": {},
     "output_type": "display_data"
    },
    {
     "data": {
      "text/html": [
       "<pre>recommendations finished on 35000/50881 queries. users per second: 6731.06</pre>"
      ],
      "text/plain": [
       "recommendations finished on 35000/50881 queries. users per second: 6731.06"
      ]
     },
     "metadata": {},
     "output_type": "display_data"
    },
    {
     "data": {
      "text/html": [
       "<pre>recommendations finished on 36000/50881 queries. users per second: 6732.45</pre>"
      ],
      "text/plain": [
       "recommendations finished on 36000/50881 queries. users per second: 6732.45"
      ]
     },
     "metadata": {},
     "output_type": "display_data"
    },
    {
     "data": {
      "text/html": [
       "<pre>recommendations finished on 37000/50881 queries. users per second: 6733.39</pre>"
      ],
      "text/plain": [
       "recommendations finished on 37000/50881 queries. users per second: 6733.39"
      ]
     },
     "metadata": {},
     "output_type": "display_data"
    },
    {
     "data": {
      "text/html": [
       "<pre>recommendations finished on 38000/50881 queries. users per second: 6734.23</pre>"
      ],
      "text/plain": [
       "recommendations finished on 38000/50881 queries. users per second: 6734.23"
      ]
     },
     "metadata": {},
     "output_type": "display_data"
    },
    {
     "data": {
      "text/html": [
       "<pre>recommendations finished on 39000/50881 queries. users per second: 6734.78</pre>"
      ],
      "text/plain": [
       "recommendations finished on 39000/50881 queries. users per second: 6734.78"
      ]
     },
     "metadata": {},
     "output_type": "display_data"
    },
    {
     "data": {
      "text/html": [
       "<pre>recommendations finished on 40000/50881 queries. users per second: 6735.26</pre>"
      ],
      "text/plain": [
       "recommendations finished on 40000/50881 queries. users per second: 6735.26"
      ]
     },
     "metadata": {},
     "output_type": "display_data"
    },
    {
     "data": {
      "text/html": [
       "<pre>recommendations finished on 41000/50881 queries. users per second: 6735.74</pre>"
      ],
      "text/plain": [
       "recommendations finished on 41000/50881 queries. users per second: 6735.74"
      ]
     },
     "metadata": {},
     "output_type": "display_data"
    },
    {
     "data": {
      "text/html": [
       "<pre>recommendations finished on 42000/50881 queries. users per second: 6736.33</pre>"
      ],
      "text/plain": [
       "recommendations finished on 42000/50881 queries. users per second: 6736.33"
      ]
     },
     "metadata": {},
     "output_type": "display_data"
    },
    {
     "data": {
      "text/html": [
       "<pre>recommendations finished on 43000/50881 queries. users per second: 6737.18</pre>"
      ],
      "text/plain": [
       "recommendations finished on 43000/50881 queries. users per second: 6737.18"
      ]
     },
     "metadata": {},
     "output_type": "display_data"
    },
    {
     "data": {
      "text/html": [
       "<pre>recommendations finished on 44000/50881 queries. users per second: 6737.96</pre>"
      ],
      "text/plain": [
       "recommendations finished on 44000/50881 queries. users per second: 6737.96"
      ]
     },
     "metadata": {},
     "output_type": "display_data"
    },
    {
     "data": {
      "text/html": [
       "<pre>recommendations finished on 45000/50881 queries. users per second: 6738.63</pre>"
      ],
      "text/plain": [
       "recommendations finished on 45000/50881 queries. users per second: 6738.63"
      ]
     },
     "metadata": {},
     "output_type": "display_data"
    },
    {
     "data": {
      "text/html": [
       "<pre>recommendations finished on 46000/50881 queries. users per second: 6739</pre>"
      ],
      "text/plain": [
       "recommendations finished on 46000/50881 queries. users per second: 6739"
      ]
     },
     "metadata": {},
     "output_type": "display_data"
    },
    {
     "data": {
      "text/html": [
       "<pre>recommendations finished on 47000/50881 queries. users per second: 6739.77</pre>"
      ],
      "text/plain": [
       "recommendations finished on 47000/50881 queries. users per second: 6739.77"
      ]
     },
     "metadata": {},
     "output_type": "display_data"
    },
    {
     "data": {
      "text/html": [
       "<pre>recommendations finished on 48000/50881 queries. users per second: 6740.36</pre>"
      ],
      "text/plain": [
       "recommendations finished on 48000/50881 queries. users per second: 6740.36"
      ]
     },
     "metadata": {},
     "output_type": "display_data"
    },
    {
     "data": {
      "text/html": [
       "<pre>recommendations finished on 49000/50881 queries. users per second: 6740.71</pre>"
      ],
      "text/plain": [
       "recommendations finished on 49000/50881 queries. users per second: 6740.71"
      ]
     },
     "metadata": {},
     "output_type": "display_data"
    },
    {
     "data": {
      "text/html": [
       "<pre>recommendations finished on 50000/50881 queries. users per second: 6741.91</pre>"
      ],
      "text/plain": [
       "recommendations finished on 50000/50881 queries. users per second: 6741.91"
      ]
     },
     "metadata": {},
     "output_type": "display_data"
    },
    {
     "data": {
      "text/html": [
       "<div style=\"max-height:1000px;max-width:1500px;overflow:auto;\"><table frame=\"box\" rules=\"cols\">\n",
       "    <tr>\n",
       "        <th style=\"padding-left: 1em; padding-right: 1em; text-align: center\">user_id</th>\n",
       "        <th style=\"padding-left: 1em; padding-right: 1em; text-align: center\">group_id</th>\n",
       "        <th style=\"padding-left: 1em; padding-right: 1em; text-align: center\">score</th>\n",
       "        <th style=\"padding-left: 1em; padding-right: 1em; text-align: center\">rank</th>\n",
       "    </tr>\n",
       "    <tr>\n",
       "        <td style=\"padding-left: 1em; padding-right: 1em; text-align: center; vertical-align: top\">101370217</td>\n",
       "        <td style=\"padding-left: 1em; padding-right: 1em; text-align: center; vertical-align: top\">801352919</td>\n",
       "        <td style=\"padding-left: 1em; padding-right: 1em; text-align: center; vertical-align: top\">2.3939897183360683</td>\n",
       "        <td style=\"padding-left: 1em; padding-right: 1em; text-align: center; vertical-align: top\">1</td>\n",
       "    </tr>\n",
       "    <tr>\n",
       "        <td style=\"padding-left: 1em; padding-right: 1em; text-align: center; vertical-align: top\">101370217</td>\n",
       "        <td style=\"padding-left: 1em; padding-right: 1em; text-align: center; vertical-align: top\">801352970</td>\n",
       "        <td style=\"padding-left: 1em; padding-right: 1em; text-align: center; vertical-align: top\">2.3840604487838375</td>\n",
       "        <td style=\"padding-left: 1em; padding-right: 1em; text-align: center; vertical-align: top\">2</td>\n",
       "    </tr>\n",
       "    <tr>\n",
       "        <td style=\"padding-left: 1em; padding-right: 1em; text-align: center; vertical-align: top\">101370217</td>\n",
       "        <td style=\"padding-left: 1em; padding-right: 1em; text-align: center; vertical-align: top\">801349361</td>\n",
       "        <td style=\"padding-left: 1em; padding-right: 1em; text-align: center; vertical-align: top\">2.3687165740909206</td>\n",
       "        <td style=\"padding-left: 1em; padding-right: 1em; text-align: center; vertical-align: top\">3</td>\n",
       "    </tr>\n",
       "    <tr>\n",
       "        <td style=\"padding-left: 1em; padding-right: 1em; text-align: center; vertical-align: top\">101370217</td>\n",
       "        <td style=\"padding-left: 1em; padding-right: 1em; text-align: center; vertical-align: top\">801350828</td>\n",
       "        <td style=\"padding-left: 1em; padding-right: 1em; text-align: center; vertical-align: top\">2.2919596347989666</td>\n",
       "        <td style=\"padding-left: 1em; padding-right: 1em; text-align: center; vertical-align: top\">4</td>\n",
       "    </tr>\n",
       "    <tr>\n",
       "        <td style=\"padding-left: 1em; padding-right: 1em; text-align: center; vertical-align: top\">101370217</td>\n",
       "        <td style=\"padding-left: 1em; padding-right: 1em; text-align: center; vertical-align: top\">801355404</td>\n",
       "        <td style=\"padding-left: 1em; padding-right: 1em; text-align: center; vertical-align: top\">2.2737267974795925</td>\n",
       "        <td style=\"padding-left: 1em; padding-right: 1em; text-align: center; vertical-align: top\">5</td>\n",
       "    </tr>\n",
       "    <tr>\n",
       "        <td style=\"padding-left: 1em; padding-right: 1em; text-align: center; vertical-align: top\">101370217</td>\n",
       "        <td style=\"padding-left: 1em; padding-right: 1em; text-align: center; vertical-align: top\">801351513</td>\n",
       "        <td style=\"padding-left: 1em; padding-right: 1em; text-align: center; vertical-align: top\">2.214499360698663</td>\n",
       "        <td style=\"padding-left: 1em; padding-right: 1em; text-align: center; vertical-align: top\">6</td>\n",
       "    </tr>\n",
       "    <tr>\n",
       "        <td style=\"padding-left: 1em; padding-right: 1em; text-align: center; vertical-align: top\">101370217</td>\n",
       "        <td style=\"padding-left: 1em; padding-right: 1em; text-align: center; vertical-align: top\">801351817</td>\n",
       "        <td style=\"padding-left: 1em; padding-right: 1em; text-align: center; vertical-align: top\">2.2107914749564754</td>\n",
       "        <td style=\"padding-left: 1em; padding-right: 1em; text-align: center; vertical-align: top\">7</td>\n",
       "    </tr>\n",
       "    <tr>\n",
       "        <td style=\"padding-left: 1em; padding-right: 1em; text-align: center; vertical-align: top\">101370217</td>\n",
       "        <td style=\"padding-left: 1em; padding-right: 1em; text-align: center; vertical-align: top\">801353793</td>\n",
       "        <td style=\"padding-left: 1em; padding-right: 1em; text-align: center; vertical-align: top\">2.2099186990441906</td>\n",
       "        <td style=\"padding-left: 1em; padding-right: 1em; text-align: center; vertical-align: top\">8</td>\n",
       "    </tr>\n",
       "    <tr>\n",
       "        <td style=\"padding-left: 1em; padding-right: 1em; text-align: center; vertical-align: top\">101370217</td>\n",
       "        <td style=\"padding-left: 1em; padding-right: 1em; text-align: center; vertical-align: top\">801349440</td>\n",
       "        <td style=\"padding-left: 1em; padding-right: 1em; text-align: center; vertical-align: top\">2.2045488420905697</td>\n",
       "        <td style=\"padding-left: 1em; padding-right: 1em; text-align: center; vertical-align: top\">9</td>\n",
       "    </tr>\n",
       "    <tr>\n",
       "        <td style=\"padding-left: 1em; padding-right: 1em; text-align: center; vertical-align: top\">101370217</td>\n",
       "        <td style=\"padding-left: 1em; padding-right: 1em; text-align: center; vertical-align: top\">801346776</td>\n",
       "        <td style=\"padding-left: 1em; padding-right: 1em; text-align: center; vertical-align: top\">2.1763000849666225</td>\n",
       "        <td style=\"padding-left: 1em; padding-right: 1em; text-align: center; vertical-align: top\">10</td>\n",
       "    </tr>\n",
       "</table>\n",
       "[508810 rows x 4 columns]<br/>Note: Only the head of the SFrame is printed.<br/>You can use print_rows(num_rows=m, num_columns=n) to print more rows and columns.\n",
       "</div>"
      ],
      "text/plain": [
       "Columns:\n",
       "\tuser_id\tint\n",
       "\tgroup_id\tint\n",
       "\tscore\tfloat\n",
       "\trank\tint\n",
       "\n",
       "Rows: 508810\n",
       "\n",
       "Data:\n",
       "+-----------+-----------+--------------------+------+\n",
       "|  user_id  |  group_id |       score        | rank |\n",
       "+-----------+-----------+--------------------+------+\n",
       "| 101370217 | 801352919 | 2.3939897183360683 |  1   |\n",
       "| 101370217 | 801352970 | 2.3840604487838375 |  2   |\n",
       "| 101370217 | 801349361 | 2.3687165740909206 |  3   |\n",
       "| 101370217 | 801350828 | 2.2919596347989666 |  4   |\n",
       "| 101370217 | 801355404 | 2.2737267974795925 |  5   |\n",
       "| 101370217 | 801351513 | 2.214499360698663  |  6   |\n",
       "| 101370217 | 801351817 | 2.2107914749564754 |  7   |\n",
       "| 101370217 | 801353793 | 2.2099186990441906 |  8   |\n",
       "| 101370217 | 801349440 | 2.2045488420905697 |  9   |\n",
       "| 101370217 | 801346776 | 2.1763000849666225 |  10  |\n",
       "+-----------+-----------+--------------------+------+\n",
       "[508810 rows x 4 columns]\n",
       "Note: Only the head of the SFrame is printed.\n",
       "You can use print_rows(num_rows=m, num_columns=n) to print more rows and columns."
      ]
     },
     "metadata": {},
     "output_type": "display_data"
    }
   ],
   "source": [
    "preds = model_4.recommend(k=10)\n",
    "display(preds)"
   ]
  },
  {
   "cell_type": "markdown",
   "id": "ccd63262",
   "metadata": {},
   "source": [
    "### Сохраняем результаты для бэка"
   ]
  },
  {
   "cell_type": "code",
   "execution_count": 14,
   "id": "28e1476a",
   "metadata": {},
   "outputs": [],
   "source": [
    "preds.to_dataframe().to_csv('predicts/predict_v01.csv', index=False )"
   ]
  },
  {
   "cell_type": "code",
   "execution_count": null,
   "id": "2c79aea9",
   "metadata": {},
   "outputs": [],
   "source": []
  },
  {
   "cell_type": "markdown",
   "id": "c7499558",
   "metadata": {},
   "source": [
    "### Делаем предсказание для Test"
   ]
  },
  {
   "cell_type": "code",
   "execution_count": 65,
   "id": "93fd5006",
   "metadata": {
    "scrolled": true
   },
   "outputs": [],
   "source": [
    "import json\n",
    "with open('groups2023.json') as json_file:\n",
    "    groups2023 = json.load(json_file)\n",
    "\n",
    "df_test = pd.read_csv('test.csv')\n",
    "df_test.head()\n",
    "df_test['уникальный номер участника'] = df_test['уникальный номер участника'].astype(int)\n",
    "\n",
    "\n",
    "def display_history_and_predictions_for_user2(user_id, train_dataset, predictions):\n",
    "    print('----------------------------------------------------------------------------')\n",
    "    print('User', user_id, 'history:')\n",
    "    display(train_dataset[train_dataset['user_id'] == user_id][\n",
    "        'group_id','is_online','session','направление 1','направление 2'].to_dataframe())\n",
    "    predictions = predictions[predictions['user_id'] == user_id]\n",
    "    print('User recommendations:')\n",
    "    predicted_groups = predictions['group_id'].to_list()\n",
    "    display(df_groups[df_groups['уникальный номер'].isin(predicted_groups)].drop(columns=[\n",
    "        'адрес площадки',\n",
    "        'расписание в активных периодах',\n",
    "        'расписание в закрытых периодах',\n",
    "        'расписание в плановом периоде']))\n",
    "\n",
    "results = []  \n",
    "for index, row in df_test.iterrows():\n",
    "    # Получаем юзера\n",
    "    user_id = row['уникальный номер участника']\n",
    "    x = model.recommend(users=[user_id], k=1000).to_dataframe()\n",
    "    x = x[x['group_id'].isin(groups2023)]\n",
    "    #Выбираем первые 10 предсказаний\n",
    "    x = x.head(10)\n",
    "\n",
    "    groups_list = x['group_id'].to_list()\n",
    "    groups_list = [str(x) for x in groups_list]    \n",
    "    groups_str = ','.join(groups_list)\n",
    "    results.append(groups_str)\n",
    "    #print(groups_str)\n",
    "    \n",
    "df_test['уникальный номер группы'] = results\n",
    "df_test.to_csv('test.xsv', index=False)\n"
   ]
  },
  {
   "cell_type": "code",
   "execution_count": 62,
   "id": "425f77bb",
   "metadata": {},
   "outputs": [
    {
     "name": "stderr",
     "output_type": "stream",
     "text": [
      "/tmp/ipykernel_4305/1640993157.py:1: SettingWithCopyWarning: \n",
      "A value is trying to be set on a copy of a slice from a DataFrame\n",
      "\n",
      "See the caveats in the documentation: https://pandas.pydata.org/pandas-docs/stable/user_guide/indexing.html#returning-a-view-versus-a-copy\n",
      "  df_test.loc[0]['уникальный номер группы'] = 1\n"
     ]
    }
   ],
   "source": [
    "df_test.loc[0]['уникальный номер группы'] = 1"
   ]
  },
  {
   "cell_type": "code",
   "execution_count": 63,
   "id": "3a007615",
   "metadata": {},
   "outputs": [
    {
     "data": {
      "text/html": [
       "<div>\n",
       "<style scoped>\n",
       "    .dataframe tbody tr th:only-of-type {\n",
       "        vertical-align: middle;\n",
       "    }\n",
       "\n",
       "    .dataframe tbody tr th {\n",
       "        vertical-align: top;\n",
       "    }\n",
       "\n",
       "    .dataframe thead th {\n",
       "        text-align: right;\n",
       "    }\n",
       "</style>\n",
       "<table border=\"1\" class=\"dataframe\">\n",
       "  <thead>\n",
       "    <tr style=\"text-align: right;\">\n",
       "      <th></th>\n",
       "      <th>уникальный номер участника</th>\n",
       "      <th>уникальный номер группы</th>\n",
       "    </tr>\n",
       "  </thead>\n",
       "  <tbody>\n",
       "    <tr>\n",
       "      <th>0</th>\n",
       "      <td>101346610</td>\n",
       "      <td>NaN</td>\n",
       "    </tr>\n",
       "    <tr>\n",
       "      <th>1</th>\n",
       "      <td>101346612</td>\n",
       "      <td>NaN</td>\n",
       "    </tr>\n",
       "    <tr>\n",
       "      <th>2</th>\n",
       "      <td>101347269</td>\n",
       "      <td>NaN</td>\n",
       "    </tr>\n",
       "    <tr>\n",
       "      <th>3</th>\n",
       "      <td>101347321</td>\n",
       "      <td>NaN</td>\n",
       "    </tr>\n",
       "    <tr>\n",
       "      <th>4</th>\n",
       "      <td>101347983</td>\n",
       "      <td>NaN</td>\n",
       "    </tr>\n",
       "    <tr>\n",
       "      <th>...</th>\n",
       "      <td>...</td>\n",
       "      <td>...</td>\n",
       "    </tr>\n",
       "    <tr>\n",
       "      <th>195</th>\n",
       "      <td>101447423</td>\n",
       "      <td>NaN</td>\n",
       "    </tr>\n",
       "    <tr>\n",
       "      <th>196</th>\n",
       "      <td>101447935</td>\n",
       "      <td>NaN</td>\n",
       "    </tr>\n",
       "    <tr>\n",
       "      <th>197</th>\n",
       "      <td>101449373</td>\n",
       "      <td>NaN</td>\n",
       "    </tr>\n",
       "    <tr>\n",
       "      <th>198</th>\n",
       "      <td>101449505</td>\n",
       "      <td>NaN</td>\n",
       "    </tr>\n",
       "    <tr>\n",
       "      <th>199</th>\n",
       "      <td>101449555</td>\n",
       "      <td>NaN</td>\n",
       "    </tr>\n",
       "  </tbody>\n",
       "</table>\n",
       "<p>200 rows × 2 columns</p>\n",
       "</div>"
      ],
      "text/plain": [
       "     уникальный номер участника  уникальный номер группы\n",
       "0                     101346610                      NaN\n",
       "1                     101346612                      NaN\n",
       "2                     101347269                      NaN\n",
       "3                     101347321                      NaN\n",
       "4                     101347983                      NaN\n",
       "..                          ...                      ...\n",
       "195                   101447423                      NaN\n",
       "196                   101447935                      NaN\n",
       "197                   101449373                      NaN\n",
       "198                   101449505                      NaN\n",
       "199                   101449555                      NaN\n",
       "\n",
       "[200 rows x 2 columns]"
      ]
     },
     "metadata": {},
     "output_type": "display_data"
    }
   ],
   "source": [
    "display(df_test)"
   ]
  },
  {
   "cell_type": "code",
   "execution_count": null,
   "id": "13b183ba",
   "metadata": {},
   "outputs": [],
   "source": []
  },
  {
   "cell_type": "code",
   "execution_count": null,
   "id": "d127b6d2",
   "metadata": {},
   "outputs": [],
   "source": []
  },
  {
   "cell_type": "markdown",
   "id": "ca413c00",
   "metadata": {},
   "source": [
    "### Исключаем предсказания групп, которых не будет в марте-апреле"
   ]
  },
  {
   "cell_type": "code",
   "execution_count": null,
   "id": "674e3a12",
   "metadata": {},
   "outputs": [],
   "source": []
  },
  {
   "cell_type": "markdown",
   "id": "898a27db",
   "metadata": {},
   "source": [
    "### Сохраняем test.csv"
   ]
  },
  {
   "cell_type": "code",
   "execution_count": null,
   "id": "8cfe9437",
   "metadata": {},
   "outputs": [],
   "source": []
  }
 ],
 "metadata": {
  "kernelspec": {
   "display_name": "Python 3 (ipykernel)",
   "language": "python",
   "name": "python3"
  },
  "language_info": {
   "codemirror_mode": {
    "name": "ipython",
    "version": 3
   },
   "file_extension": ".py",
   "mimetype": "text/x-python",
   "name": "python",
   "nbconvert_exporter": "python",
   "pygments_lexer": "ipython3",
   "version": "3.8.16"
  }
 },
 "nbformat": 4,
 "nbformat_minor": 5
}
