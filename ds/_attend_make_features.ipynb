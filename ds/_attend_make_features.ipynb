{
 "cells": [
  {
   "cell_type": "markdown",
   "id": "2a9e5b4d",
   "metadata": {},
   "source": [
    "### Для входа нужны\n",
    "- attend.csv\n",
    "- groups.csv\n",
    "- uniq_streets_coords.csv\n",
    "- _users_features.csv\n",
    "\n",
    "### Выход\n",
    "- _attend_features.csv"
   ]
  },
  {
   "cell_type": "code",
   "execution_count": 1,
   "id": "057262cb",
   "metadata": {
    "ExecuteTime": {
     "end_time": "2023-05-27T11:23:01.694669Z",
     "start_time": "2023-05-27T11:23:01.419835Z"
    }
   },
   "outputs": [],
   "source": [
    "import numpy as np\n",
    "import pandas as pd"
   ]
  },
  {
   "cell_type": "markdown",
   "id": "ab317814",
   "metadata": {},
   "source": [
    "### Читаем данные"
   ]
  },
  {
   "cell_type": "code",
   "execution_count": 2,
   "id": "b8b318f3",
   "metadata": {
    "ExecuteTime": {
     "end_time": "2023-05-27T11:23:08.803669Z",
     "start_time": "2023-05-27T11:23:01.695669Z"
    },
    "scrolled": true
   },
   "outputs": [
    {
     "data": {
      "text/html": [
       "<div>\n",
       "<style scoped>\n",
       "    .dataframe tbody tr th:only-of-type {\n",
       "        vertical-align: middle;\n",
       "    }\n",
       "\n",
       "    .dataframe tbody tr th {\n",
       "        vertical-align: top;\n",
       "    }\n",
       "\n",
       "    .dataframe thead th {\n",
       "        text-align: right;\n",
       "    }\n",
       "</style>\n",
       "<table border=\"1\" class=\"dataframe\">\n",
       "  <thead>\n",
       "    <tr style=\"text-align: right;\">\n",
       "      <th></th>\n",
       "      <th>уникальный номер занятия</th>\n",
       "      <th>уникальный номер группы</th>\n",
       "      <th>уникальный номер участника</th>\n",
       "      <th>направление 2</th>\n",
       "      <th>направление 3</th>\n",
       "      <th>онлайн/офлайн</th>\n",
       "      <th>дата занятия</th>\n",
       "      <th>время начала занятия</th>\n",
       "      <th>время окончания занятия</th>\n",
       "      <th>weekend</th>\n",
       "    </tr>\n",
       "  </thead>\n",
       "  <tbody>\n",
       "    <tr>\n",
       "      <th>0</th>\n",
       "      <td>401346550</td>\n",
       "      <td>801346550</td>\n",
       "      <td>101352023</td>\n",
       "      <td>ОНЛАЙН Гимнастика</td>\n",
       "      <td>ОНЛАЙН Цигун</td>\n",
       "      <td>Да</td>\n",
       "      <td>2022-08-01</td>\n",
       "      <td>09:00:00</td>\n",
       "      <td>10:00:00</td>\n",
       "      <td>False</td>\n",
       "    </tr>\n",
       "    <tr>\n",
       "      <th>1</th>\n",
       "      <td>401346550</td>\n",
       "      <td>801346550</td>\n",
       "      <td>101385462</td>\n",
       "      <td>ОНЛАЙН Гимнастика</td>\n",
       "      <td>ОНЛАЙН Цигун</td>\n",
       "      <td>Да</td>\n",
       "      <td>2022-08-01</td>\n",
       "      <td>09:00:00</td>\n",
       "      <td>10:00:00</td>\n",
       "      <td>False</td>\n",
       "    </tr>\n",
       "    <tr>\n",
       "      <th>2</th>\n",
       "      <td>401346550</td>\n",
       "      <td>801346550</td>\n",
       "      <td>101421897</td>\n",
       "      <td>ОНЛАЙН Гимнастика</td>\n",
       "      <td>ОНЛАЙН Цигун</td>\n",
       "      <td>Да</td>\n",
       "      <td>2022-08-01</td>\n",
       "      <td>09:00:00</td>\n",
       "      <td>10:00:00</td>\n",
       "      <td>False</td>\n",
       "    </tr>\n",
       "    <tr>\n",
       "      <th>3</th>\n",
       "      <td>401346550</td>\n",
       "      <td>801346550</td>\n",
       "      <td>101354499</td>\n",
       "      <td>ОНЛАЙН Гимнастика</td>\n",
       "      <td>ОНЛАЙН Цигун</td>\n",
       "      <td>Да</td>\n",
       "      <td>2022-08-01</td>\n",
       "      <td>09:00:00</td>\n",
       "      <td>10:00:00</td>\n",
       "      <td>False</td>\n",
       "    </tr>\n",
       "    <tr>\n",
       "      <th>4</th>\n",
       "      <td>401346550</td>\n",
       "      <td>801346550</td>\n",
       "      <td>101421312</td>\n",
       "      <td>ОНЛАЙН Гимнастика</td>\n",
       "      <td>ОНЛАЙН Цигун</td>\n",
       "      <td>Да</td>\n",
       "      <td>2022-08-01</td>\n",
       "      <td>09:00:00</td>\n",
       "      <td>10:00:00</td>\n",
       "      <td>False</td>\n",
       "    </tr>\n",
       "    <tr>\n",
       "      <th>...</th>\n",
       "      <td>...</td>\n",
       "      <td>...</td>\n",
       "      <td>...</td>\n",
       "      <td>...</td>\n",
       "      <td>...</td>\n",
       "      <td>...</td>\n",
       "      <td>...</td>\n",
       "      <td>...</td>\n",
       "      <td>...</td>\n",
       "      <td>...</td>\n",
       "    </tr>\n",
       "    <tr>\n",
       "      <th>5901269</th>\n",
       "      <td>402103132</td>\n",
       "      <td>801371145</td>\n",
       "      <td>101421020</td>\n",
       "      <td>ОНЛАЙН Пеший лекторий</td>\n",
       "      <td>ОНЛАЙН Краеведение и онлайн-экскурсии</td>\n",
       "      <td>Да</td>\n",
       "      <td>2023-01-31</td>\n",
       "      <td>12:30:00</td>\n",
       "      <td>14:30:00</td>\n",
       "      <td>False</td>\n",
       "    </tr>\n",
       "    <tr>\n",
       "      <th>5901270</th>\n",
       "      <td>402103132</td>\n",
       "      <td>801371145</td>\n",
       "      <td>101359314</td>\n",
       "      <td>ОНЛАЙН Пеший лекторий</td>\n",
       "      <td>ОНЛАЙН Краеведение и онлайн-экскурсии</td>\n",
       "      <td>Да</td>\n",
       "      <td>2023-01-31</td>\n",
       "      <td>12:30:00</td>\n",
       "      <td>14:30:00</td>\n",
       "      <td>False</td>\n",
       "    </tr>\n",
       "    <tr>\n",
       "      <th>5901271</th>\n",
       "      <td>402103132</td>\n",
       "      <td>801371145</td>\n",
       "      <td>101357904</td>\n",
       "      <td>ОНЛАЙН Пеший лекторий</td>\n",
       "      <td>ОНЛАЙН Краеведение и онлайн-экскурсии</td>\n",
       "      <td>Да</td>\n",
       "      <td>2023-01-31</td>\n",
       "      <td>12:30:00</td>\n",
       "      <td>14:30:00</td>\n",
       "      <td>False</td>\n",
       "    </tr>\n",
       "    <tr>\n",
       "      <th>5901272</th>\n",
       "      <td>402103132</td>\n",
       "      <td>801371145</td>\n",
       "      <td>101383123</td>\n",
       "      <td>ОНЛАЙН Пеший лекторий</td>\n",
       "      <td>ОНЛАЙН Краеведение и онлайн-экскурсии</td>\n",
       "      <td>Да</td>\n",
       "      <td>2023-01-31</td>\n",
       "      <td>12:30:00</td>\n",
       "      <td>14:30:00</td>\n",
       "      <td>False</td>\n",
       "    </tr>\n",
       "    <tr>\n",
       "      <th>5901273</th>\n",
       "      <td>402103132</td>\n",
       "      <td>801371145</td>\n",
       "      <td>101405313</td>\n",
       "      <td>ОНЛАЙН Пеший лекторий</td>\n",
       "      <td>ОНЛАЙН Краеведение и онлайн-экскурсии</td>\n",
       "      <td>Да</td>\n",
       "      <td>2023-01-31</td>\n",
       "      <td>12:30:00</td>\n",
       "      <td>14:30:00</td>\n",
       "      <td>False</td>\n",
       "    </tr>\n",
       "  </tbody>\n",
       "</table>\n",
       "<p>5901274 rows × 10 columns</p>\n",
       "</div>"
      ],
      "text/plain": [
       "         уникальный номер занятия  уникальный номер группы   \n",
       "0                       401346550                801346550  \\\n",
       "1                       401346550                801346550   \n",
       "2                       401346550                801346550   \n",
       "3                       401346550                801346550   \n",
       "4                       401346550                801346550   \n",
       "...                           ...                      ...   \n",
       "5901269                 402103132                801371145   \n",
       "5901270                 402103132                801371145   \n",
       "5901271                 402103132                801371145   \n",
       "5901272                 402103132                801371145   \n",
       "5901273                 402103132                801371145   \n",
       "\n",
       "         уникальный номер участника          направление 2   \n",
       "0                         101352023      ОНЛАЙН Гимнастика  \\\n",
       "1                         101385462      ОНЛАЙН Гимнастика   \n",
       "2                         101421897      ОНЛАЙН Гимнастика   \n",
       "3                         101354499      ОНЛАЙН Гимнастика   \n",
       "4                         101421312      ОНЛАЙН Гимнастика   \n",
       "...                             ...                    ...   \n",
       "5901269                   101421020  ОНЛАЙН Пеший лекторий   \n",
       "5901270                   101359314  ОНЛАЙН Пеший лекторий   \n",
       "5901271                   101357904  ОНЛАЙН Пеший лекторий   \n",
       "5901272                   101383123  ОНЛАЙН Пеший лекторий   \n",
       "5901273                   101405313  ОНЛАЙН Пеший лекторий   \n",
       "\n",
       "                                 направление 3 онлайн/офлайн дата занятия   \n",
       "0                                 ОНЛАЙН Цигун            Да   2022-08-01  \\\n",
       "1                                 ОНЛАЙН Цигун            Да   2022-08-01   \n",
       "2                                 ОНЛАЙН Цигун            Да   2022-08-01   \n",
       "3                                 ОНЛАЙН Цигун            Да   2022-08-01   \n",
       "4                                 ОНЛАЙН Цигун            Да   2022-08-01   \n",
       "...                                        ...           ...          ...   \n",
       "5901269  ОНЛАЙН Краеведение и онлайн-экскурсии            Да   2023-01-31   \n",
       "5901270  ОНЛАЙН Краеведение и онлайн-экскурсии            Да   2023-01-31   \n",
       "5901271  ОНЛАЙН Краеведение и онлайн-экскурсии            Да   2023-01-31   \n",
       "5901272  ОНЛАЙН Краеведение и онлайн-экскурсии            Да   2023-01-31   \n",
       "5901273  ОНЛАЙН Краеведение и онлайн-экскурсии            Да   2023-01-31   \n",
       "\n",
       "        время начала занятия время окончания занятия  weekend  \n",
       "0                   09:00:00                10:00:00    False  \n",
       "1                   09:00:00                10:00:00    False  \n",
       "2                   09:00:00                10:00:00    False  \n",
       "3                   09:00:00                10:00:00    False  \n",
       "4                   09:00:00                10:00:00    False  \n",
       "...                      ...                     ...      ...  \n",
       "5901269             12:30:00                14:30:00    False  \n",
       "5901270             12:30:00                14:30:00    False  \n",
       "5901271             12:30:00                14:30:00    False  \n",
       "5901272             12:30:00                14:30:00    False  \n",
       "5901273             12:30:00                14:30:00    False  \n",
       "\n",
       "[5901274 rows x 10 columns]"
      ]
     },
     "metadata": {},
     "output_type": "display_data"
    }
   ],
   "source": [
    "df_attend = pd.read_csv('attend.csv')\n",
    "if 'Unnamed: 0' in df_attend.columns:\n",
    "    df_attend.drop(columns=['Unnamed: 0'], inplace=True)\n",
    "display(df_attend)"
   ]
  },
  {
   "cell_type": "markdown",
   "id": "86bb1c4f",
   "metadata": {},
   "source": [
    "### Группируем отдельные занятия посещения человеком, формируем новый столбец с количеством посещений"
   ]
  },
  {
   "cell_type": "code",
   "execution_count": 3,
   "id": "378f7c92",
   "metadata": {
    "ExecuteTime": {
     "end_time": "2023-05-27T11:23:09.759670Z",
     "start_time": "2023-05-27T11:23:08.804670Z"
    },
    "scrolled": true
   },
   "outputs": [
    {
     "data": {
      "text/html": [
       "<div>\n",
       "<style scoped>\n",
       "    .dataframe tbody tr th:only-of-type {\n",
       "        vertical-align: middle;\n",
       "    }\n",
       "\n",
       "    .dataframe tbody tr th {\n",
       "        vertical-align: top;\n",
       "    }\n",
       "\n",
       "    .dataframe thead th {\n",
       "        text-align: right;\n",
       "    }\n",
       "</style>\n",
       "<table border=\"1\" class=\"dataframe\">\n",
       "  <thead>\n",
       "    <tr style=\"text-align: right;\">\n",
       "      <th></th>\n",
       "      <th>уникальный номер группы</th>\n",
       "      <th>уникальный номер участника</th>\n",
       "      <th>size</th>\n",
       "      <th>направление 2</th>\n",
       "      <th>направление 3</th>\n",
       "      <th>онлайн/офлайн</th>\n",
       "      <th>время начала занятия</th>\n",
       "      <th>время окончания занятия</th>\n",
       "      <th>weekend</th>\n",
       "    </tr>\n",
       "  </thead>\n",
       "  <tbody>\n",
       "    <tr>\n",
       "      <th>0</th>\n",
       "      <td>801346549</td>\n",
       "      <td>101370217</td>\n",
       "      <td>8</td>\n",
       "      <td>Здорово жить</td>\n",
       "      <td>Здорово жить</td>\n",
       "      <td>Нет</td>\n",
       "      <td>09:00:00</td>\n",
       "      <td>10:00:00</td>\n",
       "      <td>False</td>\n",
       "    </tr>\n",
       "    <tr>\n",
       "      <th>1</th>\n",
       "      <td>801346549</td>\n",
       "      <td>101375025</td>\n",
       "      <td>21</td>\n",
       "      <td>Здорово жить</td>\n",
       "      <td>Здорово жить</td>\n",
       "      <td>Нет</td>\n",
       "      <td>09:00:00</td>\n",
       "      <td>10:00:00</td>\n",
       "      <td>False</td>\n",
       "    </tr>\n",
       "    <tr>\n",
       "      <th>2</th>\n",
       "      <td>801346549</td>\n",
       "      <td>101392971</td>\n",
       "      <td>1</td>\n",
       "      <td>Здорово жить</td>\n",
       "      <td>Здорово жить</td>\n",
       "      <td>Нет</td>\n",
       "      <td>09:00:00</td>\n",
       "      <td>10:00:00</td>\n",
       "      <td>False</td>\n",
       "    </tr>\n",
       "    <tr>\n",
       "      <th>3</th>\n",
       "      <td>801346550</td>\n",
       "      <td>101352023</td>\n",
       "      <td>64</td>\n",
       "      <td>ОНЛАЙН Гимнастика</td>\n",
       "      <td>ОНЛАЙН Цигун</td>\n",
       "      <td>Да</td>\n",
       "      <td>09:00:00</td>\n",
       "      <td>10:00:00</td>\n",
       "      <td>False</td>\n",
       "    </tr>\n",
       "    <tr>\n",
       "      <th>4</th>\n",
       "      <td>801346550</td>\n",
       "      <td>101354499</td>\n",
       "      <td>64</td>\n",
       "      <td>ОНЛАЙН Гимнастика</td>\n",
       "      <td>ОНЛАЙН Цигун</td>\n",
       "      <td>Да</td>\n",
       "      <td>09:00:00</td>\n",
       "      <td>10:00:00</td>\n",
       "      <td>False</td>\n",
       "    </tr>\n",
       "    <tr>\n",
       "      <th>...</th>\n",
       "      <td>...</td>\n",
       "      <td>...</td>\n",
       "      <td>...</td>\n",
       "      <td>...</td>\n",
       "      <td>...</td>\n",
       "      <td>...</td>\n",
       "      <td>...</td>\n",
       "      <td>...</td>\n",
       "      <td>...</td>\n",
       "    </tr>\n",
       "    <tr>\n",
       "      <th>600385</th>\n",
       "      <td>801373868</td>\n",
       "      <td>101374314</td>\n",
       "      <td>2</td>\n",
       "      <td>Художественно-прикладное творчество</td>\n",
       "      <td>Керамика (глина, тестопластика)</td>\n",
       "      <td>Нет</td>\n",
       "      <td>13:00:00</td>\n",
       "      <td>14:00:00</td>\n",
       "      <td>False</td>\n",
       "    </tr>\n",
       "    <tr>\n",
       "      <th>600386</th>\n",
       "      <td>801373869</td>\n",
       "      <td>101372152</td>\n",
       "      <td>1</td>\n",
       "      <td>Рисование</td>\n",
       "      <td>Различные техники рисования</td>\n",
       "      <td>Нет</td>\n",
       "      <td>15:00:00</td>\n",
       "      <td>17:00:00</td>\n",
       "      <td>False</td>\n",
       "    </tr>\n",
       "    <tr>\n",
       "      <th>600387</th>\n",
       "      <td>801373869</td>\n",
       "      <td>101436322</td>\n",
       "      <td>1</td>\n",
       "      <td>Рисование</td>\n",
       "      <td>Различные техники рисования</td>\n",
       "      <td>Нет</td>\n",
       "      <td>15:00:00</td>\n",
       "      <td>17:00:00</td>\n",
       "      <td>False</td>\n",
       "    </tr>\n",
       "    <tr>\n",
       "      <th>600388</th>\n",
       "      <td>801373870</td>\n",
       "      <td>101439415</td>\n",
       "      <td>3</td>\n",
       "      <td>Домоводство</td>\n",
       "      <td>Вторая жизнь вещей</td>\n",
       "      <td>Нет</td>\n",
       "      <td>11:00:00</td>\n",
       "      <td>13:00:00</td>\n",
       "      <td>False</td>\n",
       "    </tr>\n",
       "    <tr>\n",
       "      <th>600389</th>\n",
       "      <td>801373870</td>\n",
       "      <td>101444276</td>\n",
       "      <td>1</td>\n",
       "      <td>Домоводство</td>\n",
       "      <td>Вторая жизнь вещей</td>\n",
       "      <td>Нет</td>\n",
       "      <td>11:00:00</td>\n",
       "      <td>13:00:00</td>\n",
       "      <td>False</td>\n",
       "    </tr>\n",
       "  </tbody>\n",
       "</table>\n",
       "<p>600390 rows × 9 columns</p>\n",
       "</div>"
      ],
      "text/plain": [
       "        уникальный номер группы  уникальный номер участника  size   \n",
       "0                     801346549                   101370217     8  \\\n",
       "1                     801346549                   101375025    21   \n",
       "2                     801346549                   101392971     1   \n",
       "3                     801346550                   101352023    64   \n",
       "4                     801346550                   101354499    64   \n",
       "...                         ...                         ...   ...   \n",
       "600385                801373868                   101374314     2   \n",
       "600386                801373869                   101372152     1   \n",
       "600387                801373869                   101436322     1   \n",
       "600388                801373870                   101439415     3   \n",
       "600389                801373870                   101444276     1   \n",
       "\n",
       "                              направление 2                    направление 3   \n",
       "0                              Здорово жить                     Здорово жить  \\\n",
       "1                              Здорово жить                     Здорово жить   \n",
       "2                              Здорово жить                     Здорово жить   \n",
       "3                         ОНЛАЙН Гимнастика                     ОНЛАЙН Цигун   \n",
       "4                         ОНЛАЙН Гимнастика                     ОНЛАЙН Цигун   \n",
       "...                                     ...                              ...   \n",
       "600385  Художественно-прикладное творчество  Керамика (глина, тестопластика)   \n",
       "600386                            Рисование      Различные техники рисования   \n",
       "600387                            Рисование      Различные техники рисования   \n",
       "600388                          Домоводство               Вторая жизнь вещей   \n",
       "600389                          Домоводство               Вторая жизнь вещей   \n",
       "\n",
       "       онлайн/офлайн время начала занятия время окончания занятия  weekend  \n",
       "0                Нет             09:00:00                10:00:00    False  \n",
       "1                Нет             09:00:00                10:00:00    False  \n",
       "2                Нет             09:00:00                10:00:00    False  \n",
       "3                 Да             09:00:00                10:00:00    False  \n",
       "4                 Да             09:00:00                10:00:00    False  \n",
       "...              ...                  ...                     ...      ...  \n",
       "600385           Нет             13:00:00                14:00:00    False  \n",
       "600386           Нет             15:00:00                17:00:00    False  \n",
       "600387           Нет             15:00:00                17:00:00    False  \n",
       "600388           Нет             11:00:00                13:00:00    False  \n",
       "600389           Нет             11:00:00                13:00:00    False  \n",
       "\n",
       "[600390 rows x 9 columns]"
      ]
     },
     "metadata": {},
     "output_type": "display_data"
    }
   ],
   "source": [
    "tmp = df_attend.groupby(['уникальный номер группы','уникальный номер участника'], as_index=False).size()\n",
    "df_attend = tmp.merge(df_attend.drop_duplicates(subset=['уникальный номер группы', 'уникальный номер участника'], keep='last'), left_on=['уникальный номер группы','уникальный номер участника'], right_on=['уникальный номер группы','уникальный номер участника'], how='left')\n",
    "df_attend = df_attend.drop(columns=['дата занятия','уникальный номер занятия'])\n",
    "display(df_attend)"
   ]
  },
  {
   "cell_type": "markdown",
   "id": "0b1e8f7e",
   "metadata": {},
   "source": [
    "### Вычисляем длительность занятия"
   ]
  },
  {
   "cell_type": "code",
   "execution_count": 4,
   "id": "3ec18b78",
   "metadata": {
    "ExecuteTime": {
     "end_time": "2023-05-27T11:23:09.870668Z",
     "start_time": "2023-05-27T11:23:09.761675Z"
    }
   },
   "outputs": [
    {
     "name": "stderr",
     "output_type": "stream",
     "text": [
      "/tmp/ipykernel_12098/3308365057.py:1: UserWarning: Could not infer format, so each element will be parsed individually, falling back to `dateutil`. To ensure parsing is consistent and as-expected, please specify a format.\n",
      "  df_attend['lesson_length'] = (df_attend['время окончания занятия'].astype('datetime64[ns]') - df_attend['время начала занятия'].astype('datetime64[ns]'))\n",
      "/tmp/ipykernel_12098/3308365057.py:1: UserWarning: Could not infer format, so each element will be parsed individually, falling back to `dateutil`. To ensure parsing is consistent and as-expected, please specify a format.\n",
      "  df_attend['lesson_length'] = (df_attend['время окончания занятия'].astype('datetime64[ns]') - df_attend['время начала занятия'].astype('datetime64[ns]'))\n"
     ]
    }
   ],
   "source": [
    "df_attend['lesson_length'] = (df_attend['время окончания занятия'].astype('datetime64[ns]') - df_attend['время начала занятия'].astype('datetime64[ns]'))\n",
    "df_attend['lesson_length'] = df_attend['lesson_length'] / pd.Timedelta('1 hour')"
   ]
  },
  {
   "cell_type": "markdown",
   "id": "5b7d0cf4",
   "metadata": {},
   "source": [
    "### Добавляем новое поле - часть дня занятия (утро, день, вечер)"
   ]
  },
  {
   "cell_type": "code",
   "execution_count": 5,
   "id": "a7f9bc1a",
   "metadata": {
    "ExecuteTime": {
     "end_time": "2023-05-27T11:23:09.934669Z",
     "start_time": "2023-05-27T11:23:09.871670Z"
    }
   },
   "outputs": [
    {
     "name": "stderr",
     "output_type": "stream",
     "text": [
      "/tmp/ipykernel_12098/1091096973.py:3: UserWarning: Could not infer format, so each element will be parsed individually, falling back to `dateutil`. To ensure parsing is consistent and as-expected, please specify a format.\n",
      "  df_attend['session'] = pd.cut(pd.to_datetime(df_attend['время начала занятия']).dt.hour, bins=b, labels=l, include_lowest=True)\n"
     ]
    }
   ],
   "source": [
    "b = [9,13,17,23]\n",
    "l = ['mornig','aftennoon','evening']\n",
    "df_attend['session'] = pd.cut(pd.to_datetime(df_attend['время начала занятия']).dt.hour, bins=b, labels=l, include_lowest=True)"
   ]
  },
  {
   "cell_type": "markdown",
   "id": "592741b0",
   "metadata": {},
   "source": [
    "### Удаляем ненужные столбцы"
   ]
  },
  {
   "cell_type": "code",
   "execution_count": 6,
   "id": "febdd58c",
   "metadata": {
    "ExecuteTime": {
     "end_time": "2023-05-27T11:23:09.966669Z",
     "start_time": "2023-05-27T11:23:09.935671Z"
    }
   },
   "outputs": [],
   "source": [
    "df_attend = df_attend.drop(columns=['время начала занятия','время окончания занятия', 'направление 2'])"
   ]
  },
  {
   "cell_type": "markdown",
   "id": "cfc95139",
   "metadata": {},
   "source": [
    "### Логарифмируем количество посещенией занятия юзером (уменьшаем разброс между большим и малым количеством занятий на разных курсах)"
   ]
  },
  {
   "cell_type": "code",
   "execution_count": 7,
   "id": "0d5c0ada",
   "metadata": {
    "ExecuteTime": {
     "end_time": "2023-05-27T11:23:09.982669Z",
     "start_time": "2023-05-27T11:23:09.967671Z"
    }
   },
   "outputs": [],
   "source": [
    "df_attend['size'] = np.log(df_attend['size'])"
   ]
  },
  {
   "cell_type": "markdown",
   "id": "98e96bb1",
   "metadata": {},
   "source": [
    "### Переименовываем стоблцы на английский для удобства"
   ]
  },
  {
   "cell_type": "code",
   "execution_count": null,
   "id": "8836874e",
   "metadata": {
    "ExecuteTime": {
     "end_time": "2023-05-27T11:23:10.014669Z",
     "start_time": "2023-05-27T11:23:09.983670Z"
    },
    "scrolled": false
   },
   "outputs": [],
   "source": [
    "df_attend = df_attend.rename(columns={\n",
    "    'size':'log_visits',\n",
    "    \"уникальный номер группы\": \"group_id\",\n",
    "    \"уникальный номер участника\": \"user_id\",\n",
    "    'онлайн/офлайн':'is_online'})"
   ]
  },
  {
   "cell_type": "code",
   "execution_count": null,
   "id": "a0439fd0",
   "metadata": {
    "ExecuteTime": {
     "end_time": "2023-05-27T11:23:10.142670Z",
     "start_time": "2023-05-27T11:23:10.015670Z"
    }
   },
   "outputs": [],
   "source": [
    "df_attend.replace(('Да', 'Нет'), ('online', 'offline'), inplace=True)"
   ]
  },
  {
   "cell_type": "markdown",
   "id": "ed7f489c",
   "metadata": {},
   "source": [
    "## Обогащаем данными из таблицы с группами"
   ]
  },
  {
   "cell_type": "code",
   "execution_count": null,
   "id": "441fda8b",
   "metadata": {
    "ExecuteTime": {
     "end_time": "2023-05-27T11:23:10.286640Z",
     "start_time": "2023-05-27T11:23:10.144673Z"
    }
   },
   "outputs": [],
   "source": [
    "df_groups = pd.read_csv('groups.csv')\n",
    "df_groups = df_groups[['уникальный номер','направление 1','направление 2','адрес площадки']]\n",
    "display(df_groups)"
   ]
  },
  {
   "cell_type": "markdown",
   "id": "2ba96f96",
   "metadata": {},
   "source": [
    "### Вычисляем координаты занятия на основе адреса"
   ]
  },
  {
   "cell_type": "code",
   "execution_count": null,
   "id": "d0e38638",
   "metadata": {
    "ExecuteTime": {
     "end_time": "2023-05-27T11:23:10.334639Z",
     "start_time": "2023-05-27T11:23:10.287640Z"
    }
   },
   "outputs": [],
   "source": [
    "# Выделяем улицу\n",
    "def get_street(address):\n",
    "    try:\n",
    "        start = address.lower().find('москва')\n",
    "        address = address[start+7:]\n",
    "        address = address[:address.find(',')]\n",
    "    except:\n",
    "        address = 'москва'\n",
    "    address = address.replace('улица','').strip().lower()\n",
    "    return address\n",
    "\n",
    "df_groups['group_address'] = df_groups['адрес площадки'].apply(get_street)\n",
    "\n"
   ]
  },
  {
   "cell_type": "markdown",
   "id": "427651ef",
   "metadata": {},
   "source": [
    "### Читаем таблицу улиц-координат"
   ]
  },
  {
   "cell_type": "code",
   "execution_count": null,
   "id": "44c9f219",
   "metadata": {
    "ExecuteTime": {
     "end_time": "2023-05-27T11:23:10.350639Z",
     "start_time": "2023-05-27T11:23:10.335640Z"
    }
   },
   "outputs": [],
   "source": [
    "mid = '(55.7498, 37.5371)' # Башня Федерация\n",
    "\n",
    "# Получаем координаты\n",
    "df_uniq_streets_coords = pd.read_csv('uniq_streets_coords.csv')\n",
    "df_uniq_streets_coords = df_uniq_streets_coords[['для координат','Coords']]\n",
    "df_uniq_streets_coords['для координат']= df_uniq_streets_coords['для координат'].str.lower()\n",
    "df_uniq_streets_coords['Coords'].fillna(mid, inplace=True)\n",
    "\n",
    "streets_dict = dict(zip(df_uniq_streets_coords['для координат'], df_uniq_streets_coords['Coords']))"
   ]
  },
  {
   "cell_type": "code",
   "execution_count": null,
   "id": "1eaa2e20",
   "metadata": {
    "ExecuteTime": {
     "end_time": "2023-05-27T11:23:10.366639Z",
     "start_time": "2023-05-27T11:23:10.351639Z"
    },
    "scrolled": true
   },
   "outputs": [],
   "source": [
    "display(df_groups)"
   ]
  },
  {
   "cell_type": "markdown",
   "id": "75c761d8",
   "metadata": {},
   "source": [
    "### Добавляем координаты занятия (на основе адреса улицы)"
   ]
  },
  {
   "cell_type": "code",
   "execution_count": null,
   "id": "2f179b3f",
   "metadata": {
    "ExecuteTime": {
     "end_time": "2023-05-27T11:23:21.876928Z",
     "start_time": "2023-05-27T11:23:10.367640Z"
    },
    "scrolled": true
   },
   "outputs": [],
   "source": [
    "def match_street_coords(street):  \n",
    "    res = []\n",
    "    for i in streets_dict.keys():\n",
    "        if(i.find(street) != -1):\n",
    "            res.append(streets_dict[i])    \n",
    "    if len(res) > 0:\n",
    "        return res[0]\n",
    "    else:\n",
    "        return '(55.7498, 37.5371)'\n",
    "split_data = df_groups['group_address'].apply(match_street_coords).str.strip(')').str.strip('(').str.split(',')\n",
    "df_groups['lat'] = split_data.apply(lambda x: x[0]).astype(float)\n",
    "df_groups['long'] = split_data.apply(lambda x: x[1]).astype(float)\n",
    "df_groups = df_groups.drop(columns=['адрес площадки'])\n",
    "display(df_groups)"
   ]
  },
  {
   "cell_type": "markdown",
   "id": "877effcf",
   "metadata": {},
   "source": [
    "### Добавляем в attend столбцы направление 1, направление 2"
   ]
  },
  {
   "cell_type": "code",
   "execution_count": null,
   "id": "80b38529",
   "metadata": {
    "ExecuteTime": {
     "end_time": "2023-05-27T11:23:21.987928Z",
     "start_time": "2023-05-27T11:23:21.877929Z"
    }
   },
   "outputs": [],
   "source": [
    "df_attend = df_attend.merge(\n",
    "    df_groups,\n",
    "    left_on=['group_id'], \n",
    "    right_on=['уникальный номер'],\n",
    "    how='left')\n",
    "df_attend = df_attend.drop(columns=['уникальный номер'])"
   ]
  },
  {
   "cell_type": "code",
   "execution_count": null,
   "id": "af53ca04",
   "metadata": {
    "ExecuteTime": {
     "end_time": "2023-05-27T11:23:22.003928Z",
     "start_time": "2023-05-27T11:23:21.988928Z"
    },
    "scrolled": true
   },
   "outputs": [],
   "source": [
    "display(df_attend)"
   ]
  },
  {
   "cell_type": "markdown",
   "id": "465f43c2",
   "metadata": {},
   "source": [
    "## Обогащаем данными из таблицы с пользователями"
   ]
  },
  {
   "cell_type": "code",
   "execution_count": null,
   "id": "249f3adb",
   "metadata": {},
   "outputs": [],
   "source": [
    "df_users = pd.read_csv('_users_features.csv')\n",
    "df_users.drop(columns=['Unnamed: 0'],inplace=True)\n",
    "display(df_users)"
   ]
  },
  {
   "cell_type": "code",
   "execution_count": null,
   "id": "77a9be90",
   "metadata": {},
   "outputs": [],
   "source": [
    "df_attend = df_attend.merge(\n",
    "    df_users,\n",
    "    left_on=['user_id'], \n",
    "    right_on=['user_id'],\n",
    "    how='left')\n"
   ]
  },
  {
   "cell_type": "code",
   "execution_count": null,
   "id": "94de900f",
   "metadata": {},
   "outputs": [],
   "source": [
    "display(df_attend)"
   ]
  },
  {
   "cell_type": "markdown",
   "id": "0b5f0c12",
   "metadata": {},
   "source": [
    "### Сохраняем обогащенную таблицу"
   ]
  },
  {
   "cell_type": "code",
   "execution_count": null,
   "id": "98ef7f5d",
   "metadata": {
    "ExecuteTime": {
     "end_time": "2023-05-27T11:23:24.874928Z",
     "start_time": "2023-05-27T11:23:22.004928Z"
    }
   },
   "outputs": [],
   "source": [
    "df_attend.to_csv('_attend_features.csv')"
   ]
  },
  {
   "cell_type": "code",
   "execution_count": null,
   "id": "1439b842",
   "metadata": {},
   "outputs": [],
   "source": []
  },
  {
   "cell_type": "code",
   "execution_count": null,
   "id": "43f1392d",
   "metadata": {},
   "outputs": [],
   "source": []
  },
  {
   "cell_type": "code",
   "execution_count": null,
   "id": "130f67ff",
   "metadata": {},
   "outputs": [],
   "source": []
  },
  {
   "cell_type": "code",
   "execution_count": null,
   "id": "82ae57a4",
   "metadata": {},
   "outputs": [],
   "source": []
  },
  {
   "cell_type": "code",
   "execution_count": null,
   "id": "04381768",
   "metadata": {},
   "outputs": [],
   "source": []
  },
  {
   "cell_type": "code",
   "execution_count": null,
   "id": "36766ea5",
   "metadata": {},
   "outputs": [],
   "source": []
  },
  {
   "cell_type": "code",
   "execution_count": null,
   "id": "1193794c",
   "metadata": {},
   "outputs": [],
   "source": []
  },
  {
   "cell_type": "code",
   "execution_count": null,
   "id": "bd5e6ff5",
   "metadata": {},
   "outputs": [],
   "source": []
  },
  {
   "cell_type": "code",
   "execution_count": null,
   "id": "fcd7f0f7",
   "metadata": {},
   "outputs": [],
   "source": []
  },
  {
   "cell_type": "code",
   "execution_count": null,
   "id": "efc3db44",
   "metadata": {},
   "outputs": [],
   "source": []
  },
  {
   "cell_type": "code",
   "execution_count": null,
   "id": "a3b3d84d",
   "metadata": {},
   "outputs": [],
   "source": []
  },
  {
   "cell_type": "code",
   "execution_count": null,
   "id": "7224503c",
   "metadata": {},
   "outputs": [],
   "source": []
  },
  {
   "cell_type": "code",
   "execution_count": null,
   "id": "ec2d8976",
   "metadata": {},
   "outputs": [],
   "source": []
  },
  {
   "cell_type": "code",
   "execution_count": null,
   "id": "514f4a33",
   "metadata": {},
   "outputs": [],
   "source": []
  },
  {
   "cell_type": "code",
   "execution_count": null,
   "id": "b182fe23",
   "metadata": {},
   "outputs": [],
   "source": []
  },
  {
   "cell_type": "code",
   "execution_count": null,
   "id": "60311b67",
   "metadata": {},
   "outputs": [],
   "source": []
  }
 ],
 "metadata": {
  "kernelspec": {
   "display_name": "Python 3 (ipykernel)",
   "language": "python",
   "name": "python3"
  },
  "language_info": {
   "codemirror_mode": {
    "name": "ipython",
    "version": 3
   },
   "file_extension": ".py",
   "mimetype": "text/x-python",
   "name": "python",
   "nbconvert_exporter": "python",
   "pygments_lexer": "ipython3",
   "version": "3.8.16"
  }
 },
 "nbformat": 4,
 "nbformat_minor": 5
}
