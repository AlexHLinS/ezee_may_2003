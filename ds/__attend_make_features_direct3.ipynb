{
 "cells": [
  {
   "cell_type": "markdown",
   "id": "2a9e5b4d",
   "metadata": {},
   "source": [
    "### Для входа нужны\n",
    "- attend.csv\n",
    "- groups.csv\n",
    "- uniq_streets_coords.csv\n",
    "- _users_features.csv\n",
    "\n",
    "### Выход\n",
    "- _attend_features.csv"
   ]
  },
  {
   "cell_type": "code",
   "execution_count": 1,
   "id": "057262cb",
   "metadata": {
    "ExecuteTime": {
     "end_time": "2023-06-06T18:38:38.206851Z",
     "start_time": "2023-06-06T18:38:37.930483Z"
    }
   },
   "outputs": [],
   "source": [
    "import numpy as np\n",
    "import pandas as pd"
   ]
  },
  {
   "cell_type": "markdown",
   "id": "ab317814",
   "metadata": {},
   "source": [
    "### Читаем данные"
   ]
  },
  {
   "cell_type": "code",
   "execution_count": 2,
   "id": "b8b318f3",
   "metadata": {
    "ExecuteTime": {
     "end_time": "2023-06-06T18:38:45.429853Z",
     "start_time": "2023-06-06T18:38:38.207854Z"
    },
    "scrolled": true
   },
   "outputs": [],
   "source": [
    "df_attend = pd.read_csv('attend.csv')\n",
    "if 'Unnamed: 0' in df_attend.columns:\n",
    "    df_attend.drop(columns=['Unnamed: 0'], inplace=True)\n",
    "display(df_attend)"
   ]
  },
  {
   "cell_type": "markdown",
   "id": "86bb1c4f",
   "metadata": {},
   "source": [
    "### Группируем отдельные занятия посещения человеком, формируем новый столбец с количеством посещений"
   ]
  },
  {
   "cell_type": "code",
   "execution_count": 3,
   "id": "378f7c92",
   "metadata": {
    "ExecuteTime": {
     "end_time": "2023-06-06T18:38:46.400852Z",
     "start_time": "2023-06-06T18:38:45.430855Z"
    },
    "scrolled": true
   },
   "outputs": [],
   "source": [
    "df_attend.drop(columns = ['уникальный номер группы'],inplace =True)\n",
    "\n",
    "tmp = df_attend.groupby(['уникальный номер участника', 'направление 3'], as_index=False).size()\n",
    "\n",
    "df_attend = tmp.merge(\n",
    "    df_attend.drop_duplicates(subset=['уникальный номер участника', 'направление 3'], keep='last'),\n",
    "    left_on=['направление 3','уникальный номер участника', ],\n",
    "    right_on=['направление 3','уникальный номер участника', ], how='left')\n",
    "\n",
    "df_attend = df_attend.drop(columns=['дата занятия','уникальный номер занятия'])\n",
    "display(df_attend)"
   ]
  },
  {
   "cell_type": "markdown",
   "id": "0b1e8f7e",
   "metadata": {},
   "source": [
    "### Вычисляем длительность занятия"
   ]
  },
  {
   "cell_type": "code",
   "execution_count": 4,
   "id": "3ec18b78",
   "metadata": {
    "ExecuteTime": {
     "end_time": "2023-06-06T18:38:46.496853Z",
     "start_time": "2023-06-06T18:38:46.402856Z"
    }
   },
   "outputs": [],
   "source": [
    "df_attend['lesson_length'] = (df_attend['время окончания занятия'].astype('datetime64[ns]') - df_attend['время начала занятия'].astype('datetime64[ns]'))\n",
    "df_attend['lesson_length'] = df_attend['lesson_length'] / pd.Timedelta('1 hour')"
   ]
  },
  {
   "cell_type": "markdown",
   "id": "5b7d0cf4",
   "metadata": {},
   "source": [
    "### Добавляем новое поле - часть дня занятия (утро, день, вечер)"
   ]
  },
  {
   "cell_type": "code",
   "execution_count": 5,
   "id": "a7f9bc1a",
   "metadata": {
    "ExecuteTime": {
     "end_time": "2023-06-06T18:38:46.560853Z",
     "start_time": "2023-06-06T18:38:46.497854Z"
    }
   },
   "outputs": [],
   "source": [
    "b = [9,13,17,23]\n",
    "l = ['mornig','aftennoon','evening']\n",
    "df_attend['session'] = pd.cut(pd.to_datetime(df_attend['время начала занятия']).dt.hour, bins=b, labels=l, include_lowest=True)"
   ]
  },
  {
   "cell_type": "markdown",
   "id": "592741b0",
   "metadata": {},
   "source": [
    "### Удаляем ненужные столбцы"
   ]
  },
  {
   "cell_type": "code",
   "execution_count": 6,
   "id": "febdd58c",
   "metadata": {
    "ExecuteTime": {
     "end_time": "2023-06-06T18:38:46.592852Z",
     "start_time": "2023-06-06T18:38:46.561855Z"
    }
   },
   "outputs": [],
   "source": [
    "df_attend = df_attend.drop(columns=['время начала занятия','время окончания занятия', 'направление 2'])"
   ]
  },
  {
   "cell_type": "markdown",
   "id": "cfc95139",
   "metadata": {},
   "source": [
    "### Логарифмируем количество посещенией занятия юзером (уменьшаем разброс между большим и малым количеством занятий на разных курсах)"
   ]
  },
  {
   "cell_type": "code",
   "execution_count": 7,
   "id": "0d5c0ada",
   "metadata": {
    "ExecuteTime": {
     "end_time": "2023-06-06T18:38:46.608852Z",
     "start_time": "2023-06-06T18:38:46.593855Z"
    }
   },
   "outputs": [],
   "source": [
    "df_attend['size'] = np.log(df_attend['size'])"
   ]
  },
  {
   "cell_type": "markdown",
   "id": "98e96bb1",
   "metadata": {},
   "source": [
    "### Переименовываем стоблцы на английский для удобства"
   ]
  },
  {
   "cell_type": "code",
   "execution_count": 8,
   "id": "8836874e",
   "metadata": {
    "ExecuteTime": {
     "end_time": "2023-06-06T18:38:46.639855Z",
     "start_time": "2023-06-06T18:38:46.609852Z"
    },
    "scrolled": false
   },
   "outputs": [],
   "source": [
    "df_attend = df_attend.rename(columns={\n",
    "    'size':'log_visits',\n",
    "    \"уникальный номер участника\": \"user_id\",\n",
    "    'онлайн/офлайн':'is_online'})"
   ]
  },
  {
   "cell_type": "code",
   "execution_count": 9,
   "id": "a0439fd0",
   "metadata": {
    "ExecuteTime": {
     "end_time": "2023-06-06T18:38:46.781852Z",
     "start_time": "2023-06-06T18:38:46.640853Z"
    }
   },
   "outputs": [],
   "source": [
    "df_attend.replace(('Да', 'Нет'), ('online', 'offline'), inplace=True)"
   ]
  },
  {
   "cell_type": "markdown",
   "id": "ed7f489c",
   "metadata": {},
   "source": [
    "## Обогащаем данными из таблицы с группами"
   ]
  },
  {
   "cell_type": "code",
   "execution_count": 10,
   "id": "441fda8b",
   "metadata": {
    "ExecuteTime": {
     "end_time": "2023-06-06T18:38:46.957853Z",
     "start_time": "2023-06-06T18:38:46.783853Z"
    }
   },
   "outputs": [],
   "source": [
    "df_groups = pd.read_csv('groups.csv')\n",
    "df_groups = df_groups[['направление 3','направление 1','направление 2','адрес площадки']]\n",
    "display(df_groups)"
   ]
  },
  {
   "cell_type": "markdown",
   "id": "2ba96f96",
   "metadata": {},
   "source": [
    "### Вычисляем координаты занятия на основе адреса"
   ]
  },
  {
   "cell_type": "code",
   "execution_count": 11,
   "id": "d0e38638",
   "metadata": {
    "ExecuteTime": {
     "end_time": "2023-06-06T18:38:47.004858Z",
     "start_time": "2023-06-06T18:38:46.958853Z"
    }
   },
   "outputs": [],
   "source": [
    "# Выделяем улицу\n",
    "def get_street(address):\n",
    "    try:\n",
    "        start = address.lower().find('москва')\n",
    "        address = address[start+7:]\n",
    "        address = address[:address.find(',')]\n",
    "    except:\n",
    "        address = 'москва'\n",
    "    address = address.replace('улица','').strip().lower()\n",
    "    return address\n",
    "\n",
    "df_groups['group_address'] = df_groups['адрес площадки'].apply(get_street)\n",
    "\n"
   ]
  },
  {
   "cell_type": "markdown",
   "id": "427651ef",
   "metadata": {},
   "source": [
    "### Читаем таблицу улиц-координат"
   ]
  },
  {
   "cell_type": "code",
   "execution_count": 12,
   "id": "44c9f219",
   "metadata": {
    "ExecuteTime": {
     "end_time": "2023-06-06T18:38:47.036852Z",
     "start_time": "2023-06-06T18:38:47.008871Z"
    }
   },
   "outputs": [],
   "source": [
    "mid = '(55.7498, 37.5371)' # Башня Федерация\n",
    "\n",
    "# Получаем координаты\n",
    "df_uniq_streets_coords = pd.read_csv('uniq_streets_coords.csv')\n",
    "df_uniq_streets_coords = df_uniq_streets_coords[['для координат','Coords']]\n",
    "df_uniq_streets_coords['для координат']= df_uniq_streets_coords['для координат'].str.lower()\n",
    "df_uniq_streets_coords['Coords'].fillna(mid, inplace=True)\n",
    "\n",
    "streets_dict = dict(zip(df_uniq_streets_coords['для координат'], df_uniq_streets_coords['Coords']))"
   ]
  },
  {
   "cell_type": "code",
   "execution_count": 13,
   "id": "24407c8e",
   "metadata": {},
   "outputs": [],
   "source": [
    "df_groups.drop_duplicates(subset=['направление 1', 'направление 2', 'направление 3'], keep='last', inplace=True)"
   ]
  },
  {
   "cell_type": "code",
   "execution_count": 14,
   "id": "1eaa2e20",
   "metadata": {
    "ExecuteTime": {
     "end_time": "2023-06-06T18:38:47.052852Z",
     "start_time": "2023-06-06T18:38:47.037852Z"
    },
    "scrolled": true
   },
   "outputs": [],
   "source": [
    "display(df_groups)"
   ]
  },
  {
   "cell_type": "code",
   "execution_count": null,
   "id": "012771d9",
   "metadata": {},
   "outputs": [],
   "source": []
  },
  {
   "cell_type": "markdown",
   "id": "75c761d8",
   "metadata": {},
   "source": [
    "### Добавляем координаты занятия (на основе адреса улицы)"
   ]
  },
  {
   "cell_type": "code",
   "execution_count": 15,
   "id": "2f179b3f",
   "metadata": {
    "ExecuteTime": {
     "end_time": "2023-06-06T18:38:58.535950Z",
     "start_time": "2023-06-06T18:38:47.053853Z"
    },
    "scrolled": true
   },
   "outputs": [],
   "source": [
    "def match_street_coords(street):  \n",
    "    res = []\n",
    "    for i in streets_dict.keys():\n",
    "        if(i.find(street) != -1):\n",
    "            res.append(streets_dict[i])    \n",
    "    if len(res) > 0:\n",
    "        return res[0]\n",
    "    else:\n",
    "        return '(55.7498, 37.5371)'\n",
    "split_data = df_groups['group_address'].apply(match_street_coords).str.strip(')').str.strip('(').str.split(',')\n",
    "df_groups['lat'] = split_data.apply(lambda x: x[0]).astype(float)\n",
    "df_groups['long'] = split_data.apply(lambda x: x[1]).astype(float)\n",
    "df_groups = df_groups.drop(columns=['адрес площадки'])\n",
    "display(df_groups)"
   ]
  },
  {
   "cell_type": "markdown",
   "id": "877effcf",
   "metadata": {},
   "source": [
    "### Добавляем в attend столбцы направление 1, направление 2"
   ]
  },
  {
   "cell_type": "code",
   "execution_count": 16,
   "id": "80b38529",
   "metadata": {
    "ExecuteTime": {
     "end_time": "2023-06-06T18:38:58.663949Z",
     "start_time": "2023-06-06T18:38:58.536950Z"
    }
   },
   "outputs": [],
   "source": [
    "df_attend = df_attend.merge(\n",
    "    df_groups,\n",
    "    left_on=['направление 3'], \n",
    "    right_on=['направление 3'],\n",
    "    how='left')"
   ]
  },
  {
   "cell_type": "code",
   "execution_count": 17,
   "id": "af53ca04",
   "metadata": {
    "ExecuteTime": {
     "end_time": "2023-06-06T18:38:58.679950Z",
     "start_time": "2023-06-06T18:38:58.664950Z"
    },
    "scrolled": true
   },
   "outputs": [],
   "source": [
    "display(df_attend)"
   ]
  },
  {
   "cell_type": "markdown",
   "id": "465f43c2",
   "metadata": {},
   "source": [
    "## Обогащаем данными из таблицы с пользователями"
   ]
  },
  {
   "cell_type": "code",
   "execution_count": 18,
   "id": "249f3adb",
   "metadata": {
    "ExecuteTime": {
     "end_time": "2023-06-06T18:38:58.773950Z",
     "start_time": "2023-06-06T18:38:58.680950Z"
    }
   },
   "outputs": [],
   "source": [
    "df_users = pd.read_csv('_users_features.csv')\n",
    "df_users.drop(columns=['Unnamed: 0'],inplace=True)\n",
    "display(df_users)"
   ]
  },
  {
   "cell_type": "code",
   "execution_count": 19,
   "id": "77a9be90",
   "metadata": {
    "ExecuteTime": {
     "end_time": "2023-06-06T18:38:58.916950Z",
     "start_time": "2023-06-06T18:38:58.774951Z"
    }
   },
   "outputs": [],
   "source": [
    "df_attend = df_attend.merge(\n",
    "    df_users,\n",
    "    left_on=['user_id'], \n",
    "    right_on=['user_id'],\n",
    "    how='left')\n"
   ]
  },
  {
   "cell_type": "code",
   "execution_count": 20,
   "id": "94de900f",
   "metadata": {
    "ExecuteTime": {
     "end_time": "2023-06-06T18:38:59.057949Z",
     "start_time": "2023-06-06T18:38:58.917949Z"
    },
    "scrolled": true
   },
   "outputs": [],
   "source": [
    "display(df_attend)"
   ]
  },
  {
   "cell_type": "markdown",
   "id": "0b5f0c12",
   "metadata": {},
   "source": [
    "### Сохраняем обогащенную таблицу"
   ]
  },
  {
   "cell_type": "code",
   "execution_count": 21,
   "id": "98ef7f5d",
   "metadata": {
    "ExecuteTime": {
     "end_time": "2023-06-06T18:39:03.979949Z",
     "start_time": "2023-06-06T18:38:59.058951Z"
    }
   },
   "outputs": [],
   "source": [
    "df_attend.to_csv('_attend_features_direct3.csv')"
   ]
  }
 ],
 "metadata": {
  "kernelspec": {
   "display_name": "Python 3 (ipykernel)",
   "language": "python",
   "name": "python3"
  },
  "language_info": {
   "codemirror_mode": {
    "name": "ipython",
    "version": 3
   },
   "file_extension": ".py",
   "mimetype": "text/x-python",
   "name": "python",
   "nbconvert_exporter": "python",
   "pygments_lexer": "ipython3",
   "version": "3.8.16"
  }
 },
 "nbformat": 4,
 "nbformat_minor": 5
}
