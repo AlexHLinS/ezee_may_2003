{
 "cells": [
  {
   "cell_type": "markdown",
   "id": "268010c9",
   "metadata": {},
   "source": [
    "### Для входа нужны\n",
    "- users.csv\n",
    "- data_mos.xlsx\n",
    "\n",
    "### Выход:\n",
    "- _users_features.csv"
   ]
  },
  {
   "cell_type": "code",
   "execution_count": 1,
   "id": "ea991111",
   "metadata": {
    "ExecuteTime": {
     "end_time": "2023-05-24T19:37:15.481650Z",
     "start_time": "2023-05-24T19:37:14.979675Z"
    }
   },
   "outputs": [],
   "source": [
    "import numpy as np\n",
    "import pandas as pd"
   ]
  },
  {
   "cell_type": "code",
   "execution_count": 2,
   "id": "a968c7eb",
   "metadata": {
    "ExecuteTime": {
     "end_time": "2023-05-24T19:53:55.715319Z",
     "start_time": "2023-05-24T19:53:55.598320Z"
    }
   },
   "outputs": [],
   "source": [
    "df_users = pd.read_csv('users.csv')"
   ]
  },
  {
   "cell_type": "code",
   "execution_count": 3,
   "id": "bdc728b7",
   "metadata": {
    "ExecuteTime": {
     "end_time": "2023-05-24T19:55:41.825294Z",
     "start_time": "2023-05-24T19:55:41.805296Z"
    }
   },
   "outputs": [],
   "source": [
    "df_users=df_users.rename(columns={'уникальный номер':'user_id','пол':'sex','дата рождения':'birthday','адрес проживания':'address'})\n"
   ]
  },
  {
   "cell_type": "markdown",
   "id": "6f9f014d",
   "metadata": {},
   "source": [
    "### Добавляем возраст"
   ]
  },
  {
   "cell_type": "code",
   "execution_count": 4,
   "id": "d48a947a",
   "metadata": {
    "ExecuteTime": {
     "end_time": "2023-05-24T19:56:23.966526Z",
     "start_time": "2023-05-24T19:56:23.885440Z"
    }
   },
   "outputs": [],
   "source": [
    "df_users[\"age\"] = (pd.to_datetime(\"today\") - pd.to_datetime(df_users[\"birthday\"]))\n",
    "df_users['age'] = (df_users['age'].dt.days / 365).astype(int)"
   ]
  },
  {
   "cell_type": "markdown",
   "id": "6b3c2550",
   "metadata": {},
   "source": [
    "### Добавляем пол"
   ]
  },
  {
   "cell_type": "code",
   "execution_count": 5,
   "id": "20f75379",
   "metadata": {
    "ExecuteTime": {
     "end_time": "2023-05-24T19:57:53.899562Z",
     "start_time": "2023-05-24T19:57:53.877561Z"
    }
   },
   "outputs": [],
   "source": [
    "df_users['sex'].replace(('Женщина', 'Мужчина'), ('Female', 'Male'), inplace=True)"
   ]
  },
  {
   "cell_type": "code",
   "execution_count": 6,
   "id": "b96afd53",
   "metadata": {
    "ExecuteTime": {
     "end_time": "2023-05-24T20:10:28.750625Z",
     "start_time": "2023-05-24T20:10:28.744625Z"
    }
   },
   "outputs": [],
   "source": [
    "df_users.drop(columns=['дата создание личного дела','birthday'], inplace=True)"
   ]
  },
  {
   "cell_type": "code",
   "execution_count": 7,
   "id": "cb17c27e",
   "metadata": {
    "ExecuteTime": {
     "end_time": "2023-05-25T13:41:01.310522Z",
     "start_time": "2023-05-25T13:41:01.293521Z"
    }
   },
   "outputs": [
    {
     "data": {
      "text/html": [
       "<div>\n",
       "<style scoped>\n",
       "    .dataframe tbody tr th:only-of-type {\n",
       "        vertical-align: middle;\n",
       "    }\n",
       "\n",
       "    .dataframe tbody tr th {\n",
       "        vertical-align: top;\n",
       "    }\n",
       "\n",
       "    .dataframe thead th {\n",
       "        text-align: right;\n",
       "    }\n",
       "</style>\n",
       "<table border=\"1\" class=\"dataframe\">\n",
       "  <thead>\n",
       "    <tr style=\"text-align: right;\">\n",
       "      <th></th>\n",
       "      <th>user_id</th>\n",
       "      <th>sex</th>\n",
       "      <th>address</th>\n",
       "      <th>age</th>\n",
       "    </tr>\n",
       "  </thead>\n",
       "  <tbody>\n",
       "    <tr>\n",
       "      <th>0</th>\n",
       "      <td>101391104</td>\n",
       "      <td>Female</td>\n",
       "      <td>город москва, константинова, дом 30</td>\n",
       "      <td>63</td>\n",
       "    </tr>\n",
       "    <tr>\n",
       "      <th>1</th>\n",
       "      <td>101437383</td>\n",
       "      <td>Female</td>\n",
       "      <td>г. москва, большая серпуховская улица, дом 40,...</td>\n",
       "      <td>64</td>\n",
       "    </tr>\n",
       "    <tr>\n",
       "      <th>2</th>\n",
       "      <td>101351338</td>\n",
       "      <td>Female</td>\n",
       "      <td>город москва, летчика грицевца, дом 10</td>\n",
       "      <td>66</td>\n",
       "    </tr>\n",
       "    <tr>\n",
       "      <th>3</th>\n",
       "      <td>101354578</td>\n",
       "      <td>Female</td>\n",
       "      <td>город москва, лобачевского, дом 76</td>\n",
       "      <td>84</td>\n",
       "    </tr>\n",
       "    <tr>\n",
       "      <th>4</th>\n",
       "      <td>101411997</td>\n",
       "      <td>Female</td>\n",
       "      <td>г. москва, улица вертолётчиков, дом 13</td>\n",
       "      <td>72</td>\n",
       "    </tr>\n",
       "    <tr>\n",
       "      <th>...</th>\n",
       "      <td>...</td>\n",
       "      <td>...</td>\n",
       "      <td>...</td>\n",
       "      <td>...</td>\n",
       "    </tr>\n",
       "    <tr>\n",
       "      <th>52329</th>\n",
       "      <td>101389206</td>\n",
       "      <td>Female</td>\n",
       "      <td>город москва, шоссе энтузиастов, дом 48/1</td>\n",
       "      <td>65</td>\n",
       "    </tr>\n",
       "    <tr>\n",
       "      <th>52330</th>\n",
       "      <td>101355680</td>\n",
       "      <td>Female</td>\n",
       "      <td>город москва, аргуновская, дом 16, корпус 1</td>\n",
       "      <td>77</td>\n",
       "    </tr>\n",
       "    <tr>\n",
       "      <th>52331</th>\n",
       "      <td>101414122</td>\n",
       "      <td>Male</td>\n",
       "      <td>город москва, улица генерала белова, дом 41</td>\n",
       "      <td>72</td>\n",
       "    </tr>\n",
       "    <tr>\n",
       "      <th>52332</th>\n",
       "      <td>101428464</td>\n",
       "      <td>Female</td>\n",
       "      <td>г. москва, город зеленоград, корпус 828б</td>\n",
       "      <td>76</td>\n",
       "    </tr>\n",
       "    <tr>\n",
       "      <th>52333</th>\n",
       "      <td>101359286</td>\n",
       "      <td>Female</td>\n",
       "      <td>город москва, бирюлевская, дом 13, корпус 3</td>\n",
       "      <td>69</td>\n",
       "    </tr>\n",
       "  </tbody>\n",
       "</table>\n",
       "<p>52334 rows × 4 columns</p>\n",
       "</div>"
      ],
      "text/plain": [
       "         user_id     sex                                            address   \n",
       "0      101391104  Female                город москва, константинова, дом 30  \\\n",
       "1      101437383  Female  г. москва, большая серпуховская улица, дом 40,...   \n",
       "2      101351338  Female             город москва, летчика грицевца, дом 10   \n",
       "3      101354578  Female                 город москва, лобачевского, дом 76   \n",
       "4      101411997  Female             г. москва, улица вертолётчиков, дом 13   \n",
       "...          ...     ...                                                ...   \n",
       "52329  101389206  Female          город москва, шоссе энтузиастов, дом 48/1   \n",
       "52330  101355680  Female        город москва, аргуновская, дом 16, корпус 1   \n",
       "52331  101414122    Male        город москва, улица генерала белова, дом 41   \n",
       "52332  101428464  Female           г. москва, город зеленоград, корпус 828б   \n",
       "52333  101359286  Female        город москва, бирюлевская, дом 13, корпус 3   \n",
       "\n",
       "       age  \n",
       "0       63  \n",
       "1       64  \n",
       "2       66  \n",
       "3       84  \n",
       "4       72  \n",
       "...    ...  \n",
       "52329   65  \n",
       "52330   77  \n",
       "52331   72  \n",
       "52332   76  \n",
       "52333   69  \n",
       "\n",
       "[52334 rows x 4 columns]"
      ]
     },
     "metadata": {},
     "output_type": "display_data"
    }
   ],
   "source": [
    "display(df_users)"
   ]
  },
  {
   "cell_type": "markdown",
   "id": "22687f02",
   "metadata": {},
   "source": [
    "### Добавляем улицу проживания"
   ]
  },
  {
   "cell_type": "code",
   "execution_count": 8,
   "id": "27b07fa3",
   "metadata": {
    "ExecuteTime": {
     "end_time": "2023-05-24T20:31:26.499171Z",
     "start_time": "2023-05-24T20:31:26.458049Z"
    }
   },
   "outputs": [],
   "source": [
    "def short_address(address):\n",
    "    try:\n",
    "        start = address.find('москва')\n",
    "        address = address[start+7:]\n",
    "        address = address[:address.find(',')]\n",
    "    except:\n",
    "        address = 'москва'\n",
    "    address = address.replace('улица','').strip().lower()\n",
    "    address = address.replace('ул.','').strip().lower()\n",
    "    return address\n",
    "\n",
    "\n",
    "df_users['user_address'] = df_users['address'].apply(short_address)"
   ]
  },
  {
   "cell_type": "code",
   "execution_count": 9,
   "id": "03ae4d93",
   "metadata": {},
   "outputs": [
    {
     "data": {
      "text/html": [
       "<div>\n",
       "<style scoped>\n",
       "    .dataframe tbody tr th:only-of-type {\n",
       "        vertical-align: middle;\n",
       "    }\n",
       "\n",
       "    .dataframe tbody tr th {\n",
       "        vertical-align: top;\n",
       "    }\n",
       "\n",
       "    .dataframe thead th {\n",
       "        text-align: right;\n",
       "    }\n",
       "</style>\n",
       "<table border=\"1\" class=\"dataframe\">\n",
       "  <thead>\n",
       "    <tr style=\"text-align: right;\">\n",
       "      <th></th>\n",
       "      <th>user_id</th>\n",
       "      <th>sex</th>\n",
       "      <th>address</th>\n",
       "      <th>age</th>\n",
       "      <th>user_address</th>\n",
       "    </tr>\n",
       "  </thead>\n",
       "  <tbody>\n",
       "    <tr>\n",
       "      <th>0</th>\n",
       "      <td>101391104</td>\n",
       "      <td>Female</td>\n",
       "      <td>город москва, константинова, дом 30</td>\n",
       "      <td>63</td>\n",
       "      <td>константинова</td>\n",
       "    </tr>\n",
       "    <tr>\n",
       "      <th>1</th>\n",
       "      <td>101437383</td>\n",
       "      <td>Female</td>\n",
       "      <td>г. москва, большая серпуховская улица, дом 40,...</td>\n",
       "      <td>64</td>\n",
       "      <td>большая серпуховская</td>\n",
       "    </tr>\n",
       "    <tr>\n",
       "      <th>2</th>\n",
       "      <td>101351338</td>\n",
       "      <td>Female</td>\n",
       "      <td>город москва, летчика грицевца, дом 10</td>\n",
       "      <td>66</td>\n",
       "      <td>летчика грицевца</td>\n",
       "    </tr>\n",
       "    <tr>\n",
       "      <th>3</th>\n",
       "      <td>101354578</td>\n",
       "      <td>Female</td>\n",
       "      <td>город москва, лобачевского, дом 76</td>\n",
       "      <td>84</td>\n",
       "      <td>лобачевского</td>\n",
       "    </tr>\n",
       "    <tr>\n",
       "      <th>4</th>\n",
       "      <td>101411997</td>\n",
       "      <td>Female</td>\n",
       "      <td>г. москва, улица вертолётчиков, дом 13</td>\n",
       "      <td>72</td>\n",
       "      <td>вертолётчиков</td>\n",
       "    </tr>\n",
       "    <tr>\n",
       "      <th>...</th>\n",
       "      <td>...</td>\n",
       "      <td>...</td>\n",
       "      <td>...</td>\n",
       "      <td>...</td>\n",
       "      <td>...</td>\n",
       "    </tr>\n",
       "    <tr>\n",
       "      <th>52329</th>\n",
       "      <td>101389206</td>\n",
       "      <td>Female</td>\n",
       "      <td>город москва, шоссе энтузиастов, дом 48/1</td>\n",
       "      <td>65</td>\n",
       "      <td>шоссе энтузиастов</td>\n",
       "    </tr>\n",
       "    <tr>\n",
       "      <th>52330</th>\n",
       "      <td>101355680</td>\n",
       "      <td>Female</td>\n",
       "      <td>город москва, аргуновская, дом 16, корпус 1</td>\n",
       "      <td>77</td>\n",
       "      <td>аргуновская</td>\n",
       "    </tr>\n",
       "    <tr>\n",
       "      <th>52331</th>\n",
       "      <td>101414122</td>\n",
       "      <td>Male</td>\n",
       "      <td>город москва, улица генерала белова, дом 41</td>\n",
       "      <td>72</td>\n",
       "      <td>генерала белова</td>\n",
       "    </tr>\n",
       "    <tr>\n",
       "      <th>52332</th>\n",
       "      <td>101428464</td>\n",
       "      <td>Female</td>\n",
       "      <td>г. москва, город зеленоград, корпус 828б</td>\n",
       "      <td>76</td>\n",
       "      <td>город зеленоград</td>\n",
       "    </tr>\n",
       "    <tr>\n",
       "      <th>52333</th>\n",
       "      <td>101359286</td>\n",
       "      <td>Female</td>\n",
       "      <td>город москва, бирюлевская, дом 13, корпус 3</td>\n",
       "      <td>69</td>\n",
       "      <td>бирюлевская</td>\n",
       "    </tr>\n",
       "  </tbody>\n",
       "</table>\n",
       "<p>52334 rows × 5 columns</p>\n",
       "</div>"
      ],
      "text/plain": [
       "         user_id     sex                                            address   \n",
       "0      101391104  Female                город москва, константинова, дом 30  \\\n",
       "1      101437383  Female  г. москва, большая серпуховская улица, дом 40,...   \n",
       "2      101351338  Female             город москва, летчика грицевца, дом 10   \n",
       "3      101354578  Female                 город москва, лобачевского, дом 76   \n",
       "4      101411997  Female             г. москва, улица вертолётчиков, дом 13   \n",
       "...          ...     ...                                                ...   \n",
       "52329  101389206  Female          город москва, шоссе энтузиастов, дом 48/1   \n",
       "52330  101355680  Female        город москва, аргуновская, дом 16, корпус 1   \n",
       "52331  101414122    Male        город москва, улица генерала белова, дом 41   \n",
       "52332  101428464  Female           г. москва, город зеленоград, корпус 828б   \n",
       "52333  101359286  Female        город москва, бирюлевская, дом 13, корпус 3   \n",
       "\n",
       "       age          user_address  \n",
       "0       63         константинова  \n",
       "1       64  большая серпуховская  \n",
       "2       66      летчика грицевца  \n",
       "3       84          лобачевского  \n",
       "4       72         вертолётчиков  \n",
       "...    ...                   ...  \n",
       "52329   65     шоссе энтузиастов  \n",
       "52330   77           аргуновская  \n",
       "52331   72       генерала белова  \n",
       "52332   76      город зеленоград  \n",
       "52333   69           бирюлевская  \n",
       "\n",
       "[52334 rows x 5 columns]"
      ]
     },
     "metadata": {},
     "output_type": "display_data"
    }
   ],
   "source": [
    "display(df_users)"
   ]
  },
  {
   "cell_type": "markdown",
   "id": "0fec8ad5",
   "metadata": {},
   "source": [
    "### Добавляем координаты"
   ]
  },
  {
   "cell_type": "code",
   "execution_count": 10,
   "id": "222909cd",
   "metadata": {},
   "outputs": [],
   "source": [
    "mid = '(55.7498, 37.5371)' # Башня Федерация\n",
    "\n",
    "# Получаем координаты\n",
    "df_uniq_streets_coords = pd.read_csv('uniq_streets_coords.csv')\n",
    "df_uniq_streets_coords = df_uniq_streets_coords[['для координат','Coords']]\n",
    "df_uniq_streets_coords['для координат']= df_uniq_streets_coords['для координат'].str.lower()\n",
    "df_uniq_streets_coords['Coords'].fillna(mid, inplace=True)\n",
    "\n",
    "streets_dict = dict(zip(df_uniq_streets_coords['для координат'], df_uniq_streets_coords['Coords']))"
   ]
  },
  {
   "cell_type": "code",
   "execution_count": null,
   "id": "83950f94",
   "metadata": {},
   "outputs": [],
   "source": [
    "def match_street_coords(street):  \n",
    "    res = []\n",
    "    for i in streets_dict.keys():\n",
    "        if(i.find(street) != -1):\n",
    "            res.append(streets_dict[i])    \n",
    "    if len(res) > 0:\n",
    "        return res[0]\n",
    "    else:\n",
    "        return '(55.7498, 37.5371)'\n",
    "    \n",
    "    \n",
    "split_data = df_users['user_address'].apply(match_street_coords).str.strip(')').str.strip('(').str.split(',')\n",
    "df_users['user_lat'] = split_data.apply(lambda x: x[0]).astype(float)\n",
    "df_users['user_long'] = split_data.apply(lambda x: x[1]).astype(float)\n",
    "\n",
    "df_users['user_lat'].fillna(55.7498, inplace=True)\n",
    "df_users['user_long'].fillna(37.5371, inplace=True)\n",
    "\n",
    "display(df_users)"
   ]
  },
  {
   "cell_type": "markdown",
   "id": "9449254c",
   "metadata": {},
   "source": [
    "### Сохраняем результат"
   ]
  },
  {
   "cell_type": "code",
   "execution_count": null,
   "id": "a29bb09d",
   "metadata": {
    "ExecuteTime": {
     "end_time": "2023-05-25T13:42:32.642688Z",
     "start_time": "2023-05-25T13:42:32.540291Z"
    }
   },
   "outputs": [],
   "source": [
    "df_users.drop(columns=['address']).to_csv('_users_features.csv')"
   ]
  },
  {
   "cell_type": "code",
   "execution_count": null,
   "id": "08d36c23",
   "metadata": {},
   "outputs": [],
   "source": []
  }
 ],
 "metadata": {
  "kernelspec": {
   "display_name": "Python 3 (ipykernel)",
   "language": "python",
   "name": "python3"
  },
  "language_info": {
   "codemirror_mode": {
    "name": "ipython",
    "version": 3
   },
   "file_extension": ".py",
   "mimetype": "text/x-python",
   "name": "python",
   "nbconvert_exporter": "python",
   "pygments_lexer": "ipython3",
   "version": "3.8.16"
  }
 },
 "nbformat": 4,
 "nbformat_minor": 5
}
